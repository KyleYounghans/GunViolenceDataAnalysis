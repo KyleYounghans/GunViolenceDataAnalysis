{
 "cells": [
  {
   "cell_type": "markdown",
   "metadata": {},
   "source": [
    "# Gun Violence in the US\n",
    "\n",
    "This data came from kaggle: https://www.kaggle.com/jameslko/gun-violence-data#gun-violence-data_01-2013_03-2018.csv\n",
    "\n",
    "## Context\n",
    "There's currently a lack of large and easily-accessible amounts of detailed data on gun violence.\n",
    "\n",
    "## Content\n",
    "This project aims to change that; we make a record of more than 260k gun violence incidents, with detailed information about each incident, available in CSV format. We hope that this will make it easier for data scientists and statisticians to study gun violence and make informed predictions about future trends.\n",
    "\n",
    "The CSV file contains data for all recorded gun violence incidents in the US between January 2013 and March 2018, inclusive.\n",
    "\n",
    "## Acknowledgements\n",
    "Where did you get the data?\n",
    "\n",
    "The data was downloaded from gunviolencearchive.org. From the organization's description:\n",
    "\n",
    "* Gun Violence Archive (GVA) is a not for profit corporation formed in 2013 to provide free online public access to accurate information about gun-related violence in the United States. GVA will collect and check for accuracy, comprehensive information about gun-related violence in the U.S. and then post and disseminate it online.\n",
    "\n",
    "## How did you get the data?\n",
    "\n",
    "Because GVA limits the number of incidents that are returned from a single query, and because the website's \"Export to CSV\" functionality was missing crucial fields, it was necessary to obtain this dataset using web scraping techniques.\n",
    "\n",
    "* Stage 1: For each date between 1/1/2013 and 3/31/2018, a Python script queried all incidents that happened at that particular date, then scraped the data and wrote it to a CSV file. Each month got its own CSV file, with the exception of 2013, since not many incidents were recorded from then.\n",
    "\n",
    "* Stage 2: Each entry was augmented with additional data not directly viewable from the query results page, such as participant information, geolocation data, etc.\n",
    "\n",
    "* Stage 3: The entries were sorted in order of increasing date, then merged into a single CSV file.\n",
    "\n",
    "## Inspiration\n",
    "I believe there are plenty of ways this dataset can be put to good use. If you have an interesting idea or feel like messing around with the data, then go for it.\n",
    "\n",
    "I was originally inspired to compile it in the wake of the Parkland shooting and the mass media coverage that followed. Reports like this and this showed that Nikolas Cruz had exhibited plenty of warning signs on social media before the shooting; what if we could build a machine learning system that preemptively detected such signs?\n"
   ]
  },
  {
   "cell_type": "code",
   "execution_count": 1,
   "metadata": {},
   "outputs": [],
   "source": [
    "%matplotlib notebook\n",
    "%matplotlib inline"
   ]
  },
  {
   "cell_type": "code",
   "execution_count": 2,
   "metadata": {},
   "outputs": [],
   "source": [
    "# Importing Dependencies\n",
    "import matplotlib.pyplot as plt\n",
    "import pandas as pd\n",
    "import numpy as np\n",
    "import datetime as dt\n",
    "import plotly.graph_objects as go\n",
    "import seaborn as sns\n",
    "import csv"
   ]
  },
  {
   "cell_type": "code",
   "execution_count": 3,
   "metadata": {
    "scrolled": true
   },
   "outputs": [],
   "source": [
    "# Importing CSVS\n",
    "gun_violence = \"C:\\\\Users\\\\kjyou\\\\Git\\\\gun_violence_data_2017.csv\"\n",
    "industry_friendly = \"C:\\\\Users\\\\kjyou\\\\Git\\\\GunViolenceDataAnalysis\\\\Resources\\Gun_Industry_Friendliness_By_State.csv\"\n",
    "gun_ownership = \"C:\\\\Users\\\\kjyou\\\\Git\\\\GunViolenceDataAnalysis\\\\Resources\\Gun_Ownership_Per_State.csv\"\n",
    "gun_regulations = \"C:\\\\Users\\\\kjyou\\\\Git\\\\GunViolenceDataAnalysis\\\\Resources\\Gun_Laws_Per_State.csv\"\n",
    "gun_violence_master = \"C:\\\\Users\\\\kjyou\\\\Git\\\\Master\\gun-violence-data_01-2013_03-2018.csv\"\n",
    "csv_path_laws = \"C:\\\\Users\\\\kjyou\\\\Git\\\\GunViolenceDataAnalysis\\\\Resources\\raw_data_firearm_laws.csv\"\n",
    "csv_path_violence = \"C:\\\\Users\\\\kjyou\\\\Git\\\\Master\\gun-violence-data_01-2013_03-2018 2.csv\""
   ]
  },
  {
   "cell_type": "code",
   "execution_count": 5,
   "metadata": {},
   "outputs": [],
   "source": [
    "# Creating DataFrames\n",
    "\n",
    "\n",
    "law_data_df = pd.read_csv(gun_regulations, encoding=\"utf-8\")"
   ]
  },
  {
   "cell_type": "code",
   "execution_count": 6,
   "metadata": {},
   "outputs": [
    {
     "data": {
      "text/html": [
       "<div>\n",
       "<style scoped>\n",
       "    .dataframe tbody tr th:only-of-type {\n",
       "        vertical-align: middle;\n",
       "    }\n",
       "\n",
       "    .dataframe tbody tr th {\n",
       "        vertical-align: top;\n",
       "    }\n",
       "\n",
       "    .dataframe thead th {\n",
       "        text-align: right;\n",
       "    }\n",
       "</style>\n",
       "<table border=\"1\" class=\"dataframe\">\n",
       "  <thead>\n",
       "    <tr style=\"text-align: right;\">\n",
       "      <th></th>\n",
       "      <th>incident_id</th>\n",
       "      <th>date</th>\n",
       "      <th>state</th>\n",
       "      <th>city_or_county</th>\n",
       "      <th>address</th>\n",
       "      <th>n_killed</th>\n",
       "      <th>n_injured</th>\n",
       "      <th>incident_url</th>\n",
       "      <th>source_url</th>\n",
       "      <th>incident_url_fields_missing</th>\n",
       "      <th>...</th>\n",
       "      <th>participant_age</th>\n",
       "      <th>participant_age_group</th>\n",
       "      <th>participant_gender</th>\n",
       "      <th>participant_name</th>\n",
       "      <th>participant_relationship</th>\n",
       "      <th>participant_status</th>\n",
       "      <th>participant_type</th>\n",
       "      <th>sources</th>\n",
       "      <th>state_house_district</th>\n",
       "      <th>state_senate_district</th>\n",
       "    </tr>\n",
       "  </thead>\n",
       "  <tbody>\n",
       "    <tr>\n",
       "      <th>0</th>\n",
       "      <td>461105</td>\n",
       "      <td>2013-01-01</td>\n",
       "      <td>Pennsylvania</td>\n",
       "      <td>Mckeesport</td>\n",
       "      <td>1506 Versailles Avenue and Coursin Street</td>\n",
       "      <td>0</td>\n",
       "      <td>4</td>\n",
       "      <td>http://www.gunviolencearchive.org/incident/461105</td>\n",
       "      <td>http://www.post-gazette.com/local/south/2013/0...</td>\n",
       "      <td>False</td>\n",
       "      <td>...</td>\n",
       "      <td>0::20</td>\n",
       "      <td>0::Adult 18+||1::Adult 18+||2::Adult 18+||3::A...</td>\n",
       "      <td>0::Male||1::Male||3::Male||4::Female</td>\n",
       "      <td>0::Julian Sims</td>\n",
       "      <td>NaN</td>\n",
       "      <td>0::Arrested||1::Injured||2::Injured||3::Injure...</td>\n",
       "      <td>0::Victim||1::Victim||2::Victim||3::Victim||4:...</td>\n",
       "      <td>http://pittsburgh.cbslocal.com/2013/01/01/4-pe...</td>\n",
       "      <td>NaN</td>\n",
       "      <td>NaN</td>\n",
       "    </tr>\n",
       "    <tr>\n",
       "      <th>1</th>\n",
       "      <td>460726</td>\n",
       "      <td>2013-01-01</td>\n",
       "      <td>California</td>\n",
       "      <td>Hawthorne</td>\n",
       "      <td>13500 block of Cerise Avenue</td>\n",
       "      <td>1</td>\n",
       "      <td>3</td>\n",
       "      <td>http://www.gunviolencearchive.org/incident/460726</td>\n",
       "      <td>http://www.dailybulletin.com/article/zz/201301...</td>\n",
       "      <td>False</td>\n",
       "      <td>...</td>\n",
       "      <td>0::20</td>\n",
       "      <td>0::Adult 18+||1::Adult 18+||2::Adult 18+||3::A...</td>\n",
       "      <td>0::Male</td>\n",
       "      <td>0::Bernard Gillis</td>\n",
       "      <td>NaN</td>\n",
       "      <td>0::Killed||1::Injured||2::Injured||3::Injured</td>\n",
       "      <td>0::Victim||1::Victim||2::Victim||3::Victim||4:...</td>\n",
       "      <td>http://losangeles.cbslocal.com/2013/01/01/man-...</td>\n",
       "      <td>62.0</td>\n",
       "      <td>35.0</td>\n",
       "    </tr>\n",
       "    <tr>\n",
       "      <th>2</th>\n",
       "      <td>478855</td>\n",
       "      <td>2013-01-01</td>\n",
       "      <td>Ohio</td>\n",
       "      <td>Lorain</td>\n",
       "      <td>1776 East 28th Street</td>\n",
       "      <td>1</td>\n",
       "      <td>3</td>\n",
       "      <td>http://www.gunviolencearchive.org/incident/478855</td>\n",
       "      <td>http://chronicle.northcoastnow.com/2013/02/14/...</td>\n",
       "      <td>False</td>\n",
       "      <td>...</td>\n",
       "      <td>0::25||1::31||2::33||3::34||4::33</td>\n",
       "      <td>0::Adult 18+||1::Adult 18+||2::Adult 18+||3::A...</td>\n",
       "      <td>0::Male||1::Male||2::Male||3::Male||4::Male</td>\n",
       "      <td>0::Damien Bell||1::Desmen Noble||2::Herman Sea...</td>\n",
       "      <td>NaN</td>\n",
       "      <td>0::Injured, Unharmed, Arrested||1::Unharmed, A...</td>\n",
       "      <td>0::Subject-Suspect||1::Subject-Suspect||2::Vic...</td>\n",
       "      <td>http://www.morningjournal.com/general-news/201...</td>\n",
       "      <td>56.0</td>\n",
       "      <td>13.0</td>\n",
       "    </tr>\n",
       "    <tr>\n",
       "      <th>3</th>\n",
       "      <td>478925</td>\n",
       "      <td>2013-01-05</td>\n",
       "      <td>Colorado</td>\n",
       "      <td>Aurora</td>\n",
       "      <td>16000 block of East Ithaca Place</td>\n",
       "      <td>4</td>\n",
       "      <td>0</td>\n",
       "      <td>http://www.gunviolencearchive.org/incident/478925</td>\n",
       "      <td>http://www.dailydemocrat.com/20130106/aurora-s...</td>\n",
       "      <td>False</td>\n",
       "      <td>...</td>\n",
       "      <td>0::29||1::33||2::56||3::33</td>\n",
       "      <td>0::Adult 18+||1::Adult 18+||2::Adult 18+||3::A...</td>\n",
       "      <td>0::Female||1::Male||2::Male||3::Male</td>\n",
       "      <td>0::Stacie Philbrook||1::Christopher Ratliffe||...</td>\n",
       "      <td>NaN</td>\n",
       "      <td>0::Killed||1::Killed||2::Killed||3::Killed</td>\n",
       "      <td>0::Victim||1::Victim||2::Victim||3::Subject-Su...</td>\n",
       "      <td>http://denver.cbslocal.com/2013/01/06/officer-...</td>\n",
       "      <td>40.0</td>\n",
       "      <td>28.0</td>\n",
       "    </tr>\n",
       "    <tr>\n",
       "      <th>4</th>\n",
       "      <td>478959</td>\n",
       "      <td>2013-01-07</td>\n",
       "      <td>North Carolina</td>\n",
       "      <td>Greensboro</td>\n",
       "      <td>307 Mourning Dove Terrace</td>\n",
       "      <td>2</td>\n",
       "      <td>2</td>\n",
       "      <td>http://www.gunviolencearchive.org/incident/478959</td>\n",
       "      <td>http://www.journalnow.com/news/local/article_d...</td>\n",
       "      <td>False</td>\n",
       "      <td>...</td>\n",
       "      <td>0::18||1::46||2::14||3::47</td>\n",
       "      <td>0::Adult 18+||1::Adult 18+||2::Teen 12-17||3::...</td>\n",
       "      <td>0::Female||1::Male||2::Male||3::Female</td>\n",
       "      <td>0::Danielle Imani Jameison||1::Maurice Eugene ...</td>\n",
       "      <td>3::Family</td>\n",
       "      <td>0::Injured||1::Injured||2::Killed||3::Killed</td>\n",
       "      <td>0::Victim||1::Victim||2::Victim||3::Subject-Su...</td>\n",
       "      <td>http://myfox8.com/2013/01/08/update-mother-sho...</td>\n",
       "      <td>62.0</td>\n",
       "      <td>27.0</td>\n",
       "    </tr>\n",
       "  </tbody>\n",
       "</table>\n",
       "<p>5 rows × 29 columns</p>\n",
       "</div>"
      ],
      "text/plain": [
       "   incident_id        date           state city_or_county  \\\n",
       "0       461105  2013-01-01    Pennsylvania     Mckeesport   \n",
       "1       460726  2013-01-01      California      Hawthorne   \n",
       "2       478855  2013-01-01            Ohio         Lorain   \n",
       "3       478925  2013-01-05        Colorado         Aurora   \n",
       "4       478959  2013-01-07  North Carolina     Greensboro   \n",
       "\n",
       "                                     address  n_killed  n_injured  \\\n",
       "0  1506 Versailles Avenue and Coursin Street         0          4   \n",
       "1               13500 block of Cerise Avenue         1          3   \n",
       "2                      1776 East 28th Street         1          3   \n",
       "3           16000 block of East Ithaca Place         4          0   \n",
       "4                  307 Mourning Dove Terrace         2          2   \n",
       "\n",
       "                                        incident_url  \\\n",
       "0  http://www.gunviolencearchive.org/incident/461105   \n",
       "1  http://www.gunviolencearchive.org/incident/460726   \n",
       "2  http://www.gunviolencearchive.org/incident/478855   \n",
       "3  http://www.gunviolencearchive.org/incident/478925   \n",
       "4  http://www.gunviolencearchive.org/incident/478959   \n",
       "\n",
       "                                          source_url  \\\n",
       "0  http://www.post-gazette.com/local/south/2013/0...   \n",
       "1  http://www.dailybulletin.com/article/zz/201301...   \n",
       "2  http://chronicle.northcoastnow.com/2013/02/14/...   \n",
       "3  http://www.dailydemocrat.com/20130106/aurora-s...   \n",
       "4  http://www.journalnow.com/news/local/article_d...   \n",
       "\n",
       "   incident_url_fields_missing  ...                    participant_age  \\\n",
       "0                        False  ...                              0::20   \n",
       "1                        False  ...                              0::20   \n",
       "2                        False  ...  0::25||1::31||2::33||3::34||4::33   \n",
       "3                        False  ...         0::29||1::33||2::56||3::33   \n",
       "4                        False  ...         0::18||1::46||2::14||3::47   \n",
       "\n",
       "                               participant_age_group  \\\n",
       "0  0::Adult 18+||1::Adult 18+||2::Adult 18+||3::A...   \n",
       "1  0::Adult 18+||1::Adult 18+||2::Adult 18+||3::A...   \n",
       "2  0::Adult 18+||1::Adult 18+||2::Adult 18+||3::A...   \n",
       "3  0::Adult 18+||1::Adult 18+||2::Adult 18+||3::A...   \n",
       "4  0::Adult 18+||1::Adult 18+||2::Teen 12-17||3::...   \n",
       "\n",
       "                            participant_gender  \\\n",
       "0         0::Male||1::Male||3::Male||4::Female   \n",
       "1                                      0::Male   \n",
       "2  0::Male||1::Male||2::Male||3::Male||4::Male   \n",
       "3         0::Female||1::Male||2::Male||3::Male   \n",
       "4       0::Female||1::Male||2::Male||3::Female   \n",
       "\n",
       "                                    participant_name  \\\n",
       "0                                     0::Julian Sims   \n",
       "1                                  0::Bernard Gillis   \n",
       "2  0::Damien Bell||1::Desmen Noble||2::Herman Sea...   \n",
       "3  0::Stacie Philbrook||1::Christopher Ratliffe||...   \n",
       "4  0::Danielle Imani Jameison||1::Maurice Eugene ...   \n",
       "\n",
       "   participant_relationship  \\\n",
       "0                       NaN   \n",
       "1                       NaN   \n",
       "2                       NaN   \n",
       "3                       NaN   \n",
       "4                 3::Family   \n",
       "\n",
       "                                  participant_status  \\\n",
       "0  0::Arrested||1::Injured||2::Injured||3::Injure...   \n",
       "1      0::Killed||1::Injured||2::Injured||3::Injured   \n",
       "2  0::Injured, Unharmed, Arrested||1::Unharmed, A...   \n",
       "3         0::Killed||1::Killed||2::Killed||3::Killed   \n",
       "4       0::Injured||1::Injured||2::Killed||3::Killed   \n",
       "\n",
       "                                    participant_type  \\\n",
       "0  0::Victim||1::Victim||2::Victim||3::Victim||4:...   \n",
       "1  0::Victim||1::Victim||2::Victim||3::Victim||4:...   \n",
       "2  0::Subject-Suspect||1::Subject-Suspect||2::Vic...   \n",
       "3  0::Victim||1::Victim||2::Victim||3::Subject-Su...   \n",
       "4  0::Victim||1::Victim||2::Victim||3::Subject-Su...   \n",
       "\n",
       "                                             sources state_house_district  \\\n",
       "0  http://pittsburgh.cbslocal.com/2013/01/01/4-pe...                  NaN   \n",
       "1  http://losangeles.cbslocal.com/2013/01/01/man-...                 62.0   \n",
       "2  http://www.morningjournal.com/general-news/201...                 56.0   \n",
       "3  http://denver.cbslocal.com/2013/01/06/officer-...                 40.0   \n",
       "4  http://myfox8.com/2013/01/08/update-mother-sho...                 62.0   \n",
       "\n",
       "  state_senate_district  \n",
       "0                   NaN  \n",
       "1                  35.0  \n",
       "2                  13.0  \n",
       "3                  28.0  \n",
       "4                  27.0  \n",
       "\n",
       "[5 rows x 29 columns]"
      ]
     },
     "execution_count": 6,
     "metadata": {},
     "output_type": "execute_result"
    }
   ],
   "source": [
    "#importing csv on incidents and reading into notebook\n",
    "\n",
    "\n",
    "violence_data = pd.read_csv(csv_path_violence, encoding=\"utf-8\")\n"
   ]
  },
  {
   "cell_type": "code",
   "execution_count": 179,
   "metadata": {},
   "outputs": [
    {
     "data": {
      "text/html": [
       "<div>\n",
       "<style scoped>\n",
       "    .dataframe tbody tr th:only-of-type {\n",
       "        vertical-align: middle;\n",
       "    }\n",
       "\n",
       "    .dataframe tbody tr th {\n",
       "        vertical-align: top;\n",
       "    }\n",
       "\n",
       "    .dataframe thead th {\n",
       "        text-align: right;\n",
       "    }\n",
       "</style>\n",
       "<table border=\"1\" class=\"dataframe\">\n",
       "  <thead>\n",
       "    <tr style=\"text-align: right;\">\n",
       "      <th></th>\n",
       "      <th>incident_id</th>\n",
       "      <th>date</th>\n",
       "      <th>state</th>\n",
       "      <th>city_or_county</th>\n",
       "      <th>address</th>\n",
       "      <th>n_killed</th>\n",
       "      <th>n_injured</th>\n",
       "      <th>incident_url</th>\n",
       "      <th>source_url</th>\n",
       "      <th>incident_url_fields_missing</th>\n",
       "      <th>...</th>\n",
       "      <th>participant_age</th>\n",
       "      <th>participant_age_group</th>\n",
       "      <th>participant_gender</th>\n",
       "      <th>participant_name</th>\n",
       "      <th>participant_relationship</th>\n",
       "      <th>participant_status</th>\n",
       "      <th>participant_type</th>\n",
       "      <th>sources</th>\n",
       "      <th>state_house_district</th>\n",
       "      <th>state_senate_district</th>\n",
       "    </tr>\n",
       "  </thead>\n",
       "  <tbody>\n",
       "    <tr>\n",
       "      <th>0</th>\n",
       "      <td>461105</td>\n",
       "      <td>2013-01-01</td>\n",
       "      <td>Pennsylvania</td>\n",
       "      <td>Mckeesport</td>\n",
       "      <td>1506 Versailles Avenue and Coursin Street</td>\n",
       "      <td>0</td>\n",
       "      <td>4</td>\n",
       "      <td>http://www.gunviolencearchive.org/incident/461105</td>\n",
       "      <td>http://www.post-gazette.com/local/south/2013/0...</td>\n",
       "      <td>False</td>\n",
       "      <td>...</td>\n",
       "      <td>0::20</td>\n",
       "      <td>0::Adult 18+||1::Adult 18+||2::Adult 18+||3::A...</td>\n",
       "      <td>0::Male||1::Male||3::Male||4::Female</td>\n",
       "      <td>0::Julian Sims</td>\n",
       "      <td>NaN</td>\n",
       "      <td>0::Arrested||1::Injured||2::Injured||3::Injure...</td>\n",
       "      <td>0::Victim||1::Victim||2::Victim||3::Victim||4:...</td>\n",
       "      <td>http://pittsburgh.cbslocal.com/2013/01/01/4-pe...</td>\n",
       "      <td>NaN</td>\n",
       "      <td>NaN</td>\n",
       "    </tr>\n",
       "    <tr>\n",
       "      <th>1</th>\n",
       "      <td>460726</td>\n",
       "      <td>2013-01-01</td>\n",
       "      <td>California</td>\n",
       "      <td>Hawthorne</td>\n",
       "      <td>13500 block of Cerise Avenue</td>\n",
       "      <td>1</td>\n",
       "      <td>3</td>\n",
       "      <td>http://www.gunviolencearchive.org/incident/460726</td>\n",
       "      <td>http://www.dailybulletin.com/article/zz/201301...</td>\n",
       "      <td>False</td>\n",
       "      <td>...</td>\n",
       "      <td>0::20</td>\n",
       "      <td>0::Adult 18+||1::Adult 18+||2::Adult 18+||3::A...</td>\n",
       "      <td>0::Male</td>\n",
       "      <td>0::Bernard Gillis</td>\n",
       "      <td>NaN</td>\n",
       "      <td>0::Killed||1::Injured||2::Injured||3::Injured</td>\n",
       "      <td>0::Victim||1::Victim||2::Victim||3::Victim||4:...</td>\n",
       "      <td>http://losangeles.cbslocal.com/2013/01/01/man-...</td>\n",
       "      <td>62.0</td>\n",
       "      <td>35.0</td>\n",
       "    </tr>\n",
       "    <tr>\n",
       "      <th>2</th>\n",
       "      <td>478855</td>\n",
       "      <td>2013-01-01</td>\n",
       "      <td>Ohio</td>\n",
       "      <td>Lorain</td>\n",
       "      <td>1776 East 28th Street</td>\n",
       "      <td>1</td>\n",
       "      <td>3</td>\n",
       "      <td>http://www.gunviolencearchive.org/incident/478855</td>\n",
       "      <td>http://chronicle.northcoastnow.com/2013/02/14/...</td>\n",
       "      <td>False</td>\n",
       "      <td>...</td>\n",
       "      <td>0::25||1::31||2::33||3::34||4::33</td>\n",
       "      <td>0::Adult 18+||1::Adult 18+||2::Adult 18+||3::A...</td>\n",
       "      <td>0::Male||1::Male||2::Male||3::Male||4::Male</td>\n",
       "      <td>0::Damien Bell||1::Desmen Noble||2::Herman Sea...</td>\n",
       "      <td>NaN</td>\n",
       "      <td>0::Injured, Unharmed, Arrested||1::Unharmed, A...</td>\n",
       "      <td>0::Subject-Suspect||1::Subject-Suspect||2::Vic...</td>\n",
       "      <td>http://www.morningjournal.com/general-news/201...</td>\n",
       "      <td>56.0</td>\n",
       "      <td>13.0</td>\n",
       "    </tr>\n",
       "    <tr>\n",
       "      <th>3</th>\n",
       "      <td>478925</td>\n",
       "      <td>2013-01-05</td>\n",
       "      <td>Colorado</td>\n",
       "      <td>Aurora</td>\n",
       "      <td>16000 block of East Ithaca Place</td>\n",
       "      <td>4</td>\n",
       "      <td>0</td>\n",
       "      <td>http://www.gunviolencearchive.org/incident/478925</td>\n",
       "      <td>http://www.dailydemocrat.com/20130106/aurora-s...</td>\n",
       "      <td>False</td>\n",
       "      <td>...</td>\n",
       "      <td>0::29||1::33||2::56||3::33</td>\n",
       "      <td>0::Adult 18+||1::Adult 18+||2::Adult 18+||3::A...</td>\n",
       "      <td>0::Female||1::Male||2::Male||3::Male</td>\n",
       "      <td>0::Stacie Philbrook||1::Christopher Ratliffe||...</td>\n",
       "      <td>NaN</td>\n",
       "      <td>0::Killed||1::Killed||2::Killed||3::Killed</td>\n",
       "      <td>0::Victim||1::Victim||2::Victim||3::Subject-Su...</td>\n",
       "      <td>http://denver.cbslocal.com/2013/01/06/officer-...</td>\n",
       "      <td>40.0</td>\n",
       "      <td>28.0</td>\n",
       "    </tr>\n",
       "    <tr>\n",
       "      <th>4</th>\n",
       "      <td>478959</td>\n",
       "      <td>2013-01-07</td>\n",
       "      <td>North Carolina</td>\n",
       "      <td>Greensboro</td>\n",
       "      <td>307 Mourning Dove Terrace</td>\n",
       "      <td>2</td>\n",
       "      <td>2</td>\n",
       "      <td>http://www.gunviolencearchive.org/incident/478959</td>\n",
       "      <td>http://www.journalnow.com/news/local/article_d...</td>\n",
       "      <td>False</td>\n",
       "      <td>...</td>\n",
       "      <td>0::18||1::46||2::14||3::47</td>\n",
       "      <td>0::Adult 18+||1::Adult 18+||2::Teen 12-17||3::...</td>\n",
       "      <td>0::Female||1::Male||2::Male||3::Female</td>\n",
       "      <td>0::Danielle Imani Jameison||1::Maurice Eugene ...</td>\n",
       "      <td>3::Family</td>\n",
       "      <td>0::Injured||1::Injured||2::Killed||3::Killed</td>\n",
       "      <td>0::Victim||1::Victim||2::Victim||3::Subject-Su...</td>\n",
       "      <td>http://myfox8.com/2013/01/08/update-mother-sho...</td>\n",
       "      <td>62.0</td>\n",
       "      <td>27.0</td>\n",
       "    </tr>\n",
       "  </tbody>\n",
       "</table>\n",
       "<p>5 rows × 29 columns</p>\n",
       "</div>"
      ],
      "text/plain": [
       "   incident_id        date           state city_or_county  \\\n",
       "0       461105  2013-01-01    Pennsylvania     Mckeesport   \n",
       "1       460726  2013-01-01      California      Hawthorne   \n",
       "2       478855  2013-01-01            Ohio         Lorain   \n",
       "3       478925  2013-01-05        Colorado         Aurora   \n",
       "4       478959  2013-01-07  North Carolina     Greensboro   \n",
       "\n",
       "                                     address  n_killed  n_injured  \\\n",
       "0  1506 Versailles Avenue and Coursin Street         0          4   \n",
       "1               13500 block of Cerise Avenue         1          3   \n",
       "2                      1776 East 28th Street         1          3   \n",
       "3           16000 block of East Ithaca Place         4          0   \n",
       "4                  307 Mourning Dove Terrace         2          2   \n",
       "\n",
       "                                        incident_url  \\\n",
       "0  http://www.gunviolencearchive.org/incident/461105   \n",
       "1  http://www.gunviolencearchive.org/incident/460726   \n",
       "2  http://www.gunviolencearchive.org/incident/478855   \n",
       "3  http://www.gunviolencearchive.org/incident/478925   \n",
       "4  http://www.gunviolencearchive.org/incident/478959   \n",
       "\n",
       "                                          source_url  \\\n",
       "0  http://www.post-gazette.com/local/south/2013/0...   \n",
       "1  http://www.dailybulletin.com/article/zz/201301...   \n",
       "2  http://chronicle.northcoastnow.com/2013/02/14/...   \n",
       "3  http://www.dailydemocrat.com/20130106/aurora-s...   \n",
       "4  http://www.journalnow.com/news/local/article_d...   \n",
       "\n",
       "   incident_url_fields_missing  ...                    participant_age  \\\n",
       "0                        False  ...                              0::20   \n",
       "1                        False  ...                              0::20   \n",
       "2                        False  ...  0::25||1::31||2::33||3::34||4::33   \n",
       "3                        False  ...         0::29||1::33||2::56||3::33   \n",
       "4                        False  ...         0::18||1::46||2::14||3::47   \n",
       "\n",
       "                               participant_age_group  \\\n",
       "0  0::Adult 18+||1::Adult 18+||2::Adult 18+||3::A...   \n",
       "1  0::Adult 18+||1::Adult 18+||2::Adult 18+||3::A...   \n",
       "2  0::Adult 18+||1::Adult 18+||2::Adult 18+||3::A...   \n",
       "3  0::Adult 18+||1::Adult 18+||2::Adult 18+||3::A...   \n",
       "4  0::Adult 18+||1::Adult 18+||2::Teen 12-17||3::...   \n",
       "\n",
       "                            participant_gender  \\\n",
       "0         0::Male||1::Male||3::Male||4::Female   \n",
       "1                                      0::Male   \n",
       "2  0::Male||1::Male||2::Male||3::Male||4::Male   \n",
       "3         0::Female||1::Male||2::Male||3::Male   \n",
       "4       0::Female||1::Male||2::Male||3::Female   \n",
       "\n",
       "                                    participant_name  \\\n",
       "0                                     0::Julian Sims   \n",
       "1                                  0::Bernard Gillis   \n",
       "2  0::Damien Bell||1::Desmen Noble||2::Herman Sea...   \n",
       "3  0::Stacie Philbrook||1::Christopher Ratliffe||...   \n",
       "4  0::Danielle Imani Jameison||1::Maurice Eugene ...   \n",
       "\n",
       "   participant_relationship  \\\n",
       "0                       NaN   \n",
       "1                       NaN   \n",
       "2                       NaN   \n",
       "3                       NaN   \n",
       "4                 3::Family   \n",
       "\n",
       "                                  participant_status  \\\n",
       "0  0::Arrested||1::Injured||2::Injured||3::Injure...   \n",
       "1      0::Killed||1::Injured||2::Injured||3::Injured   \n",
       "2  0::Injured, Unharmed, Arrested||1::Unharmed, A...   \n",
       "3         0::Killed||1::Killed||2::Killed||3::Killed   \n",
       "4       0::Injured||1::Injured||2::Killed||3::Killed   \n",
       "\n",
       "                                    participant_type  \\\n",
       "0  0::Victim||1::Victim||2::Victim||3::Victim||4:...   \n",
       "1  0::Victim||1::Victim||2::Victim||3::Victim||4:...   \n",
       "2  0::Subject-Suspect||1::Subject-Suspect||2::Vic...   \n",
       "3  0::Victim||1::Victim||2::Victim||3::Subject-Su...   \n",
       "4  0::Victim||1::Victim||2::Victim||3::Subject-Su...   \n",
       "\n",
       "                                             sources state_house_district  \\\n",
       "0  http://pittsburgh.cbslocal.com/2013/01/01/4-pe...                  NaN   \n",
       "1  http://losangeles.cbslocal.com/2013/01/01/man-...                 62.0   \n",
       "2  http://www.morningjournal.com/general-news/201...                 56.0   \n",
       "3  http://denver.cbslocal.com/2013/01/06/officer-...                 40.0   \n",
       "4  http://myfox8.com/2013/01/08/update-mother-sho...                 62.0   \n",
       "\n",
       "  state_senate_district  \n",
       "0                   NaN  \n",
       "1                  35.0  \n",
       "2                  13.0  \n",
       "3                  28.0  \n",
       "4                  27.0  \n",
       "\n",
       "[5 rows x 29 columns]"
      ]
     },
     "execution_count": 179,
     "metadata": {},
     "output_type": "execute_result"
    }
   ],
   "source": [
    "gun_violence_master_df = pd.read_csv(gun_violence_master, encoding=\"utf-8\")\n",
    "gun_violence_master_df.head()"
   ]
  },
  {
   "cell_type": "code",
   "execution_count": 180,
   "metadata": {},
   "outputs": [
    {
     "data": {
      "text/html": [
       "<div>\n",
       "<style scoped>\n",
       "    .dataframe tbody tr th:only-of-type {\n",
       "        vertical-align: middle;\n",
       "    }\n",
       "\n",
       "    .dataframe tbody tr th {\n",
       "        vertical-align: top;\n",
       "    }\n",
       "\n",
       "    .dataframe thead th {\n",
       "        text-align: right;\n",
       "    }\n",
       "</style>\n",
       "<table border=\"1\" class=\"dataframe\">\n",
       "  <thead>\n",
       "    <tr style=\"text-align: right;\">\n",
       "      <th></th>\n",
       "      <th>state</th>\n",
       "      <th>code</th>\n",
       "      <th>gun friendly</th>\n",
       "    </tr>\n",
       "  </thead>\n",
       "  <tbody>\n",
       "    <tr>\n",
       "      <th>0</th>\n",
       "      <td>Alabama</td>\n",
       "      <td>AL</td>\n",
       "      <td>50</td>\n",
       "    </tr>\n",
       "    <tr>\n",
       "      <th>1</th>\n",
       "      <td>Arkansas</td>\n",
       "      <td>AR</td>\n",
       "      <td>49</td>\n",
       "    </tr>\n",
       "    <tr>\n",
       "      <th>2</th>\n",
       "      <td>Georgia</td>\n",
       "      <td>GA</td>\n",
       "      <td>48</td>\n",
       "    </tr>\n",
       "    <tr>\n",
       "      <th>3</th>\n",
       "      <td>Idaho</td>\n",
       "      <td>ID</td>\n",
       "      <td>47</td>\n",
       "    </tr>\n",
       "    <tr>\n",
       "      <th>4</th>\n",
       "      <td>Arizona</td>\n",
       "      <td>AZ</td>\n",
       "      <td>46</td>\n",
       "    </tr>\n",
       "  </tbody>\n",
       "</table>\n",
       "</div>"
      ],
      "text/plain": [
       "      state code  gun friendly\n",
       "0   Alabama   AL            50\n",
       "1  Arkansas   AR            49\n",
       "2   Georgia   GA            48\n",
       "3     Idaho   ID            47\n",
       "4   Arizona   AZ            46"
      ]
     },
     "execution_count": 180,
     "metadata": {},
     "output_type": "execute_result"
    }
   ],
   "source": [
    "industry_friendly_df = pd.read_csv(industry_friendly, encoding=\"utf-8\")\n",
    "industry_friendly_df.head()"
   ]
  },
  {
   "cell_type": "code",
   "execution_count": 181,
   "metadata": {},
   "outputs": [
    {
     "data": {
      "text/html": [
       "<div>\n",
       "<style scoped>\n",
       "    .dataframe tbody tr th:only-of-type {\n",
       "        vertical-align: middle;\n",
       "    }\n",
       "\n",
       "    .dataframe tbody tr th {\n",
       "        vertical-align: top;\n",
       "    }\n",
       "\n",
       "    .dataframe thead th {\n",
       "        text-align: right;\n",
       "    }\n",
       "</style>\n",
       "<table border=\"1\" class=\"dataframe\">\n",
       "  <thead>\n",
       "    <tr style=\"text-align: right;\">\n",
       "      <th></th>\n",
       "      <th>state</th>\n",
       "      <th>year</th>\n",
       "      <th>age18longgunpossess</th>\n",
       "      <th>age18longgunsale</th>\n",
       "      <th>age21handgunpossess</th>\n",
       "      <th>age21handgunsale</th>\n",
       "      <th>age21longgunpossess</th>\n",
       "      <th>age21longgunsale</th>\n",
       "      <th>age21longgunsaled</th>\n",
       "      <th>alcoholism</th>\n",
       "      <th>...</th>\n",
       "      <th>universal</th>\n",
       "      <th>universalh</th>\n",
       "      <th>universalpermit</th>\n",
       "      <th>universalpermith</th>\n",
       "      <th>violent</th>\n",
       "      <th>violenth</th>\n",
       "      <th>violentpartial</th>\n",
       "      <th>waiting</th>\n",
       "      <th>waitingh</th>\n",
       "      <th>lawtotal</th>\n",
       "    </tr>\n",
       "  </thead>\n",
       "  <tbody>\n",
       "    <tr>\n",
       "      <th>0</th>\n",
       "      <td>Alabama</td>\n",
       "      <td>2017</td>\n",
       "      <td>0</td>\n",
       "      <td>0</td>\n",
       "      <td>0</td>\n",
       "      <td>0</td>\n",
       "      <td>0</td>\n",
       "      <td>0</td>\n",
       "      <td>0</td>\n",
       "      <td>1</td>\n",
       "      <td>...</td>\n",
       "      <td>0</td>\n",
       "      <td>0</td>\n",
       "      <td>0</td>\n",
       "      <td>0</td>\n",
       "      <td>0</td>\n",
       "      <td>0</td>\n",
       "      <td>0</td>\n",
       "      <td>0</td>\n",
       "      <td>0</td>\n",
       "      <td>10</td>\n",
       "    </tr>\n",
       "    <tr>\n",
       "      <th>1</th>\n",
       "      <td>Alaska</td>\n",
       "      <td>2017</td>\n",
       "      <td>0</td>\n",
       "      <td>1</td>\n",
       "      <td>0</td>\n",
       "      <td>0</td>\n",
       "      <td>0</td>\n",
       "      <td>0</td>\n",
       "      <td>0</td>\n",
       "      <td>0</td>\n",
       "      <td>...</td>\n",
       "      <td>0</td>\n",
       "      <td>0</td>\n",
       "      <td>0</td>\n",
       "      <td>0</td>\n",
       "      <td>0</td>\n",
       "      <td>0</td>\n",
       "      <td>0</td>\n",
       "      <td>0</td>\n",
       "      <td>0</td>\n",
       "      <td>4</td>\n",
       "    </tr>\n",
       "    <tr>\n",
       "      <th>2</th>\n",
       "      <td>Arizona</td>\n",
       "      <td>2017</td>\n",
       "      <td>1</td>\n",
       "      <td>0</td>\n",
       "      <td>0</td>\n",
       "      <td>0</td>\n",
       "      <td>0</td>\n",
       "      <td>0</td>\n",
       "      <td>0</td>\n",
       "      <td>0</td>\n",
       "      <td>...</td>\n",
       "      <td>0</td>\n",
       "      <td>0</td>\n",
       "      <td>0</td>\n",
       "      <td>0</td>\n",
       "      <td>0</td>\n",
       "      <td>0</td>\n",
       "      <td>0</td>\n",
       "      <td>0</td>\n",
       "      <td>0</td>\n",
       "      <td>11</td>\n",
       "    </tr>\n",
       "    <tr>\n",
       "      <th>3</th>\n",
       "      <td>Arkansas</td>\n",
       "      <td>2017</td>\n",
       "      <td>0</td>\n",
       "      <td>0</td>\n",
       "      <td>0</td>\n",
       "      <td>0</td>\n",
       "      <td>0</td>\n",
       "      <td>0</td>\n",
       "      <td>0</td>\n",
       "      <td>0</td>\n",
       "      <td>...</td>\n",
       "      <td>0</td>\n",
       "      <td>0</td>\n",
       "      <td>0</td>\n",
       "      <td>0</td>\n",
       "      <td>0</td>\n",
       "      <td>0</td>\n",
       "      <td>0</td>\n",
       "      <td>0</td>\n",
       "      <td>0</td>\n",
       "      <td>11</td>\n",
       "    </tr>\n",
       "    <tr>\n",
       "      <th>4</th>\n",
       "      <td>California</td>\n",
       "      <td>2017</td>\n",
       "      <td>0</td>\n",
       "      <td>1</td>\n",
       "      <td>0</td>\n",
       "      <td>1</td>\n",
       "      <td>0</td>\n",
       "      <td>0</td>\n",
       "      <td>0</td>\n",
       "      <td>1</td>\n",
       "      <td>...</td>\n",
       "      <td>1</td>\n",
       "      <td>1</td>\n",
       "      <td>1</td>\n",
       "      <td>1</td>\n",
       "      <td>1</td>\n",
       "      <td>1</td>\n",
       "      <td>1</td>\n",
       "      <td>1</td>\n",
       "      <td>1</td>\n",
       "      <td>106</td>\n",
       "    </tr>\n",
       "  </tbody>\n",
       "</table>\n",
       "<p>5 rows × 136 columns</p>\n",
       "</div>"
      ],
      "text/plain": [
       "        state  year  age18longgunpossess  age18longgunsale  \\\n",
       "0     Alabama  2017                    0                 0   \n",
       "1      Alaska  2017                    0                 1   \n",
       "2     Arizona  2017                    1                 0   \n",
       "3    Arkansas  2017                    0                 0   \n",
       "4  California  2017                    0                 1   \n",
       "\n",
       "   age21handgunpossess  age21handgunsale  age21longgunpossess  \\\n",
       "0                    0                 0                    0   \n",
       "1                    0                 0                    0   \n",
       "2                    0                 0                    0   \n",
       "3                    0                 0                    0   \n",
       "4                    0                 1                    0   \n",
       "\n",
       "   age21longgunsale  age21longgunsaled  alcoholism  ...  universal  \\\n",
       "0                 0                  0           1  ...          0   \n",
       "1                 0                  0           0  ...          0   \n",
       "2                 0                  0           0  ...          0   \n",
       "3                 0                  0           0  ...          0   \n",
       "4                 0                  0           1  ...          1   \n",
       "\n",
       "   universalh  universalpermit  universalpermith  violent  violenth  \\\n",
       "0           0                0                 0        0         0   \n",
       "1           0                0                 0        0         0   \n",
       "2           0                0                 0        0         0   \n",
       "3           0                0                 0        0         0   \n",
       "4           1                1                 1        1         1   \n",
       "\n",
       "   violentpartial  waiting  waitingh  lawtotal  \n",
       "0               0        0         0        10  \n",
       "1               0        0         0         4  \n",
       "2               0        0         0        11  \n",
       "3               0        0         0        11  \n",
       "4               1        1         1       106  \n",
       "\n",
       "[5 rows x 136 columns]"
      ]
     },
     "execution_count": 181,
     "metadata": {},
     "output_type": "execute_result"
    }
   ],
   "source": [
    "gun_regulations_df = pd.read_csv(gun_regulations, encoding=\"utf-8\")\n",
    "gun_regulations_df.head()"
   ]
  },
  {
   "cell_type": "code",
   "execution_count": 182,
   "metadata": {},
   "outputs": [
    {
     "data": {
      "text/html": [
       "<div>\n",
       "<style scoped>\n",
       "    .dataframe tbody tr th:only-of-type {\n",
       "        vertical-align: middle;\n",
       "    }\n",
       "\n",
       "    .dataframe tbody tr th {\n",
       "        vertical-align: top;\n",
       "    }\n",
       "\n",
       "    .dataframe thead tr th {\n",
       "        text-align: left;\n",
       "    }\n",
       "\n",
       "    .dataframe thead tr:last-of-type th {\n",
       "        text-align: right;\n",
       "    }\n",
       "</style>\n",
       "<table border=\"1\" class=\"dataframe\">\n",
       "  <thead>\n",
       "    <tr>\n",
       "      <th></th>\n",
       "      <th>lawtotal</th>\n",
       "    </tr>\n",
       "    <tr>\n",
       "      <th></th>\n",
       "      <th>sum</th>\n",
       "    </tr>\n",
       "    <tr>\n",
       "      <th>state</th>\n",
       "      <th></th>\n",
       "    </tr>\n",
       "  </thead>\n",
       "  <tbody>\n",
       "    <tr>\n",
       "      <th>Alabama</th>\n",
       "      <td>10</td>\n",
       "    </tr>\n",
       "    <tr>\n",
       "      <th>Alaska</th>\n",
       "      <td>4</td>\n",
       "    </tr>\n",
       "    <tr>\n",
       "      <th>Arizona</th>\n",
       "      <td>11</td>\n",
       "    </tr>\n",
       "    <tr>\n",
       "      <th>Arkansas</th>\n",
       "      <td>11</td>\n",
       "    </tr>\n",
       "    <tr>\n",
       "      <th>California</th>\n",
       "      <td>106</td>\n",
       "    </tr>\n",
       "  </tbody>\n",
       "</table>\n",
       "</div>"
      ],
      "text/plain": [
       "           lawtotal\n",
       "                sum\n",
       "state              \n",
       "Alabama          10\n",
       "Alaska            4\n",
       "Arizona          11\n",
       "Arkansas         11\n",
       "California      106"
      ]
     },
     "execution_count": 182,
     "metadata": {},
     "output_type": "execute_result"
    }
   ],
   "source": [
    "total_regulation_df = gun_regulations_df.groupby(['state']).agg({'lawtotal':['sum']})\n",
    "total_regulation_df.head()"
   ]
  },
  {
   "cell_type": "code",
   "execution_count": 183,
   "metadata": {},
   "outputs": [
    {
     "data": {
      "text/html": [
       "<div>\n",
       "<style scoped>\n",
       "    .dataframe tbody tr th:only-of-type {\n",
       "        vertical-align: middle;\n",
       "    }\n",
       "\n",
       "    .dataframe tbody tr th {\n",
       "        vertical-align: top;\n",
       "    }\n",
       "\n",
       "    .dataframe thead th {\n",
       "        text-align: right;\n",
       "    }\n",
       "</style>\n",
       "<table border=\"1\" class=\"dataframe\">\n",
       "  <thead>\n",
       "    <tr style=\"text-align: right;\">\n",
       "      <th></th>\n",
       "      <th>state</th>\n",
       "      <th>code</th>\n",
       "      <th>guns_per_capita</th>\n",
       "      <th>guns_registered</th>\n",
       "      <th>rank</th>\n",
       "    </tr>\n",
       "  </thead>\n",
       "  <tbody>\n",
       "    <tr>\n",
       "      <th>0</th>\n",
       "      <td>Alabama</td>\n",
       "      <td>AL</td>\n",
       "      <td>33.15</td>\n",
       "      <td>161641.0</td>\n",
       "      <td>6</td>\n",
       "    </tr>\n",
       "    <tr>\n",
       "      <th>1</th>\n",
       "      <td>Alaska</td>\n",
       "      <td>AK</td>\n",
       "      <td>21.38</td>\n",
       "      <td>15824.0</td>\n",
       "      <td>15</td>\n",
       "    </tr>\n",
       "    <tr>\n",
       "      <th>2</th>\n",
       "      <td>Arizona</td>\n",
       "      <td>AZ</td>\n",
       "      <td>25.61</td>\n",
       "      <td>179738.0</td>\n",
       "      <td>10</td>\n",
       "    </tr>\n",
       "    <tr>\n",
       "      <th>3</th>\n",
       "      <td>Arkansas</td>\n",
       "      <td>AR</td>\n",
       "      <td>26.57</td>\n",
       "      <td>79841.0</td>\n",
       "      <td>8</td>\n",
       "    </tr>\n",
       "    <tr>\n",
       "      <th>4</th>\n",
       "      <td>California</td>\n",
       "      <td>CA</td>\n",
       "      <td>8.71</td>\n",
       "      <td>344622.0</td>\n",
       "      <td>44</td>\n",
       "    </tr>\n",
       "  </tbody>\n",
       "</table>\n",
       "</div>"
      ],
      "text/plain": [
       "        state code  guns_per_capita  guns_registered  rank\n",
       "0     Alabama   AL            33.15         161641.0     6\n",
       "1      Alaska   AK            21.38          15824.0    15\n",
       "2     Arizona   AZ            25.61         179738.0    10\n",
       "3    Arkansas   AR            26.57          79841.0     8\n",
       "4  California   CA             8.71         344622.0    44"
      ]
     },
     "execution_count": 183,
     "metadata": {},
     "output_type": "execute_result"
    }
   ],
   "source": [
    "gun_ownership_df = pd.read_csv(gun_ownership, dtype={\"guns_registered\":float}, encoding=\"utf-8\")\n",
    "gun_ownership_df.head()\n"
   ]
  },
  {
   "cell_type": "code",
   "execution_count": 184,
   "metadata": {},
   "outputs": [],
   "source": [
    "#JOHN"
   ]
  },
  {
   "cell_type": "code",
   "execution_count": 185,
   "metadata": {},
   "outputs": [
    {
     "name": "stdout",
     "output_type": "stream",
     "text": [
      "columns in data :\n",
      " Index(['incident_id', 'date', 'state', 'city_or_county', 'address', 'n_killed',\n",
      "       'n_injured', 'incident_url', 'source_url',\n",
      "       'incident_url_fields_missing', 'congressional_district', 'gun_stolen',\n",
      "       'gun_type', 'incident_characteristics', 'latitude',\n",
      "       'location_description', 'longitude', 'n_guns_involved', 'notes',\n",
      "       'participant_age', 'participant_age_group', 'participant_gender',\n",
      "       'participant_name', 'participant_relationship', 'participant_status',\n",
      "       'participant_type', 'sources', 'state_house_district',\n",
      "       'state_senate_district'],\n",
      "      dtype='object')\n",
      "\n",
      " data - shape : (239677, 29)\n"
     ]
    }
   ],
   "source": [
    "print (\"columns in data :\\n\",gun_violence_master_df.columns)\n",
    "print (\"\\n data - shape :\",gun_violence_master_df.shape)"
   ]
  },
  {
   "cell_type": "code",
   "execution_count": 186,
   "metadata": {},
   "outputs": [],
   "source": [
    "# Date conversion\n",
    "gun_violence_master_df[\"date\"] = pd.to_datetime(gun_violence_master_df[\"date\"],format=\"%Y-%m-%d\")"
   ]
  },
  {
   "cell_type": "code",
   "execution_count": 187,
   "metadata": {},
   "outputs": [],
   "source": [
    "# Parse out the Yr, Mth, Day, Date from the date conversion\n",
    "# Lable months numerically so they sort correctly in visuals\n",
    "# Month_year needed for visuals\n",
    "gun_violence_master_df[\"year\"] = pd.DatetimeIndex(gun_violence_master_df[\"date\"]).year\n",
    "gun_violence_master_df[\"month\"]= pd.DatetimeIndex(gun_violence_master_df[\"date\"]).month\n",
    "gun_violence_master_df[\"day\"]  = pd.DatetimeIndex(gun_violence_master_df[\"date\"]).day\n",
    "gun_violence_master_df[\"month\"] = gun_violence_master_df[\"month\"].map({1:\"01.JAN\",2:\"02.FEB\",3:\"03.MAR\",4:\"04.APR\",5:\"05.MAY\",6:\"06.JUN\",7:\"07.JUL\",8:\"08.AUG\",9:\"09.SEP\",10:\"10.OCT\",11:\"11.NOV\",12:\"12.DEC\"})\n",
    "gun_violence_master_df[\"month_year\"] = gun_violence_master_df[\"month\"]+\"-\"+gun_violence_master_df[\"year\"].astype(str)"
   ]
  },
  {
   "cell_type": "code",
   "execution_count": 188,
   "metadata": {},
   "outputs": [
    {
     "data": {
      "text/html": [
       "<div>\n",
       "<style scoped>\n",
       "    .dataframe tbody tr th:only-of-type {\n",
       "        vertical-align: middle;\n",
       "    }\n",
       "\n",
       "    .dataframe tbody tr th {\n",
       "        vertical-align: top;\n",
       "    }\n",
       "\n",
       "    .dataframe thead th {\n",
       "        text-align: right;\n",
       "    }\n",
       "</style>\n",
       "<table border=\"1\" class=\"dataframe\">\n",
       "  <thead>\n",
       "    <tr style=\"text-align: right;\">\n",
       "      <th></th>\n",
       "      <th>incident_id</th>\n",
       "      <th>date</th>\n",
       "      <th>state</th>\n",
       "      <th>city_or_county</th>\n",
       "      <th>address</th>\n",
       "      <th>n_killed</th>\n",
       "      <th>n_injured</th>\n",
       "      <th>incident_url</th>\n",
       "      <th>source_url</th>\n",
       "      <th>incident_url_fields_missing</th>\n",
       "      <th>...</th>\n",
       "      <th>participant_relationship</th>\n",
       "      <th>participant_status</th>\n",
       "      <th>participant_type</th>\n",
       "      <th>sources</th>\n",
       "      <th>state_house_district</th>\n",
       "      <th>state_senate_district</th>\n",
       "      <th>year</th>\n",
       "      <th>month</th>\n",
       "      <th>day</th>\n",
       "      <th>month_year</th>\n",
       "    </tr>\n",
       "  </thead>\n",
       "  <tbody>\n",
       "    <tr>\n",
       "      <th>0</th>\n",
       "      <td>461105</td>\n",
       "      <td>2013-01-01</td>\n",
       "      <td>Pennsylvania</td>\n",
       "      <td>Mckeesport</td>\n",
       "      <td>1506 Versailles Avenue and Coursin Street</td>\n",
       "      <td>0</td>\n",
       "      <td>4</td>\n",
       "      <td>http://www.gunviolencearchive.org/incident/461105</td>\n",
       "      <td>http://www.post-gazette.com/local/south/2013/0...</td>\n",
       "      <td>False</td>\n",
       "      <td>...</td>\n",
       "      <td>NaN</td>\n",
       "      <td>0::Arrested||1::Injured||2::Injured||3::Injure...</td>\n",
       "      <td>0::Victim||1::Victim||2::Victim||3::Victim||4:...</td>\n",
       "      <td>http://pittsburgh.cbslocal.com/2013/01/01/4-pe...</td>\n",
       "      <td>NaN</td>\n",
       "      <td>NaN</td>\n",
       "      <td>2013</td>\n",
       "      <td>01.JAN</td>\n",
       "      <td>1</td>\n",
       "      <td>01.JAN-2013</td>\n",
       "    </tr>\n",
       "    <tr>\n",
       "      <th>1</th>\n",
       "      <td>460726</td>\n",
       "      <td>2013-01-01</td>\n",
       "      <td>California</td>\n",
       "      <td>Hawthorne</td>\n",
       "      <td>13500 block of Cerise Avenue</td>\n",
       "      <td>1</td>\n",
       "      <td>3</td>\n",
       "      <td>http://www.gunviolencearchive.org/incident/460726</td>\n",
       "      <td>http://www.dailybulletin.com/article/zz/201301...</td>\n",
       "      <td>False</td>\n",
       "      <td>...</td>\n",
       "      <td>NaN</td>\n",
       "      <td>0::Killed||1::Injured||2::Injured||3::Injured</td>\n",
       "      <td>0::Victim||1::Victim||2::Victim||3::Victim||4:...</td>\n",
       "      <td>http://losangeles.cbslocal.com/2013/01/01/man-...</td>\n",
       "      <td>62.0</td>\n",
       "      <td>35.0</td>\n",
       "      <td>2013</td>\n",
       "      <td>01.JAN</td>\n",
       "      <td>1</td>\n",
       "      <td>01.JAN-2013</td>\n",
       "    </tr>\n",
       "    <tr>\n",
       "      <th>2</th>\n",
       "      <td>478855</td>\n",
       "      <td>2013-01-01</td>\n",
       "      <td>Ohio</td>\n",
       "      <td>Lorain</td>\n",
       "      <td>1776 East 28th Street</td>\n",
       "      <td>1</td>\n",
       "      <td>3</td>\n",
       "      <td>http://www.gunviolencearchive.org/incident/478855</td>\n",
       "      <td>http://chronicle.northcoastnow.com/2013/02/14/...</td>\n",
       "      <td>False</td>\n",
       "      <td>...</td>\n",
       "      <td>NaN</td>\n",
       "      <td>0::Injured, Unharmed, Arrested||1::Unharmed, A...</td>\n",
       "      <td>0::Subject-Suspect||1::Subject-Suspect||2::Vic...</td>\n",
       "      <td>http://www.morningjournal.com/general-news/201...</td>\n",
       "      <td>56.0</td>\n",
       "      <td>13.0</td>\n",
       "      <td>2013</td>\n",
       "      <td>01.JAN</td>\n",
       "      <td>1</td>\n",
       "      <td>01.JAN-2013</td>\n",
       "    </tr>\n",
       "    <tr>\n",
       "      <th>3</th>\n",
       "      <td>478925</td>\n",
       "      <td>2013-01-05</td>\n",
       "      <td>Colorado</td>\n",
       "      <td>Aurora</td>\n",
       "      <td>16000 block of East Ithaca Place</td>\n",
       "      <td>4</td>\n",
       "      <td>0</td>\n",
       "      <td>http://www.gunviolencearchive.org/incident/478925</td>\n",
       "      <td>http://www.dailydemocrat.com/20130106/aurora-s...</td>\n",
       "      <td>False</td>\n",
       "      <td>...</td>\n",
       "      <td>NaN</td>\n",
       "      <td>0::Killed||1::Killed||2::Killed||3::Killed</td>\n",
       "      <td>0::Victim||1::Victim||2::Victim||3::Subject-Su...</td>\n",
       "      <td>http://denver.cbslocal.com/2013/01/06/officer-...</td>\n",
       "      <td>40.0</td>\n",
       "      <td>28.0</td>\n",
       "      <td>2013</td>\n",
       "      <td>01.JAN</td>\n",
       "      <td>5</td>\n",
       "      <td>01.JAN-2013</td>\n",
       "    </tr>\n",
       "    <tr>\n",
       "      <th>4</th>\n",
       "      <td>478959</td>\n",
       "      <td>2013-01-07</td>\n",
       "      <td>North Carolina</td>\n",
       "      <td>Greensboro</td>\n",
       "      <td>307 Mourning Dove Terrace</td>\n",
       "      <td>2</td>\n",
       "      <td>2</td>\n",
       "      <td>http://www.gunviolencearchive.org/incident/478959</td>\n",
       "      <td>http://www.journalnow.com/news/local/article_d...</td>\n",
       "      <td>False</td>\n",
       "      <td>...</td>\n",
       "      <td>3::Family</td>\n",
       "      <td>0::Injured||1::Injured||2::Killed||3::Killed</td>\n",
       "      <td>0::Victim||1::Victim||2::Victim||3::Subject-Su...</td>\n",
       "      <td>http://myfox8.com/2013/01/08/update-mother-sho...</td>\n",
       "      <td>62.0</td>\n",
       "      <td>27.0</td>\n",
       "      <td>2013</td>\n",
       "      <td>01.JAN</td>\n",
       "      <td>7</td>\n",
       "      <td>01.JAN-2013</td>\n",
       "    </tr>\n",
       "  </tbody>\n",
       "</table>\n",
       "<p>5 rows × 33 columns</p>\n",
       "</div>"
      ],
      "text/plain": [
       "   incident_id       date           state city_or_county  \\\n",
       "0       461105 2013-01-01    Pennsylvania     Mckeesport   \n",
       "1       460726 2013-01-01      California      Hawthorne   \n",
       "2       478855 2013-01-01            Ohio         Lorain   \n",
       "3       478925 2013-01-05        Colorado         Aurora   \n",
       "4       478959 2013-01-07  North Carolina     Greensboro   \n",
       "\n",
       "                                     address  n_killed  n_injured  \\\n",
       "0  1506 Versailles Avenue and Coursin Street         0          4   \n",
       "1               13500 block of Cerise Avenue         1          3   \n",
       "2                      1776 East 28th Street         1          3   \n",
       "3           16000 block of East Ithaca Place         4          0   \n",
       "4                  307 Mourning Dove Terrace         2          2   \n",
       "\n",
       "                                        incident_url  \\\n",
       "0  http://www.gunviolencearchive.org/incident/461105   \n",
       "1  http://www.gunviolencearchive.org/incident/460726   \n",
       "2  http://www.gunviolencearchive.org/incident/478855   \n",
       "3  http://www.gunviolencearchive.org/incident/478925   \n",
       "4  http://www.gunviolencearchive.org/incident/478959   \n",
       "\n",
       "                                          source_url  \\\n",
       "0  http://www.post-gazette.com/local/south/2013/0...   \n",
       "1  http://www.dailybulletin.com/article/zz/201301...   \n",
       "2  http://chronicle.northcoastnow.com/2013/02/14/...   \n",
       "3  http://www.dailydemocrat.com/20130106/aurora-s...   \n",
       "4  http://www.journalnow.com/news/local/article_d...   \n",
       "\n",
       "   incident_url_fields_missing  ...  participant_relationship  \\\n",
       "0                        False  ...                       NaN   \n",
       "1                        False  ...                       NaN   \n",
       "2                        False  ...                       NaN   \n",
       "3                        False  ...                       NaN   \n",
       "4                        False  ...                 3::Family   \n",
       "\n",
       "                                  participant_status  \\\n",
       "0  0::Arrested||1::Injured||2::Injured||3::Injure...   \n",
       "1      0::Killed||1::Injured||2::Injured||3::Injured   \n",
       "2  0::Injured, Unharmed, Arrested||1::Unharmed, A...   \n",
       "3         0::Killed||1::Killed||2::Killed||3::Killed   \n",
       "4       0::Injured||1::Injured||2::Killed||3::Killed   \n",
       "\n",
       "                                    participant_type  \\\n",
       "0  0::Victim||1::Victim||2::Victim||3::Victim||4:...   \n",
       "1  0::Victim||1::Victim||2::Victim||3::Victim||4:...   \n",
       "2  0::Subject-Suspect||1::Subject-Suspect||2::Vic...   \n",
       "3  0::Victim||1::Victim||2::Victim||3::Subject-Su...   \n",
       "4  0::Victim||1::Victim||2::Victim||3::Subject-Su...   \n",
       "\n",
       "                                             sources  state_house_district  \\\n",
       "0  http://pittsburgh.cbslocal.com/2013/01/01/4-pe...                   NaN   \n",
       "1  http://losangeles.cbslocal.com/2013/01/01/man-...                  62.0   \n",
       "2  http://www.morningjournal.com/general-news/201...                  56.0   \n",
       "3  http://denver.cbslocal.com/2013/01/06/officer-...                  40.0   \n",
       "4  http://myfox8.com/2013/01/08/update-mother-sho...                  62.0   \n",
       "\n",
       "  state_senate_district  year   month day   month_year  \n",
       "0                   NaN  2013  01.JAN   1  01.JAN-2013  \n",
       "1                  35.0  2013  01.JAN   1  01.JAN-2013  \n",
       "2                  13.0  2013  01.JAN   1  01.JAN-2013  \n",
       "3                  28.0  2013  01.JAN   5  01.JAN-2013  \n",
       "4                  27.0  2013  01.JAN   7  01.JAN-2013  \n",
       "\n",
       "[5 rows x 33 columns]"
      ]
     },
     "execution_count": 188,
     "metadata": {},
     "output_type": "execute_result"
    }
   ],
   "source": [
    "gun_violence_master_df.head()"
   ]
  },
  {
   "cell_type": "code",
   "execution_count": 189,
   "metadata": {},
   "outputs": [],
   "source": [
    "# rename columns\n",
    "# sort date\n",
    "gun_violence_master_df = gun_violence_master_df.rename(columns={\"n_killed\":\"Killed\",\"n_injured\":\"Injured\"})\n",
    "gun_violence_master_df = gun_violence_master_df.sort_values(by=\"date\",ascending=True)"
   ]
  },
  {
   "cell_type": "code",
   "execution_count": 190,
   "metadata": {},
   "outputs": [
    {
     "data": {
      "text/html": [
       "<div>\n",
       "<style scoped>\n",
       "    .dataframe tbody tr th:only-of-type {\n",
       "        vertical-align: middle;\n",
       "    }\n",
       "\n",
       "    .dataframe tbody tr th {\n",
       "        vertical-align: top;\n",
       "    }\n",
       "\n",
       "    .dataframe thead th {\n",
       "        text-align: right;\n",
       "    }\n",
       "</style>\n",
       "<table border=\"1\" class=\"dataframe\">\n",
       "  <thead>\n",
       "    <tr style=\"text-align: right;\">\n",
       "      <th></th>\n",
       "      <th>incident_id</th>\n",
       "      <th>date</th>\n",
       "      <th>state</th>\n",
       "      <th>city_or_county</th>\n",
       "      <th>address</th>\n",
       "      <th>Killed</th>\n",
       "      <th>Injured</th>\n",
       "      <th>incident_url</th>\n",
       "      <th>source_url</th>\n",
       "      <th>incident_url_fields_missing</th>\n",
       "      <th>...</th>\n",
       "      <th>participant_status</th>\n",
       "      <th>participant_type</th>\n",
       "      <th>sources</th>\n",
       "      <th>state_house_district</th>\n",
       "      <th>state_senate_district</th>\n",
       "      <th>year</th>\n",
       "      <th>month</th>\n",
       "      <th>day</th>\n",
       "      <th>month_year</th>\n",
       "      <th>Total Killed/Injured</th>\n",
       "    </tr>\n",
       "  </thead>\n",
       "  <tbody>\n",
       "    <tr>\n",
       "      <th>0</th>\n",
       "      <td>461105</td>\n",
       "      <td>2013-01-01</td>\n",
       "      <td>Pennsylvania</td>\n",
       "      <td>Mckeesport</td>\n",
       "      <td>1506 Versailles Avenue and Coursin Street</td>\n",
       "      <td>0</td>\n",
       "      <td>4</td>\n",
       "      <td>http://www.gunviolencearchive.org/incident/461105</td>\n",
       "      <td>http://www.post-gazette.com/local/south/2013/0...</td>\n",
       "      <td>False</td>\n",
       "      <td>...</td>\n",
       "      <td>0::Arrested||1::Injured||2::Injured||3::Injure...</td>\n",
       "      <td>0::Victim||1::Victim||2::Victim||3::Victim||4:...</td>\n",
       "      <td>http://pittsburgh.cbslocal.com/2013/01/01/4-pe...</td>\n",
       "      <td>NaN</td>\n",
       "      <td>NaN</td>\n",
       "      <td>2013</td>\n",
       "      <td>01.JAN</td>\n",
       "      <td>1</td>\n",
       "      <td>01.JAN-2013</td>\n",
       "      <td>4</td>\n",
       "    </tr>\n",
       "    <tr>\n",
       "      <th>1</th>\n",
       "      <td>460726</td>\n",
       "      <td>2013-01-01</td>\n",
       "      <td>California</td>\n",
       "      <td>Hawthorne</td>\n",
       "      <td>13500 block of Cerise Avenue</td>\n",
       "      <td>1</td>\n",
       "      <td>3</td>\n",
       "      <td>http://www.gunviolencearchive.org/incident/460726</td>\n",
       "      <td>http://www.dailybulletin.com/article/zz/201301...</td>\n",
       "      <td>False</td>\n",
       "      <td>...</td>\n",
       "      <td>0::Killed||1::Injured||2::Injured||3::Injured</td>\n",
       "      <td>0::Victim||1::Victim||2::Victim||3::Victim||4:...</td>\n",
       "      <td>http://losangeles.cbslocal.com/2013/01/01/man-...</td>\n",
       "      <td>62.0</td>\n",
       "      <td>35.0</td>\n",
       "      <td>2013</td>\n",
       "      <td>01.JAN</td>\n",
       "      <td>1</td>\n",
       "      <td>01.JAN-2013</td>\n",
       "      <td>4</td>\n",
       "    </tr>\n",
       "    <tr>\n",
       "      <th>2</th>\n",
       "      <td>478855</td>\n",
       "      <td>2013-01-01</td>\n",
       "      <td>Ohio</td>\n",
       "      <td>Lorain</td>\n",
       "      <td>1776 East 28th Street</td>\n",
       "      <td>1</td>\n",
       "      <td>3</td>\n",
       "      <td>http://www.gunviolencearchive.org/incident/478855</td>\n",
       "      <td>http://chronicle.northcoastnow.com/2013/02/14/...</td>\n",
       "      <td>False</td>\n",
       "      <td>...</td>\n",
       "      <td>0::Injured, Unharmed, Arrested||1::Unharmed, A...</td>\n",
       "      <td>0::Subject-Suspect||1::Subject-Suspect||2::Vic...</td>\n",
       "      <td>http://www.morningjournal.com/general-news/201...</td>\n",
       "      <td>56.0</td>\n",
       "      <td>13.0</td>\n",
       "      <td>2013</td>\n",
       "      <td>01.JAN</td>\n",
       "      <td>1</td>\n",
       "      <td>01.JAN-2013</td>\n",
       "      <td>4</td>\n",
       "    </tr>\n",
       "    <tr>\n",
       "      <th>3</th>\n",
       "      <td>478925</td>\n",
       "      <td>2013-01-05</td>\n",
       "      <td>Colorado</td>\n",
       "      <td>Aurora</td>\n",
       "      <td>16000 block of East Ithaca Place</td>\n",
       "      <td>4</td>\n",
       "      <td>0</td>\n",
       "      <td>http://www.gunviolencearchive.org/incident/478925</td>\n",
       "      <td>http://www.dailydemocrat.com/20130106/aurora-s...</td>\n",
       "      <td>False</td>\n",
       "      <td>...</td>\n",
       "      <td>0::Killed||1::Killed||2::Killed||3::Killed</td>\n",
       "      <td>0::Victim||1::Victim||2::Victim||3::Subject-Su...</td>\n",
       "      <td>http://denver.cbslocal.com/2013/01/06/officer-...</td>\n",
       "      <td>40.0</td>\n",
       "      <td>28.0</td>\n",
       "      <td>2013</td>\n",
       "      <td>01.JAN</td>\n",
       "      <td>5</td>\n",
       "      <td>01.JAN-2013</td>\n",
       "      <td>4</td>\n",
       "    </tr>\n",
       "    <tr>\n",
       "      <th>4</th>\n",
       "      <td>478959</td>\n",
       "      <td>2013-01-07</td>\n",
       "      <td>North Carolina</td>\n",
       "      <td>Greensboro</td>\n",
       "      <td>307 Mourning Dove Terrace</td>\n",
       "      <td>2</td>\n",
       "      <td>2</td>\n",
       "      <td>http://www.gunviolencearchive.org/incident/478959</td>\n",
       "      <td>http://www.journalnow.com/news/local/article_d...</td>\n",
       "      <td>False</td>\n",
       "      <td>...</td>\n",
       "      <td>0::Injured||1::Injured||2::Killed||3::Killed</td>\n",
       "      <td>0::Victim||1::Victim||2::Victim||3::Subject-Su...</td>\n",
       "      <td>http://myfox8.com/2013/01/08/update-mother-sho...</td>\n",
       "      <td>62.0</td>\n",
       "      <td>27.0</td>\n",
       "      <td>2013</td>\n",
       "      <td>01.JAN</td>\n",
       "      <td>7</td>\n",
       "      <td>01.JAN-2013</td>\n",
       "      <td>4</td>\n",
       "    </tr>\n",
       "  </tbody>\n",
       "</table>\n",
       "<p>5 rows × 34 columns</p>\n",
       "</div>"
      ],
      "text/plain": [
       "   incident_id       date           state city_or_county  \\\n",
       "0       461105 2013-01-01    Pennsylvania     Mckeesport   \n",
       "1       460726 2013-01-01      California      Hawthorne   \n",
       "2       478855 2013-01-01            Ohio         Lorain   \n",
       "3       478925 2013-01-05        Colorado         Aurora   \n",
       "4       478959 2013-01-07  North Carolina     Greensboro   \n",
       "\n",
       "                                     address  Killed  Injured  \\\n",
       "0  1506 Versailles Avenue and Coursin Street       0        4   \n",
       "1               13500 block of Cerise Avenue       1        3   \n",
       "2                      1776 East 28th Street       1        3   \n",
       "3           16000 block of East Ithaca Place       4        0   \n",
       "4                  307 Mourning Dove Terrace       2        2   \n",
       "\n",
       "                                        incident_url  \\\n",
       "0  http://www.gunviolencearchive.org/incident/461105   \n",
       "1  http://www.gunviolencearchive.org/incident/460726   \n",
       "2  http://www.gunviolencearchive.org/incident/478855   \n",
       "3  http://www.gunviolencearchive.org/incident/478925   \n",
       "4  http://www.gunviolencearchive.org/incident/478959   \n",
       "\n",
       "                                          source_url  \\\n",
       "0  http://www.post-gazette.com/local/south/2013/0...   \n",
       "1  http://www.dailybulletin.com/article/zz/201301...   \n",
       "2  http://chronicle.northcoastnow.com/2013/02/14/...   \n",
       "3  http://www.dailydemocrat.com/20130106/aurora-s...   \n",
       "4  http://www.journalnow.com/news/local/article_d...   \n",
       "\n",
       "   incident_url_fields_missing  ...  \\\n",
       "0                        False  ...   \n",
       "1                        False  ...   \n",
       "2                        False  ...   \n",
       "3                        False  ...   \n",
       "4                        False  ...   \n",
       "\n",
       "                                  participant_status  \\\n",
       "0  0::Arrested||1::Injured||2::Injured||3::Injure...   \n",
       "1      0::Killed||1::Injured||2::Injured||3::Injured   \n",
       "2  0::Injured, Unharmed, Arrested||1::Unharmed, A...   \n",
       "3         0::Killed||1::Killed||2::Killed||3::Killed   \n",
       "4       0::Injured||1::Injured||2::Killed||3::Killed   \n",
       "\n",
       "                                    participant_type  \\\n",
       "0  0::Victim||1::Victim||2::Victim||3::Victim||4:...   \n",
       "1  0::Victim||1::Victim||2::Victim||3::Victim||4:...   \n",
       "2  0::Subject-Suspect||1::Subject-Suspect||2::Vic...   \n",
       "3  0::Victim||1::Victim||2::Victim||3::Subject-Su...   \n",
       "4  0::Victim||1::Victim||2::Victim||3::Subject-Su...   \n",
       "\n",
       "                                             sources state_house_district  \\\n",
       "0  http://pittsburgh.cbslocal.com/2013/01/01/4-pe...                  NaN   \n",
       "1  http://losangeles.cbslocal.com/2013/01/01/man-...                 62.0   \n",
       "2  http://www.morningjournal.com/general-news/201...                 56.0   \n",
       "3  http://denver.cbslocal.com/2013/01/06/officer-...                 40.0   \n",
       "4  http://myfox8.com/2013/01/08/update-mother-sho...                 62.0   \n",
       "\n",
       "   state_senate_district  year   month  day   month_year Total Killed/Injured  \n",
       "0                    NaN  2013  01.JAN    1  01.JAN-2013                    4  \n",
       "1                   35.0  2013  01.JAN    1  01.JAN-2013                    4  \n",
       "2                   13.0  2013  01.JAN    1  01.JAN-2013                    4  \n",
       "3                   28.0  2013  01.JAN    5  01.JAN-2013                    4  \n",
       "4                   27.0  2013  01.JAN    7  01.JAN-2013                    4  \n",
       "\n",
       "[5 rows x 34 columns]"
      ]
     },
     "execution_count": 190,
     "metadata": {},
     "output_type": "execute_result"
    }
   ],
   "source": [
    "# Create a new column called \"Total Killed/Injured\" which adds n_killed & n_injured\n",
    "gun_violence_master_df[\"Total Killed/Injured\"] = gun_violence_master_df[\"Killed\"] + gun_violence_master_df[\"Injured\"]\n",
    "gun_violence_master_df.head()"
   ]
  },
  {
   "cell_type": "code",
   "execution_count": 191,
   "metadata": {},
   "outputs": [
    {
     "data": {
      "text/html": [
       "<div>\n",
       "<style scoped>\n",
       "    .dataframe tbody tr th:only-of-type {\n",
       "        vertical-align: middle;\n",
       "    }\n",
       "\n",
       "    .dataframe tbody tr th {\n",
       "        vertical-align: top;\n",
       "    }\n",
       "\n",
       "    .dataframe thead th {\n",
       "        text-align: right;\n",
       "    }\n",
       "</style>\n",
       "<table border=\"1\" class=\"dataframe\">\n",
       "  <thead>\n",
       "    <tr style=\"text-align: right;\">\n",
       "      <th></th>\n",
       "      <th>incident_id</th>\n",
       "      <th>year</th>\n",
       "      <th>month</th>\n",
       "      <th>day</th>\n",
       "      <th>month_year</th>\n",
       "      <th>date</th>\n",
       "      <th>state</th>\n",
       "      <th>city_or_county</th>\n",
       "      <th>Total Killed/Injured</th>\n",
       "      <th>Killed</th>\n",
       "      <th>...</th>\n",
       "      <th>participant_relationship</th>\n",
       "      <th>participant_status</th>\n",
       "      <th>participant_type</th>\n",
       "      <th>sources</th>\n",
       "      <th>state_house_district</th>\n",
       "      <th>state_senate_district</th>\n",
       "      <th>incident_url</th>\n",
       "      <th>source_url</th>\n",
       "      <th>incident_url_fields_missing</th>\n",
       "      <th>address</th>\n",
       "    </tr>\n",
       "  </thead>\n",
       "  <tbody>\n",
       "    <tr>\n",
       "      <th>0</th>\n",
       "      <td>461105</td>\n",
       "      <td>2013</td>\n",
       "      <td>01.JAN</td>\n",
       "      <td>1</td>\n",
       "      <td>01.JAN-2013</td>\n",
       "      <td>2013-01-01</td>\n",
       "      <td>Pennsylvania</td>\n",
       "      <td>Mckeesport</td>\n",
       "      <td>4</td>\n",
       "      <td>0</td>\n",
       "      <td>...</td>\n",
       "      <td>NaN</td>\n",
       "      <td>0::Arrested||1::Injured||2::Injured||3::Injure...</td>\n",
       "      <td>0::Victim||1::Victim||2::Victim||3::Victim||4:...</td>\n",
       "      <td>http://pittsburgh.cbslocal.com/2013/01/01/4-pe...</td>\n",
       "      <td>NaN</td>\n",
       "      <td>NaN</td>\n",
       "      <td>http://www.gunviolencearchive.org/incident/461105</td>\n",
       "      <td>http://www.post-gazette.com/local/south/2013/0...</td>\n",
       "      <td>False</td>\n",
       "      <td>1506 Versailles Avenue and Coursin Street</td>\n",
       "    </tr>\n",
       "    <tr>\n",
       "      <th>1</th>\n",
       "      <td>460726</td>\n",
       "      <td>2013</td>\n",
       "      <td>01.JAN</td>\n",
       "      <td>1</td>\n",
       "      <td>01.JAN-2013</td>\n",
       "      <td>2013-01-01</td>\n",
       "      <td>California</td>\n",
       "      <td>Hawthorne</td>\n",
       "      <td>4</td>\n",
       "      <td>1</td>\n",
       "      <td>...</td>\n",
       "      <td>NaN</td>\n",
       "      <td>0::Killed||1::Injured||2::Injured||3::Injured</td>\n",
       "      <td>0::Victim||1::Victim||2::Victim||3::Victim||4:...</td>\n",
       "      <td>http://losangeles.cbslocal.com/2013/01/01/man-...</td>\n",
       "      <td>62.0</td>\n",
       "      <td>35.0</td>\n",
       "      <td>http://www.gunviolencearchive.org/incident/460726</td>\n",
       "      <td>http://www.dailybulletin.com/article/zz/201301...</td>\n",
       "      <td>False</td>\n",
       "      <td>13500 block of Cerise Avenue</td>\n",
       "    </tr>\n",
       "    <tr>\n",
       "      <th>2</th>\n",
       "      <td>478855</td>\n",
       "      <td>2013</td>\n",
       "      <td>01.JAN</td>\n",
       "      <td>1</td>\n",
       "      <td>01.JAN-2013</td>\n",
       "      <td>2013-01-01</td>\n",
       "      <td>Ohio</td>\n",
       "      <td>Lorain</td>\n",
       "      <td>4</td>\n",
       "      <td>1</td>\n",
       "      <td>...</td>\n",
       "      <td>NaN</td>\n",
       "      <td>0::Injured, Unharmed, Arrested||1::Unharmed, A...</td>\n",
       "      <td>0::Subject-Suspect||1::Subject-Suspect||2::Vic...</td>\n",
       "      <td>http://www.morningjournal.com/general-news/201...</td>\n",
       "      <td>56.0</td>\n",
       "      <td>13.0</td>\n",
       "      <td>http://www.gunviolencearchive.org/incident/478855</td>\n",
       "      <td>http://chronicle.northcoastnow.com/2013/02/14/...</td>\n",
       "      <td>False</td>\n",
       "      <td>1776 East 28th Street</td>\n",
       "    </tr>\n",
       "    <tr>\n",
       "      <th>3</th>\n",
       "      <td>478925</td>\n",
       "      <td>2013</td>\n",
       "      <td>01.JAN</td>\n",
       "      <td>5</td>\n",
       "      <td>01.JAN-2013</td>\n",
       "      <td>2013-01-05</td>\n",
       "      <td>Colorado</td>\n",
       "      <td>Aurora</td>\n",
       "      <td>4</td>\n",
       "      <td>4</td>\n",
       "      <td>...</td>\n",
       "      <td>NaN</td>\n",
       "      <td>0::Killed||1::Killed||2::Killed||3::Killed</td>\n",
       "      <td>0::Victim||1::Victim||2::Victim||3::Subject-Su...</td>\n",
       "      <td>http://denver.cbslocal.com/2013/01/06/officer-...</td>\n",
       "      <td>40.0</td>\n",
       "      <td>28.0</td>\n",
       "      <td>http://www.gunviolencearchive.org/incident/478925</td>\n",
       "      <td>http://www.dailydemocrat.com/20130106/aurora-s...</td>\n",
       "      <td>False</td>\n",
       "      <td>16000 block of East Ithaca Place</td>\n",
       "    </tr>\n",
       "    <tr>\n",
       "      <th>4</th>\n",
       "      <td>478959</td>\n",
       "      <td>2013</td>\n",
       "      <td>01.JAN</td>\n",
       "      <td>7</td>\n",
       "      <td>01.JAN-2013</td>\n",
       "      <td>2013-01-07</td>\n",
       "      <td>North Carolina</td>\n",
       "      <td>Greensboro</td>\n",
       "      <td>4</td>\n",
       "      <td>2</td>\n",
       "      <td>...</td>\n",
       "      <td>3::Family</td>\n",
       "      <td>0::Injured||1::Injured||2::Killed||3::Killed</td>\n",
       "      <td>0::Victim||1::Victim||2::Victim||3::Subject-Su...</td>\n",
       "      <td>http://myfox8.com/2013/01/08/update-mother-sho...</td>\n",
       "      <td>62.0</td>\n",
       "      <td>27.0</td>\n",
       "      <td>http://www.gunviolencearchive.org/incident/478959</td>\n",
       "      <td>http://www.journalnow.com/news/local/article_d...</td>\n",
       "      <td>False</td>\n",
       "      <td>307 Mourning Dove Terrace</td>\n",
       "    </tr>\n",
       "  </tbody>\n",
       "</table>\n",
       "<p>5 rows × 24 columns</p>\n",
       "</div>"
      ],
      "text/plain": [
       "   incident_id  year   month  day   month_year       date           state  \\\n",
       "0       461105  2013  01.JAN    1  01.JAN-2013 2013-01-01    Pennsylvania   \n",
       "1       460726  2013  01.JAN    1  01.JAN-2013 2013-01-01      California   \n",
       "2       478855  2013  01.JAN    1  01.JAN-2013 2013-01-01            Ohio   \n",
       "3       478925  2013  01.JAN    5  01.JAN-2013 2013-01-05        Colorado   \n",
       "4       478959  2013  01.JAN    7  01.JAN-2013 2013-01-07  North Carolina   \n",
       "\n",
       "  city_or_county  Total Killed/Injured  Killed  ...  participant_relationship  \\\n",
       "0     Mckeesport                     4       0  ...                       NaN   \n",
       "1      Hawthorne                     4       1  ...                       NaN   \n",
       "2         Lorain                     4       1  ...                       NaN   \n",
       "3         Aurora                     4       4  ...                       NaN   \n",
       "4     Greensboro                     4       2  ...                 3::Family   \n",
       "\n",
       "                                  participant_status  \\\n",
       "0  0::Arrested||1::Injured||2::Injured||3::Injure...   \n",
       "1      0::Killed||1::Injured||2::Injured||3::Injured   \n",
       "2  0::Injured, Unharmed, Arrested||1::Unharmed, A...   \n",
       "3         0::Killed||1::Killed||2::Killed||3::Killed   \n",
       "4       0::Injured||1::Injured||2::Killed||3::Killed   \n",
       "\n",
       "                                    participant_type  \\\n",
       "0  0::Victim||1::Victim||2::Victim||3::Victim||4:...   \n",
       "1  0::Victim||1::Victim||2::Victim||3::Victim||4:...   \n",
       "2  0::Subject-Suspect||1::Subject-Suspect||2::Vic...   \n",
       "3  0::Victim||1::Victim||2::Victim||3::Subject-Su...   \n",
       "4  0::Victim||1::Victim||2::Victim||3::Subject-Su...   \n",
       "\n",
       "                                             sources state_house_district  \\\n",
       "0  http://pittsburgh.cbslocal.com/2013/01/01/4-pe...                  NaN   \n",
       "1  http://losangeles.cbslocal.com/2013/01/01/man-...                 62.0   \n",
       "2  http://www.morningjournal.com/general-news/201...                 56.0   \n",
       "3  http://denver.cbslocal.com/2013/01/06/officer-...                 40.0   \n",
       "4  http://myfox8.com/2013/01/08/update-mother-sho...                 62.0   \n",
       "\n",
       "  state_senate_district                                       incident_url  \\\n",
       "0                   NaN  http://www.gunviolencearchive.org/incident/461105   \n",
       "1                  35.0  http://www.gunviolencearchive.org/incident/460726   \n",
       "2                  13.0  http://www.gunviolencearchive.org/incident/478855   \n",
       "3                  28.0  http://www.gunviolencearchive.org/incident/478925   \n",
       "4                  27.0  http://www.gunviolencearchive.org/incident/478959   \n",
       "\n",
       "                                          source_url  \\\n",
       "0  http://www.post-gazette.com/local/south/2013/0...   \n",
       "1  http://www.dailybulletin.com/article/zz/201301...   \n",
       "2  http://chronicle.northcoastnow.com/2013/02/14/...   \n",
       "3  http://www.dailydemocrat.com/20130106/aurora-s...   \n",
       "4  http://www.journalnow.com/news/local/article_d...   \n",
       "\n",
       "   incident_url_fields_missing                                    address  \n",
       "0                        False  1506 Versailles Avenue and Coursin Street  \n",
       "1                        False               13500 block of Cerise Avenue  \n",
       "2                        False                      1776 East 28th Street  \n",
       "3                        False           16000 block of East Ithaca Place  \n",
       "4                        False                  307 Mourning Dove Terrace  \n",
       "\n",
       "[5 rows x 24 columns]"
      ]
     },
     "execution_count": 191,
     "metadata": {},
     "output_type": "execute_result"
    }
   ],
   "source": [
    "# Re-order Columns\n",
    "gun_violence_master_df = gun_violence_master_df[[\"incident_id\", \"year\", \"month\", \"day\", \"month_year\", \"date\", \"state\", \"city_or_county\", \"Total Killed/Injured\",\n",
    "                                    \"Killed\", \"Injured\", \"participant_age_group\", \"participant_gender\",\n",
    "                                    \"participant_name\", \"participant_relationship\", \"participant_status\",\n",
    "                                    \"participant_type\", \"sources\", \"state_house_district\", \"state_senate_district\",\n",
    "                                    \"incident_url\", \"source_url\", \"incident_url_fields_missing\", \"address\"]]\n",
    "gun_violence_master_df.head()"
   ]
  },
  {
   "cell_type": "code",
   "execution_count": 192,
   "metadata": {},
   "outputs": [
    {
     "data": {
      "text/plain": [
       "178870"
      ]
     },
     "execution_count": 192,
     "metadata": {},
     "output_type": "execute_result"
    }
   ],
   "source": [
    "# Checking numbers\n",
    "killed = gun_violence_master_df[\"Killed\"].sum()\n",
    "injured = gun_violence_master_df[\"Injured\"].sum()\n",
    "total = gun_violence_master_df[\"Total Killed/Injured\"].sum()\n",
    "total"
   ]
  },
  {
   "cell_type": "code",
   "execution_count": 193,
   "metadata": {},
   "outputs": [],
   "source": [
    "# delete all rows that have 2013 or 2018 \n",
    "gun_violence_master_df.drop(gun_violence_master_df[(gun_violence_master_df[\"year\"] == 2013)].index, inplace=True)\n",
    "gun_violence_master_df.drop(gun_violence_master_df[(gun_violence_master_df[\"year\"] == 2018)].index, inplace=True)"
   ]
  },
  {
   "cell_type": "code",
   "execution_count": 194,
   "metadata": {},
   "outputs": [
    {
     "data": {
      "text/html": [
       "<div>\n",
       "<style scoped>\n",
       "    .dataframe tbody tr th:only-of-type {\n",
       "        vertical-align: middle;\n",
       "    }\n",
       "\n",
       "    .dataframe tbody tr th {\n",
       "        vertical-align: top;\n",
       "    }\n",
       "\n",
       "    .dataframe thead th {\n",
       "        text-align: right;\n",
       "    }\n",
       "</style>\n",
       "<table border=\"1\" class=\"dataframe\">\n",
       "  <thead>\n",
       "    <tr style=\"text-align: right;\">\n",
       "      <th></th>\n",
       "      <th>incident_id</th>\n",
       "      <th>year</th>\n",
       "      <th>month</th>\n",
       "      <th>day</th>\n",
       "      <th>month_year</th>\n",
       "      <th>date</th>\n",
       "      <th>state</th>\n",
       "      <th>city_or_county</th>\n",
       "      <th>Total Killed/Injured</th>\n",
       "      <th>Killed</th>\n",
       "      <th>...</th>\n",
       "      <th>participant_relationship</th>\n",
       "      <th>participant_status</th>\n",
       "      <th>participant_type</th>\n",
       "      <th>sources</th>\n",
       "      <th>state_house_district</th>\n",
       "      <th>state_senate_district</th>\n",
       "      <th>incident_url</th>\n",
       "      <th>source_url</th>\n",
       "      <th>incident_url_fields_missing</th>\n",
       "      <th>address</th>\n",
       "    </tr>\n",
       "  </thead>\n",
       "  <tbody>\n",
       "    <tr>\n",
       "      <th>424</th>\n",
       "      <td>92400</td>\n",
       "      <td>2014</td>\n",
       "      <td>01.JAN</td>\n",
       "      <td>1</td>\n",
       "      <td>01.JAN-2014</td>\n",
       "      <td>2014-01-01</td>\n",
       "      <td>New Jersey</td>\n",
       "      <td>Jersey City</td>\n",
       "      <td>1</td>\n",
       "      <td>0</td>\n",
       "      <td>...</td>\n",
       "      <td>NaN</td>\n",
       "      <td>0::Injured||1::Unharmed</td>\n",
       "      <td>0::Victim||1::Subject-Suspect</td>\n",
       "      <td>http://www.nj.com/hudson/index.ssf/2014/01/ret...</td>\n",
       "      <td>31.0</td>\n",
       "      <td>31.0</td>\n",
       "      <td>http://www.gunviolencearchive.org/incident/92400</td>\n",
       "      <td>http://www.nj.com/hudson/index.ssf/2014/01/ret...</td>\n",
       "      <td>False</td>\n",
       "      <td>Monticello and Jewett Avenues</td>\n",
       "    </tr>\n",
       "    <tr>\n",
       "      <th>415</th>\n",
       "      <td>92307</td>\n",
       "      <td>2014</td>\n",
       "      <td>01.JAN</td>\n",
       "      <td>1</td>\n",
       "      <td>01.JAN-2014</td>\n",
       "      <td>2014-01-01</td>\n",
       "      <td>Wisconsin</td>\n",
       "      <td>Milwaukee</td>\n",
       "      <td>1</td>\n",
       "      <td>0</td>\n",
       "      <td>...</td>\n",
       "      <td>NaN</td>\n",
       "      <td>0::Injured</td>\n",
       "      <td>0::Victim</td>\n",
       "      <td>http://www.jsonline.com/news/crime/fatal-shoot...</td>\n",
       "      <td>17.0</td>\n",
       "      <td>6.0</td>\n",
       "      <td>http://www.gunviolencearchive.org/incident/92307</td>\n",
       "      <td>http://www.jsonline.com/news/crime/fatal-shoot...</td>\n",
       "      <td>False</td>\n",
       "      <td>4700 block of N. 50th St</td>\n",
       "    </tr>\n",
       "    <tr>\n",
       "      <th>416</th>\n",
       "      <td>92519</td>\n",
       "      <td>2014</td>\n",
       "      <td>01.JAN</td>\n",
       "      <td>1</td>\n",
       "      <td>01.JAN-2014</td>\n",
       "      <td>2014-01-01</td>\n",
       "      <td>Tennessee</td>\n",
       "      <td>Humboldt</td>\n",
       "      <td>0</td>\n",
       "      <td>0</td>\n",
       "      <td>...</td>\n",
       "      <td>NaN</td>\n",
       "      <td>0::Unharmed</td>\n",
       "      <td>0::Subject-Suspect</td>\n",
       "      <td>http://www.wbbjtv.com/news/local/Shots-Fired-i...</td>\n",
       "      <td>79.0</td>\n",
       "      <td>24.0</td>\n",
       "      <td>http://www.gunviolencearchive.org/incident/92519</td>\n",
       "      <td>http://www.wbbjtv.com/news/local/Shots-Fired-i...</td>\n",
       "      <td>False</td>\n",
       "      <td>NaN</td>\n",
       "    </tr>\n",
       "    <tr>\n",
       "      <th>417</th>\n",
       "      <td>95244</td>\n",
       "      <td>2014</td>\n",
       "      <td>01.JAN</td>\n",
       "      <td>1</td>\n",
       "      <td>01.JAN-2014</td>\n",
       "      <td>2014-01-01</td>\n",
       "      <td>Virginia</td>\n",
       "      <td>Chesapeake</td>\n",
       "      <td>0</td>\n",
       "      <td>0</td>\n",
       "      <td>...</td>\n",
       "      <td>NaN</td>\n",
       "      <td>NaN</td>\n",
       "      <td>0::Victim</td>\n",
       "      <td>http://wtkr.com/2014/01/02/bullet-goes-through...</td>\n",
       "      <td>81.0</td>\n",
       "      <td>14.0</td>\n",
       "      <td>http://www.gunviolencearchive.org/incident/95244</td>\n",
       "      <td>http://wtkr.com/2014/01/02/bullet-goes-through...</td>\n",
       "      <td>False</td>\n",
       "      <td>405 Shell Rd</td>\n",
       "    </tr>\n",
       "    <tr>\n",
       "      <th>418</th>\n",
       "      <td>92251</td>\n",
       "      <td>2014</td>\n",
       "      <td>01.JAN</td>\n",
       "      <td>1</td>\n",
       "      <td>01.JAN-2014</td>\n",
       "      <td>2014-01-01</td>\n",
       "      <td>Ohio</td>\n",
       "      <td>Cleveland</td>\n",
       "      <td>1</td>\n",
       "      <td>0</td>\n",
       "      <td>...</td>\n",
       "      <td>NaN</td>\n",
       "      <td>0::Injured||1::Unharmed</td>\n",
       "      <td>0::Victim||1::Subject-Suspect</td>\n",
       "      <td>http://fox8.com/2014/01/01/police-landlord-arr...</td>\n",
       "      <td>13.0</td>\n",
       "      <td>23.0</td>\n",
       "      <td>http://www.gunviolencearchive.org/incident/92251</td>\n",
       "      <td>http://fox8.com/2014/01/01/police-landlord-arr...</td>\n",
       "      <td>False</td>\n",
       "      <td>12108 Marne Av</td>\n",
       "    </tr>\n",
       "  </tbody>\n",
       "</table>\n",
       "<p>5 rows × 24 columns</p>\n",
       "</div>"
      ],
      "text/plain": [
       "     incident_id  year   month  day   month_year       date       state  \\\n",
       "424        92400  2014  01.JAN    1  01.JAN-2014 2014-01-01  New Jersey   \n",
       "415        92307  2014  01.JAN    1  01.JAN-2014 2014-01-01   Wisconsin   \n",
       "416        92519  2014  01.JAN    1  01.JAN-2014 2014-01-01   Tennessee   \n",
       "417        95244  2014  01.JAN    1  01.JAN-2014 2014-01-01    Virginia   \n",
       "418        92251  2014  01.JAN    1  01.JAN-2014 2014-01-01        Ohio   \n",
       "\n",
       "    city_or_county  Total Killed/Injured  Killed  ...  \\\n",
       "424    Jersey City                     1       0  ...   \n",
       "415      Milwaukee                     1       0  ...   \n",
       "416       Humboldt                     0       0  ...   \n",
       "417     Chesapeake                     0       0  ...   \n",
       "418      Cleveland                     1       0  ...   \n",
       "\n",
       "     participant_relationship       participant_status  \\\n",
       "424                       NaN  0::Injured||1::Unharmed   \n",
       "415                       NaN               0::Injured   \n",
       "416                       NaN              0::Unharmed   \n",
       "417                       NaN                      NaN   \n",
       "418                       NaN  0::Injured||1::Unharmed   \n",
       "\n",
       "                  participant_type  \\\n",
       "424  0::Victim||1::Subject-Suspect   \n",
       "415                      0::Victim   \n",
       "416             0::Subject-Suspect   \n",
       "417                      0::Victim   \n",
       "418  0::Victim||1::Subject-Suspect   \n",
       "\n",
       "                                               sources state_house_district  \\\n",
       "424  http://www.nj.com/hudson/index.ssf/2014/01/ret...                 31.0   \n",
       "415  http://www.jsonline.com/news/crime/fatal-shoot...                 17.0   \n",
       "416  http://www.wbbjtv.com/news/local/Shots-Fired-i...                 79.0   \n",
       "417  http://wtkr.com/2014/01/02/bullet-goes-through...                 81.0   \n",
       "418  http://fox8.com/2014/01/01/police-landlord-arr...                 13.0   \n",
       "\n",
       "    state_senate_district                                      incident_url  \\\n",
       "424                  31.0  http://www.gunviolencearchive.org/incident/92400   \n",
       "415                   6.0  http://www.gunviolencearchive.org/incident/92307   \n",
       "416                  24.0  http://www.gunviolencearchive.org/incident/92519   \n",
       "417                  14.0  http://www.gunviolencearchive.org/incident/95244   \n",
       "418                  23.0  http://www.gunviolencearchive.org/incident/92251   \n",
       "\n",
       "                                            source_url  \\\n",
       "424  http://www.nj.com/hudson/index.ssf/2014/01/ret...   \n",
       "415  http://www.jsonline.com/news/crime/fatal-shoot...   \n",
       "416  http://www.wbbjtv.com/news/local/Shots-Fired-i...   \n",
       "417  http://wtkr.com/2014/01/02/bullet-goes-through...   \n",
       "418  http://fox8.com/2014/01/01/police-landlord-arr...   \n",
       "\n",
       "     incident_url_fields_missing                        address  \n",
       "424                        False  Monticello and Jewett Avenues  \n",
       "415                        False       4700 block of N. 50th St  \n",
       "416                        False                            NaN  \n",
       "417                        False                   405 Shell Rd  \n",
       "418                        False                 12108 Marne Av  \n",
       "\n",
       "[5 rows x 24 columns]"
      ]
     },
     "execution_count": 194,
     "metadata": {},
     "output_type": "execute_result"
    }
   ],
   "source": [
    "gun_violence_master_df.head()"
   ]
  },
  {
   "cell_type": "code",
   "execution_count": 195,
   "metadata": {},
   "outputs": [
    {
     "data": {
      "text/plain": [
       "167870"
      ]
     },
     "execution_count": 195,
     "metadata": {},
     "output_type": "execute_result"
    }
   ],
   "source": [
    "# re-check numbers\n",
    "total = gun_violence_master_df[\"Total Killed/Injured\"].sum()\n",
    "total"
   ]
  },
  {
   "cell_type": "code",
   "execution_count": 196,
   "metadata": {},
   "outputs": [
    {
     "data": {
      "text/html": [
       "<style  type=\"text/css\" >\n",
       "</style><table id=\"T_3cd07d9c_a9c8_11e9_9709_f816545d60e1\" ><thead>    <tr>        <th class=\"blank level0\" ></th>        <th class=\"col_heading level0 col0\" >Total Killed/Injured</th>        <th class=\"col_heading level0 col1\" >Killed</th>        <th class=\"col_heading level0 col2\" >Injured</th>    </tr>    <tr>        <th class=\"index_name level0\" >year</th>        <th class=\"blank\" ></th>        <th class=\"blank\" ></th>        <th class=\"blank\" ></th>    </tr></thead><tbody>\n",
       "                <tr>\n",
       "                        <th id=\"T_3cd07d9c_a9c8_11e9_9709_f816545d60e1level0_row0\" class=\"row_heading level0 row0\" >2014</th>\n",
       "                        <td id=\"T_3cd07d9c_a9c8_11e9_9709_f816545d60e1row0_col0\" class=\"data row0 col0\" >35,559</td>\n",
       "                        <td id=\"T_3cd07d9c_a9c8_11e9_9709_f816545d60e1row0_col1\" class=\"data row0 col1\" >12,557</td>\n",
       "                        <td id=\"T_3cd07d9c_a9c8_11e9_9709_f816545d60e1row0_col2\" class=\"data row0 col2\" >23,002</td>\n",
       "            </tr>\n",
       "            <tr>\n",
       "                        <th id=\"T_3cd07d9c_a9c8_11e9_9709_f816545d60e1level0_row1\" class=\"row_heading level0 row1\" >2015</th>\n",
       "                        <td id=\"T_3cd07d9c_a9c8_11e9_9709_f816545d60e1row1_col0\" class=\"data row1 col0\" >40,451</td>\n",
       "                        <td id=\"T_3cd07d9c_a9c8_11e9_9709_f816545d60e1row1_col1\" class=\"data row1 col1\" >13,484</td>\n",
       "                        <td id=\"T_3cd07d9c_a9c8_11e9_9709_f816545d60e1row1_col2\" class=\"data row1 col2\" >26,967</td>\n",
       "            </tr>\n",
       "            <tr>\n",
       "                        <th id=\"T_3cd07d9c_a9c8_11e9_9709_f816545d60e1level0_row2\" class=\"row_heading level0 row2\" >2016</th>\n",
       "                        <td id=\"T_3cd07d9c_a9c8_11e9_9709_f816545d60e1row2_col0\" class=\"data row2 col0\" >45,646</td>\n",
       "                        <td id=\"T_3cd07d9c_a9c8_11e9_9709_f816545d60e1row2_col1\" class=\"data row2 col1\" >15,066</td>\n",
       "                        <td id=\"T_3cd07d9c_a9c8_11e9_9709_f816545d60e1row2_col2\" class=\"data row2 col2\" >30,580</td>\n",
       "            </tr>\n",
       "            <tr>\n",
       "                        <th id=\"T_3cd07d9c_a9c8_11e9_9709_f816545d60e1level0_row3\" class=\"row_heading level0 row3\" >2017</th>\n",
       "                        <td id=\"T_3cd07d9c_a9c8_11e9_9709_f816545d60e1row3_col0\" class=\"data row3 col0\" >46,214</td>\n",
       "                        <td id=\"T_3cd07d9c_a9c8_11e9_9709_f816545d60e1row3_col1\" class=\"data row3 col1\" >15,511</td>\n",
       "                        <td id=\"T_3cd07d9c_a9c8_11e9_9709_f816545d60e1row3_col2\" class=\"data row3 col2\" >30,703</td>\n",
       "            </tr>\n",
       "    </tbody></table>"
      ],
      "text/plain": [
       "<pandas.io.formats.style.Styler at 0x11b81333d30>"
      ]
     },
     "execution_count": 196,
     "metadata": {},
     "output_type": "execute_result"
    }
   ],
   "source": [
    "# Groupby to see table\n",
    "gun_violence_master_df.groupby(\"year\")[[\"Total Killed/Injured\",\"Killed\",\"Injured\"]].sum().style.format('{:,}')"
   ]
  },
  {
   "cell_type": "code",
   "execution_count": 197,
   "metadata": {},
   "outputs": [
    {
     "data": {
      "image/png": "[encoded data removed]",
      "text/plain": [
       "<Figure size 576x216 with 1 Axes>"
      ]
     },
     "metadata": {
      "needs_background": "light"
     },
     "output_type": "display_data"
    }
   ],
   "source": [
    "# Chart by years\n",
    "total_chart = gun_violence_master_df.groupby(\"year\")[[\"Killed\",\"Injured\"]].sum().plot(kind=\"barh\", stacked=True, figsize=(8,3), linewidth = 1, color=['firebrick', 'mistyrose'], edgecolor = \"k\")\n",
    "plt.grid(True,alpha=.2)\n",
    "plt.xticks(rotation=0)\n",
    "plt.xlabel(\"People Killed / Injured\")\n",
    "plt.ylabel(\"Year\")\n",
    "plt.legend(prop={\"size\":10})\n",
    "plt.title(\"Total People Killed/Injured from Gun Violence (2014-2017)\",fontsize = 12)\n",
    "plt.tight_layout()\n",
    "plt.savefig(\"1.Total Killed Injured by Year (2014 to 2017).png\")\n",
    "plt.show()"
   ]
  },
  {
   "cell_type": "code",
   "execution_count": 198,
   "metadata": {},
   "outputs": [
    {
     "data": {
      "text/html": [
       "<style  type=\"text/css\" >\n",
       "</style><table id=\"T_3f0a417e_a9c8_11e9_9ddc_f816545d60e1\" ><thead>    <tr>        <th class=\"blank level0\" ></th>        <th class=\"col_heading level0 col0\" >Total Killed/Injured</th>        <th class=\"col_heading level0 col1\" >Killed</th>        <th class=\"col_heading level0 col2\" >Injured</th>    </tr>    <tr>        <th class=\"index_name level0\" >month_year</th>        <th class=\"blank\" ></th>        <th class=\"blank\" ></th>        <th class=\"blank\" ></th>    </tr></thead><tbody>\n",
       "                <tr>\n",
       "                        <th id=\"T_3f0a417e_a9c8_11e9_9ddc_f816545d60e1level0_row0\" class=\"row_heading level0 row0\" >01.JAN-2014</th>\n",
       "                        <td id=\"T_3f0a417e_a9c8_11e9_9ddc_f816545d60e1row0_col0\" class=\"data row0 col0\" >2,945</td>\n",
       "                        <td id=\"T_3f0a417e_a9c8_11e9_9ddc_f816545d60e1row0_col1\" class=\"data row0 col1\" >1,070</td>\n",
       "                        <td id=\"T_3f0a417e_a9c8_11e9_9ddc_f816545d60e1row0_col2\" class=\"data row0 col2\" >1,875</td>\n",
       "            </tr>\n",
       "            <tr>\n",
       "                        <th id=\"T_3f0a417e_a9c8_11e9_9ddc_f816545d60e1level0_row1\" class=\"row_heading level0 row1\" >01.JAN-2015</th>\n",
       "                        <td id=\"T_3f0a417e_a9c8_11e9_9ddc_f816545d60e1row1_col0\" class=\"data row1 col0\" >2,931</td>\n",
       "                        <td id=\"T_3f0a417e_a9c8_11e9_9ddc_f816545d60e1row1_col1\" class=\"data row1 col1\" >1,123</td>\n",
       "                        <td id=\"T_3f0a417e_a9c8_11e9_9ddc_f816545d60e1row1_col2\" class=\"data row1 col2\" >1,808</td>\n",
       "            </tr>\n",
       "            <tr>\n",
       "                        <th id=\"T_3f0a417e_a9c8_11e9_9ddc_f816545d60e1level0_row2\" class=\"row_heading level0 row2\" >01.JAN-2016</th>\n",
       "                        <td id=\"T_3f0a417e_a9c8_11e9_9ddc_f816545d60e1row2_col0\" class=\"data row2 col0\" >3,389</td>\n",
       "                        <td id=\"T_3f0a417e_a9c8_11e9_9ddc_f816545d60e1row2_col1\" class=\"data row2 col1\" >1,139</td>\n",
       "                        <td id=\"T_3f0a417e_a9c8_11e9_9ddc_f816545d60e1row2_col2\" class=\"data row2 col2\" >2,250</td>\n",
       "            </tr>\n",
       "            <tr>\n",
       "                        <th id=\"T_3f0a417e_a9c8_11e9_9ddc_f816545d60e1level0_row3\" class=\"row_heading level0 row3\" >01.JAN-2017</th>\n",
       "                        <td id=\"T_3f0a417e_a9c8_11e9_9ddc_f816545d60e1row3_col0\" class=\"data row3 col0\" >3,960</td>\n",
       "                        <td id=\"T_3f0a417e_a9c8_11e9_9ddc_f816545d60e1row3_col1\" class=\"data row3 col1\" >1,356</td>\n",
       "                        <td id=\"T_3f0a417e_a9c8_11e9_9ddc_f816545d60e1row3_col2\" class=\"data row3 col2\" >2,604</td>\n",
       "            </tr>\n",
       "            <tr>\n",
       "                        <th id=\"T_3f0a417e_a9c8_11e9_9ddc_f816545d60e1level0_row4\" class=\"row_heading level0 row4\" >02.FEB-2014</th>\n",
       "                        <td id=\"T_3f0a417e_a9c8_11e9_9ddc_f816545d60e1row4_col0\" class=\"data row4 col0\" >2,068</td>\n",
       "                        <td id=\"T_3f0a417e_a9c8_11e9_9ddc_f816545d60e1row4_col1\" class=\"data row4 col1\" >845</td>\n",
       "                        <td id=\"T_3f0a417e_a9c8_11e9_9ddc_f816545d60e1row4_col2\" class=\"data row4 col2\" >1,223</td>\n",
       "            </tr>\n",
       "            <tr>\n",
       "                        <th id=\"T_3f0a417e_a9c8_11e9_9ddc_f816545d60e1level0_row5\" class=\"row_heading level0 row5\" >02.FEB-2015</th>\n",
       "                        <td id=\"T_3f0a417e_a9c8_11e9_9ddc_f816545d60e1row5_col0\" class=\"data row5 col0\" >2,248</td>\n",
       "                        <td id=\"T_3f0a417e_a9c8_11e9_9ddc_f816545d60e1row5_col1\" class=\"data row5 col1\" >870</td>\n",
       "                        <td id=\"T_3f0a417e_a9c8_11e9_9ddc_f816545d60e1row5_col2\" class=\"data row5 col2\" >1,378</td>\n",
       "            </tr>\n",
       "            <tr>\n",
       "                        <th id=\"T_3f0a417e_a9c8_11e9_9ddc_f816545d60e1level0_row6\" class=\"row_heading level0 row6\" >02.FEB-2016</th>\n",
       "                        <td id=\"T_3f0a417e_a9c8_11e9_9ddc_f816545d60e1row6_col0\" class=\"data row6 col0\" >2,848</td>\n",
       "                        <td id=\"T_3f0a417e_a9c8_11e9_9ddc_f816545d60e1row6_col1\" class=\"data row6 col1\" >984</td>\n",
       "                        <td id=\"T_3f0a417e_a9c8_11e9_9ddc_f816545d60e1row6_col2\" class=\"data row6 col2\" >1,864</td>\n",
       "            </tr>\n",
       "            <tr>\n",
       "                        <th id=\"T_3f0a417e_a9c8_11e9_9ddc_f816545d60e1level0_row7\" class=\"row_heading level0 row7\" >02.FEB-2017</th>\n",
       "                        <td id=\"T_3f0a417e_a9c8_11e9_9ddc_f816545d60e1row7_col0\" class=\"data row7 col0\" >3,338</td>\n",
       "                        <td id=\"T_3f0a417e_a9c8_11e9_9ddc_f816545d60e1row7_col1\" class=\"data row7 col1\" >1,141</td>\n",
       "                        <td id=\"T_3f0a417e_a9c8_11e9_9ddc_f816545d60e1row7_col2\" class=\"data row7 col2\" >2,197</td>\n",
       "            </tr>\n",
       "            <tr>\n",
       "                        <th id=\"T_3f0a417e_a9c8_11e9_9ddc_f816545d60e1level0_row8\" class=\"row_heading level0 row8\" >03.MAR-2014</th>\n",
       "                        <td id=\"T_3f0a417e_a9c8_11e9_9ddc_f816545d60e1row8_col0\" class=\"data row8 col0\" >2,558</td>\n",
       "                        <td id=\"T_3f0a417e_a9c8_11e9_9ddc_f816545d60e1row8_col1\" class=\"data row8 col1\" >1,007</td>\n",
       "                        <td id=\"T_3f0a417e_a9c8_11e9_9ddc_f816545d60e1row8_col2\" class=\"data row8 col2\" >1,551</td>\n",
       "            </tr>\n",
       "            <tr>\n",
       "                        <th id=\"T_3f0a417e_a9c8_11e9_9ddc_f816545d60e1level0_row9\" class=\"row_heading level0 row9\" >03.MAR-2015</th>\n",
       "                        <td id=\"T_3f0a417e_a9c8_11e9_9ddc_f816545d60e1row9_col0\" class=\"data row9 col0\" >3,183</td>\n",
       "                        <td id=\"T_3f0a417e_a9c8_11e9_9ddc_f816545d60e1row9_col1\" class=\"data row9 col1\" >1,090</td>\n",
       "                        <td id=\"T_3f0a417e_a9c8_11e9_9ddc_f816545d60e1row9_col2\" class=\"data row9 col2\" >2,093</td>\n",
       "            </tr>\n",
       "            <tr>\n",
       "                        <th id=\"T_3f0a417e_a9c8_11e9_9ddc_f816545d60e1level0_row10\" class=\"row_heading level0 row10\" >03.MAR-2016</th>\n",
       "                        <td id=\"T_3f0a417e_a9c8_11e9_9ddc_f816545d60e1row10_col0\" class=\"data row10 col0\" >3,611</td>\n",
       "                        <td id=\"T_3f0a417e_a9c8_11e9_9ddc_f816545d60e1row10_col1\" class=\"data row10 col1\" >1,181</td>\n",
       "                        <td id=\"T_3f0a417e_a9c8_11e9_9ddc_f816545d60e1row10_col2\" class=\"data row10 col2\" >2,430</td>\n",
       "            </tr>\n",
       "            <tr>\n",
       "                        <th id=\"T_3f0a417e_a9c8_11e9_9ddc_f816545d60e1level0_row11\" class=\"row_heading level0 row11\" >03.MAR-2017</th>\n",
       "                        <td id=\"T_3f0a417e_a9c8_11e9_9ddc_f816545d60e1row11_col0\" class=\"data row11 col0\" >3,453</td>\n",
       "                        <td id=\"T_3f0a417e_a9c8_11e9_9ddc_f816545d60e1row11_col1\" class=\"data row11 col1\" >1,220</td>\n",
       "                        <td id=\"T_3f0a417e_a9c8_11e9_9ddc_f816545d60e1row11_col2\" class=\"data row11 col2\" >2,233</td>\n",
       "            </tr>\n",
       "            <tr>\n",
       "                        <th id=\"T_3f0a417e_a9c8_11e9_9ddc_f816545d60e1level0_row12\" class=\"row_heading level0 row12\" >04.APR-2014</th>\n",
       "                        <td id=\"T_3f0a417e_a9c8_11e9_9ddc_f816545d60e1row12_col0\" class=\"data row12 col0\" >2,761</td>\n",
       "                        <td id=\"T_3f0a417e_a9c8_11e9_9ddc_f816545d60e1row12_col1\" class=\"data row12 col1\" >979</td>\n",
       "                        <td id=\"T_3f0a417e_a9c8_11e9_9ddc_f816545d60e1row12_col2\" class=\"data row12 col2\" >1,782</td>\n",
       "            </tr>\n",
       "            <tr>\n",
       "                        <th id=\"T_3f0a417e_a9c8_11e9_9ddc_f816545d60e1level0_row13\" class=\"row_heading level0 row13\" >04.APR-2015</th>\n",
       "                        <td id=\"T_3f0a417e_a9c8_11e9_9ddc_f816545d60e1row13_col0\" class=\"data row13 col0\" >3,144</td>\n",
       "                        <td id=\"T_3f0a417e_a9c8_11e9_9ddc_f816545d60e1row13_col1\" class=\"data row13 col1\" >995</td>\n",
       "                        <td id=\"T_3f0a417e_a9c8_11e9_9ddc_f816545d60e1row13_col2\" class=\"data row13 col2\" >2,149</td>\n",
       "            </tr>\n",
       "            <tr>\n",
       "                        <th id=\"T_3f0a417e_a9c8_11e9_9ddc_f816545d60e1level0_row14\" class=\"row_heading level0 row14\" >04.APR-2016</th>\n",
       "                        <td id=\"T_3f0a417e_a9c8_11e9_9ddc_f816545d60e1row14_col0\" class=\"data row14 col0\" >3,428</td>\n",
       "                        <td id=\"T_3f0a417e_a9c8_11e9_9ddc_f816545d60e1row14_col1\" class=\"data row14 col1\" >1,152</td>\n",
       "                        <td id=\"T_3f0a417e_a9c8_11e9_9ddc_f816545d60e1row14_col2\" class=\"data row14 col2\" >2,276</td>\n",
       "            </tr>\n",
       "            <tr>\n",
       "                        <th id=\"T_3f0a417e_a9c8_11e9_9ddc_f816545d60e1level0_row15\" class=\"row_heading level0 row15\" >04.APR-2017</th>\n",
       "                        <td id=\"T_3f0a417e_a9c8_11e9_9ddc_f816545d60e1row15_col0\" class=\"data row15 col0\" >3,879</td>\n",
       "                        <td id=\"T_3f0a417e_a9c8_11e9_9ddc_f816545d60e1row15_col1\" class=\"data row15 col1\" >1,231</td>\n",
       "                        <td id=\"T_3f0a417e_a9c8_11e9_9ddc_f816545d60e1row15_col2\" class=\"data row15 col2\" >2,648</td>\n",
       "            </tr>\n",
       "            <tr>\n",
       "                        <th id=\"T_3f0a417e_a9c8_11e9_9ddc_f816545d60e1level0_row16\" class=\"row_heading level0 row16\" >05.MAY-2014</th>\n",
       "                        <td id=\"T_3f0a417e_a9c8_11e9_9ddc_f816545d60e1row16_col0\" class=\"data row16 col0\" >3,199</td>\n",
       "                        <td id=\"T_3f0a417e_a9c8_11e9_9ddc_f816545d60e1row16_col1\" class=\"data row16 col1\" >1,099</td>\n",
       "                        <td id=\"T_3f0a417e_a9c8_11e9_9ddc_f816545d60e1row16_col2\" class=\"data row16 col2\" >2,100</td>\n",
       "            </tr>\n",
       "            <tr>\n",
       "                        <th id=\"T_3f0a417e_a9c8_11e9_9ddc_f816545d60e1level0_row17\" class=\"row_heading level0 row17\" >05.MAY-2015</th>\n",
       "                        <td id=\"T_3f0a417e_a9c8_11e9_9ddc_f816545d60e1row17_col0\" class=\"data row17 col0\" >3,841</td>\n",
       "                        <td id=\"T_3f0a417e_a9c8_11e9_9ddc_f816545d60e1row17_col1\" class=\"data row17 col1\" >1,164</td>\n",
       "                        <td id=\"T_3f0a417e_a9c8_11e9_9ddc_f816545d60e1row17_col2\" class=\"data row17 col2\" >2,677</td>\n",
       "            </tr>\n",
       "            <tr>\n",
       "                        <th id=\"T_3f0a417e_a9c8_11e9_9ddc_f816545d60e1level0_row18\" class=\"row_heading level0 row18\" >05.MAY-2016</th>\n",
       "                        <td id=\"T_3f0a417e_a9c8_11e9_9ddc_f816545d60e1row18_col0\" class=\"data row18 col0\" >3,792</td>\n",
       "                        <td id=\"T_3f0a417e_a9c8_11e9_9ddc_f816545d60e1row18_col1\" class=\"data row18 col1\" >1,158</td>\n",
       "                        <td id=\"T_3f0a417e_a9c8_11e9_9ddc_f816545d60e1row18_col2\" class=\"data row18 col2\" >2,634</td>\n",
       "            </tr>\n",
       "            <tr>\n",
       "                        <th id=\"T_3f0a417e_a9c8_11e9_9ddc_f816545d60e1level0_row19\" class=\"row_heading level0 row19\" >05.MAY-2017</th>\n",
       "                        <td id=\"T_3f0a417e_a9c8_11e9_9ddc_f816545d60e1row19_col0\" class=\"data row19 col0\" >4,121</td>\n",
       "                        <td id=\"T_3f0a417e_a9c8_11e9_9ddc_f816545d60e1row19_col1\" class=\"data row19 col1\" >1,389</td>\n",
       "                        <td id=\"T_3f0a417e_a9c8_11e9_9ddc_f816545d60e1row19_col2\" class=\"data row19 col2\" >2,732</td>\n",
       "            </tr>\n",
       "            <tr>\n",
       "                        <th id=\"T_3f0a417e_a9c8_11e9_9ddc_f816545d60e1level0_row20\" class=\"row_heading level0 row20\" >06.JUN-2014</th>\n",
       "                        <td id=\"T_3f0a417e_a9c8_11e9_9ddc_f816545d60e1row20_col0\" class=\"data row20 col0\" >3,196</td>\n",
       "                        <td id=\"T_3f0a417e_a9c8_11e9_9ddc_f816545d60e1row20_col1\" class=\"data row20 col1\" >1,127</td>\n",
       "                        <td id=\"T_3f0a417e_a9c8_11e9_9ddc_f816545d60e1row20_col2\" class=\"data row20 col2\" >2,069</td>\n",
       "            </tr>\n",
       "            <tr>\n",
       "                        <th id=\"T_3f0a417e_a9c8_11e9_9ddc_f816545d60e1level0_row21\" class=\"row_heading level0 row21\" >06.JUN-2015</th>\n",
       "                        <td id=\"T_3f0a417e_a9c8_11e9_9ddc_f816545d60e1row21_col0\" class=\"data row21 col0\" >3,506</td>\n",
       "                        <td id=\"T_3f0a417e_a9c8_11e9_9ddc_f816545d60e1row21_col1\" class=\"data row21 col1\" >1,092</td>\n",
       "                        <td id=\"T_3f0a417e_a9c8_11e9_9ddc_f816545d60e1row21_col2\" class=\"data row21 col2\" >2,414</td>\n",
       "            </tr>\n",
       "            <tr>\n",
       "                        <th id=\"T_3f0a417e_a9c8_11e9_9ddc_f816545d60e1level0_row22\" class=\"row_heading level0 row22\" >06.JUN-2016</th>\n",
       "                        <td id=\"T_3f0a417e_a9c8_11e9_9ddc_f816545d60e1row22_col0\" class=\"data row22 col0\" >3,780</td>\n",
       "                        <td id=\"T_3f0a417e_a9c8_11e9_9ddc_f816545d60e1row22_col1\" class=\"data row22 col1\" >1,276</td>\n",
       "                        <td id=\"T_3f0a417e_a9c8_11e9_9ddc_f816545d60e1row22_col2\" class=\"data row22 col2\" >2,504</td>\n",
       "            </tr>\n",
       "            <tr>\n",
       "                        <th id=\"T_3f0a417e_a9c8_11e9_9ddc_f816545d60e1level0_row23\" class=\"row_heading level0 row23\" >06.JUN-2017</th>\n",
       "                        <td id=\"T_3f0a417e_a9c8_11e9_9ddc_f816545d60e1row23_col0\" class=\"data row23 col0\" >4,045</td>\n",
       "                        <td id=\"T_3f0a417e_a9c8_11e9_9ddc_f816545d60e1row23_col1\" class=\"data row23 col1\" >1,366</td>\n",
       "                        <td id=\"T_3f0a417e_a9c8_11e9_9ddc_f816545d60e1row23_col2\" class=\"data row23 col2\" >2,679</td>\n",
       "            </tr>\n",
       "            <tr>\n",
       "                        <th id=\"T_3f0a417e_a9c8_11e9_9ddc_f816545d60e1level0_row24\" class=\"row_heading level0 row24\" >07.JUL-2014</th>\n",
       "                        <td id=\"T_3f0a417e_a9c8_11e9_9ddc_f816545d60e1row24_col0\" class=\"data row24 col0\" >3,585</td>\n",
       "                        <td id=\"T_3f0a417e_a9c8_11e9_9ddc_f816545d60e1row24_col1\" class=\"data row24 col1\" >1,162</td>\n",
       "                        <td id=\"T_3f0a417e_a9c8_11e9_9ddc_f816545d60e1row24_col2\" class=\"data row24 col2\" >2,423</td>\n",
       "            </tr>\n",
       "            <tr>\n",
       "                        <th id=\"T_3f0a417e_a9c8_11e9_9ddc_f816545d60e1level0_row25\" class=\"row_heading level0 row25\" >07.JUL-2015</th>\n",
       "                        <td id=\"T_3f0a417e_a9c8_11e9_9ddc_f816545d60e1row25_col0\" class=\"data row25 col0\" >3,962</td>\n",
       "                        <td id=\"T_3f0a417e_a9c8_11e9_9ddc_f816545d60e1row25_col1\" class=\"data row25 col1\" >1,293</td>\n",
       "                        <td id=\"T_3f0a417e_a9c8_11e9_9ddc_f816545d60e1row25_col2\" class=\"data row25 col2\" >2,669</td>\n",
       "            </tr>\n",
       "            <tr>\n",
       "                        <th id=\"T_3f0a417e_a9c8_11e9_9ddc_f816545d60e1level0_row26\" class=\"row_heading level0 row26\" >07.JUL-2016</th>\n",
       "                        <td id=\"T_3f0a417e_a9c8_11e9_9ddc_f816545d60e1row26_col0\" class=\"data row26 col0\" >4,437</td>\n",
       "                        <td id=\"T_3f0a417e_a9c8_11e9_9ddc_f816545d60e1row26_col1\" class=\"data row26 col1\" >1,399</td>\n",
       "                        <td id=\"T_3f0a417e_a9c8_11e9_9ddc_f816545d60e1row26_col2\" class=\"data row26 col2\" >3,038</td>\n",
       "            </tr>\n",
       "            <tr>\n",
       "                        <th id=\"T_3f0a417e_a9c8_11e9_9ddc_f816545d60e1level0_row27\" class=\"row_heading level0 row27\" >07.JUL-2017</th>\n",
       "                        <td id=\"T_3f0a417e_a9c8_11e9_9ddc_f816545d60e1row27_col0\" class=\"data row27 col0\" >4,409</td>\n",
       "                        <td id=\"T_3f0a417e_a9c8_11e9_9ddc_f816545d60e1row27_col1\" class=\"data row27 col1\" >1,391</td>\n",
       "                        <td id=\"T_3f0a417e_a9c8_11e9_9ddc_f816545d60e1row27_col2\" class=\"data row27 col2\" >3,018</td>\n",
       "            </tr>\n",
       "            <tr>\n",
       "                        <th id=\"T_3f0a417e_a9c8_11e9_9ddc_f816545d60e1level0_row28\" class=\"row_heading level0 row28\" >08.AUG-2014</th>\n",
       "                        <td id=\"T_3f0a417e_a9c8_11e9_9ddc_f816545d60e1row28_col0\" class=\"data row28 col0\" >3,438</td>\n",
       "                        <td id=\"T_3f0a417e_a9c8_11e9_9ddc_f816545d60e1row28_col1\" class=\"data row28 col1\" >1,140</td>\n",
       "                        <td id=\"T_3f0a417e_a9c8_11e9_9ddc_f816545d60e1row28_col2\" class=\"data row28 col2\" >2,298</td>\n",
       "            </tr>\n",
       "            <tr>\n",
       "                        <th id=\"T_3f0a417e_a9c8_11e9_9ddc_f816545d60e1level0_row29\" class=\"row_heading level0 row29\" >08.AUG-2015</th>\n",
       "                        <td id=\"T_3f0a417e_a9c8_11e9_9ddc_f816545d60e1row29_col0\" class=\"data row29 col0\" >3,863</td>\n",
       "                        <td id=\"T_3f0a417e_a9c8_11e9_9ddc_f816545d60e1row29_col1\" class=\"data row29 col1\" >1,199</td>\n",
       "                        <td id=\"T_3f0a417e_a9c8_11e9_9ddc_f816545d60e1row29_col2\" class=\"data row29 col2\" >2,664</td>\n",
       "            </tr>\n",
       "            <tr>\n",
       "                        <th id=\"T_3f0a417e_a9c8_11e9_9ddc_f816545d60e1level0_row30\" class=\"row_heading level0 row30\" >08.AUG-2016</th>\n",
       "                        <td id=\"T_3f0a417e_a9c8_11e9_9ddc_f816545d60e1row30_col0\" class=\"data row30 col0\" >4,461</td>\n",
       "                        <td id=\"T_3f0a417e_a9c8_11e9_9ddc_f816545d60e1row30_col1\" class=\"data row30 col1\" >1,429</td>\n",
       "                        <td id=\"T_3f0a417e_a9c8_11e9_9ddc_f816545d60e1row30_col2\" class=\"data row30 col2\" >3,032</td>\n",
       "            </tr>\n",
       "            <tr>\n",
       "                        <th id=\"T_3f0a417e_a9c8_11e9_9ddc_f816545d60e1level0_row31\" class=\"row_heading level0 row31\" >08.AUG-2017</th>\n",
       "                        <td id=\"T_3f0a417e_a9c8_11e9_9ddc_f816545d60e1row31_col0\" class=\"data row31 col0\" >4,055</td>\n",
       "                        <td id=\"T_3f0a417e_a9c8_11e9_9ddc_f816545d60e1row31_col1\" class=\"data row31 col1\" >1,324</td>\n",
       "                        <td id=\"T_3f0a417e_a9c8_11e9_9ddc_f816545d60e1row31_col2\" class=\"data row31 col2\" >2,731</td>\n",
       "            </tr>\n",
       "            <tr>\n",
       "                        <th id=\"T_3f0a417e_a9c8_11e9_9ddc_f816545d60e1level0_row32\" class=\"row_heading level0 row32\" >09.SEP-2014</th>\n",
       "                        <td id=\"T_3f0a417e_a9c8_11e9_9ddc_f816545d60e1row32_col0\" class=\"data row32 col0\" >3,072</td>\n",
       "                        <td id=\"T_3f0a417e_a9c8_11e9_9ddc_f816545d60e1row32_col1\" class=\"data row32 col1\" >1,013</td>\n",
       "                        <td id=\"T_3f0a417e_a9c8_11e9_9ddc_f816545d60e1row32_col2\" class=\"data row32 col2\" >2,059</td>\n",
       "            </tr>\n",
       "            <tr>\n",
       "                        <th id=\"T_3f0a417e_a9c8_11e9_9ddc_f816545d60e1level0_row33\" class=\"row_heading level0 row33\" >09.SEP-2015</th>\n",
       "                        <td id=\"T_3f0a417e_a9c8_11e9_9ddc_f816545d60e1row33_col0\" class=\"data row33 col0\" >3,673</td>\n",
       "                        <td id=\"T_3f0a417e_a9c8_11e9_9ddc_f816545d60e1row33_col1\" class=\"data row33 col1\" >1,247</td>\n",
       "                        <td id=\"T_3f0a417e_a9c8_11e9_9ddc_f816545d60e1row33_col2\" class=\"data row33 col2\" >2,426</td>\n",
       "            </tr>\n",
       "            <tr>\n",
       "                        <th id=\"T_3f0a417e_a9c8_11e9_9ddc_f816545d60e1level0_row34\" class=\"row_heading level0 row34\" >09.SEP-2016</th>\n",
       "                        <td id=\"T_3f0a417e_a9c8_11e9_9ddc_f816545d60e1row34_col0\" class=\"data row34 col0\" >3,884</td>\n",
       "                        <td id=\"T_3f0a417e_a9c8_11e9_9ddc_f816545d60e1row34_col1\" class=\"data row34 col1\" >1,286</td>\n",
       "                        <td id=\"T_3f0a417e_a9c8_11e9_9ddc_f816545d60e1row34_col2\" class=\"data row34 col2\" >2,598</td>\n",
       "            </tr>\n",
       "            <tr>\n",
       "                        <th id=\"T_3f0a417e_a9c8_11e9_9ddc_f816545d60e1level0_row35\" class=\"row_heading level0 row35\" >09.SEP-2017</th>\n",
       "                        <td id=\"T_3f0a417e_a9c8_11e9_9ddc_f816545d60e1row35_col0\" class=\"data row35 col0\" >3,769</td>\n",
       "                        <td id=\"T_3f0a417e_a9c8_11e9_9ddc_f816545d60e1row35_col1\" class=\"data row35 col1\" >1,196</td>\n",
       "                        <td id=\"T_3f0a417e_a9c8_11e9_9ddc_f816545d60e1row35_col2\" class=\"data row35 col2\" >2,573</td>\n",
       "            </tr>\n",
       "            <tr>\n",
       "                        <th id=\"T_3f0a417e_a9c8_11e9_9ddc_f816545d60e1level0_row36\" class=\"row_heading level0 row36\" >10.OCT-2014</th>\n",
       "                        <td id=\"T_3f0a417e_a9c8_11e9_9ddc_f816545d60e1row36_col0\" class=\"data row36 col0\" >2,896</td>\n",
       "                        <td id=\"T_3f0a417e_a9c8_11e9_9ddc_f816545d60e1row36_col1\" class=\"data row36 col1\" >1,012</td>\n",
       "                        <td id=\"T_3f0a417e_a9c8_11e9_9ddc_f816545d60e1row36_col2\" class=\"data row36 col2\" >1,884</td>\n",
       "            </tr>\n",
       "            <tr>\n",
       "                        <th id=\"T_3f0a417e_a9c8_11e9_9ddc_f816545d60e1level0_row37\" class=\"row_heading level0 row37\" >10.OCT-2015</th>\n",
       "                        <td id=\"T_3f0a417e_a9c8_11e9_9ddc_f816545d60e1row37_col0\" class=\"data row37 col0\" >3,349</td>\n",
       "                        <td id=\"T_3f0a417e_a9c8_11e9_9ddc_f816545d60e1row37_col1\" class=\"data row37 col1\" >1,092</td>\n",
       "                        <td id=\"T_3f0a417e_a9c8_11e9_9ddc_f816545d60e1row37_col2\" class=\"data row37 col2\" >2,257</td>\n",
       "            </tr>\n",
       "            <tr>\n",
       "                        <th id=\"T_3f0a417e_a9c8_11e9_9ddc_f816545d60e1level0_row38\" class=\"row_heading level0 row38\" >10.OCT-2016</th>\n",
       "                        <td id=\"T_3f0a417e_a9c8_11e9_9ddc_f816545d60e1row38_col0\" class=\"data row38 col0\" >4,148</td>\n",
       "                        <td id=\"T_3f0a417e_a9c8_11e9_9ddc_f816545d60e1row38_col1\" class=\"data row38 col1\" >1,356</td>\n",
       "                        <td id=\"T_3f0a417e_a9c8_11e9_9ddc_f816545d60e1row38_col2\" class=\"data row38 col2\" >2,792</td>\n",
       "            </tr>\n",
       "            <tr>\n",
       "                        <th id=\"T_3f0a417e_a9c8_11e9_9ddc_f816545d60e1level0_row39\" class=\"row_heading level0 row39\" >10.OCT-2017</th>\n",
       "                        <td id=\"T_3f0a417e_a9c8_11e9_9ddc_f816545d60e1row39_col0\" class=\"data row39 col0\" >4,047</td>\n",
       "                        <td id=\"T_3f0a417e_a9c8_11e9_9ddc_f816545d60e1row39_col1\" class=\"data row39 col1\" >1,305</td>\n",
       "                        <td id=\"T_3f0a417e_a9c8_11e9_9ddc_f816545d60e1row39_col2\" class=\"data row39 col2\" >2,742</td>\n",
       "            </tr>\n",
       "            <tr>\n",
       "                        <th id=\"T_3f0a417e_a9c8_11e9_9ddc_f816545d60e1level0_row40\" class=\"row_heading level0 row40\" >11.NOV-2014</th>\n",
       "                        <td id=\"T_3f0a417e_a9c8_11e9_9ddc_f816545d60e1row40_col0\" class=\"data row40 col0\" >2,849</td>\n",
       "                        <td id=\"T_3f0a417e_a9c8_11e9_9ddc_f816545d60e1row40_col1\" class=\"data row40 col1\" >1,017</td>\n",
       "                        <td id=\"T_3f0a417e_a9c8_11e9_9ddc_f816545d60e1row40_col2\" class=\"data row40 col2\" >1,832</td>\n",
       "            </tr>\n",
       "            <tr>\n",
       "                        <th id=\"T_3f0a417e_a9c8_11e9_9ddc_f816545d60e1level0_row41\" class=\"row_heading level0 row41\" >11.NOV-2015</th>\n",
       "                        <td id=\"T_3f0a417e_a9c8_11e9_9ddc_f816545d60e1row41_col0\" class=\"data row41 col0\" >3,281</td>\n",
       "                        <td id=\"T_3f0a417e_a9c8_11e9_9ddc_f816545d60e1row41_col1\" class=\"data row41 col1\" >1,133</td>\n",
       "                        <td id=\"T_3f0a417e_a9c8_11e9_9ddc_f816545d60e1row41_col2\" class=\"data row41 col2\" >2,148</td>\n",
       "            </tr>\n",
       "            <tr>\n",
       "                        <th id=\"T_3f0a417e_a9c8_11e9_9ddc_f816545d60e1level0_row42\" class=\"row_heading level0 row42\" >11.NOV-2016</th>\n",
       "                        <td id=\"T_3f0a417e_a9c8_11e9_9ddc_f816545d60e1row42_col0\" class=\"data row42 col0\" >4,010</td>\n",
       "                        <td id=\"T_3f0a417e_a9c8_11e9_9ddc_f816545d60e1row42_col1\" class=\"data row42 col1\" >1,368</td>\n",
       "                        <td id=\"T_3f0a417e_a9c8_11e9_9ddc_f816545d60e1row42_col2\" class=\"data row42 col2\" >2,642</td>\n",
       "            </tr>\n",
       "            <tr>\n",
       "                        <th id=\"T_3f0a417e_a9c8_11e9_9ddc_f816545d60e1level0_row43\" class=\"row_heading level0 row43\" >11.NOV-2017</th>\n",
       "                        <td id=\"T_3f0a417e_a9c8_11e9_9ddc_f816545d60e1row43_col0\" class=\"data row43 col0\" >3,681</td>\n",
       "                        <td id=\"T_3f0a417e_a9c8_11e9_9ddc_f816545d60e1row43_col1\" class=\"data row43 col1\" >1,304</td>\n",
       "                        <td id=\"T_3f0a417e_a9c8_11e9_9ddc_f816545d60e1row43_col2\" class=\"data row43 col2\" >2,377</td>\n",
       "            </tr>\n",
       "            <tr>\n",
       "                        <th id=\"T_3f0a417e_a9c8_11e9_9ddc_f816545d60e1level0_row44\" class=\"row_heading level0 row44\" >12.DEC-2014</th>\n",
       "                        <td id=\"T_3f0a417e_a9c8_11e9_9ddc_f816545d60e1row44_col0\" class=\"data row44 col0\" >2,992</td>\n",
       "                        <td id=\"T_3f0a417e_a9c8_11e9_9ddc_f816545d60e1row44_col1\" class=\"data row44 col1\" >1,086</td>\n",
       "                        <td id=\"T_3f0a417e_a9c8_11e9_9ddc_f816545d60e1row44_col2\" class=\"data row44 col2\" >1,906</td>\n",
       "            </tr>\n",
       "            <tr>\n",
       "                        <th id=\"T_3f0a417e_a9c8_11e9_9ddc_f816545d60e1level0_row45\" class=\"row_heading level0 row45\" >12.DEC-2015</th>\n",
       "                        <td id=\"T_3f0a417e_a9c8_11e9_9ddc_f816545d60e1row45_col0\" class=\"data row45 col0\" >3,470</td>\n",
       "                        <td id=\"T_3f0a417e_a9c8_11e9_9ddc_f816545d60e1row45_col1\" class=\"data row45 col1\" >1,186</td>\n",
       "                        <td id=\"T_3f0a417e_a9c8_11e9_9ddc_f816545d60e1row45_col2\" class=\"data row45 col2\" >2,284</td>\n",
       "            </tr>\n",
       "            <tr>\n",
       "                        <th id=\"T_3f0a417e_a9c8_11e9_9ddc_f816545d60e1level0_row46\" class=\"row_heading level0 row46\" >12.DEC-2016</th>\n",
       "                        <td id=\"T_3f0a417e_a9c8_11e9_9ddc_f816545d60e1row46_col0\" class=\"data row46 col0\" >3,858</td>\n",
       "                        <td id=\"T_3f0a417e_a9c8_11e9_9ddc_f816545d60e1row46_col1\" class=\"data row46 col1\" >1,338</td>\n",
       "                        <td id=\"T_3f0a417e_a9c8_11e9_9ddc_f816545d60e1row46_col2\" class=\"data row46 col2\" >2,520</td>\n",
       "            </tr>\n",
       "            <tr>\n",
       "                        <th id=\"T_3f0a417e_a9c8_11e9_9ddc_f816545d60e1level0_row47\" class=\"row_heading level0 row47\" >12.DEC-2017</th>\n",
       "                        <td id=\"T_3f0a417e_a9c8_11e9_9ddc_f816545d60e1row47_col0\" class=\"data row47 col0\" >3,457</td>\n",
       "                        <td id=\"T_3f0a417e_a9c8_11e9_9ddc_f816545d60e1row47_col1\" class=\"data row47 col1\" >1,288</td>\n",
       "                        <td id=\"T_3f0a417e_a9c8_11e9_9ddc_f816545d60e1row47_col2\" class=\"data row47 col2\" >2,169</td>\n",
       "            </tr>\n",
       "    </tbody></table>"
      ],
      "text/plain": [
       "<pandas.io.formats.style.Styler at 0x11c0393c978>"
      ]
     },
     "execution_count": 198,
     "metadata": {},
     "output_type": "execute_result"
    }
   ],
   "source": [
    "# Groupby month-year to see table\n",
    "gun_violence_master_df.groupby(\"month_year\")[[\"Total Killed/Injured\",\"Killed\",\"Injured\"]].sum().style.format('{:,}')"
   ]
  },
  {
   "cell_type": "code",
   "execution_count": 199,
   "metadata": {},
   "outputs": [
    {
     "data": {
      "image/png": "[encoded data removed]",
      "text/plain": [
       "<Figure size 756x684 with 1 Axes>"
      ]
     },
     "metadata": {
      "needs_background": "light"
     },
     "output_type": "display_data"
    }
   ],
   "source": [
    "# chart out over monthyear\n",
    "monthyear_viz = gun_violence_master_df.groupby(\"month_year\")[[\"Killed\",\"Injured\"]].sum().reset_index()\n",
    "mth_yr_order = gun_violence_master_df[\"month_year\"].unique().tolist()\n",
    "plt.figure(figsize=(10.5,9.5))\n",
    "sns.pointplot(monthyear_viz[\"month_year\"],monthyear_viz[\"Injured\"],order=mth_yr_order,color=\"darksalmon\",markers=\"o\")\n",
    "sns.pointplot(monthyear_viz[\"month_year\"],monthyear_viz[\"Killed\"],order=mth_yr_order,color=\"firebrick\",markers=\"o\")\n",
    "plt.axhline(monthyear_viz[\"Killed\"].mean(),label=\"Killed / Mean (1,180)\",color=\"firebrick\")\n",
    "plt.axhline(monthyear_viz[\"Injured\"].mean(),label=\"Injured / Mean (2,318)\",color=\"darksalmon\")\n",
    "plt.xticks(rotation=90)\n",
    "plt.xlabel(\"Month-Year\")\n",
    "plt.ylabel(\"People Killed / Injured\")\n",
    "plt.legend(loc=\"best\",prop={\"size\":10})\n",
    "plt.title(\"People Killed & Injured by Month (January'14 to December'18)\",fontsize =15)\n",
    "plt.tight_layout()\n",
    "plt.savefig(\"2.People Killed and Injured by Month_Year (Jan14 to Dec18).png\")\n",
    "plt.show()"
   ]
  },
  {
   "cell_type": "code",
   "execution_count": 200,
   "metadata": {},
   "outputs": [
    {
     "data": {
      "text/html": [
       "<style  type=\"text/css\" >\n",
       "</style><table id=\"T_432d11ca_a9c8_11e9_a3d7_f816545d60e1\" ><thead>    <tr>        <th class=\"blank level0\" ></th>        <th class=\"col_heading level0 col0\" >Total Killed/Injured</th>        <th class=\"col_heading level0 col1\" >Killed</th>        <th class=\"col_heading level0 col2\" >Injured</th>    </tr>    <tr>        <th class=\"index_name level0\" >month</th>        <th class=\"blank\" ></th>        <th class=\"blank\" ></th>        <th class=\"blank\" ></th>    </tr></thead><tbody>\n",
       "                <tr>\n",
       "                        <th id=\"T_432d11ca_a9c8_11e9_a3d7_f816545d60e1level0_row0\" class=\"row_heading level0 row0\" >01.JAN</th>\n",
       "                        <td id=\"T_432d11ca_a9c8_11e9_a3d7_f816545d60e1row0_col0\" class=\"data row0 col0\" >13,225</td>\n",
       "                        <td id=\"T_432d11ca_a9c8_11e9_a3d7_f816545d60e1row0_col1\" class=\"data row0 col1\" >4,688</td>\n",
       "                        <td id=\"T_432d11ca_a9c8_11e9_a3d7_f816545d60e1row0_col2\" class=\"data row0 col2\" >8,537</td>\n",
       "            </tr>\n",
       "            <tr>\n",
       "                        <th id=\"T_432d11ca_a9c8_11e9_a3d7_f816545d60e1level0_row1\" class=\"row_heading level0 row1\" >02.FEB</th>\n",
       "                        <td id=\"T_432d11ca_a9c8_11e9_a3d7_f816545d60e1row1_col0\" class=\"data row1 col0\" >10,502</td>\n",
       "                        <td id=\"T_432d11ca_a9c8_11e9_a3d7_f816545d60e1row1_col1\" class=\"data row1 col1\" >3,840</td>\n",
       "                        <td id=\"T_432d11ca_a9c8_11e9_a3d7_f816545d60e1row1_col2\" class=\"data row1 col2\" >6,662</td>\n",
       "            </tr>\n",
       "            <tr>\n",
       "                        <th id=\"T_432d11ca_a9c8_11e9_a3d7_f816545d60e1level0_row2\" class=\"row_heading level0 row2\" >03.MAR</th>\n",
       "                        <td id=\"T_432d11ca_a9c8_11e9_a3d7_f816545d60e1row2_col0\" class=\"data row2 col0\" >12,805</td>\n",
       "                        <td id=\"T_432d11ca_a9c8_11e9_a3d7_f816545d60e1row2_col1\" class=\"data row2 col1\" >4,498</td>\n",
       "                        <td id=\"T_432d11ca_a9c8_11e9_a3d7_f816545d60e1row2_col2\" class=\"data row2 col2\" >8,307</td>\n",
       "            </tr>\n",
       "            <tr>\n",
       "                        <th id=\"T_432d11ca_a9c8_11e9_a3d7_f816545d60e1level0_row3\" class=\"row_heading level0 row3\" >04.APR</th>\n",
       "                        <td id=\"T_432d11ca_a9c8_11e9_a3d7_f816545d60e1row3_col0\" class=\"data row3 col0\" >13,212</td>\n",
       "                        <td id=\"T_432d11ca_a9c8_11e9_a3d7_f816545d60e1row3_col1\" class=\"data row3 col1\" >4,357</td>\n",
       "                        <td id=\"T_432d11ca_a9c8_11e9_a3d7_f816545d60e1row3_col2\" class=\"data row3 col2\" >8,855</td>\n",
       "            </tr>\n",
       "            <tr>\n",
       "                        <th id=\"T_432d11ca_a9c8_11e9_a3d7_f816545d60e1level0_row4\" class=\"row_heading level0 row4\" >05.MAY</th>\n",
       "                        <td id=\"T_432d11ca_a9c8_11e9_a3d7_f816545d60e1row4_col0\" class=\"data row4 col0\" >14,953</td>\n",
       "                        <td id=\"T_432d11ca_a9c8_11e9_a3d7_f816545d60e1row4_col1\" class=\"data row4 col1\" >4,810</td>\n",
       "                        <td id=\"T_432d11ca_a9c8_11e9_a3d7_f816545d60e1row4_col2\" class=\"data row4 col2\" >10,143</td>\n",
       "            </tr>\n",
       "            <tr>\n",
       "                        <th id=\"T_432d11ca_a9c8_11e9_a3d7_f816545d60e1level0_row5\" class=\"row_heading level0 row5\" >06.JUN</th>\n",
       "                        <td id=\"T_432d11ca_a9c8_11e9_a3d7_f816545d60e1row5_col0\" class=\"data row5 col0\" >14,527</td>\n",
       "                        <td id=\"T_432d11ca_a9c8_11e9_a3d7_f816545d60e1row5_col1\" class=\"data row5 col1\" >4,861</td>\n",
       "                        <td id=\"T_432d11ca_a9c8_11e9_a3d7_f816545d60e1row5_col2\" class=\"data row5 col2\" >9,666</td>\n",
       "            </tr>\n",
       "            <tr>\n",
       "                        <th id=\"T_432d11ca_a9c8_11e9_a3d7_f816545d60e1level0_row6\" class=\"row_heading level0 row6\" >07.JUL</th>\n",
       "                        <td id=\"T_432d11ca_a9c8_11e9_a3d7_f816545d60e1row6_col0\" class=\"data row6 col0\" >16,393</td>\n",
       "                        <td id=\"T_432d11ca_a9c8_11e9_a3d7_f816545d60e1row6_col1\" class=\"data row6 col1\" >5,245</td>\n",
       "                        <td id=\"T_432d11ca_a9c8_11e9_a3d7_f816545d60e1row6_col2\" class=\"data row6 col2\" >11,148</td>\n",
       "            </tr>\n",
       "            <tr>\n",
       "                        <th id=\"T_432d11ca_a9c8_11e9_a3d7_f816545d60e1level0_row7\" class=\"row_heading level0 row7\" >08.AUG</th>\n",
       "                        <td id=\"T_432d11ca_a9c8_11e9_a3d7_f816545d60e1row7_col0\" class=\"data row7 col0\" >15,817</td>\n",
       "                        <td id=\"T_432d11ca_a9c8_11e9_a3d7_f816545d60e1row7_col1\" class=\"data row7 col1\" >5,092</td>\n",
       "                        <td id=\"T_432d11ca_a9c8_11e9_a3d7_f816545d60e1row7_col2\" class=\"data row7 col2\" >10,725</td>\n",
       "            </tr>\n",
       "            <tr>\n",
       "                        <th id=\"T_432d11ca_a9c8_11e9_a3d7_f816545d60e1level0_row8\" class=\"row_heading level0 row8\" >09.SEP</th>\n",
       "                        <td id=\"T_432d11ca_a9c8_11e9_a3d7_f816545d60e1row8_col0\" class=\"data row8 col0\" >14,398</td>\n",
       "                        <td id=\"T_432d11ca_a9c8_11e9_a3d7_f816545d60e1row8_col1\" class=\"data row8 col1\" >4,742</td>\n",
       "                        <td id=\"T_432d11ca_a9c8_11e9_a3d7_f816545d60e1row8_col2\" class=\"data row8 col2\" >9,656</td>\n",
       "            </tr>\n",
       "            <tr>\n",
       "                        <th id=\"T_432d11ca_a9c8_11e9_a3d7_f816545d60e1level0_row9\" class=\"row_heading level0 row9\" >10.OCT</th>\n",
       "                        <td id=\"T_432d11ca_a9c8_11e9_a3d7_f816545d60e1row9_col0\" class=\"data row9 col0\" >14,440</td>\n",
       "                        <td id=\"T_432d11ca_a9c8_11e9_a3d7_f816545d60e1row9_col1\" class=\"data row9 col1\" >4,765</td>\n",
       "                        <td id=\"T_432d11ca_a9c8_11e9_a3d7_f816545d60e1row9_col2\" class=\"data row9 col2\" >9,675</td>\n",
       "            </tr>\n",
       "            <tr>\n",
       "                        <th id=\"T_432d11ca_a9c8_11e9_a3d7_f816545d60e1level0_row10\" class=\"row_heading level0 row10\" >11.NOV</th>\n",
       "                        <td id=\"T_432d11ca_a9c8_11e9_a3d7_f816545d60e1row10_col0\" class=\"data row10 col0\" >13,821</td>\n",
       "                        <td id=\"T_432d11ca_a9c8_11e9_a3d7_f816545d60e1row10_col1\" class=\"data row10 col1\" >4,822</td>\n",
       "                        <td id=\"T_432d11ca_a9c8_11e9_a3d7_f816545d60e1row10_col2\" class=\"data row10 col2\" >8,999</td>\n",
       "            </tr>\n",
       "            <tr>\n",
       "                        <th id=\"T_432d11ca_a9c8_11e9_a3d7_f816545d60e1level0_row11\" class=\"row_heading level0 row11\" >12.DEC</th>\n",
       "                        <td id=\"T_432d11ca_a9c8_11e9_a3d7_f816545d60e1row11_col0\" class=\"data row11 col0\" >13,777</td>\n",
       "                        <td id=\"T_432d11ca_a9c8_11e9_a3d7_f816545d60e1row11_col1\" class=\"data row11 col1\" >4,898</td>\n",
       "                        <td id=\"T_432d11ca_a9c8_11e9_a3d7_f816545d60e1row11_col2\" class=\"data row11 col2\" >8,879</td>\n",
       "            </tr>\n",
       "    </tbody></table>"
      ],
      "text/plain": [
       "<pandas.io.formats.style.Styler at 0x11bb44164a8>"
      ]
     },
     "execution_count": 200,
     "metadata": {},
     "output_type": "execute_result"
    }
   ],
   "source": [
    "# Groupby month to see table\n",
    "gun_violence_master_df.groupby(\"month\")[[\"Total Killed/Injured\",\"Killed\",\"Injured\"]].sum().style.format('{:,}')"
   ]
  },
  {
   "cell_type": "code",
   "execution_count": 201,
   "metadata": {},
   "outputs": [
    {
     "data": {
      "image/png": "[encoded data removed]",
      "text/plain": [
       "<Figure size 648x288 with 1 Axes>"
      ]
     },
     "metadata": {
      "needs_background": "light"
     },
     "output_type": "display_data"
    }
   ],
   "source": [
    "# Month Chart\n",
    "month_chart = gun_violence_master_df.groupby(\"month\")[[\"Killed\",\"Injured\"]].sum().plot(kind=\"bar\",stacked=True, figsize=(9,4), linewidth = 1, color=['firebrick', 'mistyrose'], edgecolor = \"k\")\n",
    "\n",
    "plt.grid(True,alpha=.2)\n",
    "plt.xticks(rotation=0)\n",
    "plt.xlabel(\"Month\")\n",
    "plt.ylabel(\"People Killed / Injured\")\n",
    "plt.legend(prop={\"size\":8})\n",
    "plt.title(\"Total People Killed/Injured from Gun Violence by Month (2014-2017)\",fontsize = 12)\n",
    "plt.tight_layout()\n",
    "plt.savefig(\"3.Total People Killed Injured by Month (2014 to 2017).png\")\n",
    "plt.show()"
   ]
  },
  {
   "cell_type": "code",
   "execution_count": 202,
   "metadata": {},
   "outputs": [],
   "source": [
    "# Drop all years except 2017\n",
    "gun_violence_master_df.drop(gun_violence_master_df[(gun_violence_master_df[\"year\"] == 2013)].index, inplace=True)\n",
    "gun_violence_master_df.drop(gun_violence_master_df[(gun_violence_master_df[\"year\"] == 2014)].index, inplace=True)\n",
    "gun_violence_master_df.drop(gun_violence_master_df[(gun_violence_master_df[\"year\"] == 2015)].index, inplace=True)\n",
    "gun_violence_master_df.drop(gun_violence_master_df[(gun_violence_master_df[\"year\"] == 2016)].index, inplace=True)\n",
    "gun_violence_master_df.drop(gun_violence_master_df[(gun_violence_master_df[\"year\"] == 2018)].index, inplace=True)"
   ]
  },
  {
   "cell_type": "code",
   "execution_count": 203,
   "metadata": {},
   "outputs": [
    {
     "data": {
      "text/html": [
       "<style  type=\"text/css\" >\n",
       "</style><table id=\"T_45d00dc6_a9c8_11e9_a2ad_f816545d60e1\" ><thead>    <tr>        <th class=\"blank level0\" ></th>        <th class=\"col_heading level0 col0\" >Total Killed/Injured</th>        <th class=\"col_heading level0 col1\" >Killed</th>        <th class=\"col_heading level0 col2\" >Injured</th>    </tr>    <tr>        <th class=\"index_name level0\" >month</th>        <th class=\"blank\" ></th>        <th class=\"blank\" ></th>        <th class=\"blank\" ></th>    </tr></thead><tbody>\n",
       "                <tr>\n",
       "                        <th id=\"T_45d00dc6_a9c8_11e9_a2ad_f816545d60e1level0_row0\" class=\"row_heading level0 row0\" >01.JAN</th>\n",
       "                        <td id=\"T_45d00dc6_a9c8_11e9_a2ad_f816545d60e1row0_col0\" class=\"data row0 col0\" >3,960</td>\n",
       "                        <td id=\"T_45d00dc6_a9c8_11e9_a2ad_f816545d60e1row0_col1\" class=\"data row0 col1\" >1,356</td>\n",
       "                        <td id=\"T_45d00dc6_a9c8_11e9_a2ad_f816545d60e1row0_col2\" class=\"data row0 col2\" >2,604</td>\n",
       "            </tr>\n",
       "            <tr>\n",
       "                        <th id=\"T_45d00dc6_a9c8_11e9_a2ad_f816545d60e1level0_row1\" class=\"row_heading level0 row1\" >02.FEB</th>\n",
       "                        <td id=\"T_45d00dc6_a9c8_11e9_a2ad_f816545d60e1row1_col0\" class=\"data row1 col0\" >3,338</td>\n",
       "                        <td id=\"T_45d00dc6_a9c8_11e9_a2ad_f816545d60e1row1_col1\" class=\"data row1 col1\" >1,141</td>\n",
       "                        <td id=\"T_45d00dc6_a9c8_11e9_a2ad_f816545d60e1row1_col2\" class=\"data row1 col2\" >2,197</td>\n",
       "            </tr>\n",
       "            <tr>\n",
       "                        <th id=\"T_45d00dc6_a9c8_11e9_a2ad_f816545d60e1level0_row2\" class=\"row_heading level0 row2\" >03.MAR</th>\n",
       "                        <td id=\"T_45d00dc6_a9c8_11e9_a2ad_f816545d60e1row2_col0\" class=\"data row2 col0\" >3,453</td>\n",
       "                        <td id=\"T_45d00dc6_a9c8_11e9_a2ad_f816545d60e1row2_col1\" class=\"data row2 col1\" >1,220</td>\n",
       "                        <td id=\"T_45d00dc6_a9c8_11e9_a2ad_f816545d60e1row2_col2\" class=\"data row2 col2\" >2,233</td>\n",
       "            </tr>\n",
       "            <tr>\n",
       "                        <th id=\"T_45d00dc6_a9c8_11e9_a2ad_f816545d60e1level0_row3\" class=\"row_heading level0 row3\" >04.APR</th>\n",
       "                        <td id=\"T_45d00dc6_a9c8_11e9_a2ad_f816545d60e1row3_col0\" class=\"data row3 col0\" >3,879</td>\n",
       "                        <td id=\"T_45d00dc6_a9c8_11e9_a2ad_f816545d60e1row3_col1\" class=\"data row3 col1\" >1,231</td>\n",
       "                        <td id=\"T_45d00dc6_a9c8_11e9_a2ad_f816545d60e1row3_col2\" class=\"data row3 col2\" >2,648</td>\n",
       "            </tr>\n",
       "            <tr>\n",
       "                        <th id=\"T_45d00dc6_a9c8_11e9_a2ad_f816545d60e1level0_row4\" class=\"row_heading level0 row4\" >05.MAY</th>\n",
       "                        <td id=\"T_45d00dc6_a9c8_11e9_a2ad_f816545d60e1row4_col0\" class=\"data row4 col0\" >4,121</td>\n",
       "                        <td id=\"T_45d00dc6_a9c8_11e9_a2ad_f816545d60e1row4_col1\" class=\"data row4 col1\" >1,389</td>\n",
       "                        <td id=\"T_45d00dc6_a9c8_11e9_a2ad_f816545d60e1row4_col2\" class=\"data row4 col2\" >2,732</td>\n",
       "            </tr>\n",
       "            <tr>\n",
       "                        <th id=\"T_45d00dc6_a9c8_11e9_a2ad_f816545d60e1level0_row5\" class=\"row_heading level0 row5\" >06.JUN</th>\n",
       "                        <td id=\"T_45d00dc6_a9c8_11e9_a2ad_f816545d60e1row5_col0\" class=\"data row5 col0\" >4,045</td>\n",
       "                        <td id=\"T_45d00dc6_a9c8_11e9_a2ad_f816545d60e1row5_col1\" class=\"data row5 col1\" >1,366</td>\n",
       "                        <td id=\"T_45d00dc6_a9c8_11e9_a2ad_f816545d60e1row5_col2\" class=\"data row5 col2\" >2,679</td>\n",
       "            </tr>\n",
       "            <tr>\n",
       "                        <th id=\"T_45d00dc6_a9c8_11e9_a2ad_f816545d60e1level0_row6\" class=\"row_heading level0 row6\" >07.JUL</th>\n",
       "                        <td id=\"T_45d00dc6_a9c8_11e9_a2ad_f816545d60e1row6_col0\" class=\"data row6 col0\" >4,409</td>\n",
       "                        <td id=\"T_45d00dc6_a9c8_11e9_a2ad_f816545d60e1row6_col1\" class=\"data row6 col1\" >1,391</td>\n",
       "                        <td id=\"T_45d00dc6_a9c8_11e9_a2ad_f816545d60e1row6_col2\" class=\"data row6 col2\" >3,018</td>\n",
       "            </tr>\n",
       "            <tr>\n",
       "                        <th id=\"T_45d00dc6_a9c8_11e9_a2ad_f816545d60e1level0_row7\" class=\"row_heading level0 row7\" >08.AUG</th>\n",
       "                        <td id=\"T_45d00dc6_a9c8_11e9_a2ad_f816545d60e1row7_col0\" class=\"data row7 col0\" >4,055</td>\n",
       "                        <td id=\"T_45d00dc6_a9c8_11e9_a2ad_f816545d60e1row7_col1\" class=\"data row7 col1\" >1,324</td>\n",
       "                        <td id=\"T_45d00dc6_a9c8_11e9_a2ad_f816545d60e1row7_col2\" class=\"data row7 col2\" >2,731</td>\n",
       "            </tr>\n",
       "            <tr>\n",
       "                        <th id=\"T_45d00dc6_a9c8_11e9_a2ad_f816545d60e1level0_row8\" class=\"row_heading level0 row8\" >09.SEP</th>\n",
       "                        <td id=\"T_45d00dc6_a9c8_11e9_a2ad_f816545d60e1row8_col0\" class=\"data row8 col0\" >3,769</td>\n",
       "                        <td id=\"T_45d00dc6_a9c8_11e9_a2ad_f816545d60e1row8_col1\" class=\"data row8 col1\" >1,196</td>\n",
       "                        <td id=\"T_45d00dc6_a9c8_11e9_a2ad_f816545d60e1row8_col2\" class=\"data row8 col2\" >2,573</td>\n",
       "            </tr>\n",
       "            <tr>\n",
       "                        <th id=\"T_45d00dc6_a9c8_11e9_a2ad_f816545d60e1level0_row9\" class=\"row_heading level0 row9\" >10.OCT</th>\n",
       "                        <td id=\"T_45d00dc6_a9c8_11e9_a2ad_f816545d60e1row9_col0\" class=\"data row9 col0\" >4,047</td>\n",
       "                        <td id=\"T_45d00dc6_a9c8_11e9_a2ad_f816545d60e1row9_col1\" class=\"data row9 col1\" >1,305</td>\n",
       "                        <td id=\"T_45d00dc6_a9c8_11e9_a2ad_f816545d60e1row9_col2\" class=\"data row9 col2\" >2,742</td>\n",
       "            </tr>\n",
       "            <tr>\n",
       "                        <th id=\"T_45d00dc6_a9c8_11e9_a2ad_f816545d60e1level0_row10\" class=\"row_heading level0 row10\" >11.NOV</th>\n",
       "                        <td id=\"T_45d00dc6_a9c8_11e9_a2ad_f816545d60e1row10_col0\" class=\"data row10 col0\" >3,681</td>\n",
       "                        <td id=\"T_45d00dc6_a9c8_11e9_a2ad_f816545d60e1row10_col1\" class=\"data row10 col1\" >1,304</td>\n",
       "                        <td id=\"T_45d00dc6_a9c8_11e9_a2ad_f816545d60e1row10_col2\" class=\"data row10 col2\" >2,377</td>\n",
       "            </tr>\n",
       "            <tr>\n",
       "                        <th id=\"T_45d00dc6_a9c8_11e9_a2ad_f816545d60e1level0_row11\" class=\"row_heading level0 row11\" >12.DEC</th>\n",
       "                        <td id=\"T_45d00dc6_a9c8_11e9_a2ad_f816545d60e1row11_col0\" class=\"data row11 col0\" >3,457</td>\n",
       "                        <td id=\"T_45d00dc6_a9c8_11e9_a2ad_f816545d60e1row11_col1\" class=\"data row11 col1\" >1,288</td>\n",
       "                        <td id=\"T_45d00dc6_a9c8_11e9_a2ad_f816545d60e1row11_col2\" class=\"data row11 col2\" >2,169</td>\n",
       "            </tr>\n",
       "    </tbody></table>"
      ],
      "text/plain": [
       "<pandas.io.formats.style.Styler at 0x11b809a0668>"
      ]
     },
     "execution_count": 203,
     "metadata": {},
     "output_type": "execute_result"
    }
   ],
   "source": [
    "# Groupby month to see table for 2017\n",
    "gun_violence_master_df.groupby(\"month\")[[\"Total Killed/Injured\",\"Killed\",\"Injured\"]].sum().style.format('{:,}')"
   ]
  },
  {
   "cell_type": "code",
   "execution_count": 204,
   "metadata": {},
   "outputs": [
    {
     "data": {
      "image/png": "[encoded data removed]",
      "text/plain": [
       "<Figure size 648x288 with 1 Axes>"
      ]
     },
     "metadata": {
      "needs_background": "light"
     },
     "output_type": "display_data"
    }
   ],
   "source": [
    "# Month chart for 2017 only\n",
    "month_chart = gun_violence_master_df.groupby(\"month\")[[\"Killed\",\"Injured\"]].sum().plot(kind=\"bar\",stacked=True, figsize=(9,4), linewidth = 1, color=['firebrick', 'mistyrose'], edgecolor = \"k\")\n",
    "plt.grid(True,alpha=.2)\n",
    "plt.xticks(rotation=0)\n",
    "plt.xlabel(\"Month\")\n",
    "plt.ylabel(\"People Killed / Injured\")\n",
    "plt.legend(prop={\"size\":8})\n",
    "plt.title(\"Total People Killed/Injured from Gun Violence by Month (2017)\",fontsize = 15)\n",
    "plt.tight_layout()\n",
    "plt.savefig(\"4.Total People Killed Injured by Month (2017).png\")\n",
    "plt.show()"
   ]
  },
  {
   "cell_type": "code",
   "execution_count": 205,
   "metadata": {},
   "outputs": [],
   "source": [
    "#JULIA"
   ]
  },
  {
   "cell_type": "code",
   "execution_count": 206,
   "metadata": {},
   "outputs": [
    {
     "data": {
      "text/html": [
       "<div>\n",
       "<style scoped>\n",
       "    .dataframe tbody tr th:only-of-type {\n",
       "        vertical-align: middle;\n",
       "    }\n",
       "\n",
       "    .dataframe tbody tr th {\n",
       "        vertical-align: top;\n",
       "    }\n",
       "\n",
       "    .dataframe thead th {\n",
       "        text-align: right;\n",
       "    }\n",
       "</style>\n",
       "<table border=\"1\" class=\"dataframe\">\n",
       "  <thead>\n",
       "    <tr style=\"text-align: right;\">\n",
       "      <th></th>\n",
       "      <th>incident_id</th>\n",
       "      <th>date</th>\n",
       "      <th>month_number</th>\n",
       "      <th>month</th>\n",
       "      <th>day</th>\n",
       "      <th>year</th>\n",
       "      <th>state</th>\n",
       "      <th>city_or_county</th>\n",
       "      <th>n_killed</th>\n",
       "      <th>n_injured</th>\n",
       "      <th>...</th>\n",
       "      <th>n_guns_involved</th>\n",
       "      <th>notes</th>\n",
       "      <th>participant_age</th>\n",
       "      <th>participant_age_group</th>\n",
       "      <th>participant_gender</th>\n",
       "      <th>participant_relationship</th>\n",
       "      <th>participant_status</th>\n",
       "      <th>participant_type</th>\n",
       "      <th>state_house_district</th>\n",
       "      <th>state_senate_district</th>\n",
       "    </tr>\n",
       "  </thead>\n",
       "  <tbody>\n",
       "    <tr>\n",
       "      <th>0</th>\n",
       "      <td>740176</td>\n",
       "      <td>1/1/2017</td>\n",
       "      <td>1</td>\n",
       "      <td>January</td>\n",
       "      <td>1</td>\n",
       "      <td>2017</td>\n",
       "      <td>Tennessee</td>\n",
       "      <td>Memphis</td>\n",
       "      <td>1</td>\n",
       "      <td>0</td>\n",
       "      <td>...</td>\n",
       "      <td>1.0</td>\n",
       "      <td>woman shot and killed when men in vehicle fire...</td>\n",
       "      <td>0::18||1::17||2::22</td>\n",
       "      <td>0::Adult 18+||1::Teen 12-17||2::Adult 18+</td>\n",
       "      <td>0::Female||1::Male||2::Male</td>\n",
       "      <td>NaN</td>\n",
       "      <td>0::Killed||1::Unharmed, Arrested||2::Unharmed,...</td>\n",
       "      <td>0::Victim||1::Subject-Suspect||2::Subject-Suspect</td>\n",
       "      <td>91.0</td>\n",
       "      <td>33.0</td>\n",
       "    </tr>\n",
       "    <tr>\n",
       "      <th>1</th>\n",
       "      <td>741857</td>\n",
       "      <td>1/1/2017</td>\n",
       "      <td>1</td>\n",
       "      <td>January</td>\n",
       "      <td>1</td>\n",
       "      <td>2017</td>\n",
       "      <td>Nebraska</td>\n",
       "      <td>Omaha</td>\n",
       "      <td>0</td>\n",
       "      <td>0</td>\n",
       "      <td>...</td>\n",
       "      <td>1.0</td>\n",
       "      <td>Celebratory gunfire.</td>\n",
       "      <td>0::25</td>\n",
       "      <td>0::Adult 18+</td>\n",
       "      <td>0::Male</td>\n",
       "      <td>NaN</td>\n",
       "      <td>0::Unharmed, Arrested</td>\n",
       "      <td>0::Subject-Suspect</td>\n",
       "      <td>NaN</td>\n",
       "      <td>11.0</td>\n",
       "    </tr>\n",
       "    <tr>\n",
       "      <th>2</th>\n",
       "      <td>741852</td>\n",
       "      <td>1/1/2017</td>\n",
       "      <td>1</td>\n",
       "      <td>January</td>\n",
       "      <td>1</td>\n",
       "      <td>2017</td>\n",
       "      <td>Nebraska</td>\n",
       "      <td>Omaha</td>\n",
       "      <td>0</td>\n",
       "      <td>1</td>\n",
       "      <td>...</td>\n",
       "      <td>1.0</td>\n",
       "      <td>NaN</td>\n",
       "      <td>0::23||1::17</td>\n",
       "      <td>0::Adult 18+||1::Teen 12-17</td>\n",
       "      <td>0::Female||1::Male</td>\n",
       "      <td>NaN</td>\n",
       "      <td>0::Injured||1::Unharmed, Arrested</td>\n",
       "      <td>0::Victim||1::Subject-Suspect</td>\n",
       "      <td>NaN</td>\n",
       "      <td>5.0</td>\n",
       "    </tr>\n",
       "    <tr>\n",
       "      <th>3</th>\n",
       "      <td>740911</td>\n",
       "      <td>1/1/2017</td>\n",
       "      <td>1</td>\n",
       "      <td>January</td>\n",
       "      <td>1</td>\n",
       "      <td>2017</td>\n",
       "      <td>Pennsylvania</td>\n",
       "      <td>Erie</td>\n",
       "      <td>0</td>\n",
       "      <td>1</td>\n",
       "      <td>...</td>\n",
       "      <td>1.0</td>\n",
       "      <td>NaN</td>\n",
       "      <td>0::61||1::71</td>\n",
       "      <td>0::Adult 18+||1::Adult 18+</td>\n",
       "      <td>0::Female||1::Male</td>\n",
       "      <td>1::Significant others - current or former</td>\n",
       "      <td>0::Injured||1::Unharmed, Arrested</td>\n",
       "      <td>0::Victim||1::Subject-Suspect</td>\n",
       "      <td>NaN</td>\n",
       "      <td>NaN</td>\n",
       "    </tr>\n",
       "    <tr>\n",
       "      <th>4</th>\n",
       "      <td>744584</td>\n",
       "      <td>1/1/2017</td>\n",
       "      <td>1</td>\n",
       "      <td>January</td>\n",
       "      <td>1</td>\n",
       "      <td>2017</td>\n",
       "      <td>New Mexico</td>\n",
       "      <td>Portales</td>\n",
       "      <td>0</td>\n",
       "      <td>0</td>\n",
       "      <td>...</td>\n",
       "      <td>1.0</td>\n",
       "      <td>NaN</td>\n",
       "      <td>NaN</td>\n",
       "      <td>NaN</td>\n",
       "      <td>NaN</td>\n",
       "      <td>NaN</td>\n",
       "      <td>NaN</td>\n",
       "      <td>NaN</td>\n",
       "      <td>63.0</td>\n",
       "      <td>27.0</td>\n",
       "    </tr>\n",
       "  </tbody>\n",
       "</table>\n",
       "<p>5 rows × 27 columns</p>\n",
       "</div>"
      ],
      "text/plain": [
       "   incident_id      date  month_number    month  day  year         state  \\\n",
       "0       740176  1/1/2017             1  January    1  2017     Tennessee   \n",
       "1       741857  1/1/2017             1  January    1  2017      Nebraska   \n",
       "2       741852  1/1/2017             1  January    1  2017      Nebraska   \n",
       "3       740911  1/1/2017             1  January    1  2017  Pennsylvania   \n",
       "4       744584  1/1/2017             1  January    1  2017    New Mexico   \n",
       "\n",
       "  city_or_county  n_killed  n_injured  ...  n_guns_involved  \\\n",
       "0        Memphis         1          0  ...              1.0   \n",
       "1          Omaha         0          0  ...              1.0   \n",
       "2          Omaha         0          1  ...              1.0   \n",
       "3           Erie         0          1  ...              1.0   \n",
       "4       Portales         0          0  ...              1.0   \n",
       "\n",
       "                                               notes      participant_age  \\\n",
       "0  woman shot and killed when men in vehicle fire...  0::18||1::17||2::22   \n",
       "1                               Celebratory gunfire.                0::25   \n",
       "2                                                NaN         0::23||1::17   \n",
       "3                                                NaN         0::61||1::71   \n",
       "4                                                NaN                  NaN   \n",
       "\n",
       "                       participant_age_group           participant_gender  \\\n",
       "0  0::Adult 18+||1::Teen 12-17||2::Adult 18+  0::Female||1::Male||2::Male   \n",
       "1                               0::Adult 18+                      0::Male   \n",
       "2                0::Adult 18+||1::Teen 12-17           0::Female||1::Male   \n",
       "3                 0::Adult 18+||1::Adult 18+           0::Female||1::Male   \n",
       "4                                        NaN                          NaN   \n",
       "\n",
       "                    participant_relationship  \\\n",
       "0                                        NaN   \n",
       "1                                        NaN   \n",
       "2                                        NaN   \n",
       "3  1::Significant others - current or former   \n",
       "4                                        NaN   \n",
       "\n",
       "                                  participant_status  \\\n",
       "0  0::Killed||1::Unharmed, Arrested||2::Unharmed,...   \n",
       "1                              0::Unharmed, Arrested   \n",
       "2                  0::Injured||1::Unharmed, Arrested   \n",
       "3                  0::Injured||1::Unharmed, Arrested   \n",
       "4                                                NaN   \n",
       "\n",
       "                                    participant_type state_house_district  \\\n",
       "0  0::Victim||1::Subject-Suspect||2::Subject-Suspect                 91.0   \n",
       "1                                 0::Subject-Suspect                  NaN   \n",
       "2                      0::Victim||1::Subject-Suspect                  NaN   \n",
       "3                      0::Victim||1::Subject-Suspect                  NaN   \n",
       "4                                                NaN                 63.0   \n",
       "\n",
       "  state_senate_district  \n",
       "0                  33.0  \n",
       "1                  11.0  \n",
       "2                   5.0  \n",
       "3                   NaN  \n",
       "4                  27.0  \n",
       "\n",
       "[5 rows x 27 columns]"
      ]
     },
     "execution_count": 206,
     "metadata": {},
     "output_type": "execute_result"
    }
   ],
   "source": [
    "gun_violence_df = pd.read_csv(gun_violence, encoding=\"utf-8\")\n",
    "gun_violence_df.head()"
   ]
  },
  {
   "cell_type": "code",
   "execution_count": 207,
   "metadata": {},
   "outputs": [],
   "source": [
    "# Get the Yr, Mth, Day, Date from the date conversion\n",
    "gun_violence_df[\"year\"] = pd.DatetimeIndex(gun_violence_df[\"date\"]).year\n",
    "gun_violence_df[\"month\"]= pd.DatetimeIndex(gun_violence_df[\"date\"]).month\n",
    "gun_violence_df[\"day\"]  = pd.DatetimeIndex(gun_violence_df[\"date\"]).day\n",
    "gun_violence_df[\"month\"] = gun_violence_df[\"month\"].map({1:\"JAN\",2:\"FEB\",3:\"MAR\",4:\"APR\",5:\"MAY\",6:\"JUN\",7:\"JUL\",8:\"AUG\",9:\"SEP\",10:\"OCT\",11:\"NOV\",12:\"DEC\"})\n",
    "gun_violence_df[\"month_year\"] = gun_violence_df[\"month\"]+\"-\"+gun_violence_df[\"year\"].astype(str)"
   ]
  },
  {
   "cell_type": "code",
   "execution_count": 208,
   "metadata": {},
   "outputs": [],
   "source": [
    "gun_violence_df = gun_violence_df.rename(columns={\"n_killed\":\"killed\",\"n_injured\":\"injured\"})\n",
    "gun_violence_df = gun_violence_df.sort_values(by=\"date\",ascending=True)"
   ]
  },
  {
   "cell_type": "code",
   "execution_count": 209,
   "metadata": {},
   "outputs": [
    {
     "data": {
      "text/html": [
       "<div>\n",
       "<style scoped>\n",
       "    .dataframe tbody tr th:only-of-type {\n",
       "        vertical-align: middle;\n",
       "    }\n",
       "\n",
       "    .dataframe tbody tr th {\n",
       "        vertical-align: top;\n",
       "    }\n",
       "\n",
       "    .dataframe thead th {\n",
       "        text-align: right;\n",
       "    }\n",
       "</style>\n",
       "<table border=\"1\" class=\"dataframe\">\n",
       "  <thead>\n",
       "    <tr style=\"text-align: right;\">\n",
       "      <th></th>\n",
       "      <th>incident_id</th>\n",
       "      <th>date</th>\n",
       "      <th>month_number</th>\n",
       "      <th>month</th>\n",
       "      <th>day</th>\n",
       "      <th>year</th>\n",
       "      <th>state</th>\n",
       "      <th>city_or_county</th>\n",
       "      <th>killed</th>\n",
       "      <th>injured</th>\n",
       "      <th>...</th>\n",
       "      <th>participant_age</th>\n",
       "      <th>participant_age_group</th>\n",
       "      <th>participant_gender</th>\n",
       "      <th>participant_relationship</th>\n",
       "      <th>participant_status</th>\n",
       "      <th>participant_type</th>\n",
       "      <th>state_house_district</th>\n",
       "      <th>state_senate_district</th>\n",
       "      <th>month_year</th>\n",
       "      <th>Total Killed/Injured</th>\n",
       "    </tr>\n",
       "  </thead>\n",
       "  <tbody>\n",
       "    <tr>\n",
       "      <th>0</th>\n",
       "      <td>740176</td>\n",
       "      <td>1/1/2017</td>\n",
       "      <td>1</td>\n",
       "      <td>JAN</td>\n",
       "      <td>1</td>\n",
       "      <td>2017</td>\n",
       "      <td>Tennessee</td>\n",
       "      <td>Memphis</td>\n",
       "      <td>1</td>\n",
       "      <td>0</td>\n",
       "      <td>...</td>\n",
       "      <td>0::18||1::17||2::22</td>\n",
       "      <td>0::Adult 18+||1::Teen 12-17||2::Adult 18+</td>\n",
       "      <td>0::Female||1::Male||2::Male</td>\n",
       "      <td>NaN</td>\n",
       "      <td>0::Killed||1::Unharmed, Arrested||2::Unharmed,...</td>\n",
       "      <td>0::Victim||1::Subject-Suspect||2::Subject-Suspect</td>\n",
       "      <td>91.0</td>\n",
       "      <td>33.0</td>\n",
       "      <td>JAN-2017</td>\n",
       "      <td>1</td>\n",
       "    </tr>\n",
       "    <tr>\n",
       "      <th>232</th>\n",
       "      <td>739679</td>\n",
       "      <td>1/1/2017</td>\n",
       "      <td>1</td>\n",
       "      <td>JAN</td>\n",
       "      <td>1</td>\n",
       "      <td>2017</td>\n",
       "      <td>Florida</td>\n",
       "      <td>Jacksonville</td>\n",
       "      <td>0</td>\n",
       "      <td>1</td>\n",
       "      <td>...</td>\n",
       "      <td>0::54</td>\n",
       "      <td>0::Adult 18+</td>\n",
       "      <td>0::Female</td>\n",
       "      <td>NaN</td>\n",
       "      <td>0::Injured</td>\n",
       "      <td>0::Victim</td>\n",
       "      <td>14.0</td>\n",
       "      <td>9.0</td>\n",
       "      <td>JAN-2017</td>\n",
       "      <td>1</td>\n",
       "    </tr>\n",
       "    <tr>\n",
       "      <th>231</th>\n",
       "      <td>740470</td>\n",
       "      <td>1/1/2017</td>\n",
       "      <td>1</td>\n",
       "      <td>JAN</td>\n",
       "      <td>1</td>\n",
       "      <td>2017</td>\n",
       "      <td>Mississippi</td>\n",
       "      <td>Jackson</td>\n",
       "      <td>0</td>\n",
       "      <td>1</td>\n",
       "      <td>...</td>\n",
       "      <td>0::27</td>\n",
       "      <td>0::Adult 18+</td>\n",
       "      <td>0::Male</td>\n",
       "      <td>NaN</td>\n",
       "      <td>0::Injured</td>\n",
       "      <td>0::Victim</td>\n",
       "      <td>63.0</td>\n",
       "      <td>29.0</td>\n",
       "      <td>JAN-2017</td>\n",
       "      <td>1</td>\n",
       "    </tr>\n",
       "    <tr>\n",
       "      <th>230</th>\n",
       "      <td>739785</td>\n",
       "      <td>1/1/2017</td>\n",
       "      <td>1</td>\n",
       "      <td>JAN</td>\n",
       "      <td>1</td>\n",
       "      <td>2017</td>\n",
       "      <td>Missouri</td>\n",
       "      <td>Florissant</td>\n",
       "      <td>1</td>\n",
       "      <td>0</td>\n",
       "      <td>...</td>\n",
       "      <td>0::41</td>\n",
       "      <td>0::Adult 18+</td>\n",
       "      <td>0::Male</td>\n",
       "      <td>NaN</td>\n",
       "      <td>0::Killed</td>\n",
       "      <td>0::Victim</td>\n",
       "      <td>67.0</td>\n",
       "      <td>13.0</td>\n",
       "      <td>JAN-2017</td>\n",
       "      <td>1</td>\n",
       "    </tr>\n",
       "    <tr>\n",
       "      <th>229</th>\n",
       "      <td>741266</td>\n",
       "      <td>1/1/2017</td>\n",
       "      <td>1</td>\n",
       "      <td>JAN</td>\n",
       "      <td>1</td>\n",
       "      <td>2017</td>\n",
       "      <td>Massachusetts</td>\n",
       "      <td>Lynn</td>\n",
       "      <td>0</td>\n",
       "      <td>0</td>\n",
       "      <td>...</td>\n",
       "      <td>NaN</td>\n",
       "      <td>NaN</td>\n",
       "      <td>NaN</td>\n",
       "      <td>NaN</td>\n",
       "      <td>NaN</td>\n",
       "      <td>NaN</td>\n",
       "      <td>NaN</td>\n",
       "      <td>NaN</td>\n",
       "      <td>JAN-2017</td>\n",
       "      <td>0</td>\n",
       "    </tr>\n",
       "  </tbody>\n",
       "</table>\n",
       "<p>5 rows × 29 columns</p>\n",
       "</div>"
      ],
      "text/plain": [
       "     incident_id      date  month_number month  day  year          state  \\\n",
       "0         740176  1/1/2017             1   JAN    1  2017      Tennessee   \n",
       "232       739679  1/1/2017             1   JAN    1  2017        Florida   \n",
       "231       740470  1/1/2017             1   JAN    1  2017    Mississippi   \n",
       "230       739785  1/1/2017             1   JAN    1  2017       Missouri   \n",
       "229       741266  1/1/2017             1   JAN    1  2017  Massachusetts   \n",
       "\n",
       "    city_or_county  killed  injured  ...      participant_age  \\\n",
       "0          Memphis       1        0  ...  0::18||1::17||2::22   \n",
       "232   Jacksonville       0        1  ...                0::54   \n",
       "231        Jackson       0        1  ...                0::27   \n",
       "230     Florissant       1        0  ...                0::41   \n",
       "229           Lynn       0        0  ...                  NaN   \n",
       "\n",
       "                         participant_age_group           participant_gender  \\\n",
       "0    0::Adult 18+||1::Teen 12-17||2::Adult 18+  0::Female||1::Male||2::Male   \n",
       "232                               0::Adult 18+                    0::Female   \n",
       "231                               0::Adult 18+                      0::Male   \n",
       "230                               0::Adult 18+                      0::Male   \n",
       "229                                        NaN                          NaN   \n",
       "\n",
       "    participant_relationship  \\\n",
       "0                        NaN   \n",
       "232                      NaN   \n",
       "231                      NaN   \n",
       "230                      NaN   \n",
       "229                      NaN   \n",
       "\n",
       "                                    participant_status  \\\n",
       "0    0::Killed||1::Unharmed, Arrested||2::Unharmed,...   \n",
       "232                                         0::Injured   \n",
       "231                                         0::Injured   \n",
       "230                                          0::Killed   \n",
       "229                                                NaN   \n",
       "\n",
       "                                      participant_type  state_house_district  \\\n",
       "0    0::Victim||1::Subject-Suspect||2::Subject-Suspect                  91.0   \n",
       "232                                          0::Victim                  14.0   \n",
       "231                                          0::Victim                  63.0   \n",
       "230                                          0::Victim                  67.0   \n",
       "229                                                NaN                   NaN   \n",
       "\n",
       "     state_senate_district month_year Total Killed/Injured  \n",
       "0                     33.0   JAN-2017                    1  \n",
       "232                    9.0   JAN-2017                    1  \n",
       "231                   29.0   JAN-2017                    1  \n",
       "230                   13.0   JAN-2017                    1  \n",
       "229                    NaN   JAN-2017                    0  \n",
       "\n",
       "[5 rows x 29 columns]"
      ]
     },
     "execution_count": 209,
     "metadata": {},
     "output_type": "execute_result"
    }
   ],
   "source": [
    "# Create a new column called \"Total Killed/Injured\" which adds n_killed & n_injured\n",
    "gun_violence_df[\"Total Killed/Injured\"] = gun_violence_df[\"killed\"] + gun_violence_df[\"injured\"]\n",
    "gun_violence_df.head()"
   ]
  },
  {
   "cell_type": "code",
   "execution_count": 210,
   "metadata": {
    "scrolled": false
   },
   "outputs": [
    {
     "data": {
      "text/html": [
       "<div>\n",
       "<style scoped>\n",
       "    .dataframe tbody tr th:only-of-type {\n",
       "        vertical-align: middle;\n",
       "    }\n",
       "\n",
       "    .dataframe tbody tr th {\n",
       "        vertical-align: top;\n",
       "    }\n",
       "\n",
       "    .dataframe thead th {\n",
       "        text-align: right;\n",
       "    }\n",
       "</style>\n",
       "<table border=\"1\" class=\"dataframe\">\n",
       "  <thead>\n",
       "    <tr style=\"text-align: right;\">\n",
       "      <th></th>\n",
       "      <th>incident_id</th>\n",
       "      <th>date</th>\n",
       "      <th>state</th>\n",
       "      <th>city_or_county</th>\n",
       "      <th>Total Killed/Injured</th>\n",
       "      <th>killed</th>\n",
       "      <th>injured</th>\n",
       "      <th>participant_age_group</th>\n",
       "      <th>participant_gender</th>\n",
       "      <th>participant_relationship</th>\n",
       "      <th>participant_status</th>\n",
       "      <th>participant_type</th>\n",
       "      <th>state_house_district</th>\n",
       "      <th>state_senate_district</th>\n",
       "    </tr>\n",
       "  </thead>\n",
       "  <tbody>\n",
       "    <tr>\n",
       "      <th>0</th>\n",
       "      <td>740176</td>\n",
       "      <td>1/1/2017</td>\n",
       "      <td>Tennessee</td>\n",
       "      <td>Memphis</td>\n",
       "      <td>1</td>\n",
       "      <td>1</td>\n",
       "      <td>0</td>\n",
       "      <td>0::Adult 18+||1::Teen 12-17||2::Adult 18+</td>\n",
       "      <td>0::Female||1::Male||2::Male</td>\n",
       "      <td>NaN</td>\n",
       "      <td>0::Killed||1::Unharmed, Arrested||2::Unharmed,...</td>\n",
       "      <td>0::Victim||1::Subject-Suspect||2::Subject-Suspect</td>\n",
       "      <td>91.0</td>\n",
       "      <td>33.0</td>\n",
       "    </tr>\n",
       "    <tr>\n",
       "      <th>232</th>\n",
       "      <td>739679</td>\n",
       "      <td>1/1/2017</td>\n",
       "      <td>Florida</td>\n",
       "      <td>Jacksonville</td>\n",
       "      <td>1</td>\n",
       "      <td>0</td>\n",
       "      <td>1</td>\n",
       "      <td>0::Adult 18+</td>\n",
       "      <td>0::Female</td>\n",
       "      <td>NaN</td>\n",
       "      <td>0::Injured</td>\n",
       "      <td>0::Victim</td>\n",
       "      <td>14.0</td>\n",
       "      <td>9.0</td>\n",
       "    </tr>\n",
       "    <tr>\n",
       "      <th>231</th>\n",
       "      <td>740470</td>\n",
       "      <td>1/1/2017</td>\n",
       "      <td>Mississippi</td>\n",
       "      <td>Jackson</td>\n",
       "      <td>1</td>\n",
       "      <td>0</td>\n",
       "      <td>1</td>\n",
       "      <td>0::Adult 18+</td>\n",
       "      <td>0::Male</td>\n",
       "      <td>NaN</td>\n",
       "      <td>0::Injured</td>\n",
       "      <td>0::Victim</td>\n",
       "      <td>63.0</td>\n",
       "      <td>29.0</td>\n",
       "    </tr>\n",
       "    <tr>\n",
       "      <th>230</th>\n",
       "      <td>739785</td>\n",
       "      <td>1/1/2017</td>\n",
       "      <td>Missouri</td>\n",
       "      <td>Florissant</td>\n",
       "      <td>1</td>\n",
       "      <td>1</td>\n",
       "      <td>0</td>\n",
       "      <td>0::Adult 18+</td>\n",
       "      <td>0::Male</td>\n",
       "      <td>NaN</td>\n",
       "      <td>0::Killed</td>\n",
       "      <td>0::Victim</td>\n",
       "      <td>67.0</td>\n",
       "      <td>13.0</td>\n",
       "    </tr>\n",
       "    <tr>\n",
       "      <th>229</th>\n",
       "      <td>741266</td>\n",
       "      <td>1/1/2017</td>\n",
       "      <td>Massachusetts</td>\n",
       "      <td>Lynn</td>\n",
       "      <td>0</td>\n",
       "      <td>0</td>\n",
       "      <td>0</td>\n",
       "      <td>NaN</td>\n",
       "      <td>NaN</td>\n",
       "      <td>NaN</td>\n",
       "      <td>NaN</td>\n",
       "      <td>NaN</td>\n",
       "      <td>NaN</td>\n",
       "      <td>NaN</td>\n",
       "    </tr>\n",
       "  </tbody>\n",
       "</table>\n",
       "</div>"
      ],
      "text/plain": [
       "     incident_id      date          state city_or_county  \\\n",
       "0         740176  1/1/2017      Tennessee        Memphis   \n",
       "232       739679  1/1/2017        Florida   Jacksonville   \n",
       "231       740470  1/1/2017    Mississippi        Jackson   \n",
       "230       739785  1/1/2017       Missouri     Florissant   \n",
       "229       741266  1/1/2017  Massachusetts           Lynn   \n",
       "\n",
       "     Total Killed/Injured  killed  injured  \\\n",
       "0                       1       1        0   \n",
       "232                     1       0        1   \n",
       "231                     1       0        1   \n",
       "230                     1       1        0   \n",
       "229                     0       0        0   \n",
       "\n",
       "                         participant_age_group           participant_gender  \\\n",
       "0    0::Adult 18+||1::Teen 12-17||2::Adult 18+  0::Female||1::Male||2::Male   \n",
       "232                               0::Adult 18+                    0::Female   \n",
       "231                               0::Adult 18+                      0::Male   \n",
       "230                               0::Adult 18+                      0::Male   \n",
       "229                                        NaN                          NaN   \n",
       "\n",
       "    participant_relationship  \\\n",
       "0                        NaN   \n",
       "232                      NaN   \n",
       "231                      NaN   \n",
       "230                      NaN   \n",
       "229                      NaN   \n",
       "\n",
       "                                    participant_status  \\\n",
       "0    0::Killed||1::Unharmed, Arrested||2::Unharmed,...   \n",
       "232                                         0::Injured   \n",
       "231                                         0::Injured   \n",
       "230                                          0::Killed   \n",
       "229                                                NaN   \n",
       "\n",
       "                                      participant_type  state_house_district  \\\n",
       "0    0::Victim||1::Subject-Suspect||2::Subject-Suspect                  91.0   \n",
       "232                                          0::Victim                  14.0   \n",
       "231                                          0::Victim                  63.0   \n",
       "230                                          0::Victim                  67.0   \n",
       "229                                                NaN                   NaN   \n",
       "\n",
       "     state_senate_district  \n",
       "0                     33.0  \n",
       "232                    9.0  \n",
       "231                   29.0  \n",
       "230                   13.0  \n",
       "229                    NaN  "
      ]
     },
     "execution_count": 210,
     "metadata": {},
     "output_type": "execute_result"
    }
   ],
   "source": [
    "# Re-order Columns\n",
    "gun_violence_df = gun_violence_df[[\"incident_id\", \"date\", \"state\", \"city_or_county\", \"Total Killed/Injured\",\n",
    "                                    \"killed\", \"injured\", \"participant_age_group\", \"participant_gender\",\n",
    "                                     \"participant_relationship\", \"participant_status\",\n",
    "                                    \"participant_type\",  \"state_house_district\", \"state_senate_district\",\n",
    "                                    ]]\n",
    "gun_violence_df.head()"
   ]
  },
  {
   "cell_type": "code",
   "execution_count": 211,
   "metadata": {
    "scrolled": true
   },
   "outputs": [
    {
     "data": {
      "text/plain": [
       "46214"
      ]
     },
     "execution_count": 211,
     "metadata": {},
     "output_type": "execute_result"
    }
   ],
   "source": [
    "total_killed = gun_violence_df[\"killed\"].sum()\n",
    "total_injured = gun_violence_df[\"injured\"].sum()\n",
    "overall_killed_injured = total_killed + total_injured\n",
    "overall_killed_injured"
   ]
  },
  {
   "cell_type": "code",
   "execution_count": 212,
   "metadata": {
    "scrolled": true
   },
   "outputs": [
    {
     "data": {
      "text/html": [
       "<div>\n",
       "<style scoped>\n",
       "    .dataframe tbody tr th:only-of-type {\n",
       "        vertical-align: middle;\n",
       "    }\n",
       "\n",
       "    .dataframe tbody tr th {\n",
       "        vertical-align: top;\n",
       "    }\n",
       "\n",
       "    .dataframe thead th {\n",
       "        text-align: right;\n",
       "    }\n",
       "</style>\n",
       "<table border=\"1\" class=\"dataframe\">\n",
       "  <thead>\n",
       "    <tr style=\"text-align: right;\">\n",
       "      <th></th>\n",
       "      <th>state</th>\n",
       "      <th>Gun Violence</th>\n",
       "    </tr>\n",
       "  </thead>\n",
       "  <tbody>\n",
       "    <tr>\n",
       "      <th>19</th>\n",
       "      <td>Mississippi</td>\n",
       "      <td>917</td>\n",
       "    </tr>\n",
       "    <tr>\n",
       "      <th>18</th>\n",
       "      <td>New Jersey</td>\n",
       "      <td>938</td>\n",
       "    </tr>\n",
       "    <tr>\n",
       "      <th>17</th>\n",
       "      <td>Michigan</td>\n",
       "      <td>1140</td>\n",
       "    </tr>\n",
       "    <tr>\n",
       "      <th>16</th>\n",
       "      <td>Indiana</td>\n",
       "      <td>1144</td>\n",
       "    </tr>\n",
       "    <tr>\n",
       "      <th>15</th>\n",
       "      <td>South Carolina</td>\n",
       "      <td>1186</td>\n",
       "    </tr>\n",
       "    <tr>\n",
       "      <th>14</th>\n",
       "      <td>Virginia</td>\n",
       "      <td>1324</td>\n",
       "    </tr>\n",
       "    <tr>\n",
       "      <th>13</th>\n",
       "      <td>Maryland</td>\n",
       "      <td>1335</td>\n",
       "    </tr>\n",
       "    <tr>\n",
       "      <th>12</th>\n",
       "      <td>Alabama</td>\n",
       "      <td>1400</td>\n",
       "    </tr>\n",
       "    <tr>\n",
       "      <th>11</th>\n",
       "      <td>New York</td>\n",
       "      <td>1439</td>\n",
       "    </tr>\n",
       "    <tr>\n",
       "      <th>10</th>\n",
       "      <td>Missouri</td>\n",
       "      <td>1530</td>\n",
       "    </tr>\n",
       "    <tr>\n",
       "      <th>9</th>\n",
       "      <td>Tennessee</td>\n",
       "      <td>1693</td>\n",
       "    </tr>\n",
       "    <tr>\n",
       "      <th>8</th>\n",
       "      <td>North Carolina</td>\n",
       "      <td>1709</td>\n",
       "    </tr>\n",
       "    <tr>\n",
       "      <th>7</th>\n",
       "      <td>Georgia</td>\n",
       "      <td>1715</td>\n",
       "    </tr>\n",
       "    <tr>\n",
       "      <th>6</th>\n",
       "      <td>Louisiana</td>\n",
       "      <td>1733</td>\n",
       "    </tr>\n",
       "    <tr>\n",
       "      <th>5</th>\n",
       "      <td>Pennsylvania</td>\n",
       "      <td>1823</td>\n",
       "    </tr>\n",
       "    <tr>\n",
       "      <th>4</th>\n",
       "      <td>Ohio</td>\n",
       "      <td>2217</td>\n",
       "    </tr>\n",
       "    <tr>\n",
       "      <th>3</th>\n",
       "      <td>Texas</td>\n",
       "      <td>2734</td>\n",
       "    </tr>\n",
       "    <tr>\n",
       "      <th>2</th>\n",
       "      <td>Florida</td>\n",
       "      <td>2751</td>\n",
       "    </tr>\n",
       "    <tr>\n",
       "      <th>1</th>\n",
       "      <td>California</td>\n",
       "      <td>3376</td>\n",
       "    </tr>\n",
       "    <tr>\n",
       "      <th>0</th>\n",
       "      <td>Illinois</td>\n",
       "      <td>4588</td>\n",
       "    </tr>\n",
       "  </tbody>\n",
       "</table>\n",
       "</div>"
      ],
      "text/plain": [
       "             state  Gun Violence\n",
       "19     Mississippi           917\n",
       "18      New Jersey           938\n",
       "17        Michigan          1140\n",
       "16         Indiana          1144\n",
       "15  South Carolina          1186\n",
       "14        Virginia          1324\n",
       "13        Maryland          1335\n",
       "12         Alabama          1400\n",
       "11        New York          1439\n",
       "10        Missouri          1530\n",
       "9        Tennessee          1693\n",
       "8   North Carolina          1709\n",
       "7          Georgia          1715\n",
       "6        Louisiana          1733\n",
       "5     Pennsylvania          1823\n",
       "4             Ohio          2217\n",
       "3            Texas          2734\n",
       "2          Florida          2751\n",
       "1       California          3376\n",
       "0         Illinois          4588"
      ]
     },
     "execution_count": 212,
     "metadata": {},
     "output_type": "execute_result"
    }
   ],
   "source": [
    "#find top 20 states\n",
    "top_states = gun_violence_df.groupby(['state']).agg({'Total Killed/Injured':['sum']})\n",
    "#top_states\n",
    "top_states.columns = top_states.columns.droplevel(0)\n",
    "top_states_final = top_states.sort_values(['sum'], ascending=False).head(51)\n",
    "#top_states_final\n",
    "top_states_df = pd.DataFrame(top_states_final)\n",
    "#top_states_df\n",
    "top_states_df.columns = ['Gun Violence']\n",
    "#top_states_df\n",
    "top_states_df = top_states_df.reset_index()\n",
    "top_20_df = top_states_df.head(20)\n",
    "top_20_df = top_20_df.sort_values(['Gun Violence'], ascending=True)\n",
    "top_20_df\n"
   ]
  },
  {
   "cell_type": "code",
   "execution_count": 213,
   "metadata": {},
   "outputs": [],
   "source": [
    "state20 = top_20_df['state']\n",
    "gun_violence20 = top_20_df['Gun Violence']"
   ]
  },
  {
   "cell_type": "code",
   "execution_count": 214,
   "metadata": {
    "scrolled": true
   },
   "outputs": [
    {
     "data": {
      "image/png": "[encoded data removed]",
      "text/plain": [
       "<Figure size 432x288 with 1 Axes>"
      ]
     },
     "metadata": {
      "needs_background": "light"
     },
     "output_type": "display_data"
    }
   ],
   "source": [
    "\n",
    "plt.barh(state20, gun_violence20, color='red', alpha=0.5, align=\"center\")\n",
    "#plt.xlim(-0.75, len(state)-0.25)\n",
    "#plt.ylim(0, max(gun_violence))\n",
    "plt.xticks(rotation='vertical')\n",
    "plt.title(\"20 Most Violent States in 2017\")\n",
    "plt.xlabel(\"Number of Gun Violence incidents per year (both Killed/Injured)\")\n",
    "plt.ylabel(\"State Name\")\n",
    "plt.tight_layout()\n",
    "plt.savefig(\"20 Most Violent States in 2017.png\")\n",
    "plt.show()"
   ]
  },
  {
   "cell_type": "code",
   "execution_count": 215,
   "metadata": {},
   "outputs": [
    {
     "data": {
      "text/html": [
       "<div>\n",
       "<style scoped>\n",
       "    .dataframe tbody tr th:only-of-type {\n",
       "        vertical-align: middle;\n",
       "    }\n",
       "\n",
       "    .dataframe tbody tr th {\n",
       "        vertical-align: top;\n",
       "    }\n",
       "\n",
       "    .dataframe thead th {\n",
       "        text-align: right;\n",
       "    }\n",
       "</style>\n",
       "<table border=\"1\" class=\"dataframe\">\n",
       "  <thead>\n",
       "    <tr style=\"text-align: right;\">\n",
       "      <th></th>\n",
       "      <th>state</th>\n",
       "      <th>Population 2017</th>\n",
       "    </tr>\n",
       "  </thead>\n",
       "  <tbody>\n",
       "    <tr>\n",
       "      <th>0</th>\n",
       "      <td>Alabama</td>\n",
       "      <td>4875120</td>\n",
       "    </tr>\n",
       "    <tr>\n",
       "      <th>1</th>\n",
       "      <td>Alaska</td>\n",
       "      <td>739786</td>\n",
       "    </tr>\n",
       "    <tr>\n",
       "      <th>2</th>\n",
       "      <td>Arizona</td>\n",
       "      <td>7048876</td>\n",
       "    </tr>\n",
       "    <tr>\n",
       "      <th>3</th>\n",
       "      <td>Arkansas</td>\n",
       "      <td>3002997</td>\n",
       "    </tr>\n",
       "    <tr>\n",
       "      <th>4</th>\n",
       "      <td>California</td>\n",
       "      <td>39399349</td>\n",
       "    </tr>\n",
       "  </tbody>\n",
       "</table>\n",
       "</div>"
      ],
      "text/plain": [
       "        state  Population 2017\n",
       "0     Alabama          4875120\n",
       "1      Alaska           739786\n",
       "2     Arizona          7048876\n",
       "3    Arkansas          3002997\n",
       "4  California         39399349"
      ]
     },
     "execution_count": 215,
     "metadata": {},
     "output_type": "execute_result"
    }
   ],
   "source": [
    "census = \"C:\\\\Users\\\\kjyou\\\\Git\\\\GunViolenceDataAnalysis\\\\Resources\\population.xlsx\" \n",
    "\n",
    "census_df = pd.read_excel(census)\n",
    "census_df.head()"
   ]
  },
  {
   "cell_type": "code",
   "execution_count": 216,
   "metadata": {
    "scrolled": true
   },
   "outputs": [
    {
     "data": {
      "text/html": [
       "<div>\n",
       "<style scoped>\n",
       "    .dataframe tbody tr th:only-of-type {\n",
       "        vertical-align: middle;\n",
       "    }\n",
       "\n",
       "    .dataframe tbody tr th {\n",
       "        vertical-align: top;\n",
       "    }\n",
       "\n",
       "    .dataframe thead th {\n",
       "        text-align: right;\n",
       "    }\n",
       "</style>\n",
       "<table border=\"1\" class=\"dataframe\">\n",
       "  <thead>\n",
       "    <tr style=\"text-align: right;\">\n",
       "      <th></th>\n",
       "      <th>state</th>\n",
       "      <th>Gun Violence</th>\n",
       "      <th>Population 2017</th>\n",
       "      <th>Adjusted Violence</th>\n",
       "    </tr>\n",
       "  </thead>\n",
       "  <tbody>\n",
       "    <tr>\n",
       "      <th>30</th>\n",
       "      <td>Kansas</td>\n",
       "      <td>416</td>\n",
       "      <td>2910689</td>\n",
       "      <td>14.292149</td>\n",
       "    </tr>\n",
       "    <tr>\n",
       "      <th>14</th>\n",
       "      <td>Virginia</td>\n",
       "      <td>1324</td>\n",
       "      <td>8465207</td>\n",
       "      <td>15.640492</td>\n",
       "    </tr>\n",
       "    <tr>\n",
       "      <th>23</th>\n",
       "      <td>Oklahoma</td>\n",
       "      <td>633</td>\n",
       "      <td>3932640</td>\n",
       "      <td>16.096058</td>\n",
       "    </tr>\n",
       "    <tr>\n",
       "      <th>7</th>\n",
       "      <td>Georgia</td>\n",
       "      <td>1715</td>\n",
       "      <td>10413055</td>\n",
       "      <td>16.469710</td>\n",
       "    </tr>\n",
       "    <tr>\n",
       "      <th>8</th>\n",
       "      <td>North Carolina</td>\n",
       "      <td>1709</td>\n",
       "      <td>10270800</td>\n",
       "      <td>16.639405</td>\n",
       "    </tr>\n",
       "    <tr>\n",
       "      <th>16</th>\n",
       "      <td>Indiana</td>\n",
       "      <td>1144</td>\n",
       "      <td>6660082</td>\n",
       "      <td>17.176966</td>\n",
       "    </tr>\n",
       "    <tr>\n",
       "      <th>20</th>\n",
       "      <td>Kentucky</td>\n",
       "      <td>791</td>\n",
       "      <td>4453874</td>\n",
       "      <td>17.759820</td>\n",
       "    </tr>\n",
       "    <tr>\n",
       "      <th>40</th>\n",
       "      <td>Alaska</td>\n",
       "      <td>139</td>\n",
       "      <td>739786</td>\n",
       "      <td>18.789217</td>\n",
       "    </tr>\n",
       "    <tr>\n",
       "      <th>4</th>\n",
       "      <td>Ohio</td>\n",
       "      <td>2217</td>\n",
       "      <td>11664129</td>\n",
       "      <td>19.006991</td>\n",
       "    </tr>\n",
       "    <tr>\n",
       "      <th>22</th>\n",
       "      <td>Arkansas</td>\n",
       "      <td>653</td>\n",
       "      <td>3002997</td>\n",
       "      <td>21.744943</td>\n",
       "    </tr>\n",
       "    <tr>\n",
       "      <th>13</th>\n",
       "      <td>Maryland</td>\n",
       "      <td>1335</td>\n",
       "      <td>6024891</td>\n",
       "      <td>22.158077</td>\n",
       "    </tr>\n",
       "    <tr>\n",
       "      <th>15</th>\n",
       "      <td>South Carolina</td>\n",
       "      <td>1186</td>\n",
       "      <td>5021219</td>\n",
       "      <td>23.619762</td>\n",
       "    </tr>\n",
       "    <tr>\n",
       "      <th>10</th>\n",
       "      <td>Missouri</td>\n",
       "      <td>1530</td>\n",
       "      <td>6108612</td>\n",
       "      <td>25.046606</td>\n",
       "    </tr>\n",
       "    <tr>\n",
       "      <th>9</th>\n",
       "      <td>Tennessee</td>\n",
       "      <td>1693</td>\n",
       "      <td>6708794</td>\n",
       "      <td>25.235534</td>\n",
       "    </tr>\n",
       "    <tr>\n",
       "      <th>12</th>\n",
       "      <td>Alabama</td>\n",
       "      <td>1400</td>\n",
       "      <td>4875120</td>\n",
       "      <td>28.717242</td>\n",
       "    </tr>\n",
       "    <tr>\n",
       "      <th>19</th>\n",
       "      <td>Mississippi</td>\n",
       "      <td>917</td>\n",
       "      <td>2989663</td>\n",
       "      <td>30.672353</td>\n",
       "    </tr>\n",
       "    <tr>\n",
       "      <th>34</th>\n",
       "      <td>Delaware</td>\n",
       "      <td>297</td>\n",
       "      <td>957078</td>\n",
       "      <td>31.031954</td>\n",
       "    </tr>\n",
       "    <tr>\n",
       "      <th>0</th>\n",
       "      <td>Illinois</td>\n",
       "      <td>4588</td>\n",
       "      <td>12786196</td>\n",
       "      <td>35.882447</td>\n",
       "    </tr>\n",
       "    <tr>\n",
       "      <th>6</th>\n",
       "      <td>Louisiana</td>\n",
       "      <td>1733</td>\n",
       "      <td>4670818</td>\n",
       "      <td>37.102709</td>\n",
       "    </tr>\n",
       "    <tr>\n",
       "      <th>28</th>\n",
       "      <td>District of Columbia</td>\n",
       "      <td>440</td>\n",
       "      <td>695691</td>\n",
       "      <td>63.246470</td>\n",
       "    </tr>\n",
       "  </tbody>\n",
       "</table>\n",
       "</div>"
      ],
      "text/plain": [
       "                   state  Gun Violence  Population 2017  Adjusted Violence\n",
       "30                Kansas           416          2910689          14.292149\n",
       "14              Virginia          1324          8465207          15.640492\n",
       "23              Oklahoma           633          3932640          16.096058\n",
       "7                Georgia          1715         10413055          16.469710\n",
       "8         North Carolina          1709         10270800          16.639405\n",
       "16               Indiana          1144          6660082          17.176966\n",
       "20              Kentucky           791          4453874          17.759820\n",
       "40                Alaska           139           739786          18.789217\n",
       "4                   Ohio          2217         11664129          19.006991\n",
       "22              Arkansas           653          3002997          21.744943\n",
       "13              Maryland          1335          6024891          22.158077\n",
       "15        South Carolina          1186          5021219          23.619762\n",
       "10              Missouri          1530          6108612          25.046606\n",
       "9              Tennessee          1693          6708794          25.235534\n",
       "12               Alabama          1400          4875120          28.717242\n",
       "19           Mississippi           917          2989663          30.672353\n",
       "34              Delaware           297           957078          31.031954\n",
       "0               Illinois          4588         12786196          35.882447\n",
       "6              Louisiana          1733          4670818          37.102709\n",
       "28  District of Columbia           440           695691          63.246470"
      ]
     },
     "execution_count": 216,
     "metadata": {},
     "output_type": "execute_result"
    }
   ],
   "source": [
    "\n",
    "combined_data_states = pd.merge(top_states_df,census_df,how='outer', on='state')\n",
    "population_adjusted = combined_data_states[\"Population 2017\"]/100000\n",
    "combined_data_states[\"Adjusted Violence\"] = combined_data_states[\"Gun Violence\"] / population_adjusted\n",
    "combined_data_states.head(50)\n",
    "#combined_data.states = combined_data.states.columns.droplevel(0)\n",
    "combined_data_states_two= combined_data_states.sort_values(['Adjusted Violence'], ascending=False)\n",
    "top_20_adjusted = combined_data_states_two.head(20)\n",
    "top_20_adjusted\n",
    "top_20_adjusted = top_20_adjusted.sort_values(['Adjusted Violence'], ascending=True)\n",
    "top_20_adjusted\n"
   ]
  },
  {
   "cell_type": "code",
   "execution_count": 217,
   "metadata": {},
   "outputs": [],
   "source": [
    "state_adjusted = top_20_adjusted['state']\n",
    "gun_violence_adjusted = top_20_adjusted['Adjusted Violence']"
   ]
  },
  {
   "cell_type": "code",
   "execution_count": 218,
   "metadata": {},
   "outputs": [
    {
     "data": {
      "image/png": "[encoded data removed]",
      "text/plain": [
       "<Figure size 432x288 with 1 Axes>"
      ]
     },
     "metadata": {
      "needs_background": "light"
     },
     "output_type": "display_data"
    }
   ],
   "source": [
    "plt.barh(state_adjusted, gun_violence_adjusted, color='r', alpha=0.5, align=\"center\")\n",
    "#plt.xlim(-0.75, len(state)-0.25)\n",
    "#plt.ylim(0, max(gun_violence))\n",
    "plt.xticks(rotation='vertical')\n",
    "plt.title(\"2017 Per Capita Gun Violence Per State (100K)\")\n",
    "plt.xlabel(\"Incidents (per 100K)\")\n",
    "plt.ylabel(\"State\")\n",
    "plt.tight_layout()\n",
    "plt.show()"
   ]
  },
  {
   "cell_type": "code",
   "execution_count": 219,
   "metadata": {},
   "outputs": [
    {
     "data": {
      "text/html": [
       "<div>\n",
       "<style scoped>\n",
       "    .dataframe tbody tr th:only-of-type {\n",
       "        vertical-align: middle;\n",
       "    }\n",
       "\n",
       "    .dataframe tbody tr th {\n",
       "        vertical-align: top;\n",
       "    }\n",
       "\n",
       "    .dataframe thead th {\n",
       "        text-align: right;\n",
       "    }\n",
       "</style>\n",
       "<table border=\"1\" class=\"dataframe\">\n",
       "  <thead>\n",
       "    <tr style=\"text-align: right;\">\n",
       "      <th></th>\n",
       "      <th>city_or_county</th>\n",
       "      <th>Gun Violence</th>\n",
       "    </tr>\n",
       "  </thead>\n",
       "  <tbody>\n",
       "    <tr>\n",
       "      <th>19</th>\n",
       "      <td>Nashville</td>\n",
       "      <td>317</td>\n",
       "    </tr>\n",
       "    <tr>\n",
       "      <th>18</th>\n",
       "      <td>Las Vegas</td>\n",
       "      <td>321</td>\n",
       "    </tr>\n",
       "    <tr>\n",
       "      <th>17</th>\n",
       "      <td>Louisville</td>\n",
       "      <td>327</td>\n",
       "    </tr>\n",
       "    <tr>\n",
       "      <th>16</th>\n",
       "      <td>Richmond</td>\n",
       "      <td>346</td>\n",
       "    </tr>\n",
       "    <tr>\n",
       "      <th>15</th>\n",
       "      <td>San Antonio</td>\n",
       "      <td>350</td>\n",
       "    </tr>\n",
       "    <tr>\n",
       "      <th>14</th>\n",
       "      <td>Kansas City</td>\n",
       "      <td>361</td>\n",
       "    </tr>\n",
       "    <tr>\n",
       "      <th>13</th>\n",
       "      <td>Indianapolis</td>\n",
       "      <td>380</td>\n",
       "    </tr>\n",
       "    <tr>\n",
       "      <th>12</th>\n",
       "      <td>Jacksonville</td>\n",
       "      <td>453</td>\n",
       "    </tr>\n",
       "    <tr>\n",
       "      <th>11</th>\n",
       "      <td>Washington</td>\n",
       "      <td>453</td>\n",
       "    </tr>\n",
       "    <tr>\n",
       "      <th>10</th>\n",
       "      <td>Cleveland</td>\n",
       "      <td>472</td>\n",
       "    </tr>\n",
       "    <tr>\n",
       "      <th>9</th>\n",
       "      <td>Milwaukee</td>\n",
       "      <td>496</td>\n",
       "    </tr>\n",
       "    <tr>\n",
       "      <th>8</th>\n",
       "      <td>Detroit</td>\n",
       "      <td>504</td>\n",
       "    </tr>\n",
       "    <tr>\n",
       "      <th>7</th>\n",
       "      <td>Columbus</td>\n",
       "      <td>547</td>\n",
       "    </tr>\n",
       "    <tr>\n",
       "      <th>6</th>\n",
       "      <td>New Orleans</td>\n",
       "      <td>629</td>\n",
       "    </tr>\n",
       "    <tr>\n",
       "      <th>5</th>\n",
       "      <td>Memphis</td>\n",
       "      <td>650</td>\n",
       "    </tr>\n",
       "    <tr>\n",
       "      <th>4</th>\n",
       "      <td>Houston</td>\n",
       "      <td>657</td>\n",
       "    </tr>\n",
       "    <tr>\n",
       "      <th>3</th>\n",
       "      <td>Philadelphia</td>\n",
       "      <td>683</td>\n",
       "    </tr>\n",
       "    <tr>\n",
       "      <th>2</th>\n",
       "      <td>Saint Louis</td>\n",
       "      <td>756</td>\n",
       "    </tr>\n",
       "    <tr>\n",
       "      <th>1</th>\n",
       "      <td>Baltimore</td>\n",
       "      <td>955</td>\n",
       "    </tr>\n",
       "    <tr>\n",
       "      <th>0</th>\n",
       "      <td>Chicago</td>\n",
       "      <td>3304</td>\n",
       "    </tr>\n",
       "  </tbody>\n",
       "</table>\n",
       "</div>"
      ],
      "text/plain": [
       "   city_or_county  Gun Violence\n",
       "19      Nashville           317\n",
       "18      Las Vegas           321\n",
       "17     Louisville           327\n",
       "16       Richmond           346\n",
       "15    San Antonio           350\n",
       "14    Kansas City           361\n",
       "13   Indianapolis           380\n",
       "12   Jacksonville           453\n",
       "11     Washington           453\n",
       "10      Cleveland           472\n",
       "9       Milwaukee           496\n",
       "8         Detroit           504\n",
       "7        Columbus           547\n",
       "6     New Orleans           629\n",
       "5         Memphis           650\n",
       "4         Houston           657\n",
       "3    Philadelphia           683\n",
       "2     Saint Louis           756\n",
       "1       Baltimore           955\n",
       "0         Chicago          3304"
      ]
     },
     "execution_count": 219,
     "metadata": {},
     "output_type": "execute_result"
    }
   ],
   "source": [
    "#find top Cities \n",
    "top_cities = gun_violence_df.groupby(['city_or_county']).agg({'Total Killed/Injured':['sum']})\n",
    "\n",
    "top_cities.columns = top_cities.columns.droplevel(0)\n",
    "top_cities_final = top_cities.sort_values(['sum'], ascending=False).head(51)\n",
    "\n",
    "top_cities_df = pd.DataFrame(top_cities_final)\n",
    "\n",
    "top_cities_df.columns = ['Gun Violence']\n",
    "\n",
    "top_cities_df = top_cities_df.reset_index()\n",
    "top_20_df_cities = top_cities_df.head(20)\n",
    "top_20_df_cities = top_20_df_cities.sort_values(['Gun Violence'], ascending=True)\n",
    "top_20_df_cities"
   ]
  },
  {
   "cell_type": "code",
   "execution_count": 220,
   "metadata": {},
   "outputs": [
    {
     "data": {
      "text/html": [
       "<div>\n",
       "<style scoped>\n",
       "    .dataframe tbody tr th:only-of-type {\n",
       "        vertical-align: middle;\n",
       "    }\n",
       "\n",
       "    .dataframe tbody tr th {\n",
       "        vertical-align: top;\n",
       "    }\n",
       "\n",
       "    .dataframe thead th {\n",
       "        text-align: right;\n",
       "    }\n",
       "</style>\n",
       "<table border=\"1\" class=\"dataframe\">\n",
       "  <thead>\n",
       "    <tr style=\"text-align: right;\">\n",
       "      <th></th>\n",
       "      <th>city_or_county</th>\n",
       "      <th>Gun Violence</th>\n",
       "    </tr>\n",
       "  </thead>\n",
       "  <tbody>\n",
       "    <tr>\n",
       "      <th>19</th>\n",
       "      <td>Nashville</td>\n",
       "      <td>317</td>\n",
       "    </tr>\n",
       "    <tr>\n",
       "      <th>18</th>\n",
       "      <td>Las Vegas</td>\n",
       "      <td>321</td>\n",
       "    </tr>\n",
       "    <tr>\n",
       "      <th>17</th>\n",
       "      <td>Louisville</td>\n",
       "      <td>327</td>\n",
       "    </tr>\n",
       "    <tr>\n",
       "      <th>16</th>\n",
       "      <td>Richmond</td>\n",
       "      <td>346</td>\n",
       "    </tr>\n",
       "    <tr>\n",
       "      <th>15</th>\n",
       "      <td>San Antonio</td>\n",
       "      <td>350</td>\n",
       "    </tr>\n",
       "    <tr>\n",
       "      <th>14</th>\n",
       "      <td>Kansas City</td>\n",
       "      <td>361</td>\n",
       "    </tr>\n",
       "    <tr>\n",
       "      <th>13</th>\n",
       "      <td>Indianapolis</td>\n",
       "      <td>380</td>\n",
       "    </tr>\n",
       "    <tr>\n",
       "      <th>12</th>\n",
       "      <td>Jacksonville</td>\n",
       "      <td>453</td>\n",
       "    </tr>\n",
       "    <tr>\n",
       "      <th>11</th>\n",
       "      <td>Washington</td>\n",
       "      <td>453</td>\n",
       "    </tr>\n",
       "    <tr>\n",
       "      <th>10</th>\n",
       "      <td>Cleveland</td>\n",
       "      <td>472</td>\n",
       "    </tr>\n",
       "    <tr>\n",
       "      <th>9</th>\n",
       "      <td>Milwaukee</td>\n",
       "      <td>496</td>\n",
       "    </tr>\n",
       "    <tr>\n",
       "      <th>8</th>\n",
       "      <td>Detroit</td>\n",
       "      <td>504</td>\n",
       "    </tr>\n",
       "    <tr>\n",
       "      <th>7</th>\n",
       "      <td>Columbus</td>\n",
       "      <td>547</td>\n",
       "    </tr>\n",
       "    <tr>\n",
       "      <th>6</th>\n",
       "      <td>New Orleans</td>\n",
       "      <td>629</td>\n",
       "    </tr>\n",
       "    <tr>\n",
       "      <th>5</th>\n",
       "      <td>Memphis</td>\n",
       "      <td>650</td>\n",
       "    </tr>\n",
       "    <tr>\n",
       "      <th>4</th>\n",
       "      <td>Houston</td>\n",
       "      <td>657</td>\n",
       "    </tr>\n",
       "    <tr>\n",
       "      <th>3</th>\n",
       "      <td>Philadelphia</td>\n",
       "      <td>683</td>\n",
       "    </tr>\n",
       "    <tr>\n",
       "      <th>2</th>\n",
       "      <td>Saint Louis</td>\n",
       "      <td>756</td>\n",
       "    </tr>\n",
       "    <tr>\n",
       "      <th>1</th>\n",
       "      <td>Baltimore</td>\n",
       "      <td>955</td>\n",
       "    </tr>\n",
       "    <tr>\n",
       "      <th>0</th>\n",
       "      <td>Chicago</td>\n",
       "      <td>3304</td>\n",
       "    </tr>\n",
       "  </tbody>\n",
       "</table>\n",
       "</div>"
      ],
      "text/plain": [
       "   city_or_county  Gun Violence\n",
       "19      Nashville           317\n",
       "18      Las Vegas           321\n",
       "17     Louisville           327\n",
       "16       Richmond           346\n",
       "15    San Antonio           350\n",
       "14    Kansas City           361\n",
       "13   Indianapolis           380\n",
       "12   Jacksonville           453\n",
       "11     Washington           453\n",
       "10      Cleveland           472\n",
       "9       Milwaukee           496\n",
       "8         Detroit           504\n",
       "7        Columbus           547\n",
       "6     New Orleans           629\n",
       "5         Memphis           650\n",
       "4         Houston           657\n",
       "3    Philadelphia           683\n",
       "2     Saint Louis           756\n",
       "1       Baltimore           955\n",
       "0         Chicago          3304"
      ]
     },
     "execution_count": 220,
     "metadata": {},
     "output_type": "execute_result"
    }
   ],
   "source": [
    "#find top Cities \n",
    "top_cities = gun_violence_df.groupby(['city_or_county']).agg({'Total Killed/Injured':['sum']})\n",
    "\n",
    "top_cities.columns = top_cities.columns.droplevel(0)\n",
    "top_cities_final = top_cities.sort_values(['sum'], ascending=False).head(51)\n",
    "\n",
    "top_cities_df = pd.DataFrame(top_cities_final)\n",
    "\n",
    "top_cities_df.columns = ['Gun Violence']\n",
    "\n",
    "top_cities_df = top_cities_df.reset_index()\n",
    "top_20_df_cities = top_cities_df.head(20)\n",
    "top_20_df_cities = top_20_df_cities.sort_values(['Gun Violence'], ascending=True)\n",
    "top_20_df_cities"
   ]
  },
  {
   "cell_type": "code",
   "execution_count": 221,
   "metadata": {},
   "outputs": [],
   "source": [
    "cities = top_20_df_cities['city_or_county']\n",
    "gun_violence_cities = top_20_df_cities['Gun Violence']"
   ]
  },
  {
   "cell_type": "code",
   "execution_count": 222,
   "metadata": {},
   "outputs": [
    {
     "data": {
      "image/png": "[encoded data removed]",
      "text/plain": [
       "<Figure size 432x288 with 1 Axes>"
      ]
     },
     "metadata": {
      "needs_background": "light"
     },
     "output_type": "display_data"
    }
   ],
   "source": [
    "plt.barh(cities, gun_violence_cities, color='darkblue', alpha=0.5, align=\"center\")\n",
    "#plt.xlim(-0.75, len(state)-0.25)\n",
    "#plt.ylim(0, max(gun_violence))\n",
    "plt.xticks(rotation='vertical')\n",
    "plt.title(\"20 Most Violent Cities in 2017\")\n",
    "plt.xlabel(\"Number of Gun Violence Incidents per year (Killed/Injured)\")\n",
    "plt.ylabel(\"City Name\")\n",
    "plt.tight_layout()\n",
    "plt.savefig(\"20 Most Violent Cities in 2017.png\")\n",
    "plt.show()"
   ]
  },
  {
   "cell_type": "code",
   "execution_count": 223,
   "metadata": {},
   "outputs": [
    {
     "data": {
      "text/html": [
       "<div>\n",
       "<style scoped>\n",
       "    .dataframe tbody tr th:only-of-type {\n",
       "        vertical-align: middle;\n",
       "    }\n",
       "\n",
       "    .dataframe tbody tr th {\n",
       "        vertical-align: top;\n",
       "    }\n",
       "\n",
       "    .dataframe thead th {\n",
       "        text-align: right;\n",
       "    }\n",
       "</style>\n",
       "<table border=\"1\" class=\"dataframe\">\n",
       "  <thead>\n",
       "    <tr style=\"text-align: right;\">\n",
       "      <th></th>\n",
       "      <th>city_or_county</th>\n",
       "      <th>Population 2017</th>\n",
       "    </tr>\n",
       "  </thead>\n",
       "  <tbody>\n",
       "    <tr>\n",
       "      <th>0</th>\n",
       "      <td>Chicago</td>\n",
       "      <td>2716000</td>\n",
       "    </tr>\n",
       "    <tr>\n",
       "      <th>1</th>\n",
       "      <td>Baltimore</td>\n",
       "      <td>621647</td>\n",
       "    </tr>\n",
       "    <tr>\n",
       "      <th>2</th>\n",
       "      <td>Saint Louis</td>\n",
       "      <td>334000</td>\n",
       "    </tr>\n",
       "    <tr>\n",
       "      <th>3</th>\n",
       "      <td>Philadelphia</td>\n",
       "      <td>1566400</td>\n",
       "    </tr>\n",
       "    <tr>\n",
       "      <th>4</th>\n",
       "      <td>Houston</td>\n",
       "      <td>2313000</td>\n",
       "    </tr>\n",
       "  </tbody>\n",
       "</table>\n",
       "</div>"
      ],
      "text/plain": [
       "  city_or_county  Population 2017\n",
       "0        Chicago          2716000\n",
       "1      Baltimore           621647\n",
       "2    Saint Louis           334000\n",
       "3   Philadelphia          1566400\n",
       "4        Houston          2313000"
      ]
     },
     "execution_count": 223,
     "metadata": {},
     "output_type": "execute_result"
    }
   ],
   "source": [
    "census_cities = \"C:\\\\Users\\\\kjyou\\\\Git\\\\GunViolenceDataAnalysis\\\\Resources\\population_cities.xlsx\"\n",
    "\n",
    "census_df_cities = pd.read_excel(census_cities)\n",
    "census_df_cities.head()"
   ]
  },
  {
   "cell_type": "code",
   "execution_count": 224,
   "metadata": {},
   "outputs": [
    {
     "data": {
      "text/html": [
       "<div>\n",
       "<style scoped>\n",
       "    .dataframe tbody tr th:only-of-type {\n",
       "        vertical-align: middle;\n",
       "    }\n",
       "\n",
       "    .dataframe tbody tr th {\n",
       "        vertical-align: top;\n",
       "    }\n",
       "\n",
       "    .dataframe thead th {\n",
       "        text-align: right;\n",
       "    }\n",
       "</style>\n",
       "<table border=\"1\" class=\"dataframe\">\n",
       "  <thead>\n",
       "    <tr style=\"text-align: right;\">\n",
       "      <th></th>\n",
       "      <th>city_or_county</th>\n",
       "      <th>Gun Violence</th>\n",
       "      <th>Population 2017</th>\n",
       "      <th>Adjusted Violence Cities</th>\n",
       "    </tr>\n",
       "  </thead>\n",
       "  <tbody>\n",
       "    <tr>\n",
       "      <th>4</th>\n",
       "      <td>San Antonio</td>\n",
       "      <td>350</td>\n",
       "      <td>1500000</td>\n",
       "      <td>23.333333</td>\n",
       "    </tr>\n",
       "    <tr>\n",
       "      <th>15</th>\n",
       "      <td>Houston</td>\n",
       "      <td>657</td>\n",
       "      <td>2313000</td>\n",
       "      <td>28.404669</td>\n",
       "    </tr>\n",
       "    <tr>\n",
       "      <th>6</th>\n",
       "      <td>Indianapolis</td>\n",
       "      <td>380</td>\n",
       "      <td>872680</td>\n",
       "      <td>43.544025</td>\n",
       "    </tr>\n",
       "    <tr>\n",
       "      <th>16</th>\n",
       "      <td>Philadelphia</td>\n",
       "      <td>683</td>\n",
       "      <td>1566400</td>\n",
       "      <td>43.603166</td>\n",
       "    </tr>\n",
       "    <tr>\n",
       "      <th>0</th>\n",
       "      <td>Nashville</td>\n",
       "      <td>317</td>\n",
       "      <td>691243</td>\n",
       "      <td>45.859416</td>\n",
       "    </tr>\n",
       "    <tr>\n",
       "      <th>1</th>\n",
       "      <td>Las Vegas</td>\n",
       "      <td>321</td>\n",
       "      <td>641676</td>\n",
       "      <td>50.025246</td>\n",
       "    </tr>\n",
       "    <tr>\n",
       "      <th>7</th>\n",
       "      <td>Jacksonville</td>\n",
       "      <td>453</td>\n",
       "      <td>892062</td>\n",
       "      <td>50.781224</td>\n",
       "    </tr>\n",
       "    <tr>\n",
       "      <th>2</th>\n",
       "      <td>Louisville</td>\n",
       "      <td>327</td>\n",
       "      <td>620118</td>\n",
       "      <td>52.731899</td>\n",
       "    </tr>\n",
       "    <tr>\n",
       "      <th>12</th>\n",
       "      <td>Columbus</td>\n",
       "      <td>547</td>\n",
       "      <td>879170</td>\n",
       "      <td>62.217774</td>\n",
       "    </tr>\n",
       "    <tr>\n",
       "      <th>8</th>\n",
       "      <td>Washington</td>\n",
       "      <td>453</td>\n",
       "      <td>700505</td>\n",
       "      <td>64.667633</td>\n",
       "    </tr>\n",
       "    <tr>\n",
       "      <th>5</th>\n",
       "      <td>Kansas City</td>\n",
       "      <td>361</td>\n",
       "      <td>488943</td>\n",
       "      <td>73.832737</td>\n",
       "    </tr>\n",
       "    <tr>\n",
       "      <th>11</th>\n",
       "      <td>Detroit</td>\n",
       "      <td>504</td>\n",
       "      <td>673104</td>\n",
       "      <td>74.876988</td>\n",
       "    </tr>\n",
       "    <tr>\n",
       "      <th>10</th>\n",
       "      <td>Milwaukee</td>\n",
       "      <td>496</td>\n",
       "      <td>595351</td>\n",
       "      <td>83.312197</td>\n",
       "    </tr>\n",
       "    <tr>\n",
       "      <th>14</th>\n",
       "      <td>Memphis</td>\n",
       "      <td>650</td>\n",
       "      <td>652236</td>\n",
       "      <td>99.657179</td>\n",
       "    </tr>\n",
       "    <tr>\n",
       "      <th>19</th>\n",
       "      <td>Chicago</td>\n",
       "      <td>3304</td>\n",
       "      <td>2716000</td>\n",
       "      <td>121.649485</td>\n",
       "    </tr>\n",
       "    <tr>\n",
       "      <th>9</th>\n",
       "      <td>Cleveland</td>\n",
       "      <td>472</td>\n",
       "      <td>385525</td>\n",
       "      <td>122.430452</td>\n",
       "    </tr>\n",
       "    <tr>\n",
       "      <th>3</th>\n",
       "      <td>Richmond</td>\n",
       "      <td>346</td>\n",
       "      <td>227032</td>\n",
       "      <td>152.401424</td>\n",
       "    </tr>\n",
       "    <tr>\n",
       "      <th>18</th>\n",
       "      <td>Baltimore</td>\n",
       "      <td>955</td>\n",
       "      <td>621647</td>\n",
       "      <td>153.624163</td>\n",
       "    </tr>\n",
       "    <tr>\n",
       "      <th>13</th>\n",
       "      <td>New Orleans</td>\n",
       "      <td>629</td>\n",
       "      <td>393292</td>\n",
       "      <td>159.932061</td>\n",
       "    </tr>\n",
       "    <tr>\n",
       "      <th>17</th>\n",
       "      <td>Saint Louis</td>\n",
       "      <td>756</td>\n",
       "      <td>334000</td>\n",
       "      <td>226.347305</td>\n",
       "    </tr>\n",
       "  </tbody>\n",
       "</table>\n",
       "</div>"
      ],
      "text/plain": [
       "   city_or_county  Gun Violence  Population 2017  Adjusted Violence Cities\n",
       "4     San Antonio           350          1500000                 23.333333\n",
       "15        Houston           657          2313000                 28.404669\n",
       "6    Indianapolis           380           872680                 43.544025\n",
       "16   Philadelphia           683          1566400                 43.603166\n",
       "0       Nashville           317           691243                 45.859416\n",
       "1       Las Vegas           321           641676                 50.025246\n",
       "7    Jacksonville           453           892062                 50.781224\n",
       "2      Louisville           327           620118                 52.731899\n",
       "12       Columbus           547           879170                 62.217774\n",
       "8      Washington           453           700505                 64.667633\n",
       "5     Kansas City           361           488943                 73.832737\n",
       "11        Detroit           504           673104                 74.876988\n",
       "10      Milwaukee           496           595351                 83.312197\n",
       "14        Memphis           650           652236                 99.657179\n",
       "19        Chicago          3304          2716000                121.649485\n",
       "9       Cleveland           472           385525                122.430452\n",
       "3        Richmond           346           227032                152.401424\n",
       "18      Baltimore           955           621647                153.624163\n",
       "13    New Orleans           629           393292                159.932061\n",
       "17    Saint Louis           756           334000                226.347305"
      ]
     },
     "execution_count": 224,
     "metadata": {},
     "output_type": "execute_result"
    }
   ],
   "source": [
    "combined_data_cities = pd.merge(top_20_df_cities,census_df_cities,how='outer', on='city_or_county')\n",
    "combined_data_cities\n",
    "\n",
    "population_adjusted_cities = combined_data_cities[\"Population 2017\"]/100000\n",
    "combined_data_cities[\"Adjusted Violence Cities\"] = combined_data_cities[\"Gun Violence\"] / population_adjusted_cities\n",
    "combined_data_cities.head(20)\n",
    "\n",
    "combined_data_cities_two= combined_data_cities.sort_values(['Adjusted Violence Cities'], ascending=False)\n",
    "top_20_adjusted_cities = combined_data_cities_two.head(20)\n",
    "top_20_adjusted_cities\n",
    "top_20_adjusted_cities = top_20_adjusted_cities.sort_values(['Adjusted Violence Cities'], ascending=True)\n",
    "top_20_adjusted_cities"
   ]
  },
  {
   "cell_type": "code",
   "execution_count": 225,
   "metadata": {},
   "outputs": [],
   "source": [
    "cities_adjusted = top_20_adjusted_cities['city_or_county']\n",
    "gun_violence_adjusted_cities = top_20_adjusted_cities['Adjusted Violence Cities']"
   ]
  },
  {
   "cell_type": "code",
   "execution_count": 226,
   "metadata": {},
   "outputs": [
    {
     "data": {
      "image/png": "[encoded data removed]",
      "text/plain": [
       "<Figure size 432x288 with 1 Axes>"
      ]
     },
     "metadata": {
      "needs_background": "light"
     },
     "output_type": "display_data"
    }
   ],
   "source": [
    "plt.barh(cities_adjusted, gun_violence_adjusted_cities, color='darkblue', alpha=0.5, align=\"center\")\n",
    "#plt.xlim(-0.75, len(state)-0.25)\n",
    "#plt.ylim(0, max(gun_violence))\n",
    "plt.xticks(rotation='vertical')\n",
    "plt.title(\"Adjusted Gun Violence per 100,000 people by City\")\n",
    "plt.xlabel(\"Adjusted Number of Gun Violence Incidents per City population (Killed/Injured)\")\n",
    "plt.ylabel(\"City Name\")\n",
    "plt.tight_layout()\n",
    "plt.savefig(\"Adjusted Gun Violence per 100,000 people by City.png\")\n",
    "plt.show()"
   ]
  },
  {
   "cell_type": "code",
   "execution_count": 227,
   "metadata": {},
   "outputs": [
    {
     "data": {
      "text/html": [
       "<div>\n",
       "<style scoped>\n",
       "    .dataframe tbody tr th:only-of-type {\n",
       "        vertical-align: middle;\n",
       "    }\n",
       "\n",
       "    .dataframe tbody tr th {\n",
       "        vertical-align: top;\n",
       "    }\n",
       "\n",
       "    .dataframe thead th {\n",
       "        text-align: right;\n",
       "    }\n",
       "</style>\n",
       "<table border=\"1\" class=\"dataframe\">\n",
       "  <thead>\n",
       "    <tr style=\"text-align: right;\">\n",
       "      <th></th>\n",
       "      <th>city_or_county</th>\n",
       "      <th>Poverty Rate 2017(%)</th>\n",
       "    </tr>\n",
       "  </thead>\n",
       "  <tbody>\n",
       "    <tr>\n",
       "      <th>0</th>\n",
       "      <td>Chicago</td>\n",
       "      <td>20.6</td>\n",
       "    </tr>\n",
       "    <tr>\n",
       "      <th>1</th>\n",
       "      <td>Baltimore</td>\n",
       "      <td>23.8</td>\n",
       "    </tr>\n",
       "    <tr>\n",
       "      <th>2</th>\n",
       "      <td>Saint Louis</td>\n",
       "      <td>12.0</td>\n",
       "    </tr>\n",
       "    <tr>\n",
       "      <th>3</th>\n",
       "      <td>Philadelphia</td>\n",
       "      <td>25.7</td>\n",
       "    </tr>\n",
       "    <tr>\n",
       "      <th>4</th>\n",
       "      <td>Houston</td>\n",
       "      <td>15.6</td>\n",
       "    </tr>\n",
       "  </tbody>\n",
       "</table>\n",
       "</div>"
      ],
      "text/plain": [
       "  city_or_county  Poverty Rate 2017(%)\n",
       "0        Chicago                  20.6\n",
       "1      Baltimore                  23.8\n",
       "2    Saint Louis                  12.0\n",
       "3   Philadelphia                  25.7\n",
       "4        Houston                  15.6"
      ]
     },
     "execution_count": 227,
     "metadata": {},
     "output_type": "execute_result"
    }
   ],
   "source": [
    "poverty_rate = \"C:\\\\Users\\\\kjyou\\\\Git\\\\GunViolenceDataAnalysis\\\\Resources\\poverty rate.xlsx\"\n",
    "\n",
    "poverty_df = pd.read_excel(poverty_rate)\n",
    "poverty_df.head()"
   ]
  },
  {
   "cell_type": "code",
   "execution_count": 228,
   "metadata": {},
   "outputs": [
    {
     "data": {
      "text/html": [
       "<div>\n",
       "<style scoped>\n",
       "    .dataframe tbody tr th:only-of-type {\n",
       "        vertical-align: middle;\n",
       "    }\n",
       "\n",
       "    .dataframe tbody tr th {\n",
       "        vertical-align: top;\n",
       "    }\n",
       "\n",
       "    .dataframe thead th {\n",
       "        text-align: right;\n",
       "    }\n",
       "</style>\n",
       "<table border=\"1\" class=\"dataframe\">\n",
       "  <thead>\n",
       "    <tr style=\"text-align: right;\">\n",
       "      <th></th>\n",
       "      <th>city_or_county</th>\n",
       "      <th>Gun Violence</th>\n",
       "      <th>Poverty Rate 2017(%)</th>\n",
       "    </tr>\n",
       "  </thead>\n",
       "  <tbody>\n",
       "    <tr>\n",
       "      <th>0</th>\n",
       "      <td>Nashville</td>\n",
       "      <td>317</td>\n",
       "      <td>17.2</td>\n",
       "    </tr>\n",
       "    <tr>\n",
       "      <th>1</th>\n",
       "      <td>Las Vegas</td>\n",
       "      <td>321</td>\n",
       "      <td>16.2</td>\n",
       "    </tr>\n",
       "    <tr>\n",
       "      <th>2</th>\n",
       "      <td>Louisville</td>\n",
       "      <td>327</td>\n",
       "      <td>7.2</td>\n",
       "    </tr>\n",
       "    <tr>\n",
       "      <th>3</th>\n",
       "      <td>Richmond</td>\n",
       "      <td>346</td>\n",
       "      <td>25.2</td>\n",
       "    </tr>\n",
       "    <tr>\n",
       "      <th>4</th>\n",
       "      <td>San Antonio</td>\n",
       "      <td>350</td>\n",
       "      <td>18.6</td>\n",
       "    </tr>\n",
       "    <tr>\n",
       "      <th>5</th>\n",
       "      <td>Kansas City</td>\n",
       "      <td>361</td>\n",
       "      <td>17.3</td>\n",
       "    </tr>\n",
       "    <tr>\n",
       "      <th>6</th>\n",
       "      <td>Indianapolis</td>\n",
       "      <td>380</td>\n",
       "      <td>20.1</td>\n",
       "    </tr>\n",
       "    <tr>\n",
       "      <th>7</th>\n",
       "      <td>Jacksonville</td>\n",
       "      <td>453</td>\n",
       "      <td>16.4</td>\n",
       "    </tr>\n",
       "    <tr>\n",
       "      <th>8</th>\n",
       "      <td>Washington</td>\n",
       "      <td>453</td>\n",
       "      <td>11.3</td>\n",
       "    </tr>\n",
       "    <tr>\n",
       "      <th>9</th>\n",
       "      <td>Cleveland</td>\n",
       "      <td>472</td>\n",
       "      <td>36.2</td>\n",
       "    </tr>\n",
       "    <tr>\n",
       "      <th>10</th>\n",
       "      <td>Milwaukee</td>\n",
       "      <td>496</td>\n",
       "      <td>27.4</td>\n",
       "    </tr>\n",
       "    <tr>\n",
       "      <th>11</th>\n",
       "      <td>Detroit</td>\n",
       "      <td>504</td>\n",
       "      <td>34.5</td>\n",
       "    </tr>\n",
       "    <tr>\n",
       "      <th>12</th>\n",
       "      <td>Columbus</td>\n",
       "      <td>547</td>\n",
       "      <td>19.8</td>\n",
       "    </tr>\n",
       "    <tr>\n",
       "      <th>13</th>\n",
       "      <td>New Orleans</td>\n",
       "      <td>629</td>\n",
       "      <td>18.6</td>\n",
       "    </tr>\n",
       "    <tr>\n",
       "      <th>14</th>\n",
       "      <td>Memphis</td>\n",
       "      <td>650</td>\n",
       "      <td>26.9</td>\n",
       "    </tr>\n",
       "    <tr>\n",
       "      <th>15</th>\n",
       "      <td>Houston</td>\n",
       "      <td>657</td>\n",
       "      <td>15.6</td>\n",
       "    </tr>\n",
       "    <tr>\n",
       "      <th>16</th>\n",
       "      <td>Philadelphia</td>\n",
       "      <td>683</td>\n",
       "      <td>25.7</td>\n",
       "    </tr>\n",
       "    <tr>\n",
       "      <th>17</th>\n",
       "      <td>Saint Louis</td>\n",
       "      <td>756</td>\n",
       "      <td>12.0</td>\n",
       "    </tr>\n",
       "    <tr>\n",
       "      <th>18</th>\n",
       "      <td>Baltimore</td>\n",
       "      <td>955</td>\n",
       "      <td>23.8</td>\n",
       "    </tr>\n",
       "    <tr>\n",
       "      <th>19</th>\n",
       "      <td>Chicago</td>\n",
       "      <td>3304</td>\n",
       "      <td>20.6</td>\n",
       "    </tr>\n",
       "  </tbody>\n",
       "</table>\n",
       "</div>"
      ],
      "text/plain": [
       "   city_or_county  Gun Violence  Poverty Rate 2017(%)\n",
       "0       Nashville           317                  17.2\n",
       "1       Las Vegas           321                  16.2\n",
       "2      Louisville           327                   7.2\n",
       "3        Richmond           346                  25.2\n",
       "4     San Antonio           350                  18.6\n",
       "5     Kansas City           361                  17.3\n",
       "6    Indianapolis           380                  20.1\n",
       "7    Jacksonville           453                  16.4\n",
       "8      Washington           453                  11.3\n",
       "9       Cleveland           472                  36.2\n",
       "10      Milwaukee           496                  27.4\n",
       "11        Detroit           504                  34.5\n",
       "12       Columbus           547                  19.8\n",
       "13    New Orleans           629                  18.6\n",
       "14        Memphis           650                  26.9\n",
       "15        Houston           657                  15.6\n",
       "16   Philadelphia           683                  25.7\n",
       "17    Saint Louis           756                  12.0\n",
       "18      Baltimore           955                  23.8\n",
       "19        Chicago          3304                  20.6"
      ]
     },
     "execution_count": 228,
     "metadata": {},
     "output_type": "execute_result"
    }
   ],
   "source": [
    "combined_poverty = pd.merge(top_20_df_cities,poverty_df,how='outer', on='city_or_county')\n",
    "combined_poverty\n",
    "combined_poverty= combined_poverty.sort_values(['Gun Violence'], ascending=False)\n",
    "top_20_poverty = combined_poverty.head(20)\n",
    "top_20_poverty\n",
    "top_20_poverty = top_20_poverty.sort_values(['Gun Violence'], ascending=True)\n",
    "top_20_poverty"
   ]
  },
  {
   "cell_type": "code",
   "execution_count": 229,
   "metadata": {},
   "outputs": [],
   "source": [
    "cities_poverty = top_20_poverty['city_or_county']\n",
    "poverty_gun_violence = top_20_poverty['Gun Violence']\n",
    "poverty_level = top_20_poverty['Poverty Rate 2017(%)']"
   ]
  },
  {
   "cell_type": "code",
   "execution_count": 230,
   "metadata": {},
   "outputs": [
    {
     "data": {
      "image/png": "[encoded data removed]",
      "text/plain": [
       "<Figure size 432x288 with 1 Axes>"
      ]
     },
     "metadata": {
      "needs_background": "light"
     },
     "output_type": "display_data"
    }
   ],
   "source": [
    "plt.barh(cities_poverty, poverty_level, color='salmon', alpha=0.5, align=\"center\")\n",
    "#plt.xlim(-0.75, len(state)-0.25)\n",
    "#plt.ylim(0, max(gun_violence))\n",
    "plt.xticks(rotation='vertical')\n",
    "plt.title(\"Poverty Rate for the Top 20 violent cities in 2017\")\n",
    "plt.xlabel(\"Poverty Rate (%)\")\n",
    "plt.ylabel(\"City Name\")\n",
    "plt.tight_layout()\n",
    "for i, v in enumerate (list(poverty_level)):\n",
    "    plt.text(v, i, str(v), color= 'black')\n",
    "\n",
    "plt.savefig(\"Poverty Rate for the Top 20 Violent Cities in 2017.png\")\n",
    "plt.show()"
   ]
  },
  {
   "cell_type": "code",
   "execution_count": 231,
   "metadata": {},
   "outputs": [],
   "source": [
    "#DAVIS"
   ]
  },
  {
   "cell_type": "code",
   "execution_count": 232,
   "metadata": {},
   "outputs": [
    {
     "data": {
      "text/plain": [
       "[5471,\n",
       " 1349,\n",
       " 2328,\n",
       " 2842,\n",
       " 16306,\n",
       " 3201,\n",
       " 3067,\n",
       " 1685,\n",
       " 15029,\n",
       " 8925,\n",
       " 289,\n",
       " 661,\n",
       " 17556,\n",
       " 5852,\n",
       " 2517,\n",
       " 2145,\n",
       " 4157,\n",
       " 8103,\n",
       " 907,\n",
       " 5798,\n",
       " 5981,\n",
       " 6136,\n",
       " 2408,\n",
       " 3599,\n",
       " 6631,\n",
       " 638,\n",
       " 1651,\n",
       " 1952,\n",
       " 964,\n",
       " 5387,\n",
       " 1645,\n",
       " 9712,\n",
       " 8739,\n",
       " 573,\n",
       " 10244,\n",
       " 3455,\n",
       " 2286,\n",
       " 8929,\n",
       " 895,\n",
       " 6939,\n",
       " 544,\n",
       " 7626,\n",
       " 13577,\n",
       " 1072,\n",
       " 472,\n",
       " 5949,\n",
       " 3434,\n",
       " 1575,\n",
       " 4787,\n",
       " 494]"
      ]
     },
     "execution_count": 232,
     "metadata": {},
     "output_type": "execute_result"
    }
   ],
   "source": [
    "#creating a list of incidents by each state and removing Washington D.C.\n",
    "state_groupby = violence_data.groupby(\"state\")\n",
    "\n",
    "state_list = list(state_groupby[\"state\"])\n",
    "\n",
    "state_group_count_dc = state_groupby.count()[\"incident_id\"]\n",
    "\n",
    "state_group_count = list(state_group_count_dc.drop(\"District of Columbia\", axis = 0))\n",
    "\n",
    "state_group_count"
   ]
  },
  {
   "cell_type": "code",
   "execution_count": 233,
   "metadata": {},
   "outputs": [
    {
     "data": {
      "text/html": [
       "<div>\n",
       "<style scoped>\n",
       "    .dataframe tbody tr th:only-of-type {\n",
       "        vertical-align: middle;\n",
       "    }\n",
       "\n",
       "    .dataframe tbody tr th {\n",
       "        vertical-align: top;\n",
       "    }\n",
       "\n",
       "    .dataframe thead th {\n",
       "        text-align: right;\n",
       "    }\n",
       "</style>\n",
       "<table border=\"1\" class=\"dataframe\">\n",
       "  <thead>\n",
       "    <tr style=\"text-align: right;\">\n",
       "      <th></th>\n",
       "      <th>state</th>\n",
       "      <th>lawtotal</th>\n",
       "    </tr>\n",
       "  </thead>\n",
       "  <tbody>\n",
       "    <tr>\n",
       "      <th>0</th>\n",
       "      <td>Alabama</td>\n",
       "      <td>10</td>\n",
       "    </tr>\n",
       "    <tr>\n",
       "      <th>1</th>\n",
       "      <td>Alaska</td>\n",
       "      <td>4</td>\n",
       "    </tr>\n",
       "    <tr>\n",
       "      <th>2</th>\n",
       "      <td>Arizona</td>\n",
       "      <td>11</td>\n",
       "    </tr>\n",
       "    <tr>\n",
       "      <th>3</th>\n",
       "      <td>Arkansas</td>\n",
       "      <td>11</td>\n",
       "    </tr>\n",
       "    <tr>\n",
       "      <th>4</th>\n",
       "      <td>California</td>\n",
       "      <td>106</td>\n",
       "    </tr>\n",
       "    <tr>\n",
       "      <th>5</th>\n",
       "      <td>Colorado</td>\n",
       "      <td>30</td>\n",
       "    </tr>\n",
       "    <tr>\n",
       "      <th>6</th>\n",
       "      <td>Connecticut</td>\n",
       "      <td>89</td>\n",
       "    </tr>\n",
       "    <tr>\n",
       "      <th>7</th>\n",
       "      <td>Delaware</td>\n",
       "      <td>40</td>\n",
       "    </tr>\n",
       "    <tr>\n",
       "      <th>8</th>\n",
       "      <td>Florida</td>\n",
       "      <td>21</td>\n",
       "    </tr>\n",
       "    <tr>\n",
       "      <th>9</th>\n",
       "      <td>Georgia</td>\n",
       "      <td>6</td>\n",
       "    </tr>\n",
       "    <tr>\n",
       "      <th>10</th>\n",
       "      <td>Hawaii</td>\n",
       "      <td>78</td>\n",
       "    </tr>\n",
       "    <tr>\n",
       "      <th>11</th>\n",
       "      <td>Idaho</td>\n",
       "      <td>4</td>\n",
       "    </tr>\n",
       "    <tr>\n",
       "      <th>12</th>\n",
       "      <td>Illinois</td>\n",
       "      <td>64</td>\n",
       "    </tr>\n",
       "    <tr>\n",
       "      <th>13</th>\n",
       "      <td>Indiana</td>\n",
       "      <td>12</td>\n",
       "    </tr>\n",
       "    <tr>\n",
       "      <th>14</th>\n",
       "      <td>Iowa</td>\n",
       "      <td>24</td>\n",
       "    </tr>\n",
       "    <tr>\n",
       "      <th>15</th>\n",
       "      <td>Kansas</td>\n",
       "      <td>7</td>\n",
       "    </tr>\n",
       "    <tr>\n",
       "      <th>16</th>\n",
       "      <td>Kentucky</td>\n",
       "      <td>7</td>\n",
       "    </tr>\n",
       "    <tr>\n",
       "      <th>17</th>\n",
       "      <td>Louisiana</td>\n",
       "      <td>12</td>\n",
       "    </tr>\n",
       "    <tr>\n",
       "      <th>18</th>\n",
       "      <td>Maine</td>\n",
       "      <td>12</td>\n",
       "    </tr>\n",
       "    <tr>\n",
       "      <th>19</th>\n",
       "      <td>Maryland</td>\n",
       "      <td>64</td>\n",
       "    </tr>\n",
       "    <tr>\n",
       "      <th>20</th>\n",
       "      <td>Massachusetts</td>\n",
       "      <td>100</td>\n",
       "    </tr>\n",
       "    <tr>\n",
       "      <th>21</th>\n",
       "      <td>Michigan</td>\n",
       "      <td>21</td>\n",
       "    </tr>\n",
       "    <tr>\n",
       "      <th>22</th>\n",
       "      <td>Minnesota</td>\n",
       "      <td>41</td>\n",
       "    </tr>\n",
       "    <tr>\n",
       "      <th>23</th>\n",
       "      <td>Mississippi</td>\n",
       "      <td>5</td>\n",
       "    </tr>\n",
       "    <tr>\n",
       "      <th>24</th>\n",
       "      <td>Missouri</td>\n",
       "      <td>6</td>\n",
       "    </tr>\n",
       "    <tr>\n",
       "      <th>25</th>\n",
       "      <td>Montana</td>\n",
       "      <td>4</td>\n",
       "    </tr>\n",
       "    <tr>\n",
       "      <th>26</th>\n",
       "      <td>Nebraska</td>\n",
       "      <td>22</td>\n",
       "    </tr>\n",
       "    <tr>\n",
       "      <th>27</th>\n",
       "      <td>Nevada</td>\n",
       "      <td>21</td>\n",
       "    </tr>\n",
       "    <tr>\n",
       "      <th>28</th>\n",
       "      <td>New Hampshire</td>\n",
       "      <td>9</td>\n",
       "    </tr>\n",
       "    <tr>\n",
       "      <th>29</th>\n",
       "      <td>New Jersey</td>\n",
       "      <td>75</td>\n",
       "    </tr>\n",
       "    <tr>\n",
       "      <th>30</th>\n",
       "      <td>New Mexico</td>\n",
       "      <td>10</td>\n",
       "    </tr>\n",
       "    <tr>\n",
       "      <th>31</th>\n",
       "      <td>New York</td>\n",
       "      <td>75</td>\n",
       "    </tr>\n",
       "    <tr>\n",
       "      <th>32</th>\n",
       "      <td>North Carolina</td>\n",
       "      <td>30</td>\n",
       "    </tr>\n",
       "    <tr>\n",
       "      <th>33</th>\n",
       "      <td>North Dakota</td>\n",
       "      <td>13</td>\n",
       "    </tr>\n",
       "    <tr>\n",
       "      <th>34</th>\n",
       "      <td>Ohio</td>\n",
       "      <td>16</td>\n",
       "    </tr>\n",
       "    <tr>\n",
       "      <th>35</th>\n",
       "      <td>Oklahoma</td>\n",
       "      <td>9</td>\n",
       "    </tr>\n",
       "    <tr>\n",
       "      <th>36</th>\n",
       "      <td>Oregon</td>\n",
       "      <td>35</td>\n",
       "    </tr>\n",
       "    <tr>\n",
       "      <th>37</th>\n",
       "      <td>Pennsylvania</td>\n",
       "      <td>36</td>\n",
       "    </tr>\n",
       "    <tr>\n",
       "      <th>38</th>\n",
       "      <td>Rhode Island</td>\n",
       "      <td>43</td>\n",
       "    </tr>\n",
       "    <tr>\n",
       "      <th>39</th>\n",
       "      <td>South Carolina</td>\n",
       "      <td>12</td>\n",
       "    </tr>\n",
       "    <tr>\n",
       "      <th>40</th>\n",
       "      <td>South Dakota</td>\n",
       "      <td>5</td>\n",
       "    </tr>\n",
       "    <tr>\n",
       "      <th>41</th>\n",
       "      <td>Tennessee</td>\n",
       "      <td>22</td>\n",
       "    </tr>\n",
       "    <tr>\n",
       "      <th>42</th>\n",
       "      <td>Texas</td>\n",
       "      <td>18</td>\n",
       "    </tr>\n",
       "    <tr>\n",
       "      <th>43</th>\n",
       "      <td>Utah</td>\n",
       "      <td>13</td>\n",
       "    </tr>\n",
       "    <tr>\n",
       "      <th>44</th>\n",
       "      <td>Vermont</td>\n",
       "      <td>6</td>\n",
       "    </tr>\n",
       "    <tr>\n",
       "      <th>45</th>\n",
       "      <td>Virginia</td>\n",
       "      <td>13</td>\n",
       "    </tr>\n",
       "    <tr>\n",
       "      <th>46</th>\n",
       "      <td>Washington</td>\n",
       "      <td>43</td>\n",
       "    </tr>\n",
       "    <tr>\n",
       "      <th>47</th>\n",
       "      <td>West Virginia</td>\n",
       "      <td>21</td>\n",
       "    </tr>\n",
       "    <tr>\n",
       "      <th>48</th>\n",
       "      <td>Wisconsin</td>\n",
       "      <td>23</td>\n",
       "    </tr>\n",
       "    <tr>\n",
       "      <th>49</th>\n",
       "      <td>Wyoming</td>\n",
       "      <td>9</td>\n",
       "    </tr>\n",
       "  </tbody>\n",
       "</table>\n",
       "</div>"
      ],
      "text/plain": [
       "             state  lawtotal\n",
       "0          Alabama        10\n",
       "1           Alaska         4\n",
       "2          Arizona        11\n",
       "3         Arkansas        11\n",
       "4       California       106\n",
       "5         Colorado        30\n",
       "6      Connecticut        89\n",
       "7         Delaware        40\n",
       "8          Florida        21\n",
       "9          Georgia         6\n",
       "10          Hawaii        78\n",
       "11           Idaho         4\n",
       "12        Illinois        64\n",
       "13         Indiana        12\n",
       "14            Iowa        24\n",
       "15          Kansas         7\n",
       "16        Kentucky         7\n",
       "17       Louisiana        12\n",
       "18           Maine        12\n",
       "19        Maryland        64\n",
       "20   Massachusetts       100\n",
       "21        Michigan        21\n",
       "22       Minnesota        41\n",
       "23     Mississippi         5\n",
       "24        Missouri         6\n",
       "25         Montana         4\n",
       "26        Nebraska        22\n",
       "27          Nevada        21\n",
       "28   New Hampshire         9\n",
       "29      New Jersey        75\n",
       "30      New Mexico        10\n",
       "31        New York        75\n",
       "32  North Carolina        30\n",
       "33    North Dakota        13\n",
       "34            Ohio        16\n",
       "35        Oklahoma         9\n",
       "36          Oregon        35\n",
       "37    Pennsylvania        36\n",
       "38    Rhode Island        43\n",
       "39  South Carolina        12\n",
       "40    South Dakota         5\n",
       "41       Tennessee        22\n",
       "42           Texas        18\n",
       "43            Utah        13\n",
       "44         Vermont         6\n",
       "45        Virginia        13\n",
       "46      Washington        43\n",
       "47   West Virginia        21\n",
       "48       Wisconsin        23\n",
       "49         Wyoming         9"
      ]
     },
     "execution_count": 233,
     "metadata": {},
     "output_type": "execute_result"
    }
   ],
   "source": [
    "#creating a new dataframe with states and total laws by each state\n",
    "state_total = law_data_df[[\"state\",\"lawtotal\"]]\n",
    "state_total"
   ]
  },
  {
   "cell_type": "code",
   "execution_count": 234,
   "metadata": {},
   "outputs": [
    {
     "data": {
      "text/html": [
       "<div>\n",
       "<style scoped>\n",
       "    .dataframe tbody tr th:only-of-type {\n",
       "        vertical-align: middle;\n",
       "    }\n",
       "\n",
       "    .dataframe tbody tr th {\n",
       "        vertical-align: top;\n",
       "    }\n",
       "\n",
       "    .dataframe thead th {\n",
       "        text-align: right;\n",
       "    }\n",
       "</style>\n",
       "<table border=\"1\" class=\"dataframe\">\n",
       "  <thead>\n",
       "    <tr style=\"text-align: right;\">\n",
       "      <th></th>\n",
       "      <th>State</th>\n",
       "      <th>Laws</th>\n",
       "      <th>Incidents</th>\n",
       "    </tr>\n",
       "  </thead>\n",
       "  <tbody>\n",
       "    <tr>\n",
       "      <th>0</th>\n",
       "      <td>Alabama</td>\n",
       "      <td>10</td>\n",
       "      <td>5471</td>\n",
       "    </tr>\n",
       "    <tr>\n",
       "      <th>1</th>\n",
       "      <td>Alaska</td>\n",
       "      <td>4</td>\n",
       "      <td>1349</td>\n",
       "    </tr>\n",
       "    <tr>\n",
       "      <th>2</th>\n",
       "      <td>Arizona</td>\n",
       "      <td>11</td>\n",
       "      <td>2328</td>\n",
       "    </tr>\n",
       "    <tr>\n",
       "      <th>3</th>\n",
       "      <td>Arkansas</td>\n",
       "      <td>11</td>\n",
       "      <td>2842</td>\n",
       "    </tr>\n",
       "    <tr>\n",
       "      <th>4</th>\n",
       "      <td>California</td>\n",
       "      <td>106</td>\n",
       "      <td>16306</td>\n",
       "    </tr>\n",
       "    <tr>\n",
       "      <th>5</th>\n",
       "      <td>Colorado</td>\n",
       "      <td>30</td>\n",
       "      <td>3201</td>\n",
       "    </tr>\n",
       "    <tr>\n",
       "      <th>6</th>\n",
       "      <td>Connecticut</td>\n",
       "      <td>89</td>\n",
       "      <td>3067</td>\n",
       "    </tr>\n",
       "    <tr>\n",
       "      <th>7</th>\n",
       "      <td>Delaware</td>\n",
       "      <td>40</td>\n",
       "      <td>1685</td>\n",
       "    </tr>\n",
       "    <tr>\n",
       "      <th>8</th>\n",
       "      <td>Florida</td>\n",
       "      <td>21</td>\n",
       "      <td>15029</td>\n",
       "    </tr>\n",
       "    <tr>\n",
       "      <th>9</th>\n",
       "      <td>Georgia</td>\n",
       "      <td>6</td>\n",
       "      <td>8925</td>\n",
       "    </tr>\n",
       "    <tr>\n",
       "      <th>10</th>\n",
       "      <td>Hawaii</td>\n",
       "      <td>78</td>\n",
       "      <td>289</td>\n",
       "    </tr>\n",
       "    <tr>\n",
       "      <th>11</th>\n",
       "      <td>Idaho</td>\n",
       "      <td>4</td>\n",
       "      <td>661</td>\n",
       "    </tr>\n",
       "    <tr>\n",
       "      <th>12</th>\n",
       "      <td>Illinois</td>\n",
       "      <td>64</td>\n",
       "      <td>17556</td>\n",
       "    </tr>\n",
       "    <tr>\n",
       "      <th>13</th>\n",
       "      <td>Indiana</td>\n",
       "      <td>12</td>\n",
       "      <td>5852</td>\n",
       "    </tr>\n",
       "    <tr>\n",
       "      <th>14</th>\n",
       "      <td>Iowa</td>\n",
       "      <td>24</td>\n",
       "      <td>2517</td>\n",
       "    </tr>\n",
       "    <tr>\n",
       "      <th>15</th>\n",
       "      <td>Kansas</td>\n",
       "      <td>7</td>\n",
       "      <td>2145</td>\n",
       "    </tr>\n",
       "    <tr>\n",
       "      <th>16</th>\n",
       "      <td>Kentucky</td>\n",
       "      <td>7</td>\n",
       "      <td>4157</td>\n",
       "    </tr>\n",
       "    <tr>\n",
       "      <th>17</th>\n",
       "      <td>Louisiana</td>\n",
       "      <td>12</td>\n",
       "      <td>8103</td>\n",
       "    </tr>\n",
       "    <tr>\n",
       "      <th>18</th>\n",
       "      <td>Maine</td>\n",
       "      <td>12</td>\n",
       "      <td>907</td>\n",
       "    </tr>\n",
       "    <tr>\n",
       "      <th>19</th>\n",
       "      <td>Maryland</td>\n",
       "      <td>64</td>\n",
       "      <td>5798</td>\n",
       "    </tr>\n",
       "    <tr>\n",
       "      <th>20</th>\n",
       "      <td>Massachusetts</td>\n",
       "      <td>100</td>\n",
       "      <td>5981</td>\n",
       "    </tr>\n",
       "    <tr>\n",
       "      <th>21</th>\n",
       "      <td>Michigan</td>\n",
       "      <td>21</td>\n",
       "      <td>6136</td>\n",
       "    </tr>\n",
       "    <tr>\n",
       "      <th>22</th>\n",
       "      <td>Minnesota</td>\n",
       "      <td>41</td>\n",
       "      <td>2408</td>\n",
       "    </tr>\n",
       "    <tr>\n",
       "      <th>23</th>\n",
       "      <td>Mississippi</td>\n",
       "      <td>5</td>\n",
       "      <td>3599</td>\n",
       "    </tr>\n",
       "    <tr>\n",
       "      <th>24</th>\n",
       "      <td>Missouri</td>\n",
       "      <td>6</td>\n",
       "      <td>6631</td>\n",
       "    </tr>\n",
       "    <tr>\n",
       "      <th>25</th>\n",
       "      <td>Montana</td>\n",
       "      <td>4</td>\n",
       "      <td>638</td>\n",
       "    </tr>\n",
       "    <tr>\n",
       "      <th>26</th>\n",
       "      <td>Nebraska</td>\n",
       "      <td>22</td>\n",
       "      <td>1651</td>\n",
       "    </tr>\n",
       "    <tr>\n",
       "      <th>27</th>\n",
       "      <td>Nevada</td>\n",
       "      <td>21</td>\n",
       "      <td>1952</td>\n",
       "    </tr>\n",
       "    <tr>\n",
       "      <th>28</th>\n",
       "      <td>New Hampshire</td>\n",
       "      <td>9</td>\n",
       "      <td>964</td>\n",
       "    </tr>\n",
       "    <tr>\n",
       "      <th>29</th>\n",
       "      <td>New Jersey</td>\n",
       "      <td>75</td>\n",
       "      <td>5387</td>\n",
       "    </tr>\n",
       "    <tr>\n",
       "      <th>30</th>\n",
       "      <td>New Mexico</td>\n",
       "      <td>10</td>\n",
       "      <td>1645</td>\n",
       "    </tr>\n",
       "    <tr>\n",
       "      <th>31</th>\n",
       "      <td>New York</td>\n",
       "      <td>75</td>\n",
       "      <td>9712</td>\n",
       "    </tr>\n",
       "    <tr>\n",
       "      <th>32</th>\n",
       "      <td>North Carolina</td>\n",
       "      <td>30</td>\n",
       "      <td>8739</td>\n",
       "    </tr>\n",
       "    <tr>\n",
       "      <th>33</th>\n",
       "      <td>North Dakota</td>\n",
       "      <td>13</td>\n",
       "      <td>573</td>\n",
       "    </tr>\n",
       "    <tr>\n",
       "      <th>34</th>\n",
       "      <td>Ohio</td>\n",
       "      <td>16</td>\n",
       "      <td>10244</td>\n",
       "    </tr>\n",
       "    <tr>\n",
       "      <th>35</th>\n",
       "      <td>Oklahoma</td>\n",
       "      <td>9</td>\n",
       "      <td>3455</td>\n",
       "    </tr>\n",
       "    <tr>\n",
       "      <th>36</th>\n",
       "      <td>Oregon</td>\n",
       "      <td>35</td>\n",
       "      <td>2286</td>\n",
       "    </tr>\n",
       "    <tr>\n",
       "      <th>37</th>\n",
       "      <td>Pennsylvania</td>\n",
       "      <td>36</td>\n",
       "      <td>8929</td>\n",
       "    </tr>\n",
       "    <tr>\n",
       "      <th>38</th>\n",
       "      <td>Rhode Island</td>\n",
       "      <td>43</td>\n",
       "      <td>895</td>\n",
       "    </tr>\n",
       "    <tr>\n",
       "      <th>39</th>\n",
       "      <td>South Carolina</td>\n",
       "      <td>12</td>\n",
       "      <td>6939</td>\n",
       "    </tr>\n",
       "    <tr>\n",
       "      <th>40</th>\n",
       "      <td>South Dakota</td>\n",
       "      <td>5</td>\n",
       "      <td>544</td>\n",
       "    </tr>\n",
       "    <tr>\n",
       "      <th>41</th>\n",
       "      <td>Tennessee</td>\n",
       "      <td>22</td>\n",
       "      <td>7626</td>\n",
       "    </tr>\n",
       "    <tr>\n",
       "      <th>42</th>\n",
       "      <td>Texas</td>\n",
       "      <td>18</td>\n",
       "      <td>13577</td>\n",
       "    </tr>\n",
       "    <tr>\n",
       "      <th>43</th>\n",
       "      <td>Utah</td>\n",
       "      <td>13</td>\n",
       "      <td>1072</td>\n",
       "    </tr>\n",
       "    <tr>\n",
       "      <th>44</th>\n",
       "      <td>Vermont</td>\n",
       "      <td>6</td>\n",
       "      <td>472</td>\n",
       "    </tr>\n",
       "    <tr>\n",
       "      <th>45</th>\n",
       "      <td>Virginia</td>\n",
       "      <td>13</td>\n",
       "      <td>5949</td>\n",
       "    </tr>\n",
       "    <tr>\n",
       "      <th>46</th>\n",
       "      <td>Washington</td>\n",
       "      <td>43</td>\n",
       "      <td>3434</td>\n",
       "    </tr>\n",
       "    <tr>\n",
       "      <th>47</th>\n",
       "      <td>West Virginia</td>\n",
       "      <td>21</td>\n",
       "      <td>1575</td>\n",
       "    </tr>\n",
       "    <tr>\n",
       "      <th>48</th>\n",
       "      <td>Wisconsin</td>\n",
       "      <td>23</td>\n",
       "      <td>4787</td>\n",
       "    </tr>\n",
       "    <tr>\n",
       "      <th>49</th>\n",
       "      <td>Wyoming</td>\n",
       "      <td>9</td>\n",
       "      <td>494</td>\n",
       "    </tr>\n",
       "  </tbody>\n",
       "</table>\n",
       "</div>"
      ],
      "text/plain": [
       "             State  Laws  Incidents\n",
       "0          Alabama    10       5471\n",
       "1           Alaska     4       1349\n",
       "2          Arizona    11       2328\n",
       "3         Arkansas    11       2842\n",
       "4       California   106      16306\n",
       "5         Colorado    30       3201\n",
       "6      Connecticut    89       3067\n",
       "7         Delaware    40       1685\n",
       "8          Florida    21      15029\n",
       "9          Georgia     6       8925\n",
       "10          Hawaii    78        289\n",
       "11           Idaho     4        661\n",
       "12        Illinois    64      17556\n",
       "13         Indiana    12       5852\n",
       "14            Iowa    24       2517\n",
       "15          Kansas     7       2145\n",
       "16        Kentucky     7       4157\n",
       "17       Louisiana    12       8103\n",
       "18           Maine    12        907\n",
       "19        Maryland    64       5798\n",
       "20   Massachusetts   100       5981\n",
       "21        Michigan    21       6136\n",
       "22       Minnesota    41       2408\n",
       "23     Mississippi     5       3599\n",
       "24        Missouri     6       6631\n",
       "25         Montana     4        638\n",
       "26        Nebraska    22       1651\n",
       "27          Nevada    21       1952\n",
       "28   New Hampshire     9        964\n",
       "29      New Jersey    75       5387\n",
       "30      New Mexico    10       1645\n",
       "31        New York    75       9712\n",
       "32  North Carolina    30       8739\n",
       "33    North Dakota    13        573\n",
       "34            Ohio    16      10244\n",
       "35        Oklahoma     9       3455\n",
       "36          Oregon    35       2286\n",
       "37    Pennsylvania    36       8929\n",
       "38    Rhode Island    43        895\n",
       "39  South Carolina    12       6939\n",
       "40    South Dakota     5        544\n",
       "41       Tennessee    22       7626\n",
       "42           Texas    18      13577\n",
       "43            Utah    13       1072\n",
       "44         Vermont     6        472\n",
       "45        Virginia    13       5949\n",
       "46      Washington    43       3434\n",
       "47   West Virginia    21       1575\n",
       "48       Wisconsin    23       4787\n",
       "49         Wyoming     9        494"
      ]
     },
     "execution_count": 234,
     "metadata": {},
     "output_type": "execute_result"
    }
   ],
   "source": [
    "state_list = list(state_total[\"state\"])\n",
    "law_list = list(state_total[\"lawtotal\"])\n",
    "\n",
    "states_df = pd.DataFrame({\"State\": state_list,\n",
    "                 \"Laws\": law_list,\n",
    "                 \"Incidents\": state_group_count})\n",
    "\n",
    "states_df"
   ]
  },
  {
   "cell_type": "code",
   "execution_count": 235,
   "metadata": {},
   "outputs": [
    {
     "data": {
      "image/png": "[encoded data removed]",
      "text/plain": [
       "<Figure size 432x288 with 1 Axes>"
      ]
     },
     "metadata": {
      "needs_background": "light"
     },
     "output_type": "display_data"
    }
   ],
   "source": [
    "#using the two lists created above to make a scatter plot of incidents per state vs. laws per state\n",
    "plt.scatter(law_list, state_group_count, c=\"firebrick\")\n",
    "plt.title(\"Incidents per State vs. Laws per State\")\n",
    "plt.xlabel(\"Laws per State\")\n",
    "plt.ylabel(\"Incidents per State\")\n",
    "plt.savefig(\"Incidents per State vs. Laws per State.png\")\n",
    "plt.show()"
   ]
  },
  {
   "cell_type": "code",
   "execution_count": 236,
   "metadata": {},
   "outputs": [],
   "source": [
    "#KYLE"
   ]
  },
  {
   "cell_type": "code",
   "execution_count": 237,
   "metadata": {},
   "outputs": [
    {
     "data": {
      "text/html": [
       "<div>\n",
       "<style scoped>\n",
       "    .dataframe tbody tr th:only-of-type {\n",
       "        vertical-align: middle;\n",
       "    }\n",
       "\n",
       "    .dataframe tbody tr th {\n",
       "        vertical-align: top;\n",
       "    }\n",
       "\n",
       "    .dataframe thead th {\n",
       "        text-align: right;\n",
       "    }\n",
       "</style>\n",
       "<table border=\"1\" class=\"dataframe\">\n",
       "  <thead>\n",
       "    <tr style=\"text-align: right;\">\n",
       "      <th></th>\n",
       "      <th>state</th>\n",
       "      <th>Gun Violence</th>\n",
       "      <th>code</th>\n",
       "      <th>guns_per_capita</th>\n",
       "      <th>guns_registered</th>\n",
       "      <th>rank</th>\n",
       "    </tr>\n",
       "  </thead>\n",
       "  <tbody>\n",
       "    <tr>\n",
       "      <th>0</th>\n",
       "      <td>Illinois</td>\n",
       "      <td>4588</td>\n",
       "      <td>IL</td>\n",
       "      <td>11.44</td>\n",
       "      <td>146487.0</td>\n",
       "      <td>40</td>\n",
       "    </tr>\n",
       "    <tr>\n",
       "      <th>1</th>\n",
       "      <td>California</td>\n",
       "      <td>3376</td>\n",
       "      <td>CA</td>\n",
       "      <td>8.71</td>\n",
       "      <td>344622.0</td>\n",
       "      <td>44</td>\n",
       "    </tr>\n",
       "    <tr>\n",
       "      <th>2</th>\n",
       "      <td>Florida</td>\n",
       "      <td>2751</td>\n",
       "      <td>FL</td>\n",
       "      <td>16.35</td>\n",
       "      <td>343288.0</td>\n",
       "      <td>29</td>\n",
       "    </tr>\n",
       "    <tr>\n",
       "      <th>3</th>\n",
       "      <td>Texas</td>\n",
       "      <td>2734</td>\n",
       "      <td>TX</td>\n",
       "      <td>20.79</td>\n",
       "      <td>588696.0</td>\n",
       "      <td>18</td>\n",
       "    </tr>\n",
       "    <tr>\n",
       "      <th>4</th>\n",
       "      <td>Ohio</td>\n",
       "      <td>2217</td>\n",
       "      <td>OH</td>\n",
       "      <td>14.87</td>\n",
       "      <td>173405.0</td>\n",
       "      <td>30</td>\n",
       "    </tr>\n",
       "    <tr>\n",
       "      <th>5</th>\n",
       "      <td>Pennsylvania</td>\n",
       "      <td>1823</td>\n",
       "      <td>PA</td>\n",
       "      <td>18.45</td>\n",
       "      <td>236377.0</td>\n",
       "      <td>20</td>\n",
       "    </tr>\n",
       "    <tr>\n",
       "      <th>6</th>\n",
       "      <td>Louisiana</td>\n",
       "      <td>1733</td>\n",
       "      <td>LA</td>\n",
       "      <td>24.94</td>\n",
       "      <td>116831.0</td>\n",
       "      <td>11</td>\n",
       "    </tr>\n",
       "    <tr>\n",
       "      <th>7</th>\n",
       "      <td>Georgia</td>\n",
       "      <td>1715</td>\n",
       "      <td>GA</td>\n",
       "      <td>18.22</td>\n",
       "      <td>190050.0</td>\n",
       "      <td>21</td>\n",
       "    </tr>\n",
       "    <tr>\n",
       "      <th>8</th>\n",
       "      <td>North Carolina</td>\n",
       "      <td>1709</td>\n",
       "      <td>NC</td>\n",
       "      <td>14.82</td>\n",
       "      <td>152238.0</td>\n",
       "      <td>31</td>\n",
       "    </tr>\n",
       "    <tr>\n",
       "      <th>9</th>\n",
       "      <td>Tennessee</td>\n",
       "      <td>1693</td>\n",
       "      <td>TN</td>\n",
       "      <td>14.76</td>\n",
       "      <td>99159.0</td>\n",
       "      <td>33</td>\n",
       "    </tr>\n",
       "    <tr>\n",
       "      <th>10</th>\n",
       "      <td>Missouri</td>\n",
       "      <td>1530</td>\n",
       "      <td>MO</td>\n",
       "      <td>11.94</td>\n",
       "      <td>72996.0</td>\n",
       "      <td>36</td>\n",
       "    </tr>\n",
       "    <tr>\n",
       "      <th>11</th>\n",
       "      <td>New York</td>\n",
       "      <td>1439</td>\n",
       "      <td>NY</td>\n",
       "      <td>3.83</td>\n",
       "      <td>76207.0</td>\n",
       "      <td>51</td>\n",
       "    </tr>\n",
       "    <tr>\n",
       "      <th>12</th>\n",
       "      <td>Alabama</td>\n",
       "      <td>1400</td>\n",
       "      <td>AL</td>\n",
       "      <td>33.15</td>\n",
       "      <td>161641.0</td>\n",
       "      <td>6</td>\n",
       "    </tr>\n",
       "    <tr>\n",
       "      <th>13</th>\n",
       "      <td>Maryland</td>\n",
       "      <td>1335</td>\n",
       "      <td>MD</td>\n",
       "      <td>17.03</td>\n",
       "      <td>103109.0</td>\n",
       "      <td>27</td>\n",
       "    </tr>\n",
       "    <tr>\n",
       "      <th>14</th>\n",
       "      <td>Virginia</td>\n",
       "      <td>1324</td>\n",
       "      <td>VA</td>\n",
       "      <td>36.34</td>\n",
       "      <td>307822.0</td>\n",
       "      <td>5</td>\n",
       "    </tr>\n",
       "    <tr>\n",
       "      <th>15</th>\n",
       "      <td>South Carolina</td>\n",
       "      <td>1186</td>\n",
       "      <td>SC</td>\n",
       "      <td>21.01</td>\n",
       "      <td>105601.0</td>\n",
       "      <td>17</td>\n",
       "    </tr>\n",
       "    <tr>\n",
       "      <th>16</th>\n",
       "      <td>Indiana</td>\n",
       "      <td>1144</td>\n",
       "      <td>IN</td>\n",
       "      <td>17.10</td>\n",
       "      <td>114019.0</td>\n",
       "      <td>26</td>\n",
       "    </tr>\n",
       "    <tr>\n",
       "      <th>17</th>\n",
       "      <td>Michigan</td>\n",
       "      <td>1140</td>\n",
       "      <td>MI</td>\n",
       "      <td>6.59</td>\n",
       "      <td>65742.0</td>\n",
       "      <td>45</td>\n",
       "    </tr>\n",
       "    <tr>\n",
       "      <th>18</th>\n",
       "      <td>New Jersey</td>\n",
       "      <td>938</td>\n",
       "      <td>NJ</td>\n",
       "      <td>6.38</td>\n",
       "      <td>57507.0</td>\n",
       "      <td>46</td>\n",
       "    </tr>\n",
       "    <tr>\n",
       "      <th>19</th>\n",
       "      <td>Mississippi</td>\n",
       "      <td>917</td>\n",
       "      <td>MS</td>\n",
       "      <td>11.89</td>\n",
       "      <td>35494.0</td>\n",
       "      <td>37</td>\n",
       "    </tr>\n",
       "    <tr>\n",
       "      <th>20</th>\n",
       "      <td>Kentucky</td>\n",
       "      <td>791</td>\n",
       "      <td>KY</td>\n",
       "      <td>18.20</td>\n",
       "      <td>81068.0</td>\n",
       "      <td>22</td>\n",
       "    </tr>\n",
       "    <tr>\n",
       "      <th>21</th>\n",
       "      <td>Wisconsin</td>\n",
       "      <td>728</td>\n",
       "      <td>WI</td>\n",
       "      <td>11.19</td>\n",
       "      <td>64878.0</td>\n",
       "      <td>41</td>\n",
       "    </tr>\n",
       "    <tr>\n",
       "      <th>22</th>\n",
       "      <td>Arkansas</td>\n",
       "      <td>653</td>\n",
       "      <td>AR</td>\n",
       "      <td>26.57</td>\n",
       "      <td>79841.0</td>\n",
       "      <td>8</td>\n",
       "    </tr>\n",
       "    <tr>\n",
       "      <th>23</th>\n",
       "      <td>Oklahoma</td>\n",
       "      <td>633</td>\n",
       "      <td>OK</td>\n",
       "      <td>18.13</td>\n",
       "      <td>71269.0</td>\n",
       "      <td>23</td>\n",
       "    </tr>\n",
       "    <tr>\n",
       "      <th>24</th>\n",
       "      <td>Arizona</td>\n",
       "      <td>587</td>\n",
       "      <td>AZ</td>\n",
       "      <td>25.61</td>\n",
       "      <td>179738.0</td>\n",
       "      <td>10</td>\n",
       "    </tr>\n",
       "    <tr>\n",
       "      <th>25</th>\n",
       "      <td>Massachusetts</td>\n",
       "      <td>584</td>\n",
       "      <td>MA</td>\n",
       "      <td>5.41</td>\n",
       "      <td>37152.0</td>\n",
       "      <td>48</td>\n",
       "    </tr>\n",
       "    <tr>\n",
       "      <th>26</th>\n",
       "      <td>Washington</td>\n",
       "      <td>582</td>\n",
       "      <td>WA</td>\n",
       "      <td>12.40</td>\n",
       "      <td>91835.0</td>\n",
       "      <td>35</td>\n",
       "    </tr>\n",
       "    <tr>\n",
       "      <th>27</th>\n",
       "      <td>Colorado</td>\n",
       "      <td>499</td>\n",
       "      <td>CO</td>\n",
       "      <td>16.48</td>\n",
       "      <td>92435.0</td>\n",
       "      <td>28</td>\n",
       "    </tr>\n",
       "    <tr>\n",
       "      <th>28</th>\n",
       "      <td>District of Columbia</td>\n",
       "      <td>440</td>\n",
       "      <td>DC</td>\n",
       "      <td>68.05</td>\n",
       "      <td>47228.0</td>\n",
       "      <td>2</td>\n",
       "    </tr>\n",
       "    <tr>\n",
       "      <th>29</th>\n",
       "      <td>Nevada</td>\n",
       "      <td>418</td>\n",
       "      <td>NV</td>\n",
       "      <td>25.64</td>\n",
       "      <td>76888.0</td>\n",
       "      <td>9</td>\n",
       "    </tr>\n",
       "    <tr>\n",
       "      <th>30</th>\n",
       "      <td>Kansas</td>\n",
       "      <td>416</td>\n",
       "      <td>KS</td>\n",
       "      <td>18.06</td>\n",
       "      <td>52634.0</td>\n",
       "      <td>24</td>\n",
       "    </tr>\n",
       "    <tr>\n",
       "      <th>31</th>\n",
       "      <td>Minnesota</td>\n",
       "      <td>397</td>\n",
       "      <td>MN</td>\n",
       "      <td>14.22</td>\n",
       "      <td>79307.0</td>\n",
       "      <td>34</td>\n",
       "    </tr>\n",
       "    <tr>\n",
       "      <th>32</th>\n",
       "      <td>Connecticut</td>\n",
       "      <td>382</td>\n",
       "      <td>CT</td>\n",
       "      <td>22.96</td>\n",
       "      <td>82400.0</td>\n",
       "      <td>14</td>\n",
       "    </tr>\n",
       "    <tr>\n",
       "      <th>33</th>\n",
       "      <td>Iowa</td>\n",
       "      <td>300</td>\n",
       "      <td>IA</td>\n",
       "      <td>9.05</td>\n",
       "      <td>28494.0</td>\n",
       "      <td>43</td>\n",
       "    </tr>\n",
       "    <tr>\n",
       "      <th>34</th>\n",
       "      <td>Delaware</td>\n",
       "      <td>297</td>\n",
       "      <td>DE</td>\n",
       "      <td>5.04</td>\n",
       "      <td>4852.0</td>\n",
       "      <td>49</td>\n",
       "    </tr>\n",
       "    <tr>\n",
       "      <th>35</th>\n",
       "      <td>Oregon</td>\n",
       "      <td>269</td>\n",
       "      <td>OR</td>\n",
       "      <td>14.82</td>\n",
       "      <td>61383.0</td>\n",
       "      <td>32</td>\n",
       "    </tr>\n",
       "    <tr>\n",
       "      <th>36</th>\n",
       "      <td>New Mexico</td>\n",
       "      <td>266</td>\n",
       "      <td>NM</td>\n",
       "      <td>46.73</td>\n",
       "      <td>97580.0</td>\n",
       "      <td>4</td>\n",
       "    </tr>\n",
       "    <tr>\n",
       "      <th>37</th>\n",
       "      <td>West Virginia</td>\n",
       "      <td>237</td>\n",
       "      <td>WV</td>\n",
       "      <td>19.42</td>\n",
       "      <td>35264.0</td>\n",
       "      <td>19</td>\n",
       "    </tr>\n",
       "    <tr>\n",
       "      <th>38</th>\n",
       "      <td>Nebraska</td>\n",
       "      <td>199</td>\n",
       "      <td>NE</td>\n",
       "      <td>11.57</td>\n",
       "      <td>22234.0</td>\n",
       "      <td>38</td>\n",
       "    </tr>\n",
       "    <tr>\n",
       "      <th>39</th>\n",
       "      <td>Utah</td>\n",
       "      <td>180</td>\n",
       "      <td>UT</td>\n",
       "      <td>23.48</td>\n",
       "      <td>72856.0</td>\n",
       "      <td>13</td>\n",
       "    </tr>\n",
       "    <tr>\n",
       "      <th>40</th>\n",
       "      <td>Alaska</td>\n",
       "      <td>139</td>\n",
       "      <td>AK</td>\n",
       "      <td>21.38</td>\n",
       "      <td>15824.0</td>\n",
       "      <td>15</td>\n",
       "    </tr>\n",
       "    <tr>\n",
       "      <th>41</th>\n",
       "      <td>Rhode Island</td>\n",
       "      <td>90</td>\n",
       "      <td>RI</td>\n",
       "      <td>3.98</td>\n",
       "      <td>37152.0</td>\n",
       "      <td>50</td>\n",
       "    </tr>\n",
       "    <tr>\n",
       "      <th>42</th>\n",
       "      <td>Idaho</td>\n",
       "      <td>81</td>\n",
       "      <td>ID</td>\n",
       "      <td>28.86</td>\n",
       "      <td>49566.0</td>\n",
       "      <td>7</td>\n",
       "    </tr>\n",
       "    <tr>\n",
       "      <th>43</th>\n",
       "      <td>Montana</td>\n",
       "      <td>74</td>\n",
       "      <td>MT</td>\n",
       "      <td>21.06</td>\n",
       "      <td>22133.0</td>\n",
       "      <td>16</td>\n",
       "    </tr>\n",
       "    <tr>\n",
       "      <th>44</th>\n",
       "      <td>Maine</td>\n",
       "      <td>69</td>\n",
       "      <td>ME</td>\n",
       "      <td>11.50</td>\n",
       "      <td>15371.0</td>\n",
       "      <td>39</td>\n",
       "    </tr>\n",
       "    <tr>\n",
       "      <th>45</th>\n",
       "      <td>New Hampshire</td>\n",
       "      <td>53</td>\n",
       "      <td>NH</td>\n",
       "      <td>46.76</td>\n",
       "      <td>64135.0</td>\n",
       "      <td>3</td>\n",
       "    </tr>\n",
       "    <tr>\n",
       "      <th>46</th>\n",
       "      <td>North Dakota</td>\n",
       "      <td>48</td>\n",
       "      <td>ND</td>\n",
       "      <td>17.56</td>\n",
       "      <td>13272.0</td>\n",
       "      <td>25</td>\n",
       "    </tr>\n",
       "    <tr>\n",
       "      <th>47</th>\n",
       "      <td>South Dakota</td>\n",
       "      <td>40</td>\n",
       "      <td>SD</td>\n",
       "      <td>24.29</td>\n",
       "      <td>21130.0</td>\n",
       "      <td>12</td>\n",
       "    </tr>\n",
       "    <tr>\n",
       "      <th>48</th>\n",
       "      <td>Hawaii</td>\n",
       "      <td>28</td>\n",
       "      <td>HI</td>\n",
       "      <td>5.50</td>\n",
       "      <td>7859.0</td>\n",
       "      <td>47</td>\n",
       "    </tr>\n",
       "    <tr>\n",
       "      <th>49</th>\n",
       "      <td>Wyoming</td>\n",
       "      <td>22</td>\n",
       "      <td>WY</td>\n",
       "      <td>229.24</td>\n",
       "      <td>132806.0</td>\n",
       "      <td>1</td>\n",
       "    </tr>\n",
       "    <tr>\n",
       "      <th>50</th>\n",
       "      <td>Vermont</td>\n",
       "      <td>20</td>\n",
       "      <td>VT</td>\n",
       "      <td>9.41</td>\n",
       "      <td>5872.0</td>\n",
       "      <td>42</td>\n",
       "    </tr>\n",
       "  </tbody>\n",
       "</table>\n",
       "</div>"
      ],
      "text/plain": [
       "                   state  Gun Violence code  guns_per_capita  guns_registered  \\\n",
       "0               Illinois          4588   IL            11.44         146487.0   \n",
       "1             California          3376   CA             8.71         344622.0   \n",
       "2                Florida          2751   FL            16.35         343288.0   \n",
       "3                  Texas          2734   TX            20.79         588696.0   \n",
       "4                   Ohio          2217   OH            14.87         173405.0   \n",
       "5           Pennsylvania          1823   PA            18.45         236377.0   \n",
       "6              Louisiana          1733   LA            24.94         116831.0   \n",
       "7                Georgia          1715   GA            18.22         190050.0   \n",
       "8         North Carolina          1709   NC            14.82         152238.0   \n",
       "9              Tennessee          1693   TN            14.76          99159.0   \n",
       "10              Missouri          1530   MO            11.94          72996.0   \n",
       "11              New York          1439   NY             3.83          76207.0   \n",
       "12               Alabama          1400   AL            33.15         161641.0   \n",
       "13              Maryland          1335   MD            17.03         103109.0   \n",
       "14              Virginia          1324   VA            36.34         307822.0   \n",
       "15        South Carolina          1186   SC            21.01         105601.0   \n",
       "16               Indiana          1144   IN            17.10         114019.0   \n",
       "17              Michigan          1140   MI             6.59          65742.0   \n",
       "18            New Jersey           938   NJ             6.38          57507.0   \n",
       "19           Mississippi           917   MS            11.89          35494.0   \n",
       "20              Kentucky           791   KY            18.20          81068.0   \n",
       "21             Wisconsin           728   WI            11.19          64878.0   \n",
       "22              Arkansas           653   AR            26.57          79841.0   \n",
       "23              Oklahoma           633   OK            18.13          71269.0   \n",
       "24               Arizona           587   AZ            25.61         179738.0   \n",
       "25         Massachusetts           584   MA             5.41          37152.0   \n",
       "26            Washington           582   WA            12.40          91835.0   \n",
       "27              Colorado           499   CO            16.48          92435.0   \n",
       "28  District of Columbia           440   DC            68.05          47228.0   \n",
       "29                Nevada           418   NV            25.64          76888.0   \n",
       "30                Kansas           416   KS            18.06          52634.0   \n",
       "31             Minnesota           397   MN            14.22          79307.0   \n",
       "32           Connecticut           382   CT            22.96          82400.0   \n",
       "33                  Iowa           300   IA             9.05          28494.0   \n",
       "34              Delaware           297   DE             5.04           4852.0   \n",
       "35                Oregon           269   OR            14.82          61383.0   \n",
       "36            New Mexico           266   NM            46.73          97580.0   \n",
       "37         West Virginia           237   WV            19.42          35264.0   \n",
       "38              Nebraska           199   NE            11.57          22234.0   \n",
       "39                  Utah           180   UT            23.48          72856.0   \n",
       "40                Alaska           139   AK            21.38          15824.0   \n",
       "41          Rhode Island            90   RI             3.98          37152.0   \n",
       "42                 Idaho            81   ID            28.86          49566.0   \n",
       "43               Montana            74   MT            21.06          22133.0   \n",
       "44                 Maine            69   ME            11.50          15371.0   \n",
       "45         New Hampshire            53   NH            46.76          64135.0   \n",
       "46          North Dakota            48   ND            17.56          13272.0   \n",
       "47          South Dakota            40   SD            24.29          21130.0   \n",
       "48                Hawaii            28   HI             5.50           7859.0   \n",
       "49               Wyoming            22   WY           229.24         132806.0   \n",
       "50               Vermont            20   VT             9.41           5872.0   \n",
       "\n",
       "    rank  \n",
       "0     40  \n",
       "1     44  \n",
       "2     29  \n",
       "3     18  \n",
       "4     30  \n",
       "5     20  \n",
       "6     11  \n",
       "7     21  \n",
       "8     31  \n",
       "9     33  \n",
       "10    36  \n",
       "11    51  \n",
       "12     6  \n",
       "13    27  \n",
       "14     5  \n",
       "15    17  \n",
       "16    26  \n",
       "17    45  \n",
       "18    46  \n",
       "19    37  \n",
       "20    22  \n",
       "21    41  \n",
       "22     8  \n",
       "23    23  \n",
       "24    10  \n",
       "25    48  \n",
       "26    35  \n",
       "27    28  \n",
       "28     2  \n",
       "29     9  \n",
       "30    24  \n",
       "31    34  \n",
       "32    14  \n",
       "33    43  \n",
       "34    49  \n",
       "35    32  \n",
       "36     4  \n",
       "37    19  \n",
       "38    38  \n",
       "39    13  \n",
       "40    15  \n",
       "41    50  \n",
       "42     7  \n",
       "43    16  \n",
       "44    39  \n",
       "45     3  \n",
       "46    25  \n",
       "47    12  \n",
       "48    47  \n",
       "49     1  \n",
       "50    42  "
      ]
     },
     "execution_count": 237,
     "metadata": {},
     "output_type": "execute_result"
    }
   ],
   "source": [
    "ownership_metrics_df = pd.merge(top_states_df,gun_ownership_df,how='outer', on='state')\n",
    "ownership_metrics_df"
   ]
  },
  {
   "cell_type": "code",
   "execution_count": 238,
   "metadata": {},
   "outputs": [
    {
     "data": {
      "application/vnd.plotly.v1+json": {
       "config": {
        "plotlyServerURL": "https://plot.ly"
       },
       "data": [
        {
         "colorbar": {
          "title": {
           "text": "Guns Registered Per State"
          }
         },
         "colorscale": [
          [
           0,
           "rgb(255,245,240)"
          ],
          [
           0.125,
           "rgb(254,224,210)"
          ],
          [
           0.25,
           "rgb(252,187,161)"
          ],
          [
           0.375,
           "rgb(252,146,114)"
          ],
          [
           0.5,
           "rgb(251,106,74)"
          ],
          [
           0.625,
           "rgb(239,59,44)"
          ],
          [
           0.75,
           "rgb(203,24,29)"
          ],
          [
           0.875,
           "rgb(165,15,21)"
          ],
          [
           1,
           "rgb(103,0,13)"
          ]
         ],
         "locationmode": "USA-states",
         "locations": [
          "IL",
          "CA",
          "FL",
          "TX",
          "OH",
          "PA",
          "LA",
          "GA",
          "NC",
          "TN",
          "MO",
          "NY",
          "AL",
          "MD",
          "VA",
          "SC",
          "IN",
          "MI",
          "NJ",
          "MS",
          "KY",
          "WI",
          "AR",
          "OK",
          "AZ",
          "MA",
          "WA",
          "CO",
          "DC",
          "NV",
          "KS",
          "MN",
          "CT",
          "IA",
          "DE",
          "OR",
          "NM",
          "WV",
          "NE",
          "UT",
          "AK",
          "RI",
          "ID",
          "MT",
          "ME",
          "NH",
          "ND",
          "SD",
          "HI",
          "WY",
          "VT"
         ],
         "type": "choropleth",
         "z": [
          146487,
          344622,
          343288,
          588696,
          173405,
          236377,
          116831,
          190050,
          152238,
          99159,
          72996,
          76207,
          161641,
          103109,
          307822,
          105601,
          114019,
          65742,
          57507,
          35494,
          81068,
          64878,
          79841,
          71269,
          179738,
          37152,
          91835,
          92435,
          47228,
          76888,
          52634,
          79307,
          82400,
          28494,
          4852,
          61383,
          97580,
          35264,
          22234,
          72856,
          15824,
          37152,
          49566,
          22133,
          15371,
          64135,
          13272,
          21130,
          7859,
          132806,
          5872
         ]
        }
       ],
       "layout": {
        "geo": {
         "scope": "usa"
        },
        "template": {
         "data": {
          "bar": [
           {
            "error_x": {
             "color": "#2a3f5f"
            },
            "error_y": {
             "color": "#2a3f5f"
            },
            "marker": {
             "line": {
              "color": "#E5ECF6",
              "width": 0.5
             }
            },
            "type": "bar"
           }
          ],
          "barpolar": [
           {
            "marker": {
             "line": {
              "color": "#E5ECF6",
              "width": 0.5
             }
            },
            "type": "barpolar"
           }
          ],
          "carpet": [
           {
            "aaxis": {
             "endlinecolor": "#2a3f5f",
             "gridcolor": "white",
             "linecolor": "white",
             "minorgridcolor": "white",
             "startlinecolor": "#2a3f5f"
            },
            "baxis": {
             "endlinecolor": "#2a3f5f",
             "gridcolor": "white",
             "linecolor": "white",
             "minorgridcolor": "white",
             "startlinecolor": "#2a3f5f"
            },
            "type": "carpet"
           }
          ],
          "choropleth": [
           {
            "colorbar": {
             "outlinewidth": 0,
             "ticks": ""
            },
            "type": "choropleth"
           }
          ],
          "contour": [
           {
            "colorbar": {
             "outlinewidth": 0,
             "ticks": ""
            },
            "colorscale": [
             [
              0,
              "#0d0887"
             ],
             [
              0.1111111111111111,
              "#46039f"
             ],
             [
              0.2222222222222222,
              "#7201a8"
             ],
             [
              0.3333333333333333,
              "#9c179e"
             ],
             [
              0.4444444444444444,
              "#bd3786"
             ],
             [
              0.5555555555555556,
              "#d8576b"
             ],
             [
              0.6666666666666666,
              "#ed7953"
             ],
             [
              0.7777777777777778,
              "#fb9f3a"
             ],
             [
              0.8888888888888888,
              "#fdca26"
             ],
             [
              1,
              "#f0f921"
             ]
            ],
            "type": "contour"
           }
          ],
          "contourcarpet": [
           {
            "colorbar": {
             "outlinewidth": 0,
             "ticks": ""
            },
            "type": "contourcarpet"
           }
          ],
          "heatmap": [
           {
            "colorbar": {
             "outlinewidth": 0,
             "ticks": ""
            },
            "colorscale": [
             [
              0,
              "#0d0887"
             ],
             [
              0.1111111111111111,
              "#46039f"
             ],
             [
              0.2222222222222222,
              "#7201a8"
             ],
             [
              0.3333333333333333,
              "#9c179e"
             ],
             [
              0.4444444444444444,
              "#bd3786"
             ],
             [
              0.5555555555555556,
              "#d8576b"
             ],
             [
              0.6666666666666666,
              "#ed7953"
             ],
             [
              0.7777777777777778,
              "#fb9f3a"
             ],
             [
              0.8888888888888888,
              "#fdca26"
             ],
             [
              1,
              "#f0f921"
             ]
            ],
            "type": "heatmap"
           }
          ],
          "heatmapgl": [
           {
            "colorbar": {
             "outlinewidth": 0,
             "ticks": ""
            },
            "colorscale": [
             [
              0,
              "#0d0887"
             ],
             [
              0.1111111111111111,
              "#46039f"
             ],
             [
              0.2222222222222222,
              "#7201a8"
             ],
             [
              0.3333333333333333,
              "#9c179e"
             ],
             [
              0.4444444444444444,
              "#bd3786"
             ],
             [
              0.5555555555555556,
              "#d8576b"
             ],
             [
              0.6666666666666666,
              "#ed7953"
             ],
             [
              0.7777777777777778,
              "#fb9f3a"
             ],
             [
              0.8888888888888888,
              "#fdca26"
             ],
             [
              1,
              "#f0f921"
             ]
            ],
            "type": "heatmapgl"
           }
          ],
          "histogram": [
           {
            "marker": {
             "colorbar": {
              "outlinewidth": 0,
              "ticks": ""
             }
            },
            "type": "histogram"
           }
          ],
          "histogram2d": [
           {
            "colorbar": {
             "outlinewidth": 0,
             "ticks": ""
            },
            "colorscale": [
             [
              0,
              "#0d0887"
             ],
             [
              0.1111111111111111,
              "#46039f"
             ],
             [
              0.2222222222222222,
              "#7201a8"
             ],
             [
              0.3333333333333333,
              "#9c179e"
             ],
             [
              0.4444444444444444,
              "#bd3786"
             ],
             [
              0.5555555555555556,
              "#d8576b"
             ],
             [
              0.6666666666666666,
              "#ed7953"
             ],
             [
              0.7777777777777778,
              "#fb9f3a"
             ],
             [
              0.8888888888888888,
              "#fdca26"
             ],
             [
              1,
              "#f0f921"
             ]
            ],
            "type": "histogram2d"
           }
          ],
          "histogram2dcontour": [
           {
            "colorbar": {
             "outlinewidth": 0,
             "ticks": ""
            },
            "colorscale": [
             [
              0,
              "#0d0887"
             ],
             [
              0.1111111111111111,
              "#46039f"
             ],
             [
              0.2222222222222222,
              "#7201a8"
             ],
             [
              0.3333333333333333,
              "#9c179e"
             ],
             [
              0.4444444444444444,
              "#bd3786"
             ],
             [
              0.5555555555555556,
              "#d8576b"
             ],
             [
              0.6666666666666666,
              "#ed7953"
             ],
             [
              0.7777777777777778,
              "#fb9f3a"
             ],
             [
              0.8888888888888888,
              "#fdca26"
             ],
             [
              1,
              "#f0f921"
             ]
            ],
            "type": "histogram2dcontour"
           }
          ],
          "mesh3d": [
           {
            "colorbar": {
             "outlinewidth": 0,
             "ticks": ""
            },
            "type": "mesh3d"
           }
          ],
          "parcoords": [
           {
            "line": {
             "colorbar": {
              "outlinewidth": 0,
              "ticks": ""
             }
            },
            "type": "parcoords"
           }
          ],
          "scatter": [
           {
            "marker": {
             "colorbar": {
              "outlinewidth": 0,
              "ticks": ""
             }
            },
            "type": "scatter"
           }
          ],
          "scatter3d": [
           {
            "line": {
             "colorbar": {
              "outlinewidth": 0,
              "ticks": ""
             }
            },
            "marker": {
             "colorbar": {
              "outlinewidth": 0,
              "ticks": ""
             }
            },
            "type": "scatter3d"
           }
          ],
          "scattercarpet": [
           {
            "marker": {
             "colorbar": {
              "outlinewidth": 0,
              "ticks": ""
             }
            },
            "type": "scattercarpet"
           }
          ],
          "scattergeo": [
           {
            "marker": {
             "colorbar": {
              "outlinewidth": 0,
              "ticks": ""
             }
            },
            "type": "scattergeo"
           }
          ],
          "scattergl": [
           {
            "marker": {
             "colorbar": {
              "outlinewidth": 0,
              "ticks": ""
             }
            },
            "type": "scattergl"
           }
          ],
          "scattermapbox": [
           {
            "marker": {
             "colorbar": {
              "outlinewidth": 0,
              "ticks": ""
             }
            },
            "type": "scattermapbox"
           }
          ],
          "scatterpolar": [
           {
            "marker": {
             "colorbar": {
              "outlinewidth": 0,
              "ticks": ""
             }
            },
            "type": "scatterpolar"
           }
          ],
          "scatterpolargl": [
           {
            "marker": {
             "colorbar": {
              "outlinewidth": 0,
              "ticks": ""
             }
            },
            "type": "scatterpolargl"
           }
          ],
          "scatterternary": [
           {
            "marker": {
             "colorbar": {
              "outlinewidth": 0,
              "ticks": ""
             }
            },
            "type": "scatterternary"
           }
          ],
          "surface": [
           {
            "colorbar": {
             "outlinewidth": 0,
             "ticks": ""
            },
            "colorscale": [
             [
              0,
              "#0d0887"
             ],
             [
              0.1111111111111111,
              "#46039f"
             ],
             [
              0.2222222222222222,
              "#7201a8"
             ],
             [
              0.3333333333333333,
              "#9c179e"
             ],
             [
              0.4444444444444444,
              "#bd3786"
             ],
             [
              0.5555555555555556,
              "#d8576b"
             ],
             [
              0.6666666666666666,
              "#ed7953"
             ],
             [
              0.7777777777777778,
              "#fb9f3a"
             ],
             [
              0.8888888888888888,
              "#fdca26"
             ],
             [
              1,
              "#f0f921"
             ]
            ],
            "type": "surface"
           }
          ],
          "table": [
           {
            "cells": {
             "fill": {
              "color": "#EBF0F8"
             },
             "line": {
              "color": "white"
             }
            },
            "header": {
             "fill": {
              "color": "#C8D4E3"
             },
             "line": {
              "color": "white"
             }
            },
            "type": "table"
           }
          ]
         },
         "layout": {
          "annotationdefaults": {
           "arrowcolor": "#2a3f5f",
           "arrowhead": 0,
           "arrowwidth": 1
          },
          "colorscale": {
           "diverging": [
            [
             0,
             "#8e0152"
            ],
            [
             0.1,
             "#c51b7d"
            ],
            [
             0.2,
             "#de77ae"
            ],
            [
             0.3,
             "#f1b6da"
            ],
            [
             0.4,
             "#fde0ef"
            ],
            [
             0.5,
             "#f7f7f7"
            ],
            [
             0.6,
             "#e6f5d0"
            ],
            [
             0.7,
             "#b8e186"
            ],
            [
             0.8,
             "#7fbc41"
            ],
            [
             0.9,
             "#4d9221"
            ],
            [
             1,
             "#276419"
            ]
           ],
           "sequential": [
            [
             0,
             "#0d0887"
            ],
            [
             0.1111111111111111,
             "#46039f"
            ],
            [
             0.2222222222222222,
             "#7201a8"
            ],
            [
             0.3333333333333333,
             "#9c179e"
            ],
            [
             0.4444444444444444,
             "#bd3786"
            ],
            [
             0.5555555555555556,
             "#d8576b"
            ],
            [
             0.6666666666666666,
             "#ed7953"
            ],
            [
             0.7777777777777778,
             "#fb9f3a"
            ],
            [
             0.8888888888888888,
             "#fdca26"
            ],
            [
             1,
             "#f0f921"
            ]
           ],
           "sequentialminus": [
            [
             0,
             "#0d0887"
            ],
            [
             0.1111111111111111,
             "#46039f"
            ],
            [
             0.2222222222222222,
             "#7201a8"
            ],
            [
             0.3333333333333333,
             "#9c179e"
            ],
            [
             0.4444444444444444,
             "#bd3786"
            ],
            [
             0.5555555555555556,
             "#d8576b"
            ],
            [
             0.6666666666666666,
             "#ed7953"
            ],
            [
             0.7777777777777778,
             "#fb9f3a"
            ],
            [
             0.8888888888888888,
             "#fdca26"
            ],
            [
             1,
             "#f0f921"
            ]
           ]
          },
          "colorway": [
           "#636efa",
           "#EF553B",
           "#00cc96",
           "#ab63fa",
           "#FFA15A",
           "#19d3f3",
           "#FF6692",
           "#B6E880",
           "#FF97FF",
           "#FECB52"
          ],
          "font": {
           "color": "#2a3f5f"
          },
          "geo": {
           "bgcolor": "white",
           "lakecolor": "white",
           "landcolor": "#E5ECF6",
           "showlakes": true,
           "showland": true,
           "subunitcolor": "white"
          },
          "hoverlabel": {
           "align": "left"
          },
          "hovermode": "closest",
          "mapbox": {
           "style": "light"
          },
          "paper_bgcolor": "white",
          "plot_bgcolor": "#E5ECF6",
          "polar": {
           "angularaxis": {
            "gridcolor": "white",
            "linecolor": "white",
            "ticks": ""
           },
           "bgcolor": "#E5ECF6",
           "radialaxis": {
            "gridcolor": "white",
            "linecolor": "white",
            "ticks": ""
           }
          },
          "scene": {
           "xaxis": {
            "backgroundcolor": "#E5ECF6",
            "gridcolor": "white",
            "gridwidth": 2,
            "linecolor": "white",
            "showbackground": true,
            "ticks": "",
            "zerolinecolor": "white"
           },
           "yaxis": {
            "backgroundcolor": "#E5ECF6",
            "gridcolor": "white",
            "gridwidth": 2,
            "linecolor": "white",
            "showbackground": true,
            "ticks": "",
            "zerolinecolor": "white"
           },
           "zaxis": {
            "backgroundcolor": "#E5ECF6",
            "gridcolor": "white",
            "gridwidth": 2,
            "linecolor": "white",
            "showbackground": true,
            "ticks": "",
            "zerolinecolor": "white"
           }
          },
          "shapedefaults": {
           "line": {
            "color": "#2a3f5f"
           }
          },
          "ternary": {
           "aaxis": {
            "gridcolor": "white",
            "linecolor": "white",
            "ticks": ""
           },
           "baxis": {
            "gridcolor": "white",
            "linecolor": "white",
            "ticks": ""
           },
           "bgcolor": "#E5ECF6",
           "caxis": {
            "gridcolor": "white",
            "linecolor": "white",
            "ticks": ""
           }
          },
          "title": {
           "x": 0.05
          },
          "xaxis": {
           "automargin": true,
           "gridcolor": "white",
           "linecolor": "white",
           "ticks": "",
           "zerolinecolor": "white",
           "zerolinewidth": 2
          },
          "yaxis": {
           "automargin": true,
           "gridcolor": "white",
           "linecolor": "white",
           "ticks": "",
           "zerolinecolor": "white",
           "zerolinewidth": 2
          }
         }
        },
        "title": {
         "text": "2017 Registered Guns Per State"
        }
       }
      },
      "text/html": [
       "<div>\n",
       "        \n",
       "        \n",
       "            <div id=\"0af633ff-bc07-4793-8897-4cfe0135ecef\" class=\"plotly-graph-div\" style=\"height:525px; width:100%;\"></div>\n",
       "            <script type=\"text/javascript\">\n",
       "                require([\"plotly\"], function(Plotly) {\n",
       "                    window.PLOTLYENV=window.PLOTLYENV || {};\n",
       "                    \n",
       "                if (document.getElementById(\"0af633ff-bc07-4793-8897-4cfe0135ecef\")) {\n",
       "                    Plotly.newPlot(\n",
       "                        '0af633ff-bc07-4793-8897-4cfe0135ecef',\n",
       "                        [{\"colorbar\": {\"title\": {\"text\": \"Guns Registered Per State\"}}, \"colorscale\": [[0.0, \"rgb(255,245,240)\"], [0.125, \"rgb(254,224,210)\"], [0.25, \"rgb(252,187,161)\"], [0.375, \"rgb(252,146,114)\"], [0.5, \"rgb(251,106,74)\"], [0.625, \"rgb(239,59,44)\"], [0.75, \"rgb(203,24,29)\"], [0.875, \"rgb(165,15,21)\"], [1.0, \"rgb(103,0,13)\"]], \"locationmode\": \"USA-states\", \"locations\": [\"IL\", \"CA\", \"FL\", \"TX\", \"OH\", \"PA\", \"LA\", \"GA\", \"NC\", \"TN\", \"MO\", \"NY\", \"AL\", \"MD\", \"VA\", \"SC\", \"IN\", \"MI\", \"NJ\", \"MS\", \"KY\", \"WI\", \"AR\", \"OK\", \"AZ\", \"MA\", \"WA\", \"CO\", \"DC\", \"NV\", \"KS\", \"MN\", \"CT\", \"IA\", \"DE\", \"OR\", \"NM\", \"WV\", \"NE\", \"UT\", \"AK\", \"RI\", \"ID\", \"MT\", \"ME\", \"NH\", \"ND\", \"SD\", \"HI\", \"WY\", \"VT\"], \"type\": \"choropleth\", \"z\": [146487.0, 344622.0, 343288.0, 588696.0, 173405.0, 236377.0, 116831.0, 190050.0, 152238.0, 99159.0, 72996.0, 76207.0, 161641.0, 103109.0, 307822.0, 105601.0, 114019.0, 65742.0, 57507.0, 35494.0, 81068.0, 64878.0, 79841.0, 71269.0, 179738.0, 37152.0, 91835.0, 92435.0, 47228.0, 76888.0, 52634.0, 79307.0, 82400.0, 28494.0, 4852.0, 61383.0, 97580.0, 35264.0, 22234.0, 72856.0, 15824.0, 37152.0, 49566.0, 22133.0, 15371.0, 64135.0, 13272.0, 21130.0, 7859.0, 132806.0, 5872.0]}],\n",
       "                        {\"geo\": {\"scope\": \"usa\"}, \"template\": {\"data\": {\"bar\": [{\"error_x\": {\"color\": \"#2a3f5f\"}, \"error_y\": {\"color\": \"#2a3f5f\"}, \"marker\": {\"line\": {\"color\": \"#E5ECF6\", \"width\": 0.5}}, \"type\": \"bar\"}], \"barpolar\": [{\"marker\": {\"line\": {\"color\": \"#E5ECF6\", \"width\": 0.5}}, \"type\": \"barpolar\"}], \"carpet\": [{\"aaxis\": {\"endlinecolor\": \"#2a3f5f\", \"gridcolor\": \"white\", \"linecolor\": \"white\", \"minorgridcolor\": \"white\", \"startlinecolor\": \"#2a3f5f\"}, \"baxis\": {\"endlinecolor\": \"#2a3f5f\", \"gridcolor\": \"white\", \"linecolor\": \"white\", \"minorgridcolor\": \"white\", \"startlinecolor\": \"#2a3f5f\"}, \"type\": \"carpet\"}], \"choropleth\": [{\"colorbar\": {\"outlinewidth\": 0, \"ticks\": \"\"}, \"type\": \"choropleth\"}], \"contour\": [{\"colorbar\": {\"outlinewidth\": 0, \"ticks\": \"\"}, \"colorscale\": [[0.0, \"#0d0887\"], [0.1111111111111111, \"#46039f\"], [0.2222222222222222, \"#7201a8\"], [0.3333333333333333, \"#9c179e\"], [0.4444444444444444, \"#bd3786\"], [0.5555555555555556, \"#d8576b\"], [0.6666666666666666, \"#ed7953\"], [0.7777777777777778, \"#fb9f3a\"], [0.8888888888888888, \"#fdca26\"], [1.0, \"#f0f921\"]], \"type\": \"contour\"}], \"contourcarpet\": [{\"colorbar\": {\"outlinewidth\": 0, \"ticks\": \"\"}, \"type\": \"contourcarpet\"}], \"heatmap\": [{\"colorbar\": {\"outlinewidth\": 0, \"ticks\": \"\"}, \"colorscale\": [[0.0, \"#0d0887\"], [0.1111111111111111, \"#46039f\"], [0.2222222222222222, \"#7201a8\"], [0.3333333333333333, \"#9c179e\"], [0.4444444444444444, \"#bd3786\"], [0.5555555555555556, \"#d8576b\"], [0.6666666666666666, \"#ed7953\"], [0.7777777777777778, \"#fb9f3a\"], [0.8888888888888888, \"#fdca26\"], [1.0, \"#f0f921\"]], \"type\": \"heatmap\"}], \"heatmapgl\": [{\"colorbar\": {\"outlinewidth\": 0, \"ticks\": \"\"}, \"colorscale\": [[0.0, \"#0d0887\"], [0.1111111111111111, \"#46039f\"], [0.2222222222222222, \"#7201a8\"], [0.3333333333333333, \"#9c179e\"], [0.4444444444444444, \"#bd3786\"], [0.5555555555555556, \"#d8576b\"], [0.6666666666666666, \"#ed7953\"], [0.7777777777777778, \"#fb9f3a\"], [0.8888888888888888, \"#fdca26\"], [1.0, \"#f0f921\"]], \"type\": \"heatmapgl\"}], \"histogram\": [{\"marker\": {\"colorbar\": {\"outlinewidth\": 0, \"ticks\": \"\"}}, \"type\": \"histogram\"}], \"histogram2d\": [{\"colorbar\": {\"outlinewidth\": 0, \"ticks\": \"\"}, \"colorscale\": [[0.0, \"#0d0887\"], [0.1111111111111111, \"#46039f\"], [0.2222222222222222, \"#7201a8\"], [0.3333333333333333, \"#9c179e\"], [0.4444444444444444, \"#bd3786\"], [0.5555555555555556, \"#d8576b\"], [0.6666666666666666, \"#ed7953\"], [0.7777777777777778, \"#fb9f3a\"], [0.8888888888888888, \"#fdca26\"], [1.0, \"#f0f921\"]], \"type\": \"histogram2d\"}], \"histogram2dcontour\": [{\"colorbar\": {\"outlinewidth\": 0, \"ticks\": \"\"}, \"colorscale\": [[0.0, \"#0d0887\"], [0.1111111111111111, \"#46039f\"], [0.2222222222222222, \"#7201a8\"], [0.3333333333333333, \"#9c179e\"], [0.4444444444444444, \"#bd3786\"], [0.5555555555555556, \"#d8576b\"], [0.6666666666666666, \"#ed7953\"], [0.7777777777777778, \"#fb9f3a\"], [0.8888888888888888, \"#fdca26\"], [1.0, \"#f0f921\"]], \"type\": \"histogram2dcontour\"}], \"mesh3d\": [{\"colorbar\": {\"outlinewidth\": 0, \"ticks\": \"\"}, \"type\": \"mesh3d\"}], \"parcoords\": [{\"line\": {\"colorbar\": {\"outlinewidth\": 0, \"ticks\": \"\"}}, \"type\": \"parcoords\"}], \"scatter\": [{\"marker\": {\"colorbar\": {\"outlinewidth\": 0, \"ticks\": \"\"}}, \"type\": \"scatter\"}], \"scatter3d\": [{\"line\": {\"colorbar\": {\"outlinewidth\": 0, \"ticks\": \"\"}}, \"marker\": {\"colorbar\": {\"outlinewidth\": 0, \"ticks\": \"\"}}, \"type\": \"scatter3d\"}], \"scattercarpet\": [{\"marker\": {\"colorbar\": {\"outlinewidth\": 0, \"ticks\": \"\"}}, \"type\": \"scattercarpet\"}], \"scattergeo\": [{\"marker\": {\"colorbar\": {\"outlinewidth\": 0, \"ticks\": \"\"}}, \"type\": \"scattergeo\"}], \"scattergl\": [{\"marker\": {\"colorbar\": {\"outlinewidth\": 0, \"ticks\": \"\"}}, \"type\": \"scattergl\"}], \"scattermapbox\": [{\"marker\": {\"colorbar\": {\"outlinewidth\": 0, \"ticks\": \"\"}}, \"type\": \"scattermapbox\"}], \"scatterpolar\": [{\"marker\": {\"colorbar\": {\"outlinewidth\": 0, \"ticks\": \"\"}}, \"type\": \"scatterpolar\"}], \"scatterpolargl\": [{\"marker\": {\"colorbar\": {\"outlinewidth\": 0, \"ticks\": \"\"}}, \"type\": \"scatterpolargl\"}], \"scatterternary\": [{\"marker\": {\"colorbar\": {\"outlinewidth\": 0, \"ticks\": \"\"}}, \"type\": \"scatterternary\"}], \"surface\": [{\"colorbar\": {\"outlinewidth\": 0, \"ticks\": \"\"}, \"colorscale\": [[0.0, \"#0d0887\"], [0.1111111111111111, \"#46039f\"], [0.2222222222222222, \"#7201a8\"], [0.3333333333333333, \"#9c179e\"], [0.4444444444444444, \"#bd3786\"], [0.5555555555555556, \"#d8576b\"], [0.6666666666666666, \"#ed7953\"], [0.7777777777777778, \"#fb9f3a\"], [0.8888888888888888, \"#fdca26\"], [1.0, \"#f0f921\"]], \"type\": \"surface\"}], \"table\": [{\"cells\": {\"fill\": {\"color\": \"#EBF0F8\"}, \"line\": {\"color\": \"white\"}}, \"header\": {\"fill\": {\"color\": \"#C8D4E3\"}, \"line\": {\"color\": \"white\"}}, \"type\": \"table\"}]}, \"layout\": {\"annotationdefaults\": {\"arrowcolor\": \"#2a3f5f\", \"arrowhead\": 0, \"arrowwidth\": 1}, \"colorscale\": {\"diverging\": [[0, \"#8e0152\"], [0.1, \"#c51b7d\"], [0.2, \"#de77ae\"], [0.3, \"#f1b6da\"], [0.4, \"#fde0ef\"], [0.5, \"#f7f7f7\"], [0.6, \"#e6f5d0\"], [0.7, \"#b8e186\"], [0.8, \"#7fbc41\"], [0.9, \"#4d9221\"], [1, \"#276419\"]], \"sequential\": [[0.0, \"#0d0887\"], [0.1111111111111111, \"#46039f\"], [0.2222222222222222, \"#7201a8\"], [0.3333333333333333, \"#9c179e\"], [0.4444444444444444, \"#bd3786\"], [0.5555555555555556, \"#d8576b\"], [0.6666666666666666, \"#ed7953\"], [0.7777777777777778, \"#fb9f3a\"], [0.8888888888888888, \"#fdca26\"], [1.0, \"#f0f921\"]], \"sequentialminus\": [[0.0, \"#0d0887\"], [0.1111111111111111, \"#46039f\"], [0.2222222222222222, \"#7201a8\"], [0.3333333333333333, \"#9c179e\"], [0.4444444444444444, \"#bd3786\"], [0.5555555555555556, \"#d8576b\"], [0.6666666666666666, \"#ed7953\"], [0.7777777777777778, \"#fb9f3a\"], [0.8888888888888888, \"#fdca26\"], [1.0, \"#f0f921\"]]}, \"colorway\": [\"#636efa\", \"#EF553B\", \"#00cc96\", \"#ab63fa\", \"#FFA15A\", \"#19d3f3\", \"#FF6692\", \"#B6E880\", \"#FF97FF\", \"#FECB52\"], \"font\": {\"color\": \"#2a3f5f\"}, \"geo\": {\"bgcolor\": \"white\", \"lakecolor\": \"white\", \"landcolor\": \"#E5ECF6\", \"showlakes\": true, \"showland\": true, \"subunitcolor\": \"white\"}, \"hoverlabel\": {\"align\": \"left\"}, \"hovermode\": \"closest\", \"mapbox\": {\"style\": \"light\"}, \"paper_bgcolor\": \"white\", \"plot_bgcolor\": \"#E5ECF6\", \"polar\": {\"angularaxis\": {\"gridcolor\": \"white\", \"linecolor\": \"white\", \"ticks\": \"\"}, \"bgcolor\": \"#E5ECF6\", \"radialaxis\": {\"gridcolor\": \"white\", \"linecolor\": \"white\", \"ticks\": \"\"}}, \"scene\": {\"xaxis\": {\"backgroundcolor\": \"#E5ECF6\", \"gridcolor\": \"white\", \"gridwidth\": 2, \"linecolor\": \"white\", \"showbackground\": true, \"ticks\": \"\", \"zerolinecolor\": \"white\"}, \"yaxis\": {\"backgroundcolor\": \"#E5ECF6\", \"gridcolor\": \"white\", \"gridwidth\": 2, \"linecolor\": \"white\", \"showbackground\": true, \"ticks\": \"\", \"zerolinecolor\": \"white\"}, \"zaxis\": {\"backgroundcolor\": \"#E5ECF6\", \"gridcolor\": \"white\", \"gridwidth\": 2, \"linecolor\": \"white\", \"showbackground\": true, \"ticks\": \"\", \"zerolinecolor\": \"white\"}}, \"shapedefaults\": {\"line\": {\"color\": \"#2a3f5f\"}}, \"ternary\": {\"aaxis\": {\"gridcolor\": \"white\", \"linecolor\": \"white\", \"ticks\": \"\"}, \"baxis\": {\"gridcolor\": \"white\", \"linecolor\": \"white\", \"ticks\": \"\"}, \"bgcolor\": \"#E5ECF6\", \"caxis\": {\"gridcolor\": \"white\", \"linecolor\": \"white\", \"ticks\": \"\"}}, \"title\": {\"x\": 0.05}, \"xaxis\": {\"automargin\": true, \"gridcolor\": \"white\", \"linecolor\": \"white\", \"ticks\": \"\", \"zerolinecolor\": \"white\", \"zerolinewidth\": 2}, \"yaxis\": {\"automargin\": true, \"gridcolor\": \"white\", \"linecolor\": \"white\", \"ticks\": \"\", \"zerolinecolor\": \"white\", \"zerolinewidth\": 2}}}, \"title\": {\"text\": \"2017 Registered Guns Per State\"}},\n",
       "                        {\"responsive\": true}\n",
       "                    ).then(function(){\n",
       "                            \n",
       "var gd = document.getElementById('0af633ff-bc07-4793-8897-4cfe0135ecef');\n",
       "var x = new MutationObserver(function (mutations, observer) {{\n",
       "        var display = window.getComputedStyle(gd).display;\n",
       "        if (!display || display === 'none') {{\n",
       "            console.log([gd, 'removed!']);\n",
       "            Plotly.purge(gd);\n",
       "            observer.disconnect();\n",
       "        }}\n",
       "}});\n",
       "\n",
       "// Listen for the removal of the full notebook cells\n",
       "var notebookContainer = gd.closest('#notebook-container');\n",
       "if (notebookContainer) {{\n",
       "    x.observe(notebookContainer, {childList: true});\n",
       "}}\n",
       "\n",
       "// Listen for the clearing of the current output cell\n",
       "var outputEl = gd.closest('.output');\n",
       "if (outputEl) {{\n",
       "    x.observe(outputEl, {childList: true});\n",
       "}}\n",
       "\n",
       "                        })\n",
       "                };\n",
       "                });\n",
       "            </script>\n",
       "        </div>"
      ]
     },
     "metadata": {},
     "output_type": "display_data"
    }
   ],
   "source": [
    "import plotly.graph_objects as go\n",
    "\n",
    "\n",
    "\n",
    "fig = go.Figure(data=go.Choropleth(\n",
    "    locations=ownership_metrics_df['code'], # Spatial coordinates\n",
    "    z = ownership_metrics_df['guns_registered'].astype(float), # Data to be color-coded\n",
    "    locationmode = 'USA-states', # set of locations match entries in `locations`\n",
    "    colorscale = 'Reds',\n",
    "    colorbar_title = \"Guns Registered Per State\",\n",
    "))\n",
    "\n",
    "fig.update_layout(\n",
    "    title_text = '2017 Registered Guns Per State',\n",
    "    geo_scope='usa', # limite map scope to USA\n",
    ")\n",
    "\n",
    "fig.show()"
   ]
  },
  {
   "cell_type": "code",
   "execution_count": 239,
   "metadata": {
    "scrolled": true
   },
   "outputs": [
    {
     "data": {
      "image/png": "[encoded data removed]",
      "text/plain": [
       "<Figure size 1080x540 with 1 Axes>"
      ]
     },
     "metadata": {
      "needs_background": "light"
     },
     "output_type": "display_data"
    }
   ],
   "source": [
    "plt.figure(figsize=(15, 7.5))\n",
    "\n",
    "\n",
    "registered_state = ownership_metrics_df['code']\n",
    "x_regcoords = ownership_metrics_df['guns_registered']\n",
    "y_regcoords = ownership_metrics_df['Gun Violence']\n",
    "\n",
    "for i,registered_state in enumerate(registered_state):\n",
    "    x = x_regcoords[i]\n",
    "    y = y_regcoords[i]\n",
    "    plt.scatter(x, y, marker='o', color='firebrick', s=75, alpha=0.75)\n",
    "    plt.text(x+0.3, y+0.3, registered_state, fontsize=18)\n",
    "plt.xlabel(\"Number of Guns Registered Per State\")\n",
    "plt.ylabel(\"Occurences of Gun Violence\")\n",
    "plt.show()"
   ]
  },
  {
   "cell_type": "code",
   "execution_count": 240,
   "metadata": {
    "scrolled": false
   },
   "outputs": [
    {
     "data": {
      "application/vnd.plotly.v1+json": {
       "config": {
        "plotlyServerURL": "https://plot.ly"
       },
       "data": [
        {
         "colorbar": {
          "title": {
           "text": "Guns Per Capita"
          }
         },
         "colorscale": [
          [
           0,
           "rgb(255,245,240)"
          ],
          [
           0.125,
           "rgb(254,224,210)"
          ],
          [
           0.25,
           "rgb(252,187,161)"
          ],
          [
           0.375,
           "rgb(252,146,114)"
          ],
          [
           0.5,
           "rgb(251,106,74)"
          ],
          [
           0.625,
           "rgb(239,59,44)"
          ],
          [
           0.75,
           "rgb(203,24,29)"
          ],
          [
           0.875,
           "rgb(165,15,21)"
          ],
          [
           1,
           "rgb(103,0,13)"
          ]
         ],
         "locationmode": "USA-states",
         "locations": [
          "IL",
          "CA",
          "FL",
          "TX",
          "OH",
          "PA",
          "LA",
          "GA",
          "NC",
          "TN",
          "MO",
          "NY",
          "AL",
          "MD",
          "VA",
          "SC",
          "IN",
          "MI",
          "NJ",
          "MS",
          "KY",
          "WI",
          "AR",
          "OK",
          "AZ",
          "MA",
          "WA",
          "CO",
          "DC",
          "NV",
          "KS",
          "MN",
          "CT",
          "IA",
          "DE",
          "OR",
          "NM",
          "WV",
          "NE",
          "UT",
          "AK",
          "RI",
          "ID",
          "MT",
          "ME",
          "NH",
          "ND",
          "SD",
          "HI",
          "WY",
          "VT"
         ],
         "type": "choropleth",
         "z": [
          11.44,
          8.71,
          16.35,
          20.79,
          14.87,
          18.45,
          24.94,
          18.22,
          14.82,
          14.76,
          11.94,
          3.83,
          33.15,
          17.03,
          36.34,
          21.01,
          17.1,
          6.59,
          6.38,
          11.89,
          18.2,
          11.19,
          26.57,
          18.13,
          25.61,
          5.41,
          12.4,
          16.48,
          68.05,
          25.64,
          18.06,
          14.22,
          22.96,
          9.05,
          5.04,
          14.82,
          46.73,
          19.42,
          11.57,
          23.48,
          21.38,
          3.98,
          28.86,
          21.06,
          11.5,
          46.76,
          17.56,
          24.29,
          5.5,
          229.24,
          9.41
         ]
        }
       ],
       "layout": {
        "geo": {
         "scope": "usa"
        },
        "template": {
         "data": {
          "bar": [
           {
            "error_x": {
             "color": "#2a3f5f"
            },
            "error_y": {
             "color": "#2a3f5f"
            },
            "marker": {
             "line": {
              "color": "#E5ECF6",
              "width": 0.5
             }
            },
            "type": "bar"
           }
          ],
          "barpolar": [
           {
            "marker": {
             "line": {
              "color": "#E5ECF6",
              "width": 0.5
             }
            },
            "type": "barpolar"
           }
          ],
          "carpet": [
           {
            "aaxis": {
             "endlinecolor": "#2a3f5f",
             "gridcolor": "white",
             "linecolor": "white",
             "minorgridcolor": "white",
             "startlinecolor": "#2a3f5f"
            },
            "baxis": {
             "endlinecolor": "#2a3f5f",
             "gridcolor": "white",
             "linecolor": "white",
             "minorgridcolor": "white",
             "startlinecolor": "#2a3f5f"
            },
            "type": "carpet"
           }
          ],
          "choropleth": [
           {
            "colorbar": {
             "outlinewidth": 0,
             "ticks": ""
            },
            "type": "choropleth"
           }
          ],
          "contour": [
           {
            "colorbar": {
             "outlinewidth": 0,
             "ticks": ""
            },
            "colorscale": [
             [
              0,
              "#0d0887"
             ],
             [
              0.1111111111111111,
              "#46039f"
             ],
             [
              0.2222222222222222,
              "#7201a8"
             ],
             [
              0.3333333333333333,
              "#9c179e"
             ],
             [
              0.4444444444444444,
              "#bd3786"
             ],
             [
              0.5555555555555556,
              "#d8576b"
             ],
             [
              0.6666666666666666,
              "#ed7953"
             ],
             [
              0.7777777777777778,
              "#fb9f3a"
             ],
             [
              0.8888888888888888,
              "#fdca26"
             ],
             [
              1,
              "#f0f921"
             ]
            ],
            "type": "contour"
           }
          ],
          "contourcarpet": [
           {
            "colorbar": {
             "outlinewidth": 0,
             "ticks": ""
            },
            "type": "contourcarpet"
           }
          ],
          "heatmap": [
           {
            "colorbar": {
             "outlinewidth": 0,
             "ticks": ""
            },
            "colorscale": [
             [
              0,
              "#0d0887"
             ],
             [
              0.1111111111111111,
              "#46039f"
             ],
             [
              0.2222222222222222,
              "#7201a8"
             ],
             [
              0.3333333333333333,
              "#9c179e"
             ],
             [
              0.4444444444444444,
              "#bd3786"
             ],
             [
              0.5555555555555556,
              "#d8576b"
             ],
             [
              0.6666666666666666,
              "#ed7953"
             ],
             [
              0.7777777777777778,
              "#fb9f3a"
             ],
             [
              0.8888888888888888,
              "#fdca26"
             ],
             [
              1,
              "#f0f921"
             ]
            ],
            "type": "heatmap"
           }
          ],
          "heatmapgl": [
           {
            "colorbar": {
             "outlinewidth": 0,
             "ticks": ""
            },
            "colorscale": [
             [
              0,
              "#0d0887"
             ],
             [
              0.1111111111111111,
              "#46039f"
             ],
             [
              0.2222222222222222,
              "#7201a8"
             ],
             [
              0.3333333333333333,
              "#9c179e"
             ],
             [
              0.4444444444444444,
              "#bd3786"
             ],
             [
              0.5555555555555556,
              "#d8576b"
             ],
             [
              0.6666666666666666,
              "#ed7953"
             ],
             [
              0.7777777777777778,
              "#fb9f3a"
             ],
             [
              0.8888888888888888,
              "#fdca26"
             ],
             [
              1,
              "#f0f921"
             ]
            ],
            "type": "heatmapgl"
           }
          ],
          "histogram": [
           {
            "marker": {
             "colorbar": {
              "outlinewidth": 0,
              "ticks": ""
             }
            },
            "type": "histogram"
           }
          ],
          "histogram2d": [
           {
            "colorbar": {
             "outlinewidth": 0,
             "ticks": ""
            },
            "colorscale": [
             [
              0,
              "#0d0887"
             ],
             [
              0.1111111111111111,
              "#46039f"
             ],
             [
              0.2222222222222222,
              "#7201a8"
             ],
             [
              0.3333333333333333,
              "#9c179e"
             ],
             [
              0.4444444444444444,
              "#bd3786"
             ],
             [
              0.5555555555555556,
              "#d8576b"
             ],
             [
              0.6666666666666666,
              "#ed7953"
             ],
             [
              0.7777777777777778,
              "#fb9f3a"
             ],
             [
              0.8888888888888888,
              "#fdca26"
             ],
             [
              1,
              "#f0f921"
             ]
            ],
            "type": "histogram2d"
           }
          ],
          "histogram2dcontour": [
           {
            "colorbar": {
             "outlinewidth": 0,
             "ticks": ""
            },
            "colorscale": [
             [
              0,
              "#0d0887"
             ],
             [
              0.1111111111111111,
              "#46039f"
             ],
             [
              0.2222222222222222,
              "#7201a8"
             ],
             [
              0.3333333333333333,
              "#9c179e"
             ],
             [
              0.4444444444444444,
              "#bd3786"
             ],
             [
              0.5555555555555556,
              "#d8576b"
             ],
             [
              0.6666666666666666,
              "#ed7953"
             ],
             [
              0.7777777777777778,
              "#fb9f3a"
             ],
             [
              0.8888888888888888,
              "#fdca26"
             ],
             [
              1,
              "#f0f921"
             ]
            ],
            "type": "histogram2dcontour"
           }
          ],
          "mesh3d": [
           {
            "colorbar": {
             "outlinewidth": 0,
             "ticks": ""
            },
            "type": "mesh3d"
           }
          ],
          "parcoords": [
           {
            "line": {
             "colorbar": {
              "outlinewidth": 0,
              "ticks": ""
             }
            },
            "type": "parcoords"
           }
          ],
          "scatter": [
           {
            "marker": {
             "colorbar": {
              "outlinewidth": 0,
              "ticks": ""
             }
            },
            "type": "scatter"
           }
          ],
          "scatter3d": [
           {
            "line": {
             "colorbar": {
              "outlinewidth": 0,
              "ticks": ""
             }
            },
            "marker": {
             "colorbar": {
              "outlinewidth": 0,
              "ticks": ""
             }
            },
            "type": "scatter3d"
           }
          ],
          "scattercarpet": [
           {
            "marker": {
             "colorbar": {
              "outlinewidth": 0,
              "ticks": ""
             }
            },
            "type": "scattercarpet"
           }
          ],
          "scattergeo": [
           {
            "marker": {
             "colorbar": {
              "outlinewidth": 0,
              "ticks": ""
             }
            },
            "type": "scattergeo"
           }
          ],
          "scattergl": [
           {
            "marker": {
             "colorbar": {
              "outlinewidth": 0,
              "ticks": ""
             }
            },
            "type": "scattergl"
           }
          ],
          "scattermapbox": [
           {
            "marker": {
             "colorbar": {
              "outlinewidth": 0,
              "ticks": ""
             }
            },
            "type": "scattermapbox"
           }
          ],
          "scatterpolar": [
           {
            "marker": {
             "colorbar": {
              "outlinewidth": 0,
              "ticks": ""
             }
            },
            "type": "scatterpolar"
           }
          ],
          "scatterpolargl": [
           {
            "marker": {
             "colorbar": {
              "outlinewidth": 0,
              "ticks": ""
             }
            },
            "type": "scatterpolargl"
           }
          ],
          "scatterternary": [
           {
            "marker": {
             "colorbar": {
              "outlinewidth": 0,
              "ticks": ""
             }
            },
            "type": "scatterternary"
           }
          ],
          "surface": [
           {
            "colorbar": {
             "outlinewidth": 0,
             "ticks": ""
            },
            "colorscale": [
             [
              0,
              "#0d0887"
             ],
             [
              0.1111111111111111,
              "#46039f"
             ],
             [
              0.2222222222222222,
              "#7201a8"
             ],
             [
              0.3333333333333333,
              "#9c179e"
             ],
             [
              0.4444444444444444,
              "#bd3786"
             ],
             [
              0.5555555555555556,
              "#d8576b"
             ],
             [
              0.6666666666666666,
              "#ed7953"
             ],
             [
              0.7777777777777778,
              "#fb9f3a"
             ],
             [
              0.8888888888888888,
              "#fdca26"
             ],
             [
              1,
              "#f0f921"
             ]
            ],
            "type": "surface"
           }
          ],
          "table": [
           {
            "cells": {
             "fill": {
              "color": "#EBF0F8"
             },
             "line": {
              "color": "white"
             }
            },
            "header": {
             "fill": {
              "color": "#C8D4E3"
             },
             "line": {
              "color": "white"
             }
            },
            "type": "table"
           }
          ]
         },
         "layout": {
          "annotationdefaults": {
           "arrowcolor": "#2a3f5f",
           "arrowhead": 0,
           "arrowwidth": 1
          },
          "colorscale": {
           "diverging": [
            [
             0,
             "#8e0152"
            ],
            [
             0.1,
             "#c51b7d"
            ],
            [
             0.2,
             "#de77ae"
            ],
            [
             0.3,
             "#f1b6da"
            ],
            [
             0.4,
             "#fde0ef"
            ],
            [
             0.5,
             "#f7f7f7"
            ],
            [
             0.6,
             "#e6f5d0"
            ],
            [
             0.7,
             "#b8e186"
            ],
            [
             0.8,
             "#7fbc41"
            ],
            [
             0.9,
             "#4d9221"
            ],
            [
             1,
             "#276419"
            ]
           ],
           "sequential": [
            [
             0,
             "#0d0887"
            ],
            [
             0.1111111111111111,
             "#46039f"
            ],
            [
             0.2222222222222222,
             "#7201a8"
            ],
            [
             0.3333333333333333,
             "#9c179e"
            ],
            [
             0.4444444444444444,
             "#bd3786"
            ],
            [
             0.5555555555555556,
             "#d8576b"
            ],
            [
             0.6666666666666666,
             "#ed7953"
            ],
            [
             0.7777777777777778,
             "#fb9f3a"
            ],
            [
             0.8888888888888888,
             "#fdca26"
            ],
            [
             1,
             "#f0f921"
            ]
           ],
           "sequentialminus": [
            [
             0,
             "#0d0887"
            ],
            [
             0.1111111111111111,
             "#46039f"
            ],
            [
             0.2222222222222222,
             "#7201a8"
            ],
            [
             0.3333333333333333,
             "#9c179e"
            ],
            [
             0.4444444444444444,
             "#bd3786"
            ],
            [
             0.5555555555555556,
             "#d8576b"
            ],
            [
             0.6666666666666666,
             "#ed7953"
            ],
            [
             0.7777777777777778,
             "#fb9f3a"
            ],
            [
             0.8888888888888888,
             "#fdca26"
            ],
            [
             1,
             "#f0f921"
            ]
           ]
          },
          "colorway": [
           "#636efa",
           "#EF553B",
           "#00cc96",
           "#ab63fa",
           "#FFA15A",
           "#19d3f3",
           "#FF6692",
           "#B6E880",
           "#FF97FF",
           "#FECB52"
          ],
          "font": {
           "color": "#2a3f5f"
          },
          "geo": {
           "bgcolor": "white",
           "lakecolor": "white",
           "landcolor": "#E5ECF6",
           "showlakes": true,
           "showland": true,
           "subunitcolor": "white"
          },
          "hoverlabel": {
           "align": "left"
          },
          "hovermode": "closest",
          "mapbox": {
           "style": "light"
          },
          "paper_bgcolor": "white",
          "plot_bgcolor": "#E5ECF6",
          "polar": {
           "angularaxis": {
            "gridcolor": "white",
            "linecolor": "white",
            "ticks": ""
           },
           "bgcolor": "#E5ECF6",
           "radialaxis": {
            "gridcolor": "white",
            "linecolor": "white",
            "ticks": ""
           }
          },
          "scene": {
           "xaxis": {
            "backgroundcolor": "#E5ECF6",
            "gridcolor": "white",
            "gridwidth": 2,
            "linecolor": "white",
            "showbackground": true,
            "ticks": "",
            "zerolinecolor": "white"
           },
           "yaxis": {
            "backgroundcolor": "#E5ECF6",
            "gridcolor": "white",
            "gridwidth": 2,
            "linecolor": "white",
            "showbackground": true,
            "ticks": "",
            "zerolinecolor": "white"
           },
           "zaxis": {
            "backgroundcolor": "#E5ECF6",
            "gridcolor": "white",
            "gridwidth": 2,
            "linecolor": "white",
            "showbackground": true,
            "ticks": "",
            "zerolinecolor": "white"
           }
          },
          "shapedefaults": {
           "line": {
            "color": "#2a3f5f"
           }
          },
          "ternary": {
           "aaxis": {
            "gridcolor": "white",
            "linecolor": "white",
            "ticks": ""
           },
           "baxis": {
            "gridcolor": "white",
            "linecolor": "white",
            "ticks": ""
           },
           "bgcolor": "#E5ECF6",
           "caxis": {
            "gridcolor": "white",
            "linecolor": "white",
            "ticks": ""
           }
          },
          "title": {
           "x": 0.05
          },
          "xaxis": {
           "automargin": true,
           "gridcolor": "white",
           "linecolor": "white",
           "ticks": "",
           "zerolinecolor": "white",
           "zerolinewidth": 2
          },
          "yaxis": {
           "automargin": true,
           "gridcolor": "white",
           "linecolor": "white",
           "ticks": "",
           "zerolinecolor": "white",
           "zerolinewidth": 2
          }
         }
        },
        "title": {
         "text": "2017 Guns Per Capita"
        }
       }
      },
      "text/html": [
       "<div>\n",
       "        \n",
       "        \n",
       "            <div id=\"6777b623-207d-48f7-b689-162b01d6dda3\" class=\"plotly-graph-div\" style=\"height:525px; width:100%;\"></div>\n",
       "            <script type=\"text/javascript\">\n",
       "                require([\"plotly\"], function(Plotly) {\n",
       "                    window.PLOTLYENV=window.PLOTLYENV || {};\n",
       "                    \n",
       "                if (document.getElementById(\"6777b623-207d-48f7-b689-162b01d6dda3\")) {\n",
       "                    Plotly.newPlot(\n",
       "                        '6777b623-207d-48f7-b689-162b01d6dda3',\n",
       "                        [{\"colorbar\": {\"title\": {\"text\": \"Guns Per Capita\"}}, \"colorscale\": [[0.0, \"rgb(255,245,240)\"], [0.125, \"rgb(254,224,210)\"], [0.25, \"rgb(252,187,161)\"], [0.375, \"rgb(252,146,114)\"], [0.5, \"rgb(251,106,74)\"], [0.625, \"rgb(239,59,44)\"], [0.75, \"rgb(203,24,29)\"], [0.875, \"rgb(165,15,21)\"], [1.0, \"rgb(103,0,13)\"]], \"locationmode\": \"USA-states\", \"locations\": [\"IL\", \"CA\", \"FL\", \"TX\", \"OH\", \"PA\", \"LA\", \"GA\", \"NC\", \"TN\", \"MO\", \"NY\", \"AL\", \"MD\", \"VA\", \"SC\", \"IN\", \"MI\", \"NJ\", \"MS\", \"KY\", \"WI\", \"AR\", \"OK\", \"AZ\", \"MA\", \"WA\", \"CO\", \"DC\", \"NV\", \"KS\", \"MN\", \"CT\", \"IA\", \"DE\", \"OR\", \"NM\", \"WV\", \"NE\", \"UT\", \"AK\", \"RI\", \"ID\", \"MT\", \"ME\", \"NH\", \"ND\", \"SD\", \"HI\", \"WY\", \"VT\"], \"type\": \"choropleth\", \"z\": [11.44, 8.71, 16.35, 20.79, 14.87, 18.45, 24.94, 18.22, 14.82, 14.76, 11.94, 3.83, 33.15, 17.03, 36.34, 21.01, 17.1, 6.59, 6.38, 11.89, 18.2, 11.19, 26.57, 18.13, 25.61, 5.41, 12.4, 16.48, 68.05, 25.64, 18.06, 14.22, 22.96, 9.05, 5.04, 14.82, 46.73, 19.42, 11.57, 23.48, 21.38, 3.98, 28.86, 21.06, 11.5, 46.76, 17.56, 24.29, 5.5, 229.24, 9.41]}],\n",
       "                        {\"geo\": {\"scope\": \"usa\"}, \"template\": {\"data\": {\"bar\": [{\"error_x\": {\"color\": \"#2a3f5f\"}, \"error_y\": {\"color\": \"#2a3f5f\"}, \"marker\": {\"line\": {\"color\": \"#E5ECF6\", \"width\": 0.5}}, \"type\": \"bar\"}], \"barpolar\": [{\"marker\": {\"line\": {\"color\": \"#E5ECF6\", \"width\": 0.5}}, \"type\": \"barpolar\"}], \"carpet\": [{\"aaxis\": {\"endlinecolor\": \"#2a3f5f\", \"gridcolor\": \"white\", \"linecolor\": \"white\", \"minorgridcolor\": \"white\", \"startlinecolor\": \"#2a3f5f\"}, \"baxis\": {\"endlinecolor\": \"#2a3f5f\", \"gridcolor\": \"white\", \"linecolor\": \"white\", \"minorgridcolor\": \"white\", \"startlinecolor\": \"#2a3f5f\"}, \"type\": \"carpet\"}], \"choropleth\": [{\"colorbar\": {\"outlinewidth\": 0, \"ticks\": \"\"}, \"type\": \"choropleth\"}], \"contour\": [{\"colorbar\": {\"outlinewidth\": 0, \"ticks\": \"\"}, \"colorscale\": [[0.0, \"#0d0887\"], [0.1111111111111111, \"#46039f\"], [0.2222222222222222, \"#7201a8\"], [0.3333333333333333, \"#9c179e\"], [0.4444444444444444, \"#bd3786\"], [0.5555555555555556, \"#d8576b\"], [0.6666666666666666, \"#ed7953\"], [0.7777777777777778, \"#fb9f3a\"], [0.8888888888888888, \"#fdca26\"], [1.0, \"#f0f921\"]], \"type\": \"contour\"}], \"contourcarpet\": [{\"colorbar\": {\"outlinewidth\": 0, \"ticks\": \"\"}, \"type\": \"contourcarpet\"}], \"heatmap\": [{\"colorbar\": {\"outlinewidth\": 0, \"ticks\": \"\"}, \"colorscale\": [[0.0, \"#0d0887\"], [0.1111111111111111, \"#46039f\"], [0.2222222222222222, \"#7201a8\"], [0.3333333333333333, \"#9c179e\"], [0.4444444444444444, \"#bd3786\"], [0.5555555555555556, \"#d8576b\"], [0.6666666666666666, \"#ed7953\"], [0.7777777777777778, \"#fb9f3a\"], [0.8888888888888888, \"#fdca26\"], [1.0, \"#f0f921\"]], \"type\": \"heatmap\"}], \"heatmapgl\": [{\"colorbar\": {\"outlinewidth\": 0, \"ticks\": \"\"}, \"colorscale\": [[0.0, \"#0d0887\"], [0.1111111111111111, \"#46039f\"], [0.2222222222222222, \"#7201a8\"], [0.3333333333333333, \"#9c179e\"], [0.4444444444444444, \"#bd3786\"], [0.5555555555555556, \"#d8576b\"], [0.6666666666666666, \"#ed7953\"], [0.7777777777777778, \"#fb9f3a\"], [0.8888888888888888, \"#fdca26\"], [1.0, \"#f0f921\"]], \"type\": \"heatmapgl\"}], \"histogram\": [{\"marker\": {\"colorbar\": {\"outlinewidth\": 0, \"ticks\": \"\"}}, \"type\": \"histogram\"}], \"histogram2d\": [{\"colorbar\": {\"outlinewidth\": 0, \"ticks\": \"\"}, \"colorscale\": [[0.0, \"#0d0887\"], [0.1111111111111111, \"#46039f\"], [0.2222222222222222, \"#7201a8\"], [0.3333333333333333, \"#9c179e\"], [0.4444444444444444, \"#bd3786\"], [0.5555555555555556, \"#d8576b\"], [0.6666666666666666, \"#ed7953\"], [0.7777777777777778, \"#fb9f3a\"], [0.8888888888888888, \"#fdca26\"], [1.0, \"#f0f921\"]], \"type\": \"histogram2d\"}], \"histogram2dcontour\": [{\"colorbar\": {\"outlinewidth\": 0, \"ticks\": \"\"}, \"colorscale\": [[0.0, \"#0d0887\"], [0.1111111111111111, \"#46039f\"], [0.2222222222222222, \"#7201a8\"], [0.3333333333333333, \"#9c179e\"], [0.4444444444444444, \"#bd3786\"], [0.5555555555555556, \"#d8576b\"], [0.6666666666666666, \"#ed7953\"], [0.7777777777777778, \"#fb9f3a\"], [0.8888888888888888, \"#fdca26\"], [1.0, \"#f0f921\"]], \"type\": \"histogram2dcontour\"}], \"mesh3d\": [{\"colorbar\": {\"outlinewidth\": 0, \"ticks\": \"\"}, \"type\": \"mesh3d\"}], \"parcoords\": [{\"line\": {\"colorbar\": {\"outlinewidth\": 0, \"ticks\": \"\"}}, \"type\": \"parcoords\"}], \"scatter\": [{\"marker\": {\"colorbar\": {\"outlinewidth\": 0, \"ticks\": \"\"}}, \"type\": \"scatter\"}], \"scatter3d\": [{\"line\": {\"colorbar\": {\"outlinewidth\": 0, \"ticks\": \"\"}}, \"marker\": {\"colorbar\": {\"outlinewidth\": 0, \"ticks\": \"\"}}, \"type\": \"scatter3d\"}], \"scattercarpet\": [{\"marker\": {\"colorbar\": {\"outlinewidth\": 0, \"ticks\": \"\"}}, \"type\": \"scattercarpet\"}], \"scattergeo\": [{\"marker\": {\"colorbar\": {\"outlinewidth\": 0, \"ticks\": \"\"}}, \"type\": \"scattergeo\"}], \"scattergl\": [{\"marker\": {\"colorbar\": {\"outlinewidth\": 0, \"ticks\": \"\"}}, \"type\": \"scattergl\"}], \"scattermapbox\": [{\"marker\": {\"colorbar\": {\"outlinewidth\": 0, \"ticks\": \"\"}}, \"type\": \"scattermapbox\"}], \"scatterpolar\": [{\"marker\": {\"colorbar\": {\"outlinewidth\": 0, \"ticks\": \"\"}}, \"type\": \"scatterpolar\"}], \"scatterpolargl\": [{\"marker\": {\"colorbar\": {\"outlinewidth\": 0, \"ticks\": \"\"}}, \"type\": \"scatterpolargl\"}], \"scatterternary\": [{\"marker\": {\"colorbar\": {\"outlinewidth\": 0, \"ticks\": \"\"}}, \"type\": \"scatterternary\"}], \"surface\": [{\"colorbar\": {\"outlinewidth\": 0, \"ticks\": \"\"}, \"colorscale\": [[0.0, \"#0d0887\"], [0.1111111111111111, \"#46039f\"], [0.2222222222222222, \"#7201a8\"], [0.3333333333333333, \"#9c179e\"], [0.4444444444444444, \"#bd3786\"], [0.5555555555555556, \"#d8576b\"], [0.6666666666666666, \"#ed7953\"], [0.7777777777777778, \"#fb9f3a\"], [0.8888888888888888, \"#fdca26\"], [1.0, \"#f0f921\"]], \"type\": \"surface\"}], \"table\": [{\"cells\": {\"fill\": {\"color\": \"#EBF0F8\"}, \"line\": {\"color\": \"white\"}}, \"header\": {\"fill\": {\"color\": \"#C8D4E3\"}, \"line\": {\"color\": \"white\"}}, \"type\": \"table\"}]}, \"layout\": {\"annotationdefaults\": {\"arrowcolor\": \"#2a3f5f\", \"arrowhead\": 0, \"arrowwidth\": 1}, \"colorscale\": {\"diverging\": [[0, \"#8e0152\"], [0.1, \"#c51b7d\"], [0.2, \"#de77ae\"], [0.3, \"#f1b6da\"], [0.4, \"#fde0ef\"], [0.5, \"#f7f7f7\"], [0.6, \"#e6f5d0\"], [0.7, \"#b8e186\"], [0.8, \"#7fbc41\"], [0.9, \"#4d9221\"], [1, \"#276419\"]], \"sequential\": [[0.0, \"#0d0887\"], [0.1111111111111111, \"#46039f\"], [0.2222222222222222, \"#7201a8\"], [0.3333333333333333, \"#9c179e\"], [0.4444444444444444, \"#bd3786\"], [0.5555555555555556, \"#d8576b\"], [0.6666666666666666, \"#ed7953\"], [0.7777777777777778, \"#fb9f3a\"], [0.8888888888888888, \"#fdca26\"], [1.0, \"#f0f921\"]], \"sequentialminus\": [[0.0, \"#0d0887\"], [0.1111111111111111, \"#46039f\"], [0.2222222222222222, \"#7201a8\"], [0.3333333333333333, \"#9c179e\"], [0.4444444444444444, \"#bd3786\"], [0.5555555555555556, \"#d8576b\"], [0.6666666666666666, \"#ed7953\"], [0.7777777777777778, \"#fb9f3a\"], [0.8888888888888888, \"#fdca26\"], [1.0, \"#f0f921\"]]}, \"colorway\": [\"#636efa\", \"#EF553B\", \"#00cc96\", \"#ab63fa\", \"#FFA15A\", \"#19d3f3\", \"#FF6692\", \"#B6E880\", \"#FF97FF\", \"#FECB52\"], \"font\": {\"color\": \"#2a3f5f\"}, \"geo\": {\"bgcolor\": \"white\", \"lakecolor\": \"white\", \"landcolor\": \"#E5ECF6\", \"showlakes\": true, \"showland\": true, \"subunitcolor\": \"white\"}, \"hoverlabel\": {\"align\": \"left\"}, \"hovermode\": \"closest\", \"mapbox\": {\"style\": \"light\"}, \"paper_bgcolor\": \"white\", \"plot_bgcolor\": \"#E5ECF6\", \"polar\": {\"angularaxis\": {\"gridcolor\": \"white\", \"linecolor\": \"white\", \"ticks\": \"\"}, \"bgcolor\": \"#E5ECF6\", \"radialaxis\": {\"gridcolor\": \"white\", \"linecolor\": \"white\", \"ticks\": \"\"}}, \"scene\": {\"xaxis\": {\"backgroundcolor\": \"#E5ECF6\", \"gridcolor\": \"white\", \"gridwidth\": 2, \"linecolor\": \"white\", \"showbackground\": true, \"ticks\": \"\", \"zerolinecolor\": \"white\"}, \"yaxis\": {\"backgroundcolor\": \"#E5ECF6\", \"gridcolor\": \"white\", \"gridwidth\": 2, \"linecolor\": \"white\", \"showbackground\": true, \"ticks\": \"\", \"zerolinecolor\": \"white\"}, \"zaxis\": {\"backgroundcolor\": \"#E5ECF6\", \"gridcolor\": \"white\", \"gridwidth\": 2, \"linecolor\": \"white\", \"showbackground\": true, \"ticks\": \"\", \"zerolinecolor\": \"white\"}}, \"shapedefaults\": {\"line\": {\"color\": \"#2a3f5f\"}}, \"ternary\": {\"aaxis\": {\"gridcolor\": \"white\", \"linecolor\": \"white\", \"ticks\": \"\"}, \"baxis\": {\"gridcolor\": \"white\", \"linecolor\": \"white\", \"ticks\": \"\"}, \"bgcolor\": \"#E5ECF6\", \"caxis\": {\"gridcolor\": \"white\", \"linecolor\": \"white\", \"ticks\": \"\"}}, \"title\": {\"x\": 0.05}, \"xaxis\": {\"automargin\": true, \"gridcolor\": \"white\", \"linecolor\": \"white\", \"ticks\": \"\", \"zerolinecolor\": \"white\", \"zerolinewidth\": 2}, \"yaxis\": {\"automargin\": true, \"gridcolor\": \"white\", \"linecolor\": \"white\", \"ticks\": \"\", \"zerolinecolor\": \"white\", \"zerolinewidth\": 2}}}, \"title\": {\"text\": \"2017 Guns Per Capita\"}},\n",
       "                        {\"responsive\": true}\n",
       "                    ).then(function(){\n",
       "                            \n",
       "var gd = document.getElementById('6777b623-207d-48f7-b689-162b01d6dda3');\n",
       "var x = new MutationObserver(function (mutations, observer) {{\n",
       "        var display = window.getComputedStyle(gd).display;\n",
       "        if (!display || display === 'none') {{\n",
       "            console.log([gd, 'removed!']);\n",
       "            Plotly.purge(gd);\n",
       "            observer.disconnect();\n",
       "        }}\n",
       "}});\n",
       "\n",
       "// Listen for the removal of the full notebook cells\n",
       "var notebookContainer = gd.closest('#notebook-container');\n",
       "if (notebookContainer) {{\n",
       "    x.observe(notebookContainer, {childList: true});\n",
       "}}\n",
       "\n",
       "// Listen for the clearing of the current output cell\n",
       "var outputEl = gd.closest('.output');\n",
       "if (outputEl) {{\n",
       "    x.observe(outputEl, {childList: true});\n",
       "}}\n",
       "\n",
       "                        })\n",
       "                };\n",
       "                });\n",
       "            </script>\n",
       "        </div>"
      ]
     },
     "metadata": {},
     "output_type": "display_data"
    }
   ],
   "source": [
    "fig = go.Figure(data=go.Choropleth(\n",
    "    locations=ownership_metrics_df['code'], # Spatial coordinates\n",
    "    z = ownership_metrics_df['guns_per_capita'].astype(float), # Data to be color-coded\n",
    "    locationmode = 'USA-states', # set of locations match entries in `locations`\n",
    "    colorscale = 'Reds',\n",
    "    colorbar_title = \"Guns Per Capita\",\n",
    "))\n",
    "\n",
    "fig.update_layout(\n",
    "    title_text = '2017 Guns Per Capita',\n",
    "    geo_scope='usa', # limite map scope to USA\n",
    ")\n",
    "\n",
    "fig.show()"
   ]
  },
  {
   "cell_type": "code",
   "execution_count": 241,
   "metadata": {},
   "outputs": [
    {
     "data": {
      "image/png": "[encoded data removed]",
      "text/plain": [
       "<Figure size 1080x540 with 1 Axes>"
      ]
     },
     "metadata": {
      "needs_background": "light"
     },
     "output_type": "display_data"
    }
   ],
   "source": [
    "plt.figure(figsize=(15, 7.5))\n",
    "# simulating a pandas df['type'] column\n",
    "ownership_state = ownership_metrics_df['code']\n",
    "x_coords = ownership_metrics_df['guns_per_capita']\n",
    "y_coords =combined_data_states[\"Adjusted Violence\"]\n",
    "\n",
    "for i,ownership_state in enumerate(ownership_state):\n",
    "    x = x_coords[i]\n",
    "    y = y_coords[i]\n",
    "    plt.scatter(x, y, marker='o', color='firebrick', edgecolors=\"black\", s=50, alpha=0.75)\n",
    "    plt.text(x+0.3, y+0.3, ownership_state, fontsize=14)\n",
    "\n",
    "plt.show()"
   ]
  },
  {
   "cell_type": "code",
   "execution_count": 242,
   "metadata": {},
   "outputs": [
    {
     "data": {
      "application/vnd.plotly.v1+json": {
       "config": {
        "plotlyServerURL": "https://plot.ly"
       },
       "data": [
        {
         "colorbar": {
          "title": {
           "text": "Best States for the Gun Industry"
          }
         },
         "colorscale": [
          [
           0,
           "rgb(255,245,240)"
          ],
          [
           0.125,
           "rgb(254,224,210)"
          ],
          [
           0.25,
           "rgb(252,187,161)"
          ],
          [
           0.375,
           "rgb(252,146,114)"
          ],
          [
           0.5,
           "rgb(251,106,74)"
          ],
          [
           0.625,
           "rgb(239,59,44)"
          ],
          [
           0.75,
           "rgb(203,24,29)"
          ],
          [
           0.875,
           "rgb(165,15,21)"
          ],
          [
           1,
           "rgb(103,0,13)"
          ]
         ],
         "locationmode": "USA-states",
         "locations": [
          "AL",
          "AR",
          "GA",
          "ID",
          "AZ",
          "FL",
          "IN",
          "AK",
          "MO",
          "LA",
          "CO",
          "KS",
          "KY",
          "CA",
          "MT",
          "TX",
          "NV",
          "NM",
          "OK",
          "MS",
          "VA",
          "MN",
          "NH",
          "MI",
          "NC",
          "UT",
          "OH",
          "PA",
          "CT",
          "IL",
          "SC",
          "TN",
          "MD",
          "WY",
          "HI",
          "IA",
          "WV",
          "OR",
          "SD",
          "DE",
          "MA",
          "NE",
          "ME",
          "ND",
          "WI",
          "NY",
          "WA",
          "VT",
          "NJ",
          "RI"
         ],
         "type": "choropleth",
         "z": [
          50,
          49,
          48,
          47,
          46,
          45,
          44,
          43,
          42,
          41,
          40,
          39,
          38,
          37,
          36,
          35,
          34,
          33,
          32,
          31,
          30,
          29,
          28,
          27,
          26,
          25,
          24,
          23,
          22,
          21,
          20,
          19,
          18,
          17,
          16,
          15,
          14,
          13,
          12,
          11,
          10,
          9,
          8,
          7,
          6,
          5,
          4,
          3,
          2,
          1
         ]
        }
       ],
       "layout": {
        "geo": {
         "scope": "usa"
        },
        "template": {
         "data": {
          "bar": [
           {
            "error_x": {
             "color": "#2a3f5f"
            },
            "error_y": {
             "color": "#2a3f5f"
            },
            "marker": {
             "line": {
              "color": "#E5ECF6",
              "width": 0.5
             }
            },
            "type": "bar"
           }
          ],
          "barpolar": [
           {
            "marker": {
             "line": {
              "color": "#E5ECF6",
              "width": 0.5
             }
            },
            "type": "barpolar"
           }
          ],
          "carpet": [
           {
            "aaxis": {
             "endlinecolor": "#2a3f5f",
             "gridcolor": "white",
             "linecolor": "white",
             "minorgridcolor": "white",
             "startlinecolor": "#2a3f5f"
            },
            "baxis": {
             "endlinecolor": "#2a3f5f",
             "gridcolor": "white",
             "linecolor": "white",
             "minorgridcolor": "white",
             "startlinecolor": "#2a3f5f"
            },
            "type": "carpet"
           }
          ],
          "choropleth": [
           {
            "colorbar": {
             "outlinewidth": 0,
             "ticks": ""
            },
            "type": "choropleth"
           }
          ],
          "contour": [
           {
            "colorbar": {
             "outlinewidth": 0,
             "ticks": ""
            },
            "colorscale": [
             [
              0,
              "#0d0887"
             ],
             [
              0.1111111111111111,
              "#46039f"
             ],
             [
              0.2222222222222222,
              "#7201a8"
             ],
             [
              0.3333333333333333,
              "#9c179e"
             ],
             [
              0.4444444444444444,
              "#bd3786"
             ],
             [
              0.5555555555555556,
              "#d8576b"
             ],
             [
              0.6666666666666666,
              "#ed7953"
             ],
             [
              0.7777777777777778,
              "#fb9f3a"
             ],
             [
              0.8888888888888888,
              "#fdca26"
             ],
             [
              1,
              "#f0f921"
             ]
            ],
            "type": "contour"
           }
          ],
          "contourcarpet": [
           {
            "colorbar": {
             "outlinewidth": 0,
             "ticks": ""
            },
            "type": "contourcarpet"
           }
          ],
          "heatmap": [
           {
            "colorbar": {
             "outlinewidth": 0,
             "ticks": ""
            },
            "colorscale": [
             [
              0,
              "#0d0887"
             ],
             [
              0.1111111111111111,
              "#46039f"
             ],
             [
              0.2222222222222222,
              "#7201a8"
             ],
             [
              0.3333333333333333,
              "#9c179e"
             ],
             [
              0.4444444444444444,
              "#bd3786"
             ],
             [
              0.5555555555555556,
              "#d8576b"
             ],
             [
              0.6666666666666666,
              "#ed7953"
             ],
             [
              0.7777777777777778,
              "#fb9f3a"
             ],
             [
              0.8888888888888888,
              "#fdca26"
             ],
             [
              1,
              "#f0f921"
             ]
            ],
            "type": "heatmap"
           }
          ],
          "heatmapgl": [
           {
            "colorbar": {
             "outlinewidth": 0,
             "ticks": ""
            },
            "colorscale": [
             [
              0,
              "#0d0887"
             ],
             [
              0.1111111111111111,
              "#46039f"
             ],
             [
              0.2222222222222222,
              "#7201a8"
             ],
             [
              0.3333333333333333,
              "#9c179e"
             ],
             [
              0.4444444444444444,
              "#bd3786"
             ],
             [
              0.5555555555555556,
              "#d8576b"
             ],
             [
              0.6666666666666666,
              "#ed7953"
             ],
             [
              0.7777777777777778,
              "#fb9f3a"
             ],
             [
              0.8888888888888888,
              "#fdca26"
             ],
             [
              1,
              "#f0f921"
             ]
            ],
            "type": "heatmapgl"
           }
          ],
          "histogram": [
           {
            "marker": {
             "colorbar": {
              "outlinewidth": 0,
              "ticks": ""
             }
            },
            "type": "histogram"
           }
          ],
          "histogram2d": [
           {
            "colorbar": {
             "outlinewidth": 0,
             "ticks": ""
            },
            "colorscale": [
             [
              0,
              "#0d0887"
             ],
             [
              0.1111111111111111,
              "#46039f"
             ],
             [
              0.2222222222222222,
              "#7201a8"
             ],
             [
              0.3333333333333333,
              "#9c179e"
             ],
             [
              0.4444444444444444,
              "#bd3786"
             ],
             [
              0.5555555555555556,
              "#d8576b"
             ],
             [
              0.6666666666666666,
              "#ed7953"
             ],
             [
              0.7777777777777778,
              "#fb9f3a"
             ],
             [
              0.8888888888888888,
              "#fdca26"
             ],
             [
              1,
              "#f0f921"
             ]
            ],
            "type": "histogram2d"
           }
          ],
          "histogram2dcontour": [
           {
            "colorbar": {
             "outlinewidth": 0,
             "ticks": ""
            },
            "colorscale": [
             [
              0,
              "#0d0887"
             ],
             [
              0.1111111111111111,
              "#46039f"
             ],
             [
              0.2222222222222222,
              "#7201a8"
             ],
             [
              0.3333333333333333,
              "#9c179e"
             ],
             [
              0.4444444444444444,
              "#bd3786"
             ],
             [
              0.5555555555555556,
              "#d8576b"
             ],
             [
              0.6666666666666666,
              "#ed7953"
             ],
             [
              0.7777777777777778,
              "#fb9f3a"
             ],
             [
              0.8888888888888888,
              "#fdca26"
             ],
             [
              1,
              "#f0f921"
             ]
            ],
            "type": "histogram2dcontour"
           }
          ],
          "mesh3d": [
           {
            "colorbar": {
             "outlinewidth": 0,
             "ticks": ""
            },
            "type": "mesh3d"
           }
          ],
          "parcoords": [
           {
            "line": {
             "colorbar": {
              "outlinewidth": 0,
              "ticks": ""
             }
            },
            "type": "parcoords"
           }
          ],
          "scatter": [
           {
            "marker": {
             "colorbar": {
              "outlinewidth": 0,
              "ticks": ""
             }
            },
            "type": "scatter"
           }
          ],
          "scatter3d": [
           {
            "line": {
             "colorbar": {
              "outlinewidth": 0,
              "ticks": ""
             }
            },
            "marker": {
             "colorbar": {
              "outlinewidth": 0,
              "ticks": ""
             }
            },
            "type": "scatter3d"
           }
          ],
          "scattercarpet": [
           {
            "marker": {
             "colorbar": {
              "outlinewidth": 0,
              "ticks": ""
             }
            },
            "type": "scattercarpet"
           }
          ],
          "scattergeo": [
           {
            "marker": {
             "colorbar": {
              "outlinewidth": 0,
              "ticks": ""
             }
            },
            "type": "scattergeo"
           }
          ],
          "scattergl": [
           {
            "marker": {
             "colorbar": {
              "outlinewidth": 0,
              "ticks": ""
             }
            },
            "type": "scattergl"
           }
          ],
          "scattermapbox": [
           {
            "marker": {
             "colorbar": {
              "outlinewidth": 0,
              "ticks": ""
             }
            },
            "type": "scattermapbox"
           }
          ],
          "scatterpolar": [
           {
            "marker": {
             "colorbar": {
              "outlinewidth": 0,
              "ticks": ""
             }
            },
            "type": "scatterpolar"
           }
          ],
          "scatterpolargl": [
           {
            "marker": {
             "colorbar": {
              "outlinewidth": 0,
              "ticks": ""
             }
            },
            "type": "scatterpolargl"
           }
          ],
          "scatterternary": [
           {
            "marker": {
             "colorbar": {
              "outlinewidth": 0,
              "ticks": ""
             }
            },
            "type": "scatterternary"
           }
          ],
          "surface": [
           {
            "colorbar": {
             "outlinewidth": 0,
             "ticks": ""
            },
            "colorscale": [
             [
              0,
              "#0d0887"
             ],
             [
              0.1111111111111111,
              "#46039f"
             ],
             [
              0.2222222222222222,
              "#7201a8"
             ],
             [
              0.3333333333333333,
              "#9c179e"
             ],
             [
              0.4444444444444444,
              "#bd3786"
             ],
             [
              0.5555555555555556,
              "#d8576b"
             ],
             [
              0.6666666666666666,
              "#ed7953"
             ],
             [
              0.7777777777777778,
              "#fb9f3a"
             ],
             [
              0.8888888888888888,
              "#fdca26"
             ],
             [
              1,
              "#f0f921"
             ]
            ],
            "type": "surface"
           }
          ],
          "table": [
           {
            "cells": {
             "fill": {
              "color": "#EBF0F8"
             },
             "line": {
              "color": "white"
             }
            },
            "header": {
             "fill": {
              "color": "#C8D4E3"
             },
             "line": {
              "color": "white"
             }
            },
            "type": "table"
           }
          ]
         },
         "layout": {
          "annotationdefaults": {
           "arrowcolor": "#2a3f5f",
           "arrowhead": 0,
           "arrowwidth": 1
          },
          "colorscale": {
           "diverging": [
            [
             0,
             "#8e0152"
            ],
            [
             0.1,
             "#c51b7d"
            ],
            [
             0.2,
             "#de77ae"
            ],
            [
             0.3,
             "#f1b6da"
            ],
            [
             0.4,
             "#fde0ef"
            ],
            [
             0.5,
             "#f7f7f7"
            ],
            [
             0.6,
             "#e6f5d0"
            ],
            [
             0.7,
             "#b8e186"
            ],
            [
             0.8,
             "#7fbc41"
            ],
            [
             0.9,
             "#4d9221"
            ],
            [
             1,
             "#276419"
            ]
           ],
           "sequential": [
            [
             0,
             "#0d0887"
            ],
            [
             0.1111111111111111,
             "#46039f"
            ],
            [
             0.2222222222222222,
             "#7201a8"
            ],
            [
             0.3333333333333333,
             "#9c179e"
            ],
            [
             0.4444444444444444,
             "#bd3786"
            ],
            [
             0.5555555555555556,
             "#d8576b"
            ],
            [
             0.6666666666666666,
             "#ed7953"
            ],
            [
             0.7777777777777778,
             "#fb9f3a"
            ],
            [
             0.8888888888888888,
             "#fdca26"
            ],
            [
             1,
             "#f0f921"
            ]
           ],
           "sequentialminus": [
            [
             0,
             "#0d0887"
            ],
            [
             0.1111111111111111,
             "#46039f"
            ],
            [
             0.2222222222222222,
             "#7201a8"
            ],
            [
             0.3333333333333333,
             "#9c179e"
            ],
            [
             0.4444444444444444,
             "#bd3786"
            ],
            [
             0.5555555555555556,
             "#d8576b"
            ],
            [
             0.6666666666666666,
             "#ed7953"
            ],
            [
             0.7777777777777778,
             "#fb9f3a"
            ],
            [
             0.8888888888888888,
             "#fdca26"
            ],
            [
             1,
             "#f0f921"
            ]
           ]
          },
          "colorway": [
           "#636efa",
           "#EF553B",
           "#00cc96",
           "#ab63fa",
           "#FFA15A",
           "#19d3f3",
           "#FF6692",
           "#B6E880",
           "#FF97FF",
           "#FECB52"
          ],
          "font": {
           "color": "#2a3f5f"
          },
          "geo": {
           "bgcolor": "white",
           "lakecolor": "white",
           "landcolor": "#E5ECF6",
           "showlakes": true,
           "showland": true,
           "subunitcolor": "white"
          },
          "hoverlabel": {
           "align": "left"
          },
          "hovermode": "closest",
          "mapbox": {
           "style": "light"
          },
          "paper_bgcolor": "white",
          "plot_bgcolor": "#E5ECF6",
          "polar": {
           "angularaxis": {
            "gridcolor": "white",
            "linecolor": "white",
            "ticks": ""
           },
           "bgcolor": "#E5ECF6",
           "radialaxis": {
            "gridcolor": "white",
            "linecolor": "white",
            "ticks": ""
           }
          },
          "scene": {
           "xaxis": {
            "backgroundcolor": "#E5ECF6",
            "gridcolor": "white",
            "gridwidth": 2,
            "linecolor": "white",
            "showbackground": true,
            "ticks": "",
            "zerolinecolor": "white"
           },
           "yaxis": {
            "backgroundcolor": "#E5ECF6",
            "gridcolor": "white",
            "gridwidth": 2,
            "linecolor": "white",
            "showbackground": true,
            "ticks": "",
            "zerolinecolor": "white"
           },
           "zaxis": {
            "backgroundcolor": "#E5ECF6",
            "gridcolor": "white",
            "gridwidth": 2,
            "linecolor": "white",
            "showbackground": true,
            "ticks": "",
            "zerolinecolor": "white"
           }
          },
          "shapedefaults": {
           "line": {
            "color": "#2a3f5f"
           }
          },
          "ternary": {
           "aaxis": {
            "gridcolor": "white",
            "linecolor": "white",
            "ticks": ""
           },
           "baxis": {
            "gridcolor": "white",
            "linecolor": "white",
            "ticks": ""
           },
           "bgcolor": "#E5ECF6",
           "caxis": {
            "gridcolor": "white",
            "linecolor": "white",
            "ticks": ""
           }
          },
          "title": {
           "x": 0.05
          },
          "xaxis": {
           "automargin": true,
           "gridcolor": "white",
           "linecolor": "white",
           "ticks": "",
           "zerolinecolor": "white",
           "zerolinewidth": 2
          },
          "yaxis": {
           "automargin": true,
           "gridcolor": "white",
           "linecolor": "white",
           "ticks": "",
           "zerolinecolor": "white",
           "zerolinewidth": 2
          }
         }
        },
        "title": {
         "text": "Best States for the Gun Industry"
        }
       }
      },
      "text/html": [
       "<div>\n",
       "        \n",
       "        \n",
       "            <div id=\"7861c0c5-7c44-4bb1-b0ae-69b9c29b9f17\" class=\"plotly-graph-div\" style=\"height:525px; width:100%;\"></div>\n",
       "            <script type=\"text/javascript\">\n",
       "                require([\"plotly\"], function(Plotly) {\n",
       "                    window.PLOTLYENV=window.PLOTLYENV || {};\n",
       "                    \n",
       "                if (document.getElementById(\"7861c0c5-7c44-4bb1-b0ae-69b9c29b9f17\")) {\n",
       "                    Plotly.newPlot(\n",
       "                        '7861c0c5-7c44-4bb1-b0ae-69b9c29b9f17',\n",
       "                        [{\"colorbar\": {\"title\": {\"text\": \"Best States for the Gun Industry\"}}, \"colorscale\": [[0.0, \"rgb(255,245,240)\"], [0.125, \"rgb(254,224,210)\"], [0.25, \"rgb(252,187,161)\"], [0.375, \"rgb(252,146,114)\"], [0.5, \"rgb(251,106,74)\"], [0.625, \"rgb(239,59,44)\"], [0.75, \"rgb(203,24,29)\"], [0.875, \"rgb(165,15,21)\"], [1.0, \"rgb(103,0,13)\"]], \"locationmode\": \"USA-states\", \"locations\": [\"AL\", \"AR\", \"GA\", \"ID\", \"AZ\", \"FL\", \"IN\", \"AK\", \"MO\", \"LA\", \"CO\", \"KS\", \"KY\", \"CA\", \"MT\", \"TX\", \"NV\", \"NM\", \"OK\", \"MS\", \"VA\", \"MN\", \"NH\", \"MI\", \"NC\", \"UT\", \"OH\", \"PA\", \"CT\", \"IL\", \"SC\", \"TN\", \"MD\", \"WY\", \"HI\", \"IA\", \"WV\", \"OR\", \"SD\", \"DE\", \"MA\", \"NE\", \"ME\", \"ND\", \"WI\", \"NY\", \"WA\", \"VT\", \"NJ\", \"RI\"], \"type\": \"choropleth\", \"z\": [50.0, 49.0, 48.0, 47.0, 46.0, 45.0, 44.0, 43.0, 42.0, 41.0, 40.0, 39.0, 38.0, 37.0, 36.0, 35.0, 34.0, 33.0, 32.0, 31.0, 30.0, 29.0, 28.0, 27.0, 26.0, 25.0, 24.0, 23.0, 22.0, 21.0, 20.0, 19.0, 18.0, 17.0, 16.0, 15.0, 14.0, 13.0, 12.0, 11.0, 10.0, 9.0, 8.0, 7.0, 6.0, 5.0, 4.0, 3.0, 2.0, 1.0]}],\n",
       "                        {\"geo\": {\"scope\": \"usa\"}, \"template\": {\"data\": {\"bar\": [{\"error_x\": {\"color\": \"#2a3f5f\"}, \"error_y\": {\"color\": \"#2a3f5f\"}, \"marker\": {\"line\": {\"color\": \"#E5ECF6\", \"width\": 0.5}}, \"type\": \"bar\"}], \"barpolar\": [{\"marker\": {\"line\": {\"color\": \"#E5ECF6\", \"width\": 0.5}}, \"type\": \"barpolar\"}], \"carpet\": [{\"aaxis\": {\"endlinecolor\": \"#2a3f5f\", \"gridcolor\": \"white\", \"linecolor\": \"white\", \"minorgridcolor\": \"white\", \"startlinecolor\": \"#2a3f5f\"}, \"baxis\": {\"endlinecolor\": \"#2a3f5f\", \"gridcolor\": \"white\", \"linecolor\": \"white\", \"minorgridcolor\": \"white\", \"startlinecolor\": \"#2a3f5f\"}, \"type\": \"carpet\"}], \"choropleth\": [{\"colorbar\": {\"outlinewidth\": 0, \"ticks\": \"\"}, \"type\": \"choropleth\"}], \"contour\": [{\"colorbar\": {\"outlinewidth\": 0, \"ticks\": \"\"}, \"colorscale\": [[0.0, \"#0d0887\"], [0.1111111111111111, \"#46039f\"], [0.2222222222222222, \"#7201a8\"], [0.3333333333333333, \"#9c179e\"], [0.4444444444444444, \"#bd3786\"], [0.5555555555555556, \"#d8576b\"], [0.6666666666666666, \"#ed7953\"], [0.7777777777777778, \"#fb9f3a\"], [0.8888888888888888, \"#fdca26\"], [1.0, \"#f0f921\"]], \"type\": \"contour\"}], \"contourcarpet\": [{\"colorbar\": {\"outlinewidth\": 0, \"ticks\": \"\"}, \"type\": \"contourcarpet\"}], \"heatmap\": [{\"colorbar\": {\"outlinewidth\": 0, \"ticks\": \"\"}, \"colorscale\": [[0.0, \"#0d0887\"], [0.1111111111111111, \"#46039f\"], [0.2222222222222222, \"#7201a8\"], [0.3333333333333333, \"#9c179e\"], [0.4444444444444444, \"#bd3786\"], [0.5555555555555556, \"#d8576b\"], [0.6666666666666666, \"#ed7953\"], [0.7777777777777778, \"#fb9f3a\"], [0.8888888888888888, \"#fdca26\"], [1.0, \"#f0f921\"]], \"type\": \"heatmap\"}], \"heatmapgl\": [{\"colorbar\": {\"outlinewidth\": 0, \"ticks\": \"\"}, \"colorscale\": [[0.0, \"#0d0887\"], [0.1111111111111111, \"#46039f\"], [0.2222222222222222, \"#7201a8\"], [0.3333333333333333, \"#9c179e\"], [0.4444444444444444, \"#bd3786\"], [0.5555555555555556, \"#d8576b\"], [0.6666666666666666, \"#ed7953\"], [0.7777777777777778, \"#fb9f3a\"], [0.8888888888888888, \"#fdca26\"], [1.0, \"#f0f921\"]], \"type\": \"heatmapgl\"}], \"histogram\": [{\"marker\": {\"colorbar\": {\"outlinewidth\": 0, \"ticks\": \"\"}}, \"type\": \"histogram\"}], \"histogram2d\": [{\"colorbar\": {\"outlinewidth\": 0, \"ticks\": \"\"}, \"colorscale\": [[0.0, \"#0d0887\"], [0.1111111111111111, \"#46039f\"], [0.2222222222222222, \"#7201a8\"], [0.3333333333333333, \"#9c179e\"], [0.4444444444444444, \"#bd3786\"], [0.5555555555555556, \"#d8576b\"], [0.6666666666666666, \"#ed7953\"], [0.7777777777777778, \"#fb9f3a\"], [0.8888888888888888, \"#fdca26\"], [1.0, \"#f0f921\"]], \"type\": \"histogram2d\"}], \"histogram2dcontour\": [{\"colorbar\": {\"outlinewidth\": 0, \"ticks\": \"\"}, \"colorscale\": [[0.0, \"#0d0887\"], [0.1111111111111111, \"#46039f\"], [0.2222222222222222, \"#7201a8\"], [0.3333333333333333, \"#9c179e\"], [0.4444444444444444, \"#bd3786\"], [0.5555555555555556, \"#d8576b\"], [0.6666666666666666, \"#ed7953\"], [0.7777777777777778, \"#fb9f3a\"], [0.8888888888888888, \"#fdca26\"], [1.0, \"#f0f921\"]], \"type\": \"histogram2dcontour\"}], \"mesh3d\": [{\"colorbar\": {\"outlinewidth\": 0, \"ticks\": \"\"}, \"type\": \"mesh3d\"}], \"parcoords\": [{\"line\": {\"colorbar\": {\"outlinewidth\": 0, \"ticks\": \"\"}}, \"type\": \"parcoords\"}], \"scatter\": [{\"marker\": {\"colorbar\": {\"outlinewidth\": 0, \"ticks\": \"\"}}, \"type\": \"scatter\"}], \"scatter3d\": [{\"line\": {\"colorbar\": {\"outlinewidth\": 0, \"ticks\": \"\"}}, \"marker\": {\"colorbar\": {\"outlinewidth\": 0, \"ticks\": \"\"}}, \"type\": \"scatter3d\"}], \"scattercarpet\": [{\"marker\": {\"colorbar\": {\"outlinewidth\": 0, \"ticks\": \"\"}}, \"type\": \"scattercarpet\"}], \"scattergeo\": [{\"marker\": {\"colorbar\": {\"outlinewidth\": 0, \"ticks\": \"\"}}, \"type\": \"scattergeo\"}], \"scattergl\": [{\"marker\": {\"colorbar\": {\"outlinewidth\": 0, \"ticks\": \"\"}}, \"type\": \"scattergl\"}], \"scattermapbox\": [{\"marker\": {\"colorbar\": {\"outlinewidth\": 0, \"ticks\": \"\"}}, \"type\": \"scattermapbox\"}], \"scatterpolar\": [{\"marker\": {\"colorbar\": {\"outlinewidth\": 0, \"ticks\": \"\"}}, \"type\": \"scatterpolar\"}], \"scatterpolargl\": [{\"marker\": {\"colorbar\": {\"outlinewidth\": 0, \"ticks\": \"\"}}, \"type\": \"scatterpolargl\"}], \"scatterternary\": [{\"marker\": {\"colorbar\": {\"outlinewidth\": 0, \"ticks\": \"\"}}, \"type\": \"scatterternary\"}], \"surface\": [{\"colorbar\": {\"outlinewidth\": 0, \"ticks\": \"\"}, \"colorscale\": [[0.0, \"#0d0887\"], [0.1111111111111111, \"#46039f\"], [0.2222222222222222, \"#7201a8\"], [0.3333333333333333, \"#9c179e\"], [0.4444444444444444, \"#bd3786\"], [0.5555555555555556, \"#d8576b\"], [0.6666666666666666, \"#ed7953\"], [0.7777777777777778, \"#fb9f3a\"], [0.8888888888888888, \"#fdca26\"], [1.0, \"#f0f921\"]], \"type\": \"surface\"}], \"table\": [{\"cells\": {\"fill\": {\"color\": \"#EBF0F8\"}, \"line\": {\"color\": \"white\"}}, \"header\": {\"fill\": {\"color\": \"#C8D4E3\"}, \"line\": {\"color\": \"white\"}}, \"type\": \"table\"}]}, \"layout\": {\"annotationdefaults\": {\"arrowcolor\": \"#2a3f5f\", \"arrowhead\": 0, \"arrowwidth\": 1}, \"colorscale\": {\"diverging\": [[0, \"#8e0152\"], [0.1, \"#c51b7d\"], [0.2, \"#de77ae\"], [0.3, \"#f1b6da\"], [0.4, \"#fde0ef\"], [0.5, \"#f7f7f7\"], [0.6, \"#e6f5d0\"], [0.7, \"#b8e186\"], [0.8, \"#7fbc41\"], [0.9, \"#4d9221\"], [1, \"#276419\"]], \"sequential\": [[0.0, \"#0d0887\"], [0.1111111111111111, \"#46039f\"], [0.2222222222222222, \"#7201a8\"], [0.3333333333333333, \"#9c179e\"], [0.4444444444444444, \"#bd3786\"], [0.5555555555555556, \"#d8576b\"], [0.6666666666666666, \"#ed7953\"], [0.7777777777777778, \"#fb9f3a\"], [0.8888888888888888, \"#fdca26\"], [1.0, \"#f0f921\"]], \"sequentialminus\": [[0.0, \"#0d0887\"], [0.1111111111111111, \"#46039f\"], [0.2222222222222222, \"#7201a8\"], [0.3333333333333333, \"#9c179e\"], [0.4444444444444444, \"#bd3786\"], [0.5555555555555556, \"#d8576b\"], [0.6666666666666666, \"#ed7953\"], [0.7777777777777778, \"#fb9f3a\"], [0.8888888888888888, \"#fdca26\"], [1.0, \"#f0f921\"]]}, \"colorway\": [\"#636efa\", \"#EF553B\", \"#00cc96\", \"#ab63fa\", \"#FFA15A\", \"#19d3f3\", \"#FF6692\", \"#B6E880\", \"#FF97FF\", \"#FECB52\"], \"font\": {\"color\": \"#2a3f5f\"}, \"geo\": {\"bgcolor\": \"white\", \"lakecolor\": \"white\", \"landcolor\": \"#E5ECF6\", \"showlakes\": true, \"showland\": true, \"subunitcolor\": \"white\"}, \"hoverlabel\": {\"align\": \"left\"}, \"hovermode\": \"closest\", \"mapbox\": {\"style\": \"light\"}, \"paper_bgcolor\": \"white\", \"plot_bgcolor\": \"#E5ECF6\", \"polar\": {\"angularaxis\": {\"gridcolor\": \"white\", \"linecolor\": \"white\", \"ticks\": \"\"}, \"bgcolor\": \"#E5ECF6\", \"radialaxis\": {\"gridcolor\": \"white\", \"linecolor\": \"white\", \"ticks\": \"\"}}, \"scene\": {\"xaxis\": {\"backgroundcolor\": \"#E5ECF6\", \"gridcolor\": \"white\", \"gridwidth\": 2, \"linecolor\": \"white\", \"showbackground\": true, \"ticks\": \"\", \"zerolinecolor\": \"white\"}, \"yaxis\": {\"backgroundcolor\": \"#E5ECF6\", \"gridcolor\": \"white\", \"gridwidth\": 2, \"linecolor\": \"white\", \"showbackground\": true, \"ticks\": \"\", \"zerolinecolor\": \"white\"}, \"zaxis\": {\"backgroundcolor\": \"#E5ECF6\", \"gridcolor\": \"white\", \"gridwidth\": 2, \"linecolor\": \"white\", \"showbackground\": true, \"ticks\": \"\", \"zerolinecolor\": \"white\"}}, \"shapedefaults\": {\"line\": {\"color\": \"#2a3f5f\"}}, \"ternary\": {\"aaxis\": {\"gridcolor\": \"white\", \"linecolor\": \"white\", \"ticks\": \"\"}, \"baxis\": {\"gridcolor\": \"white\", \"linecolor\": \"white\", \"ticks\": \"\"}, \"bgcolor\": \"#E5ECF6\", \"caxis\": {\"gridcolor\": \"white\", \"linecolor\": \"white\", \"ticks\": \"\"}}, \"title\": {\"x\": 0.05}, \"xaxis\": {\"automargin\": true, \"gridcolor\": \"white\", \"linecolor\": \"white\", \"ticks\": \"\", \"zerolinecolor\": \"white\", \"zerolinewidth\": 2}, \"yaxis\": {\"automargin\": true, \"gridcolor\": \"white\", \"linecolor\": \"white\", \"ticks\": \"\", \"zerolinecolor\": \"white\", \"zerolinewidth\": 2}}}, \"title\": {\"text\": \"Best States for the Gun Industry\"}},\n",
       "                        {\"responsive\": true}\n",
       "                    ).then(function(){\n",
       "                            \n",
       "var gd = document.getElementById('7861c0c5-7c44-4bb1-b0ae-69b9c29b9f17');\n",
       "var x = new MutationObserver(function (mutations, observer) {{\n",
       "        var display = window.getComputedStyle(gd).display;\n",
       "        if (!display || display === 'none') {{\n",
       "            console.log([gd, 'removed!']);\n",
       "            Plotly.purge(gd);\n",
       "            observer.disconnect();\n",
       "        }}\n",
       "}});\n",
       "\n",
       "// Listen for the removal of the full notebook cells\n",
       "var notebookContainer = gd.closest('#notebook-container');\n",
       "if (notebookContainer) {{\n",
       "    x.observe(notebookContainer, {childList: true});\n",
       "}}\n",
       "\n",
       "// Listen for the clearing of the current output cell\n",
       "var outputEl = gd.closest('.output');\n",
       "if (outputEl) {{\n",
       "    x.observe(outputEl, {childList: true});\n",
       "}}\n",
       "\n",
       "                        })\n",
       "                };\n",
       "                });\n",
       "            </script>\n",
       "        </div>"
      ]
     },
     "metadata": {},
     "output_type": "display_data"
    }
   ],
   "source": [
    "import plotly.graph_objects as go\n",
    "\n",
    "\n",
    "\n",
    "fig = go.Figure(data=go.Choropleth(\n",
    "    locations=industry_friendly_df['code'], # Spatial coordinates\n",
    "    z = industry_friendly_df['gun friendly'].astype(float), # Data to be color-coded\n",
    "    locationmode = 'USA-states', # set of locations match entries in `locations`\n",
    "    colorscale = 'Reds',\n",
    "    colorbar_title = \"Best States for the Gun Industry\",\n",
    "))\n",
    "\n",
    "fig.update_layout(\n",
    "    title_text = 'Best States for the Gun Industry',\n",
    "    geo_scope='usa', # limite map scope to USA\n",
    ")\n",
    "\n",
    "fig.show()"
   ]
  },
  {
   "cell_type": "code",
   "execution_count": 243,
   "metadata": {},
   "outputs": [
    {
     "data": {
      "text/html": [
       "<div>\n",
       "<style scoped>\n",
       "    .dataframe tbody tr th:only-of-type {\n",
       "        vertical-align: middle;\n",
       "    }\n",
       "\n",
       "    .dataframe tbody tr th {\n",
       "        vertical-align: top;\n",
       "    }\n",
       "\n",
       "    .dataframe thead th {\n",
       "        text-align: right;\n",
       "    }\n",
       "</style>\n",
       "<table border=\"1\" class=\"dataframe\">\n",
       "  <thead>\n",
       "    <tr style=\"text-align: right;\">\n",
       "      <th></th>\n",
       "      <th>state</th>\n",
       "      <th>Gun Violence</th>\n",
       "      <th>code</th>\n",
       "      <th>guns_per_capita</th>\n",
       "      <th>guns_registered</th>\n",
       "      <th>rank</th>\n",
       "      <th>gun friendly</th>\n",
       "    </tr>\n",
       "  </thead>\n",
       "  <tbody>\n",
       "    <tr>\n",
       "      <th>0</th>\n",
       "      <td>Illinois</td>\n",
       "      <td>4588</td>\n",
       "      <td>IL</td>\n",
       "      <td>11.44</td>\n",
       "      <td>146487.0</td>\n",
       "      <td>40</td>\n",
       "      <td>21.0</td>\n",
       "    </tr>\n",
       "    <tr>\n",
       "      <th>1</th>\n",
       "      <td>California</td>\n",
       "      <td>3376</td>\n",
       "      <td>CA</td>\n",
       "      <td>8.71</td>\n",
       "      <td>344622.0</td>\n",
       "      <td>44</td>\n",
       "      <td>37.0</td>\n",
       "    </tr>\n",
       "    <tr>\n",
       "      <th>2</th>\n",
       "      <td>Florida</td>\n",
       "      <td>2751</td>\n",
       "      <td>FL</td>\n",
       "      <td>16.35</td>\n",
       "      <td>343288.0</td>\n",
       "      <td>29</td>\n",
       "      <td>45.0</td>\n",
       "    </tr>\n",
       "    <tr>\n",
       "      <th>3</th>\n",
       "      <td>Texas</td>\n",
       "      <td>2734</td>\n",
       "      <td>TX</td>\n",
       "      <td>20.79</td>\n",
       "      <td>588696.0</td>\n",
       "      <td>18</td>\n",
       "      <td>35.0</td>\n",
       "    </tr>\n",
       "    <tr>\n",
       "      <th>4</th>\n",
       "      <td>Ohio</td>\n",
       "      <td>2217</td>\n",
       "      <td>OH</td>\n",
       "      <td>14.87</td>\n",
       "      <td>173405.0</td>\n",
       "      <td>30</td>\n",
       "      <td>24.0</td>\n",
       "    </tr>\n",
       "    <tr>\n",
       "      <th>5</th>\n",
       "      <td>Pennsylvania</td>\n",
       "      <td>1823</td>\n",
       "      <td>PA</td>\n",
       "      <td>18.45</td>\n",
       "      <td>236377.0</td>\n",
       "      <td>20</td>\n",
       "      <td>23.0</td>\n",
       "    </tr>\n",
       "    <tr>\n",
       "      <th>6</th>\n",
       "      <td>Louisiana</td>\n",
       "      <td>1733</td>\n",
       "      <td>LA</td>\n",
       "      <td>24.94</td>\n",
       "      <td>116831.0</td>\n",
       "      <td>11</td>\n",
       "      <td>41.0</td>\n",
       "    </tr>\n",
       "    <tr>\n",
       "      <th>7</th>\n",
       "      <td>Georgia</td>\n",
       "      <td>1715</td>\n",
       "      <td>GA</td>\n",
       "      <td>18.22</td>\n",
       "      <td>190050.0</td>\n",
       "      <td>21</td>\n",
       "      <td>48.0</td>\n",
       "    </tr>\n",
       "    <tr>\n",
       "      <th>8</th>\n",
       "      <td>North Carolina</td>\n",
       "      <td>1709</td>\n",
       "      <td>NC</td>\n",
       "      <td>14.82</td>\n",
       "      <td>152238.0</td>\n",
       "      <td>31</td>\n",
       "      <td>26.0</td>\n",
       "    </tr>\n",
       "    <tr>\n",
       "      <th>9</th>\n",
       "      <td>Tennessee</td>\n",
       "      <td>1693</td>\n",
       "      <td>TN</td>\n",
       "      <td>14.76</td>\n",
       "      <td>99159.0</td>\n",
       "      <td>33</td>\n",
       "      <td>19.0</td>\n",
       "    </tr>\n",
       "    <tr>\n",
       "      <th>10</th>\n",
       "      <td>Missouri</td>\n",
       "      <td>1530</td>\n",
       "      <td>MO</td>\n",
       "      <td>11.94</td>\n",
       "      <td>72996.0</td>\n",
       "      <td>36</td>\n",
       "      <td>42.0</td>\n",
       "    </tr>\n",
       "    <tr>\n",
       "      <th>11</th>\n",
       "      <td>New York</td>\n",
       "      <td>1439</td>\n",
       "      <td>NY</td>\n",
       "      <td>3.83</td>\n",
       "      <td>76207.0</td>\n",
       "      <td>51</td>\n",
       "      <td>5.0</td>\n",
       "    </tr>\n",
       "    <tr>\n",
       "      <th>12</th>\n",
       "      <td>Alabama</td>\n",
       "      <td>1400</td>\n",
       "      <td>AL</td>\n",
       "      <td>33.15</td>\n",
       "      <td>161641.0</td>\n",
       "      <td>6</td>\n",
       "      <td>50.0</td>\n",
       "    </tr>\n",
       "    <tr>\n",
       "      <th>13</th>\n",
       "      <td>Maryland</td>\n",
       "      <td>1335</td>\n",
       "      <td>MD</td>\n",
       "      <td>17.03</td>\n",
       "      <td>103109.0</td>\n",
       "      <td>27</td>\n",
       "      <td>18.0</td>\n",
       "    </tr>\n",
       "    <tr>\n",
       "      <th>14</th>\n",
       "      <td>Virginia</td>\n",
       "      <td>1324</td>\n",
       "      <td>VA</td>\n",
       "      <td>36.34</td>\n",
       "      <td>307822.0</td>\n",
       "      <td>5</td>\n",
       "      <td>30.0</td>\n",
       "    </tr>\n",
       "    <tr>\n",
       "      <th>15</th>\n",
       "      <td>South Carolina</td>\n",
       "      <td>1186</td>\n",
       "      <td>SC</td>\n",
       "      <td>21.01</td>\n",
       "      <td>105601.0</td>\n",
       "      <td>17</td>\n",
       "      <td>20.0</td>\n",
       "    </tr>\n",
       "    <tr>\n",
       "      <th>16</th>\n",
       "      <td>Indiana</td>\n",
       "      <td>1144</td>\n",
       "      <td>IN</td>\n",
       "      <td>17.10</td>\n",
       "      <td>114019.0</td>\n",
       "      <td>26</td>\n",
       "      <td>44.0</td>\n",
       "    </tr>\n",
       "    <tr>\n",
       "      <th>17</th>\n",
       "      <td>Michigan</td>\n",
       "      <td>1140</td>\n",
       "      <td>MI</td>\n",
       "      <td>6.59</td>\n",
       "      <td>65742.0</td>\n",
       "      <td>45</td>\n",
       "      <td>27.0</td>\n",
       "    </tr>\n",
       "    <tr>\n",
       "      <th>18</th>\n",
       "      <td>New Jersey</td>\n",
       "      <td>938</td>\n",
       "      <td>NJ</td>\n",
       "      <td>6.38</td>\n",
       "      <td>57507.0</td>\n",
       "      <td>46</td>\n",
       "      <td>2.0</td>\n",
       "    </tr>\n",
       "    <tr>\n",
       "      <th>19</th>\n",
       "      <td>Mississippi</td>\n",
       "      <td>917</td>\n",
       "      <td>MS</td>\n",
       "      <td>11.89</td>\n",
       "      <td>35494.0</td>\n",
       "      <td>37</td>\n",
       "      <td>31.0</td>\n",
       "    </tr>\n",
       "    <tr>\n",
       "      <th>20</th>\n",
       "      <td>Kentucky</td>\n",
       "      <td>791</td>\n",
       "      <td>KY</td>\n",
       "      <td>18.20</td>\n",
       "      <td>81068.0</td>\n",
       "      <td>22</td>\n",
       "      <td>38.0</td>\n",
       "    </tr>\n",
       "    <tr>\n",
       "      <th>21</th>\n",
       "      <td>Wisconsin</td>\n",
       "      <td>728</td>\n",
       "      <td>WI</td>\n",
       "      <td>11.19</td>\n",
       "      <td>64878.0</td>\n",
       "      <td>41</td>\n",
       "      <td>6.0</td>\n",
       "    </tr>\n",
       "    <tr>\n",
       "      <th>22</th>\n",
       "      <td>Arkansas</td>\n",
       "      <td>653</td>\n",
       "      <td>AR</td>\n",
       "      <td>26.57</td>\n",
       "      <td>79841.0</td>\n",
       "      <td>8</td>\n",
       "      <td>49.0</td>\n",
       "    </tr>\n",
       "    <tr>\n",
       "      <th>23</th>\n",
       "      <td>Oklahoma</td>\n",
       "      <td>633</td>\n",
       "      <td>OK</td>\n",
       "      <td>18.13</td>\n",
       "      <td>71269.0</td>\n",
       "      <td>23</td>\n",
       "      <td>32.0</td>\n",
       "    </tr>\n",
       "    <tr>\n",
       "      <th>24</th>\n",
       "      <td>Arizona</td>\n",
       "      <td>587</td>\n",
       "      <td>AZ</td>\n",
       "      <td>25.61</td>\n",
       "      <td>179738.0</td>\n",
       "      <td>10</td>\n",
       "      <td>46.0</td>\n",
       "    </tr>\n",
       "    <tr>\n",
       "      <th>25</th>\n",
       "      <td>Massachusetts</td>\n",
       "      <td>584</td>\n",
       "      <td>MA</td>\n",
       "      <td>5.41</td>\n",
       "      <td>37152.0</td>\n",
       "      <td>48</td>\n",
       "      <td>10.0</td>\n",
       "    </tr>\n",
       "    <tr>\n",
       "      <th>26</th>\n",
       "      <td>Washington</td>\n",
       "      <td>582</td>\n",
       "      <td>WA</td>\n",
       "      <td>12.40</td>\n",
       "      <td>91835.0</td>\n",
       "      <td>35</td>\n",
       "      <td>4.0</td>\n",
       "    </tr>\n",
       "    <tr>\n",
       "      <th>27</th>\n",
       "      <td>Colorado</td>\n",
       "      <td>499</td>\n",
       "      <td>CO</td>\n",
       "      <td>16.48</td>\n",
       "      <td>92435.0</td>\n",
       "      <td>28</td>\n",
       "      <td>40.0</td>\n",
       "    </tr>\n",
       "    <tr>\n",
       "      <th>28</th>\n",
       "      <td>District of Columbia</td>\n",
       "      <td>440</td>\n",
       "      <td>DC</td>\n",
       "      <td>68.05</td>\n",
       "      <td>47228.0</td>\n",
       "      <td>2</td>\n",
       "      <td>NaN</td>\n",
       "    </tr>\n",
       "    <tr>\n",
       "      <th>29</th>\n",
       "      <td>Nevada</td>\n",
       "      <td>418</td>\n",
       "      <td>NV</td>\n",
       "      <td>25.64</td>\n",
       "      <td>76888.0</td>\n",
       "      <td>9</td>\n",
       "      <td>34.0</td>\n",
       "    </tr>\n",
       "    <tr>\n",
       "      <th>30</th>\n",
       "      <td>Kansas</td>\n",
       "      <td>416</td>\n",
       "      <td>KS</td>\n",
       "      <td>18.06</td>\n",
       "      <td>52634.0</td>\n",
       "      <td>24</td>\n",
       "      <td>39.0</td>\n",
       "    </tr>\n",
       "    <tr>\n",
       "      <th>31</th>\n",
       "      <td>Minnesota</td>\n",
       "      <td>397</td>\n",
       "      <td>MN</td>\n",
       "      <td>14.22</td>\n",
       "      <td>79307.0</td>\n",
       "      <td>34</td>\n",
       "      <td>29.0</td>\n",
       "    </tr>\n",
       "    <tr>\n",
       "      <th>32</th>\n",
       "      <td>Connecticut</td>\n",
       "      <td>382</td>\n",
       "      <td>CT</td>\n",
       "      <td>22.96</td>\n",
       "      <td>82400.0</td>\n",
       "      <td>14</td>\n",
       "      <td>22.0</td>\n",
       "    </tr>\n",
       "    <tr>\n",
       "      <th>33</th>\n",
       "      <td>Iowa</td>\n",
       "      <td>300</td>\n",
       "      <td>IA</td>\n",
       "      <td>9.05</td>\n",
       "      <td>28494.0</td>\n",
       "      <td>43</td>\n",
       "      <td>15.0</td>\n",
       "    </tr>\n",
       "    <tr>\n",
       "      <th>34</th>\n",
       "      <td>Delaware</td>\n",
       "      <td>297</td>\n",
       "      <td>DE</td>\n",
       "      <td>5.04</td>\n",
       "      <td>4852.0</td>\n",
       "      <td>49</td>\n",
       "      <td>11.0</td>\n",
       "    </tr>\n",
       "    <tr>\n",
       "      <th>35</th>\n",
       "      <td>Oregon</td>\n",
       "      <td>269</td>\n",
       "      <td>OR</td>\n",
       "      <td>14.82</td>\n",
       "      <td>61383.0</td>\n",
       "      <td>32</td>\n",
       "      <td>13.0</td>\n",
       "    </tr>\n",
       "    <tr>\n",
       "      <th>36</th>\n",
       "      <td>New Mexico</td>\n",
       "      <td>266</td>\n",
       "      <td>NM</td>\n",
       "      <td>46.73</td>\n",
       "      <td>97580.0</td>\n",
       "      <td>4</td>\n",
       "      <td>33.0</td>\n",
       "    </tr>\n",
       "    <tr>\n",
       "      <th>37</th>\n",
       "      <td>West Virginia</td>\n",
       "      <td>237</td>\n",
       "      <td>WV</td>\n",
       "      <td>19.42</td>\n",
       "      <td>35264.0</td>\n",
       "      <td>19</td>\n",
       "      <td>14.0</td>\n",
       "    </tr>\n",
       "    <tr>\n",
       "      <th>38</th>\n",
       "      <td>Nebraska</td>\n",
       "      <td>199</td>\n",
       "      <td>NE</td>\n",
       "      <td>11.57</td>\n",
       "      <td>22234.0</td>\n",
       "      <td>38</td>\n",
       "      <td>9.0</td>\n",
       "    </tr>\n",
       "    <tr>\n",
       "      <th>39</th>\n",
       "      <td>Utah</td>\n",
       "      <td>180</td>\n",
       "      <td>UT</td>\n",
       "      <td>23.48</td>\n",
       "      <td>72856.0</td>\n",
       "      <td>13</td>\n",
       "      <td>25.0</td>\n",
       "    </tr>\n",
       "    <tr>\n",
       "      <th>40</th>\n",
       "      <td>Alaska</td>\n",
       "      <td>139</td>\n",
       "      <td>AK</td>\n",
       "      <td>21.38</td>\n",
       "      <td>15824.0</td>\n",
       "      <td>15</td>\n",
       "      <td>43.0</td>\n",
       "    </tr>\n",
       "    <tr>\n",
       "      <th>41</th>\n",
       "      <td>Rhode Island</td>\n",
       "      <td>90</td>\n",
       "      <td>RI</td>\n",
       "      <td>3.98</td>\n",
       "      <td>37152.0</td>\n",
       "      <td>50</td>\n",
       "      <td>1.0</td>\n",
       "    </tr>\n",
       "    <tr>\n",
       "      <th>42</th>\n",
       "      <td>Idaho</td>\n",
       "      <td>81</td>\n",
       "      <td>ID</td>\n",
       "      <td>28.86</td>\n",
       "      <td>49566.0</td>\n",
       "      <td>7</td>\n",
       "      <td>47.0</td>\n",
       "    </tr>\n",
       "    <tr>\n",
       "      <th>43</th>\n",
       "      <td>Montana</td>\n",
       "      <td>74</td>\n",
       "      <td>MT</td>\n",
       "      <td>21.06</td>\n",
       "      <td>22133.0</td>\n",
       "      <td>16</td>\n",
       "      <td>36.0</td>\n",
       "    </tr>\n",
       "    <tr>\n",
       "      <th>44</th>\n",
       "      <td>Maine</td>\n",
       "      <td>69</td>\n",
       "      <td>ME</td>\n",
       "      <td>11.50</td>\n",
       "      <td>15371.0</td>\n",
       "      <td>39</td>\n",
       "      <td>8.0</td>\n",
       "    </tr>\n",
       "    <tr>\n",
       "      <th>45</th>\n",
       "      <td>New Hampshire</td>\n",
       "      <td>53</td>\n",
       "      <td>NH</td>\n",
       "      <td>46.76</td>\n",
       "      <td>64135.0</td>\n",
       "      <td>3</td>\n",
       "      <td>28.0</td>\n",
       "    </tr>\n",
       "    <tr>\n",
       "      <th>46</th>\n",
       "      <td>North Dakota</td>\n",
       "      <td>48</td>\n",
       "      <td>ND</td>\n",
       "      <td>17.56</td>\n",
       "      <td>13272.0</td>\n",
       "      <td>25</td>\n",
       "      <td>7.0</td>\n",
       "    </tr>\n",
       "    <tr>\n",
       "      <th>47</th>\n",
       "      <td>South Dakota</td>\n",
       "      <td>40</td>\n",
       "      <td>SD</td>\n",
       "      <td>24.29</td>\n",
       "      <td>21130.0</td>\n",
       "      <td>12</td>\n",
       "      <td>12.0</td>\n",
       "    </tr>\n",
       "    <tr>\n",
       "      <th>48</th>\n",
       "      <td>Hawaii</td>\n",
       "      <td>28</td>\n",
       "      <td>HI</td>\n",
       "      <td>5.50</td>\n",
       "      <td>7859.0</td>\n",
       "      <td>47</td>\n",
       "      <td>16.0</td>\n",
       "    </tr>\n",
       "    <tr>\n",
       "      <th>49</th>\n",
       "      <td>Wyoming</td>\n",
       "      <td>22</td>\n",
       "      <td>WY</td>\n",
       "      <td>229.24</td>\n",
       "      <td>132806.0</td>\n",
       "      <td>1</td>\n",
       "      <td>17.0</td>\n",
       "    </tr>\n",
       "    <tr>\n",
       "      <th>50</th>\n",
       "      <td>Vermont</td>\n",
       "      <td>20</td>\n",
       "      <td>VT</td>\n",
       "      <td>9.41</td>\n",
       "      <td>5872.0</td>\n",
       "      <td>42</td>\n",
       "      <td>3.0</td>\n",
       "    </tr>\n",
       "  </tbody>\n",
       "</table>\n",
       "</div>"
      ],
      "text/plain": [
       "                   state  Gun Violence code  guns_per_capita  guns_registered  \\\n",
       "0               Illinois          4588   IL            11.44         146487.0   \n",
       "1             California          3376   CA             8.71         344622.0   \n",
       "2                Florida          2751   FL            16.35         343288.0   \n",
       "3                  Texas          2734   TX            20.79         588696.0   \n",
       "4                   Ohio          2217   OH            14.87         173405.0   \n",
       "5           Pennsylvania          1823   PA            18.45         236377.0   \n",
       "6              Louisiana          1733   LA            24.94         116831.0   \n",
       "7                Georgia          1715   GA            18.22         190050.0   \n",
       "8         North Carolina          1709   NC            14.82         152238.0   \n",
       "9              Tennessee          1693   TN            14.76          99159.0   \n",
       "10              Missouri          1530   MO            11.94          72996.0   \n",
       "11              New York          1439   NY             3.83          76207.0   \n",
       "12               Alabama          1400   AL            33.15         161641.0   \n",
       "13              Maryland          1335   MD            17.03         103109.0   \n",
       "14              Virginia          1324   VA            36.34         307822.0   \n",
       "15        South Carolina          1186   SC            21.01         105601.0   \n",
       "16               Indiana          1144   IN            17.10         114019.0   \n",
       "17              Michigan          1140   MI             6.59          65742.0   \n",
       "18            New Jersey           938   NJ             6.38          57507.0   \n",
       "19           Mississippi           917   MS            11.89          35494.0   \n",
       "20              Kentucky           791   KY            18.20          81068.0   \n",
       "21             Wisconsin           728   WI            11.19          64878.0   \n",
       "22              Arkansas           653   AR            26.57          79841.0   \n",
       "23              Oklahoma           633   OK            18.13          71269.0   \n",
       "24               Arizona           587   AZ            25.61         179738.0   \n",
       "25         Massachusetts           584   MA             5.41          37152.0   \n",
       "26            Washington           582   WA            12.40          91835.0   \n",
       "27              Colorado           499   CO            16.48          92435.0   \n",
       "28  District of Columbia           440   DC            68.05          47228.0   \n",
       "29                Nevada           418   NV            25.64          76888.0   \n",
       "30                Kansas           416   KS            18.06          52634.0   \n",
       "31             Minnesota           397   MN            14.22          79307.0   \n",
       "32           Connecticut           382   CT            22.96          82400.0   \n",
       "33                  Iowa           300   IA             9.05          28494.0   \n",
       "34              Delaware           297   DE             5.04           4852.0   \n",
       "35                Oregon           269   OR            14.82          61383.0   \n",
       "36            New Mexico           266   NM            46.73          97580.0   \n",
       "37         West Virginia           237   WV            19.42          35264.0   \n",
       "38              Nebraska           199   NE            11.57          22234.0   \n",
       "39                  Utah           180   UT            23.48          72856.0   \n",
       "40                Alaska           139   AK            21.38          15824.0   \n",
       "41          Rhode Island            90   RI             3.98          37152.0   \n",
       "42                 Idaho            81   ID            28.86          49566.0   \n",
       "43               Montana            74   MT            21.06          22133.0   \n",
       "44                 Maine            69   ME            11.50          15371.0   \n",
       "45         New Hampshire            53   NH            46.76          64135.0   \n",
       "46          North Dakota            48   ND            17.56          13272.0   \n",
       "47          South Dakota            40   SD            24.29          21130.0   \n",
       "48                Hawaii            28   HI             5.50           7859.0   \n",
       "49               Wyoming            22   WY           229.24         132806.0   \n",
       "50               Vermont            20   VT             9.41           5872.0   \n",
       "\n",
       "    rank  gun friendly  \n",
       "0     40          21.0  \n",
       "1     44          37.0  \n",
       "2     29          45.0  \n",
       "3     18          35.0  \n",
       "4     30          24.0  \n",
       "5     20          23.0  \n",
       "6     11          41.0  \n",
       "7     21          48.0  \n",
       "8     31          26.0  \n",
       "9     33          19.0  \n",
       "10    36          42.0  \n",
       "11    51           5.0  \n",
       "12     6          50.0  \n",
       "13    27          18.0  \n",
       "14     5          30.0  \n",
       "15    17          20.0  \n",
       "16    26          44.0  \n",
       "17    45          27.0  \n",
       "18    46           2.0  \n",
       "19    37          31.0  \n",
       "20    22          38.0  \n",
       "21    41           6.0  \n",
       "22     8          49.0  \n",
       "23    23          32.0  \n",
       "24    10          46.0  \n",
       "25    48          10.0  \n",
       "26    35           4.0  \n",
       "27    28          40.0  \n",
       "28     2           NaN  \n",
       "29     9          34.0  \n",
       "30    24          39.0  \n",
       "31    34          29.0  \n",
       "32    14          22.0  \n",
       "33    43          15.0  \n",
       "34    49          11.0  \n",
       "35    32          13.0  \n",
       "36     4          33.0  \n",
       "37    19          14.0  \n",
       "38    38           9.0  \n",
       "39    13          25.0  \n",
       "40    15          43.0  \n",
       "41    50           1.0  \n",
       "42     7          47.0  \n",
       "43    16          36.0  \n",
       "44    39           8.0  \n",
       "45     3          28.0  \n",
       "46    25           7.0  \n",
       "47    12          12.0  \n",
       "48    47          16.0  \n",
       "49     1          17.0  \n",
       "50    42           3.0  "
      ]
     },
     "execution_count": 243,
     "metadata": {},
     "output_type": "execute_result"
    }
   ],
   "source": [
    "industry_df = pd.merge(ownership_metrics_df,industry_friendly_df,how='outer', on='state')\n",
    "industry_df = industry_df.drop(['code_y'], axis=1)\n",
    "industry_df = industry_df.rename(index=str, columns={\"code_x\": \"code\"})\n",
    "\n",
    "industry_df"
   ]
  },
  {
   "cell_type": "code",
   "execution_count": 244,
   "metadata": {},
   "outputs": [],
   "source": [
    "industry_drop_df = industry_df.dropna()\n",
    "industry_drop_df = industry_drop_df.reset_index(drop=True)"
   ]
  },
  {
   "cell_type": "code",
   "execution_count": 245,
   "metadata": {},
   "outputs": [
    {
     "data": {
      "image/png": "[encoded data removed]",
      "text/plain": [
       "<Figure size 1080x540 with 1 Axes>"
      ]
     },
     "metadata": {
      "needs_background": "light"
     },
     "output_type": "display_data"
    }
   ],
   "source": [
    "plt.figure(figsize=(15, 7.5))\n",
    "# simulating a pandas df['type'] column\n",
    "industry_state = industry_drop_df['code']\n",
    "industry_coords_x = industry_drop_df['gun friendly']\n",
    "industry_coords_y = industry_drop_df['Gun Violence']\n",
    "\n",
    "for i,industry_state in enumerate(industry_state):\n",
    "    x = industry_coords_x[i]\n",
    "    y = industry_coords_y[i]\n",
    "    plt.scatter(x, y, marker='o', color='firebrick', edgecolors=\"black\", s=50, alpha=0.75)\n",
    "    plt.text(x+0.3, y+0.3, industry_state, fontsize=14)\n",
    "\n",
    "\n",
    "plt.show()"
   ]
  },
  {
   "cell_type": "code",
   "execution_count": null,
   "metadata": {},
   "outputs": [],
   "source": []
  },
  {
   "cell_type": "code",
   "execution_count": null,
   "metadata": {},
   "outputs": [],
   "source": []
  }
 ],
 "metadata": {
  "kernelspec": {
   "display_name": "Python 3",
   "language": "python",
   "name": "python3"
  },
  "language_info": {
   "codemirror_mode": {
    "name": "ipython",
    "version": 3
   },
   "file_extension": ".py",
   "mimetype": "text/x-python",
   "name": "python",
   "nbconvert_exporter": "python",
   "pygments_lexer": "ipython3",
   "version": "3.7.3"
  }
 },
 "nbformat": 4,
 "nbformat_minor": 2
}
