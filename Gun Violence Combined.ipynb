{
 "cells": [
  {
   "cell_type": "markdown",
   "metadata": {},
   "source": [
    "# Gun Violence in the US\n",
    "\n",
    "This data came from kaggle: https://www.kaggle.com/jameslko/gun-violence-data#gun-violence-data_01-2013_03-2018.csv\n",
    "\n",
    "## Context\n",
    "There's currently a lack of large and easily-accessible amounts of detailed data on gun violence.\n",
    "\n",
    "## Content\n",
    "This project aims to change that; we make a record of more than 260k gun violence incidents, with detailed information about each incident, available in CSV format. We hope that this will make it easier for data scientists and statisticians to study gun violence and make informed predictions about future trends.\n",
    "\n",
    "The CSV file contains data for all recorded gun violence incidents in the US between January 2013 and March 2018, inclusive.\n",
    "\n",
    "## Acknowledgements\n",
    "Where did you get the data?\n",
    "\n",
    "The data was downloaded from gunviolencearchive.org. From the organization's description:\n",
    "\n",
    "* Gun Violence Archive (GVA) is a not for profit corporation formed in 2013 to provide free online public access to accurate information about gun-related violence in the United States. GVA will collect and check for accuracy, comprehensive information about gun-related violence in the U.S. and then post and disseminate it online.\n",
    "\n",
    "## How did you get the data?\n",
    "\n",
    "Because GVA limits the number of incidents that are returned from a single query, and because the website's \"Export to CSV\" functionality was missing crucial fields, it was necessary to obtain this dataset using web scraping techniques.\n",
    "\n",
    "* Stage 1: For each date between 1/1/2013 and 3/31/2018, a Python script queried all incidents that happened at that particular date, then scraped the data and wrote it to a CSV file. Each month got its own CSV file, with the exception of 2013, since not many incidents were recorded from then.\n",
    "\n",
    "* Stage 2: Each entry was augmented with additional data not directly viewable from the query results page, such as participant information, geolocation data, etc.\n",
    "\n",
    "* Stage 3: The entries were sorted in order of increasing date, then merged into a single CSV file.\n",
    "\n",
    "## Inspiration\n",
    "I believe there are plenty of ways this dataset can be put to good use. If you have an interesting idea or feel like messing around with the data, then go for it.\n",
    "\n",
    "I was originally inspired to compile it in the wake of the Parkland shooting and the mass media coverage that followed. Reports like this and this showed that Nikolas Cruz had exhibited plenty of warning signs on social media before the shooting; what if we could build a machine learning system that preemptively detected such signs?\n"
   ]
  },
  {
   "cell_type": "code",
   "execution_count": 45,
   "metadata": {},
   "outputs": [],
   "source": [
    "%matplotlib notebook\n",
    "%matplotlib inline"
   ]
  },
  {
   "cell_type": "code",
   "execution_count": 46,
   "metadata": {},
   "outputs": [],
   "source": [
    "# Importing Dependencies\n",
    "import matplotlib.pyplot as plt\n",
    "import pandas as pd\n",
    "import numpy as np\n",
    "import datetime as dt\n",
    "import plotly.graph_objects as go\n",
    "import seaborn as sns\n",
    "import csv"
   ]
  },
  {
   "cell_type": "code",
   "execution_count": 47,
   "metadata": {
    "scrolled": true
   },
   "outputs": [],
   "source": [
    "# Importing CSVS\n",
    "gun_violence = \"C:\\\\Users\\\\kjyou\\\\Git\\\\gun_violence_data_2017.csv\"\n",
    "industry_friendly = \"C:\\\\Users\\\\kjyou\\\\Git\\\\GunViolenceDataAnalysis\\\\Resources\\Gun_Industry_Friendliness_By_State.csv\"\n",
    "gun_ownership = \"C:\\\\Users\\\\kjyou\\\\Git\\\\GunViolenceDataAnalysis\\\\Resources\\Gun_Ownership_Per_State.csv\"\n",
    "gun_regulations = \"C:\\\\Users\\\\kjyou\\\\Git\\\\GunViolenceDataAnalysis\\\\Resources\\Gun_Laws_Per_State.csv\"\n",
    "gun_violence_master = \"C:\\\\Users\\\\kjyou\\\\Git\\\\Master\\gun-violence-data_01-2013_03-2018.csv\"\n",
    "csv_path_violence = \"C:\\\\Users\\\\kjyou\\\\Git\\\\Master\\gun-violence-data_01-2013_03-2018 2.csv\""
   ]
  },
  {
   "cell_type": "code",
   "execution_count": 48,
   "metadata": {},
   "outputs": [],
   "source": [
    "# Creating DataFrames\n",
    "law_data_df = pd.read_csv(gun_regulations, encoding=\"utf-8\")\n",
    "violence_data = pd.read_csv(csv_path_violence, encoding=\"utf-8\")\n",
    "gun_violence_master_df = pd.read_csv(gun_violence_master, encoding=\"utf-8\")\n",
    "industry_friendly_df = pd.read_csv(industry_friendly, encoding=\"utf-8\")\n",
    "gun_regulations_df = pd.read_csv(gun_regulations, encoding=\"utf-8\")\n",
    "gun_ownership_df = pd.read_csv(gun_ownership, dtype={\"guns_registered\":float}, encoding=\"utf-8\")\n",
    "gun_violence_df = pd.read_csv(gun_violence, encoding=\"utf-8\")"
   ]
  },
  {
   "cell_type": "code",
   "execution_count": 49,
   "metadata": {},
   "outputs": [],
   "source": [
    "#JOHN"
   ]
  },
  {
   "cell_type": "code",
   "execution_count": 50,
   "metadata": {},
   "outputs": [
    {
     "name": "stdout",
     "output_type": "stream",
     "text": [
      "columns in data :\n",
      " Index(['incident_id', 'date', 'state', 'city_or_county', 'address', 'n_killed',\n",
      "       'n_injured', 'incident_url', 'source_url',\n",
      "       'incident_url_fields_missing', 'congressional_district', 'gun_stolen',\n",
      "       'gun_type', 'incident_characteristics', 'latitude',\n",
      "       'location_description', 'longitude', 'n_guns_involved', 'notes',\n",
      "       'participant_age', 'participant_age_group', 'participant_gender',\n",
      "       'participant_name', 'participant_relationship', 'participant_status',\n",
      "       'participant_type', 'sources', 'state_house_district',\n",
      "       'state_senate_district'],\n",
      "      dtype='object')\n",
      "\n",
      " data - shape : (239677, 29)\n"
     ]
    }
   ],
   "source": [
    "print (\"columns in data :\\n\",gun_violence_master_df.columns)\n",
    "print (\"\\n data - shape :\",gun_violence_master_df.shape)"
   ]
  },
  {
   "cell_type": "code",
   "execution_count": 51,
   "metadata": {},
   "outputs": [],
   "source": [
    "# Date conversion\n",
    "gun_violence_master_df[\"date\"] = pd.to_datetime(gun_violence_master_df[\"date\"],format=\"%Y-%m-%d\")"
   ]
  },
  {
   "cell_type": "code",
   "execution_count": 52,
   "metadata": {},
   "outputs": [],
   "source": [
    "# Parse out the Yr, Mth, Day, Date from the date conversion\n",
    "# Lable months numerically so they sort correctly in visuals\n",
    "# Month_year needed for visuals\n",
    "gun_violence_master_df[\"year\"] = pd.DatetimeIndex(gun_violence_master_df[\"date\"]).year\n",
    "gun_violence_master_df[\"month\"]= pd.DatetimeIndex(gun_violence_master_df[\"date\"]).month\n",
    "gun_violence_master_df[\"day\"]  = pd.DatetimeIndex(gun_violence_master_df[\"date\"]).day\n",
    "gun_violence_master_df[\"month\"] = gun_violence_master_df[\"month\"].map({1:\"01.JAN\",2:\"02.FEB\",3:\"03.MAR\",4:\"04.APR\",5:\"05.MAY\",6:\"06.JUN\",7:\"07.JUL\",8:\"08.AUG\",9:\"09.SEP\",10:\"10.OCT\",11:\"11.NOV\",12:\"12.DEC\"})\n",
    "gun_violence_master_df[\"month_year\"] = gun_violence_master_df[\"month\"]+\"-\"+gun_violence_master_df[\"year\"].astype(str)"
   ]
  },
  {
   "cell_type": "code",
   "execution_count": 53,
   "metadata": {},
   "outputs": [],
   "source": [
    "# rename columns\n",
    "# sort date\n",
    "gun_violence_master_df = gun_violence_master_df.rename(columns={\"n_killed\":\"Killed\",\"n_injured\":\"Injured\"})\n",
    "gun_violence_master_df = gun_violence_master_df.sort_values(by=\"date\",ascending=True)"
   ]
  },
  {
   "cell_type": "code",
   "execution_count": 54,
   "metadata": {},
   "outputs": [],
   "source": [
    "# Create a new column called \"Total Killed/Injured\" which adds n_killed & n_injured\n",
    "gun_violence_master_df[\"Total Killed/Injured\"] = gun_violence_master_df[\"Killed\"] + gun_violence_master_df[\"Injured\"]"
   ]
  },
  {
   "cell_type": "code",
   "execution_count": 55,
   "metadata": {},
   "outputs": [],
   "source": [
    "# Re-order Columns\n",
    "gun_violence_master_df = gun_violence_master_df[[\"incident_id\", \"year\", \"month\", \"day\", \"month_year\", \"date\", \"state\", \"city_or_county\", \"Total Killed/Injured\",\n",
    "                                    \"Killed\", \"Injured\", \"participant_age_group\", \"participant_gender\",\n",
    "                                    \"participant_name\", \"participant_relationship\", \"participant_status\",\n",
    "                                    \"participant_type\", \"sources\", \"state_house_district\", \"state_senate_district\",\n",
    "                                    \"incident_url\", \"source_url\", \"incident_url_fields_missing\", \"address\"]]"
   ]
  },
  {
   "cell_type": "code",
   "execution_count": 56,
   "metadata": {},
   "outputs": [
    {
     "data": {
      "text/plain": [
       "178870"
      ]
     },
     "execution_count": 56,
     "metadata": {},
     "output_type": "execute_result"
    }
   ],
   "source": [
    "# Checking numbers\n",
    "killed = gun_violence_master_df[\"Killed\"].sum()\n",
    "injured = gun_violence_master_df[\"Injured\"].sum()\n",
    "total = gun_violence_master_df[\"Total Killed/Injured\"].sum()\n",
    "total"
   ]
  },
  {
   "cell_type": "code",
   "execution_count": 57,
   "metadata": {},
   "outputs": [],
   "source": [
    "# delete all rows that have 2013 or 2018 \n",
    "gun_violence_master_df.drop(gun_violence_master_df[(gun_violence_master_df[\"year\"] == 2013)].index, inplace=True)\n",
    "gun_violence_master_df.drop(gun_violence_master_df[(gun_violence_master_df[\"year\"] == 2018)].index, inplace=True)"
   ]
  },
  {
   "cell_type": "code",
   "execution_count": 58,
   "metadata": {},
   "outputs": [
    {
     "data": {
      "text/plain": [
       "167870"
      ]
     },
     "execution_count": 58,
     "metadata": {},
     "output_type": "execute_result"
    }
   ],
   "source": [
    "# re-check numbers\n",
    "total = gun_violence_master_df[\"Total Killed/Injured\"].sum()\n",
    "total"
   ]
  },
  {
   "cell_type": "code",
   "execution_count": 59,
   "metadata": {},
   "outputs": [
    {
     "data": {
      "text/html": [
       "<style  type=\"text/css\" >\n",
       "</style><table id=\"T_3861e330_a9d6_11e9_9f6c_f816545d60e1\" ><thead>    <tr>        <th class=\"blank level0\" ></th>        <th class=\"col_heading level0 col0\" >Total Killed/Injured</th>        <th class=\"col_heading level0 col1\" >Killed</th>        <th class=\"col_heading level0 col2\" >Injured</th>    </tr>    <tr>        <th class=\"index_name level0\" >year</th>        <th class=\"blank\" ></th>        <th class=\"blank\" ></th>        <th class=\"blank\" ></th>    </tr></thead><tbody>\n",
       "                <tr>\n",
       "                        <th id=\"T_3861e330_a9d6_11e9_9f6c_f816545d60e1level0_row0\" class=\"row_heading level0 row0\" >2014</th>\n",
       "                        <td id=\"T_3861e330_a9d6_11e9_9f6c_f816545d60e1row0_col0\" class=\"data row0 col0\" >35,559</td>\n",
       "                        <td id=\"T_3861e330_a9d6_11e9_9f6c_f816545d60e1row0_col1\" class=\"data row0 col1\" >12,557</td>\n",
       "                        <td id=\"T_3861e330_a9d6_11e9_9f6c_f816545d60e1row0_col2\" class=\"data row0 col2\" >23,002</td>\n",
       "            </tr>\n",
       "            <tr>\n",
       "                        <th id=\"T_3861e330_a9d6_11e9_9f6c_f816545d60e1level0_row1\" class=\"row_heading level0 row1\" >2015</th>\n",
       "                        <td id=\"T_3861e330_a9d6_11e9_9f6c_f816545d60e1row1_col0\" class=\"data row1 col0\" >40,451</td>\n",
       "                        <td id=\"T_3861e330_a9d6_11e9_9f6c_f816545d60e1row1_col1\" class=\"data row1 col1\" >13,484</td>\n",
       "                        <td id=\"T_3861e330_a9d6_11e9_9f6c_f816545d60e1row1_col2\" class=\"data row1 col2\" >26,967</td>\n",
       "            </tr>\n",
       "            <tr>\n",
       "                        <th id=\"T_3861e330_a9d6_11e9_9f6c_f816545d60e1level0_row2\" class=\"row_heading level0 row2\" >2016</th>\n",
       "                        <td id=\"T_3861e330_a9d6_11e9_9f6c_f816545d60e1row2_col0\" class=\"data row2 col0\" >45,646</td>\n",
       "                        <td id=\"T_3861e330_a9d6_11e9_9f6c_f816545d60e1row2_col1\" class=\"data row2 col1\" >15,066</td>\n",
       "                        <td id=\"T_3861e330_a9d6_11e9_9f6c_f816545d60e1row2_col2\" class=\"data row2 col2\" >30,580</td>\n",
       "            </tr>\n",
       "            <tr>\n",
       "                        <th id=\"T_3861e330_a9d6_11e9_9f6c_f816545d60e1level0_row3\" class=\"row_heading level0 row3\" >2017</th>\n",
       "                        <td id=\"T_3861e330_a9d6_11e9_9f6c_f816545d60e1row3_col0\" class=\"data row3 col0\" >46,214</td>\n",
       "                        <td id=\"T_3861e330_a9d6_11e9_9f6c_f816545d60e1row3_col1\" class=\"data row3 col1\" >15,511</td>\n",
       "                        <td id=\"T_3861e330_a9d6_11e9_9f6c_f816545d60e1row3_col2\" class=\"data row3 col2\" >30,703</td>\n",
       "            </tr>\n",
       "    </tbody></table>"
      ],
      "text/plain": [
       "<pandas.io.formats.style.Styler at 0x1fd4ce785c0>"
      ]
     },
     "execution_count": 59,
     "metadata": {},
     "output_type": "execute_result"
    }
   ],
   "source": [
    "# Groupby to see table\n",
    "gun_violence_master_df.groupby(\"year\")[[\"Total Killed/Injured\",\"Killed\",\"Injured\"]].sum().style.format('{:,}')"
   ]
  },
  {
   "cell_type": "code",
   "execution_count": 60,
   "metadata": {},
   "outputs": [
    {
     "data": {
      "image/png": "[encoded data removed]",
      "text/plain": [
       "<Figure size 576x216 with 1 Axes>"
      ]
     },
     "metadata": {
      "needs_background": "light"
     },
     "output_type": "display_data"
    }
   ],
   "source": [
    "# Chart by years\n",
    "total_chart = gun_violence_master_df.groupby(\"year\")[[\"Killed\",\"Injured\"]].sum().plot(kind=\"barh\", stacked=True, figsize=(8,3), linewidth = 1, color=['firebrick', 'mistyrose'], edgecolor = \"k\")\n",
    "plt.grid(True,alpha=.2)\n",
    "plt.xticks(rotation=0)\n",
    "plt.xlabel(\"People Killed / Injured\")\n",
    "plt.ylabel(\"Year\")\n",
    "plt.legend(prop={\"size\":10})\n",
    "plt.title(\"Total People Killed/Injured from Gun Violence (2014-2017)\",fontsize = 12)\n",
    "plt.tight_layout()\n",
    "plt.savefig(\"GunViolenceVisuals/1.Total Killed Injured by Year (2014 to 2017).png\")\n",
    "plt.show()"
   ]
  },
  {
   "cell_type": "code",
   "execution_count": 61,
   "metadata": {},
   "outputs": [
    {
     "data": {
      "text/html": [
       "<style  type=\"text/css\" >\n",
       "</style><table id=\"T_38add538_a9d6_11e9_82a1_f816545d60e1\" ><thead>    <tr>        <th class=\"blank level0\" ></th>        <th class=\"col_heading level0 col0\" >Total Killed/Injured</th>        <th class=\"col_heading level0 col1\" >Killed</th>        <th class=\"col_heading level0 col2\" >Injured</th>    </tr>    <tr>        <th class=\"index_name level0\" >month_year</th>        <th class=\"blank\" ></th>        <th class=\"blank\" ></th>        <th class=\"blank\" ></th>    </tr></thead><tbody>\n",
       "                <tr>\n",
       "                        <th id=\"T_38add538_a9d6_11e9_82a1_f816545d60e1level0_row0\" class=\"row_heading level0 row0\" >01.JAN-2014</th>\n",
       "                        <td id=\"T_38add538_a9d6_11e9_82a1_f816545d60e1row0_col0\" class=\"data row0 col0\" >2,945</td>\n",
       "                        <td id=\"T_38add538_a9d6_11e9_82a1_f816545d60e1row0_col1\" class=\"data row0 col1\" >1,070</td>\n",
       "                        <td id=\"T_38add538_a9d6_11e9_82a1_f816545d60e1row0_col2\" class=\"data row0 col2\" >1,875</td>\n",
       "            </tr>\n",
       "            <tr>\n",
       "                        <th id=\"T_38add538_a9d6_11e9_82a1_f816545d60e1level0_row1\" class=\"row_heading level0 row1\" >01.JAN-2015</th>\n",
       "                        <td id=\"T_38add538_a9d6_11e9_82a1_f816545d60e1row1_col0\" class=\"data row1 col0\" >2,931</td>\n",
       "                        <td id=\"T_38add538_a9d6_11e9_82a1_f816545d60e1row1_col1\" class=\"data row1 col1\" >1,123</td>\n",
       "                        <td id=\"T_38add538_a9d6_11e9_82a1_f816545d60e1row1_col2\" class=\"data row1 col2\" >1,808</td>\n",
       "            </tr>\n",
       "            <tr>\n",
       "                        <th id=\"T_38add538_a9d6_11e9_82a1_f816545d60e1level0_row2\" class=\"row_heading level0 row2\" >01.JAN-2016</th>\n",
       "                        <td id=\"T_38add538_a9d6_11e9_82a1_f816545d60e1row2_col0\" class=\"data row2 col0\" >3,389</td>\n",
       "                        <td id=\"T_38add538_a9d6_11e9_82a1_f816545d60e1row2_col1\" class=\"data row2 col1\" >1,139</td>\n",
       "                        <td id=\"T_38add538_a9d6_11e9_82a1_f816545d60e1row2_col2\" class=\"data row2 col2\" >2,250</td>\n",
       "            </tr>\n",
       "            <tr>\n",
       "                        <th id=\"T_38add538_a9d6_11e9_82a1_f816545d60e1level0_row3\" class=\"row_heading level0 row3\" >01.JAN-2017</th>\n",
       "                        <td id=\"T_38add538_a9d6_11e9_82a1_f816545d60e1row3_col0\" class=\"data row3 col0\" >3,960</td>\n",
       "                        <td id=\"T_38add538_a9d6_11e9_82a1_f816545d60e1row3_col1\" class=\"data row3 col1\" >1,356</td>\n",
       "                        <td id=\"T_38add538_a9d6_11e9_82a1_f816545d60e1row3_col2\" class=\"data row3 col2\" >2,604</td>\n",
       "            </tr>\n",
       "            <tr>\n",
       "                        <th id=\"T_38add538_a9d6_11e9_82a1_f816545d60e1level0_row4\" class=\"row_heading level0 row4\" >02.FEB-2014</th>\n",
       "                        <td id=\"T_38add538_a9d6_11e9_82a1_f816545d60e1row4_col0\" class=\"data row4 col0\" >2,068</td>\n",
       "                        <td id=\"T_38add538_a9d6_11e9_82a1_f816545d60e1row4_col1\" class=\"data row4 col1\" >845</td>\n",
       "                        <td id=\"T_38add538_a9d6_11e9_82a1_f816545d60e1row4_col2\" class=\"data row4 col2\" >1,223</td>\n",
       "            </tr>\n",
       "            <tr>\n",
       "                        <th id=\"T_38add538_a9d6_11e9_82a1_f816545d60e1level0_row5\" class=\"row_heading level0 row5\" >02.FEB-2015</th>\n",
       "                        <td id=\"T_38add538_a9d6_11e9_82a1_f816545d60e1row5_col0\" class=\"data row5 col0\" >2,248</td>\n",
       "                        <td id=\"T_38add538_a9d6_11e9_82a1_f816545d60e1row5_col1\" class=\"data row5 col1\" >870</td>\n",
       "                        <td id=\"T_38add538_a9d6_11e9_82a1_f816545d60e1row5_col2\" class=\"data row5 col2\" >1,378</td>\n",
       "            </tr>\n",
       "            <tr>\n",
       "                        <th id=\"T_38add538_a9d6_11e9_82a1_f816545d60e1level0_row6\" class=\"row_heading level0 row6\" >02.FEB-2016</th>\n",
       "                        <td id=\"T_38add538_a9d6_11e9_82a1_f816545d60e1row6_col0\" class=\"data row6 col0\" >2,848</td>\n",
       "                        <td id=\"T_38add538_a9d6_11e9_82a1_f816545d60e1row6_col1\" class=\"data row6 col1\" >984</td>\n",
       "                        <td id=\"T_38add538_a9d6_11e9_82a1_f816545d60e1row6_col2\" class=\"data row6 col2\" >1,864</td>\n",
       "            </tr>\n",
       "            <tr>\n",
       "                        <th id=\"T_38add538_a9d6_11e9_82a1_f816545d60e1level0_row7\" class=\"row_heading level0 row7\" >02.FEB-2017</th>\n",
       "                        <td id=\"T_38add538_a9d6_11e9_82a1_f816545d60e1row7_col0\" class=\"data row7 col0\" >3,338</td>\n",
       "                        <td id=\"T_38add538_a9d6_11e9_82a1_f816545d60e1row7_col1\" class=\"data row7 col1\" >1,141</td>\n",
       "                        <td id=\"T_38add538_a9d6_11e9_82a1_f816545d60e1row7_col2\" class=\"data row7 col2\" >2,197</td>\n",
       "            </tr>\n",
       "            <tr>\n",
       "                        <th id=\"T_38add538_a9d6_11e9_82a1_f816545d60e1level0_row8\" class=\"row_heading level0 row8\" >03.MAR-2014</th>\n",
       "                        <td id=\"T_38add538_a9d6_11e9_82a1_f816545d60e1row8_col0\" class=\"data row8 col0\" >2,558</td>\n",
       "                        <td id=\"T_38add538_a9d6_11e9_82a1_f816545d60e1row8_col1\" class=\"data row8 col1\" >1,007</td>\n",
       "                        <td id=\"T_38add538_a9d6_11e9_82a1_f816545d60e1row8_col2\" class=\"data row8 col2\" >1,551</td>\n",
       "            </tr>\n",
       "            <tr>\n",
       "                        <th id=\"T_38add538_a9d6_11e9_82a1_f816545d60e1level0_row9\" class=\"row_heading level0 row9\" >03.MAR-2015</th>\n",
       "                        <td id=\"T_38add538_a9d6_11e9_82a1_f816545d60e1row9_col0\" class=\"data row9 col0\" >3,183</td>\n",
       "                        <td id=\"T_38add538_a9d6_11e9_82a1_f816545d60e1row9_col1\" class=\"data row9 col1\" >1,090</td>\n",
       "                        <td id=\"T_38add538_a9d6_11e9_82a1_f816545d60e1row9_col2\" class=\"data row9 col2\" >2,093</td>\n",
       "            </tr>\n",
       "            <tr>\n",
       "                        <th id=\"T_38add538_a9d6_11e9_82a1_f816545d60e1level0_row10\" class=\"row_heading level0 row10\" >03.MAR-2016</th>\n",
       "                        <td id=\"T_38add538_a9d6_11e9_82a1_f816545d60e1row10_col0\" class=\"data row10 col0\" >3,611</td>\n",
       "                        <td id=\"T_38add538_a9d6_11e9_82a1_f816545d60e1row10_col1\" class=\"data row10 col1\" >1,181</td>\n",
       "                        <td id=\"T_38add538_a9d6_11e9_82a1_f816545d60e1row10_col2\" class=\"data row10 col2\" >2,430</td>\n",
       "            </tr>\n",
       "            <tr>\n",
       "                        <th id=\"T_38add538_a9d6_11e9_82a1_f816545d60e1level0_row11\" class=\"row_heading level0 row11\" >03.MAR-2017</th>\n",
       "                        <td id=\"T_38add538_a9d6_11e9_82a1_f816545d60e1row11_col0\" class=\"data row11 col0\" >3,453</td>\n",
       "                        <td id=\"T_38add538_a9d6_11e9_82a1_f816545d60e1row11_col1\" class=\"data row11 col1\" >1,220</td>\n",
       "                        <td id=\"T_38add538_a9d6_11e9_82a1_f816545d60e1row11_col2\" class=\"data row11 col2\" >2,233</td>\n",
       "            </tr>\n",
       "            <tr>\n",
       "                        <th id=\"T_38add538_a9d6_11e9_82a1_f816545d60e1level0_row12\" class=\"row_heading level0 row12\" >04.APR-2014</th>\n",
       "                        <td id=\"T_38add538_a9d6_11e9_82a1_f816545d60e1row12_col0\" class=\"data row12 col0\" >2,761</td>\n",
       "                        <td id=\"T_38add538_a9d6_11e9_82a1_f816545d60e1row12_col1\" class=\"data row12 col1\" >979</td>\n",
       "                        <td id=\"T_38add538_a9d6_11e9_82a1_f816545d60e1row12_col2\" class=\"data row12 col2\" >1,782</td>\n",
       "            </tr>\n",
       "            <tr>\n",
       "                        <th id=\"T_38add538_a9d6_11e9_82a1_f816545d60e1level0_row13\" class=\"row_heading level0 row13\" >04.APR-2015</th>\n",
       "                        <td id=\"T_38add538_a9d6_11e9_82a1_f816545d60e1row13_col0\" class=\"data row13 col0\" >3,144</td>\n",
       "                        <td id=\"T_38add538_a9d6_11e9_82a1_f816545d60e1row13_col1\" class=\"data row13 col1\" >995</td>\n",
       "                        <td id=\"T_38add538_a9d6_11e9_82a1_f816545d60e1row13_col2\" class=\"data row13 col2\" >2,149</td>\n",
       "            </tr>\n",
       "            <tr>\n",
       "                        <th id=\"T_38add538_a9d6_11e9_82a1_f816545d60e1level0_row14\" class=\"row_heading level0 row14\" >04.APR-2016</th>\n",
       "                        <td id=\"T_38add538_a9d6_11e9_82a1_f816545d60e1row14_col0\" class=\"data row14 col0\" >3,428</td>\n",
       "                        <td id=\"T_38add538_a9d6_11e9_82a1_f816545d60e1row14_col1\" class=\"data row14 col1\" >1,152</td>\n",
       "                        <td id=\"T_38add538_a9d6_11e9_82a1_f816545d60e1row14_col2\" class=\"data row14 col2\" >2,276</td>\n",
       "            </tr>\n",
       "            <tr>\n",
       "                        <th id=\"T_38add538_a9d6_11e9_82a1_f816545d60e1level0_row15\" class=\"row_heading level0 row15\" >04.APR-2017</th>\n",
       "                        <td id=\"T_38add538_a9d6_11e9_82a1_f816545d60e1row15_col0\" class=\"data row15 col0\" >3,879</td>\n",
       "                        <td id=\"T_38add538_a9d6_11e9_82a1_f816545d60e1row15_col1\" class=\"data row15 col1\" >1,231</td>\n",
       "                        <td id=\"T_38add538_a9d6_11e9_82a1_f816545d60e1row15_col2\" class=\"data row15 col2\" >2,648</td>\n",
       "            </tr>\n",
       "            <tr>\n",
       "                        <th id=\"T_38add538_a9d6_11e9_82a1_f816545d60e1level0_row16\" class=\"row_heading level0 row16\" >05.MAY-2014</th>\n",
       "                        <td id=\"T_38add538_a9d6_11e9_82a1_f816545d60e1row16_col0\" class=\"data row16 col0\" >3,199</td>\n",
       "                        <td id=\"T_38add538_a9d6_11e9_82a1_f816545d60e1row16_col1\" class=\"data row16 col1\" >1,099</td>\n",
       "                        <td id=\"T_38add538_a9d6_11e9_82a1_f816545d60e1row16_col2\" class=\"data row16 col2\" >2,100</td>\n",
       "            </tr>\n",
       "            <tr>\n",
       "                        <th id=\"T_38add538_a9d6_11e9_82a1_f816545d60e1level0_row17\" class=\"row_heading level0 row17\" >05.MAY-2015</th>\n",
       "                        <td id=\"T_38add538_a9d6_11e9_82a1_f816545d60e1row17_col0\" class=\"data row17 col0\" >3,841</td>\n",
       "                        <td id=\"T_38add538_a9d6_11e9_82a1_f816545d60e1row17_col1\" class=\"data row17 col1\" >1,164</td>\n",
       "                        <td id=\"T_38add538_a9d6_11e9_82a1_f816545d60e1row17_col2\" class=\"data row17 col2\" >2,677</td>\n",
       "            </tr>\n",
       "            <tr>\n",
       "                        <th id=\"T_38add538_a9d6_11e9_82a1_f816545d60e1level0_row18\" class=\"row_heading level0 row18\" >05.MAY-2016</th>\n",
       "                        <td id=\"T_38add538_a9d6_11e9_82a1_f816545d60e1row18_col0\" class=\"data row18 col0\" >3,792</td>\n",
       "                        <td id=\"T_38add538_a9d6_11e9_82a1_f816545d60e1row18_col1\" class=\"data row18 col1\" >1,158</td>\n",
       "                        <td id=\"T_38add538_a9d6_11e9_82a1_f816545d60e1row18_col2\" class=\"data row18 col2\" >2,634</td>\n",
       "            </tr>\n",
       "            <tr>\n",
       "                        <th id=\"T_38add538_a9d6_11e9_82a1_f816545d60e1level0_row19\" class=\"row_heading level0 row19\" >05.MAY-2017</th>\n",
       "                        <td id=\"T_38add538_a9d6_11e9_82a1_f816545d60e1row19_col0\" class=\"data row19 col0\" >4,121</td>\n",
       "                        <td id=\"T_38add538_a9d6_11e9_82a1_f816545d60e1row19_col1\" class=\"data row19 col1\" >1,389</td>\n",
       "                        <td id=\"T_38add538_a9d6_11e9_82a1_f816545d60e1row19_col2\" class=\"data row19 col2\" >2,732</td>\n",
       "            </tr>\n",
       "            <tr>\n",
       "                        <th id=\"T_38add538_a9d6_11e9_82a1_f816545d60e1level0_row20\" class=\"row_heading level0 row20\" >06.JUN-2014</th>\n",
       "                        <td id=\"T_38add538_a9d6_11e9_82a1_f816545d60e1row20_col0\" class=\"data row20 col0\" >3,196</td>\n",
       "                        <td id=\"T_38add538_a9d6_11e9_82a1_f816545d60e1row20_col1\" class=\"data row20 col1\" >1,127</td>\n",
       "                        <td id=\"T_38add538_a9d6_11e9_82a1_f816545d60e1row20_col2\" class=\"data row20 col2\" >2,069</td>\n",
       "            </tr>\n",
       "            <tr>\n",
       "                        <th id=\"T_38add538_a9d6_11e9_82a1_f816545d60e1level0_row21\" class=\"row_heading level0 row21\" >06.JUN-2015</th>\n",
       "                        <td id=\"T_38add538_a9d6_11e9_82a1_f816545d60e1row21_col0\" class=\"data row21 col0\" >3,506</td>\n",
       "                        <td id=\"T_38add538_a9d6_11e9_82a1_f816545d60e1row21_col1\" class=\"data row21 col1\" >1,092</td>\n",
       "                        <td id=\"T_38add538_a9d6_11e9_82a1_f816545d60e1row21_col2\" class=\"data row21 col2\" >2,414</td>\n",
       "            </tr>\n",
       "            <tr>\n",
       "                        <th id=\"T_38add538_a9d6_11e9_82a1_f816545d60e1level0_row22\" class=\"row_heading level0 row22\" >06.JUN-2016</th>\n",
       "                        <td id=\"T_38add538_a9d6_11e9_82a1_f816545d60e1row22_col0\" class=\"data row22 col0\" >3,780</td>\n",
       "                        <td id=\"T_38add538_a9d6_11e9_82a1_f816545d60e1row22_col1\" class=\"data row22 col1\" >1,276</td>\n",
       "                        <td id=\"T_38add538_a9d6_11e9_82a1_f816545d60e1row22_col2\" class=\"data row22 col2\" >2,504</td>\n",
       "            </tr>\n",
       "            <tr>\n",
       "                        <th id=\"T_38add538_a9d6_11e9_82a1_f816545d60e1level0_row23\" class=\"row_heading level0 row23\" >06.JUN-2017</th>\n",
       "                        <td id=\"T_38add538_a9d6_11e9_82a1_f816545d60e1row23_col0\" class=\"data row23 col0\" >4,045</td>\n",
       "                        <td id=\"T_38add538_a9d6_11e9_82a1_f816545d60e1row23_col1\" class=\"data row23 col1\" >1,366</td>\n",
       "                        <td id=\"T_38add538_a9d6_11e9_82a1_f816545d60e1row23_col2\" class=\"data row23 col2\" >2,679</td>\n",
       "            </tr>\n",
       "            <tr>\n",
       "                        <th id=\"T_38add538_a9d6_11e9_82a1_f816545d60e1level0_row24\" class=\"row_heading level0 row24\" >07.JUL-2014</th>\n",
       "                        <td id=\"T_38add538_a9d6_11e9_82a1_f816545d60e1row24_col0\" class=\"data row24 col0\" >3,585</td>\n",
       "                        <td id=\"T_38add538_a9d6_11e9_82a1_f816545d60e1row24_col1\" class=\"data row24 col1\" >1,162</td>\n",
       "                        <td id=\"T_38add538_a9d6_11e9_82a1_f816545d60e1row24_col2\" class=\"data row24 col2\" >2,423</td>\n",
       "            </tr>\n",
       "            <tr>\n",
       "                        <th id=\"T_38add538_a9d6_11e9_82a1_f816545d60e1level0_row25\" class=\"row_heading level0 row25\" >07.JUL-2015</th>\n",
       "                        <td id=\"T_38add538_a9d6_11e9_82a1_f816545d60e1row25_col0\" class=\"data row25 col0\" >3,962</td>\n",
       "                        <td id=\"T_38add538_a9d6_11e9_82a1_f816545d60e1row25_col1\" class=\"data row25 col1\" >1,293</td>\n",
       "                        <td id=\"T_38add538_a9d6_11e9_82a1_f816545d60e1row25_col2\" class=\"data row25 col2\" >2,669</td>\n",
       "            </tr>\n",
       "            <tr>\n",
       "                        <th id=\"T_38add538_a9d6_11e9_82a1_f816545d60e1level0_row26\" class=\"row_heading level0 row26\" >07.JUL-2016</th>\n",
       "                        <td id=\"T_38add538_a9d6_11e9_82a1_f816545d60e1row26_col0\" class=\"data row26 col0\" >4,437</td>\n",
       "                        <td id=\"T_38add538_a9d6_11e9_82a1_f816545d60e1row26_col1\" class=\"data row26 col1\" >1,399</td>\n",
       "                        <td id=\"T_38add538_a9d6_11e9_82a1_f816545d60e1row26_col2\" class=\"data row26 col2\" >3,038</td>\n",
       "            </tr>\n",
       "            <tr>\n",
       "                        <th id=\"T_38add538_a9d6_11e9_82a1_f816545d60e1level0_row27\" class=\"row_heading level0 row27\" >07.JUL-2017</th>\n",
       "                        <td id=\"T_38add538_a9d6_11e9_82a1_f816545d60e1row27_col0\" class=\"data row27 col0\" >4,409</td>\n",
       "                        <td id=\"T_38add538_a9d6_11e9_82a1_f816545d60e1row27_col1\" class=\"data row27 col1\" >1,391</td>\n",
       "                        <td id=\"T_38add538_a9d6_11e9_82a1_f816545d60e1row27_col2\" class=\"data row27 col2\" >3,018</td>\n",
       "            </tr>\n",
       "            <tr>\n",
       "                        <th id=\"T_38add538_a9d6_11e9_82a1_f816545d60e1level0_row28\" class=\"row_heading level0 row28\" >08.AUG-2014</th>\n",
       "                        <td id=\"T_38add538_a9d6_11e9_82a1_f816545d60e1row28_col0\" class=\"data row28 col0\" >3,438</td>\n",
       "                        <td id=\"T_38add538_a9d6_11e9_82a1_f816545d60e1row28_col1\" class=\"data row28 col1\" >1,140</td>\n",
       "                        <td id=\"T_38add538_a9d6_11e9_82a1_f816545d60e1row28_col2\" class=\"data row28 col2\" >2,298</td>\n",
       "            </tr>\n",
       "            <tr>\n",
       "                        <th id=\"T_38add538_a9d6_11e9_82a1_f816545d60e1level0_row29\" class=\"row_heading level0 row29\" >08.AUG-2015</th>\n",
       "                        <td id=\"T_38add538_a9d6_11e9_82a1_f816545d60e1row29_col0\" class=\"data row29 col0\" >3,863</td>\n",
       "                        <td id=\"T_38add538_a9d6_11e9_82a1_f816545d60e1row29_col1\" class=\"data row29 col1\" >1,199</td>\n",
       "                        <td id=\"T_38add538_a9d6_11e9_82a1_f816545d60e1row29_col2\" class=\"data row29 col2\" >2,664</td>\n",
       "            </tr>\n",
       "            <tr>\n",
       "                        <th id=\"T_38add538_a9d6_11e9_82a1_f816545d60e1level0_row30\" class=\"row_heading level0 row30\" >08.AUG-2016</th>\n",
       "                        <td id=\"T_38add538_a9d6_11e9_82a1_f816545d60e1row30_col0\" class=\"data row30 col0\" >4,461</td>\n",
       "                        <td id=\"T_38add538_a9d6_11e9_82a1_f816545d60e1row30_col1\" class=\"data row30 col1\" >1,429</td>\n",
       "                        <td id=\"T_38add538_a9d6_11e9_82a1_f816545d60e1row30_col2\" class=\"data row30 col2\" >3,032</td>\n",
       "            </tr>\n",
       "            <tr>\n",
       "                        <th id=\"T_38add538_a9d6_11e9_82a1_f816545d60e1level0_row31\" class=\"row_heading level0 row31\" >08.AUG-2017</th>\n",
       "                        <td id=\"T_38add538_a9d6_11e9_82a1_f816545d60e1row31_col0\" class=\"data row31 col0\" >4,055</td>\n",
       "                        <td id=\"T_38add538_a9d6_11e9_82a1_f816545d60e1row31_col1\" class=\"data row31 col1\" >1,324</td>\n",
       "                        <td id=\"T_38add538_a9d6_11e9_82a1_f816545d60e1row31_col2\" class=\"data row31 col2\" >2,731</td>\n",
       "            </tr>\n",
       "            <tr>\n",
       "                        <th id=\"T_38add538_a9d6_11e9_82a1_f816545d60e1level0_row32\" class=\"row_heading level0 row32\" >09.SEP-2014</th>\n",
       "                        <td id=\"T_38add538_a9d6_11e9_82a1_f816545d60e1row32_col0\" class=\"data row32 col0\" >3,072</td>\n",
       "                        <td id=\"T_38add538_a9d6_11e9_82a1_f816545d60e1row32_col1\" class=\"data row32 col1\" >1,013</td>\n",
       "                        <td id=\"T_38add538_a9d6_11e9_82a1_f816545d60e1row32_col2\" class=\"data row32 col2\" >2,059</td>\n",
       "            </tr>\n",
       "            <tr>\n",
       "                        <th id=\"T_38add538_a9d6_11e9_82a1_f816545d60e1level0_row33\" class=\"row_heading level0 row33\" >09.SEP-2015</th>\n",
       "                        <td id=\"T_38add538_a9d6_11e9_82a1_f816545d60e1row33_col0\" class=\"data row33 col0\" >3,673</td>\n",
       "                        <td id=\"T_38add538_a9d6_11e9_82a1_f816545d60e1row33_col1\" class=\"data row33 col1\" >1,247</td>\n",
       "                        <td id=\"T_38add538_a9d6_11e9_82a1_f816545d60e1row33_col2\" class=\"data row33 col2\" >2,426</td>\n",
       "            </tr>\n",
       "            <tr>\n",
       "                        <th id=\"T_38add538_a9d6_11e9_82a1_f816545d60e1level0_row34\" class=\"row_heading level0 row34\" >09.SEP-2016</th>\n",
       "                        <td id=\"T_38add538_a9d6_11e9_82a1_f816545d60e1row34_col0\" class=\"data row34 col0\" >3,884</td>\n",
       "                        <td id=\"T_38add538_a9d6_11e9_82a1_f816545d60e1row34_col1\" class=\"data row34 col1\" >1,286</td>\n",
       "                        <td id=\"T_38add538_a9d6_11e9_82a1_f816545d60e1row34_col2\" class=\"data row34 col2\" >2,598</td>\n",
       "            </tr>\n",
       "            <tr>\n",
       "                        <th id=\"T_38add538_a9d6_11e9_82a1_f816545d60e1level0_row35\" class=\"row_heading level0 row35\" >09.SEP-2017</th>\n",
       "                        <td id=\"T_38add538_a9d6_11e9_82a1_f816545d60e1row35_col0\" class=\"data row35 col0\" >3,769</td>\n",
       "                        <td id=\"T_38add538_a9d6_11e9_82a1_f816545d60e1row35_col1\" class=\"data row35 col1\" >1,196</td>\n",
       "                        <td id=\"T_38add538_a9d6_11e9_82a1_f816545d60e1row35_col2\" class=\"data row35 col2\" >2,573</td>\n",
       "            </tr>\n",
       "            <tr>\n",
       "                        <th id=\"T_38add538_a9d6_11e9_82a1_f816545d60e1level0_row36\" class=\"row_heading level0 row36\" >10.OCT-2014</th>\n",
       "                        <td id=\"T_38add538_a9d6_11e9_82a1_f816545d60e1row36_col0\" class=\"data row36 col0\" >2,896</td>\n",
       "                        <td id=\"T_38add538_a9d6_11e9_82a1_f816545d60e1row36_col1\" class=\"data row36 col1\" >1,012</td>\n",
       "                        <td id=\"T_38add538_a9d6_11e9_82a1_f816545d60e1row36_col2\" class=\"data row36 col2\" >1,884</td>\n",
       "            </tr>\n",
       "            <tr>\n",
       "                        <th id=\"T_38add538_a9d6_11e9_82a1_f816545d60e1level0_row37\" class=\"row_heading level0 row37\" >10.OCT-2015</th>\n",
       "                        <td id=\"T_38add538_a9d6_11e9_82a1_f816545d60e1row37_col0\" class=\"data row37 col0\" >3,349</td>\n",
       "                        <td id=\"T_38add538_a9d6_11e9_82a1_f816545d60e1row37_col1\" class=\"data row37 col1\" >1,092</td>\n",
       "                        <td id=\"T_38add538_a9d6_11e9_82a1_f816545d60e1row37_col2\" class=\"data row37 col2\" >2,257</td>\n",
       "            </tr>\n",
       "            <tr>\n",
       "                        <th id=\"T_38add538_a9d6_11e9_82a1_f816545d60e1level0_row38\" class=\"row_heading level0 row38\" >10.OCT-2016</th>\n",
       "                        <td id=\"T_38add538_a9d6_11e9_82a1_f816545d60e1row38_col0\" class=\"data row38 col0\" >4,148</td>\n",
       "                        <td id=\"T_38add538_a9d6_11e9_82a1_f816545d60e1row38_col1\" class=\"data row38 col1\" >1,356</td>\n",
       "                        <td id=\"T_38add538_a9d6_11e9_82a1_f816545d60e1row38_col2\" class=\"data row38 col2\" >2,792</td>\n",
       "            </tr>\n",
       "            <tr>\n",
       "                        <th id=\"T_38add538_a9d6_11e9_82a1_f816545d60e1level0_row39\" class=\"row_heading level0 row39\" >10.OCT-2017</th>\n",
       "                        <td id=\"T_38add538_a9d6_11e9_82a1_f816545d60e1row39_col0\" class=\"data row39 col0\" >4,047</td>\n",
       "                        <td id=\"T_38add538_a9d6_11e9_82a1_f816545d60e1row39_col1\" class=\"data row39 col1\" >1,305</td>\n",
       "                        <td id=\"T_38add538_a9d6_11e9_82a1_f816545d60e1row39_col2\" class=\"data row39 col2\" >2,742</td>\n",
       "            </tr>\n",
       "            <tr>\n",
       "                        <th id=\"T_38add538_a9d6_11e9_82a1_f816545d60e1level0_row40\" class=\"row_heading level0 row40\" >11.NOV-2014</th>\n",
       "                        <td id=\"T_38add538_a9d6_11e9_82a1_f816545d60e1row40_col0\" class=\"data row40 col0\" >2,849</td>\n",
       "                        <td id=\"T_38add538_a9d6_11e9_82a1_f816545d60e1row40_col1\" class=\"data row40 col1\" >1,017</td>\n",
       "                        <td id=\"T_38add538_a9d6_11e9_82a1_f816545d60e1row40_col2\" class=\"data row40 col2\" >1,832</td>\n",
       "            </tr>\n",
       "            <tr>\n",
       "                        <th id=\"T_38add538_a9d6_11e9_82a1_f816545d60e1level0_row41\" class=\"row_heading level0 row41\" >11.NOV-2015</th>\n",
       "                        <td id=\"T_38add538_a9d6_11e9_82a1_f816545d60e1row41_col0\" class=\"data row41 col0\" >3,281</td>\n",
       "                        <td id=\"T_38add538_a9d6_11e9_82a1_f816545d60e1row41_col1\" class=\"data row41 col1\" >1,133</td>\n",
       "                        <td id=\"T_38add538_a9d6_11e9_82a1_f816545d60e1row41_col2\" class=\"data row41 col2\" >2,148</td>\n",
       "            </tr>\n",
       "            <tr>\n",
       "                        <th id=\"T_38add538_a9d6_11e9_82a1_f816545d60e1level0_row42\" class=\"row_heading level0 row42\" >11.NOV-2016</th>\n",
       "                        <td id=\"T_38add538_a9d6_11e9_82a1_f816545d60e1row42_col0\" class=\"data row42 col0\" >4,010</td>\n",
       "                        <td id=\"T_38add538_a9d6_11e9_82a1_f816545d60e1row42_col1\" class=\"data row42 col1\" >1,368</td>\n",
       "                        <td id=\"T_38add538_a9d6_11e9_82a1_f816545d60e1row42_col2\" class=\"data row42 col2\" >2,642</td>\n",
       "            </tr>\n",
       "            <tr>\n",
       "                        <th id=\"T_38add538_a9d6_11e9_82a1_f816545d60e1level0_row43\" class=\"row_heading level0 row43\" >11.NOV-2017</th>\n",
       "                        <td id=\"T_38add538_a9d6_11e9_82a1_f816545d60e1row43_col0\" class=\"data row43 col0\" >3,681</td>\n",
       "                        <td id=\"T_38add538_a9d6_11e9_82a1_f816545d60e1row43_col1\" class=\"data row43 col1\" >1,304</td>\n",
       "                        <td id=\"T_38add538_a9d6_11e9_82a1_f816545d60e1row43_col2\" class=\"data row43 col2\" >2,377</td>\n",
       "            </tr>\n",
       "            <tr>\n",
       "                        <th id=\"T_38add538_a9d6_11e9_82a1_f816545d60e1level0_row44\" class=\"row_heading level0 row44\" >12.DEC-2014</th>\n",
       "                        <td id=\"T_38add538_a9d6_11e9_82a1_f816545d60e1row44_col0\" class=\"data row44 col0\" >2,992</td>\n",
       "                        <td id=\"T_38add538_a9d6_11e9_82a1_f816545d60e1row44_col1\" class=\"data row44 col1\" >1,086</td>\n",
       "                        <td id=\"T_38add538_a9d6_11e9_82a1_f816545d60e1row44_col2\" class=\"data row44 col2\" >1,906</td>\n",
       "            </tr>\n",
       "            <tr>\n",
       "                        <th id=\"T_38add538_a9d6_11e9_82a1_f816545d60e1level0_row45\" class=\"row_heading level0 row45\" >12.DEC-2015</th>\n",
       "                        <td id=\"T_38add538_a9d6_11e9_82a1_f816545d60e1row45_col0\" class=\"data row45 col0\" >3,470</td>\n",
       "                        <td id=\"T_38add538_a9d6_11e9_82a1_f816545d60e1row45_col1\" class=\"data row45 col1\" >1,186</td>\n",
       "                        <td id=\"T_38add538_a9d6_11e9_82a1_f816545d60e1row45_col2\" class=\"data row45 col2\" >2,284</td>\n",
       "            </tr>\n",
       "            <tr>\n",
       "                        <th id=\"T_38add538_a9d6_11e9_82a1_f816545d60e1level0_row46\" class=\"row_heading level0 row46\" >12.DEC-2016</th>\n",
       "                        <td id=\"T_38add538_a9d6_11e9_82a1_f816545d60e1row46_col0\" class=\"data row46 col0\" >3,858</td>\n",
       "                        <td id=\"T_38add538_a9d6_11e9_82a1_f816545d60e1row46_col1\" class=\"data row46 col1\" >1,338</td>\n",
       "                        <td id=\"T_38add538_a9d6_11e9_82a1_f816545d60e1row46_col2\" class=\"data row46 col2\" >2,520</td>\n",
       "            </tr>\n",
       "            <tr>\n",
       "                        <th id=\"T_38add538_a9d6_11e9_82a1_f816545d60e1level0_row47\" class=\"row_heading level0 row47\" >12.DEC-2017</th>\n",
       "                        <td id=\"T_38add538_a9d6_11e9_82a1_f816545d60e1row47_col0\" class=\"data row47 col0\" >3,457</td>\n",
       "                        <td id=\"T_38add538_a9d6_11e9_82a1_f816545d60e1row47_col1\" class=\"data row47 col1\" >1,288</td>\n",
       "                        <td id=\"T_38add538_a9d6_11e9_82a1_f816545d60e1row47_col2\" class=\"data row47 col2\" >2,169</td>\n",
       "            </tr>\n",
       "    </tbody></table>"
      ],
      "text/plain": [
       "<pandas.io.formats.style.Styler at 0x1fd3935fc50>"
      ]
     },
     "execution_count": 61,
     "metadata": {},
     "output_type": "execute_result"
    }
   ],
   "source": [
    "# Groupby month-year to see table\n",
    "gun_violence_master_df.groupby(\"month_year\")[[\"Total Killed/Injured\",\"Killed\",\"Injured\"]].sum().style.format('{:,}')"
   ]
  },
  {
   "cell_type": "code",
   "execution_count": 62,
   "metadata": {},
   "outputs": [
    {
     "data": {
      "image/png": "[encoded data removed]",
      "text/plain": [
       "<Figure size 756x684 with 1 Axes>"
      ]
     },
     "metadata": {
      "needs_background": "light"
     },
     "output_type": "display_data"
    }
   ],
   "source": [
    "# chart out over monthyear\n",
    "monthyear_viz = gun_violence_master_df.groupby(\"month_year\")[[\"Killed\",\"Injured\"]].sum().reset_index()\n",
    "mth_yr_order = gun_violence_master_df[\"month_year\"].unique().tolist()\n",
    "plt.figure(figsize=(10.5,9.5))\n",
    "sns.pointplot(monthyear_viz[\"month_year\"],monthyear_viz[\"Injured\"],order=mth_yr_order,color=\"darksalmon\",markers=\"o\")\n",
    "sns.pointplot(monthyear_viz[\"month_year\"],monthyear_viz[\"Killed\"],order=mth_yr_order,color=\"firebrick\",markers=\"o\")\n",
    "plt.axhline(monthyear_viz[\"Killed\"].mean(),label=\"Killed / Mean (1,180)\",color=\"firebrick\")\n",
    "plt.axhline(monthyear_viz[\"Injured\"].mean(),label=\"Injured / Mean (2,318)\",color=\"darksalmon\")\n",
    "plt.xticks(rotation=90)\n",
    "plt.xlabel(\"Month-Year\")\n",
    "plt.ylabel(\"People Killed / Injured\")\n",
    "plt.legend(loc=\"best\",prop={\"size\":10})\n",
    "plt.title(\"People Killed & Injured by Month (January'14 to December'18)\",fontsize =15)\n",
    "plt.tight_layout()\n",
    "plt.savefig(\"GunViolenceVisuals/2.People Killed and Injured by Month_Year (Jan14 to Dec18).png\")\n",
    "plt.show()"
   ]
  },
  {
   "cell_type": "code",
   "execution_count": 63,
   "metadata": {},
   "outputs": [
    {
     "data": {
      "text/html": [
       "<style  type=\"text/css\" >\n",
       "</style><table id=\"T_39d846e6_a9d6_11e9_8390_f816545d60e1\" ><thead>    <tr>        <th class=\"blank level0\" ></th>        <th class=\"col_heading level0 col0\" >Total Killed/Injured</th>        <th class=\"col_heading level0 col1\" >Killed</th>        <th class=\"col_heading level0 col2\" >Injured</th>    </tr>    <tr>        <th class=\"index_name level0\" >month</th>        <th class=\"blank\" ></th>        <th class=\"blank\" ></th>        <th class=\"blank\" ></th>    </tr></thead><tbody>\n",
       "                <tr>\n",
       "                        <th id=\"T_39d846e6_a9d6_11e9_8390_f816545d60e1level0_row0\" class=\"row_heading level0 row0\" >01.JAN</th>\n",
       "                        <td id=\"T_39d846e6_a9d6_11e9_8390_f816545d60e1row0_col0\" class=\"data row0 col0\" >13,225</td>\n",
       "                        <td id=\"T_39d846e6_a9d6_11e9_8390_f816545d60e1row0_col1\" class=\"data row0 col1\" >4,688</td>\n",
       "                        <td id=\"T_39d846e6_a9d6_11e9_8390_f816545d60e1row0_col2\" class=\"data row0 col2\" >8,537</td>\n",
       "            </tr>\n",
       "            <tr>\n",
       "                        <th id=\"T_39d846e6_a9d6_11e9_8390_f816545d60e1level0_row1\" class=\"row_heading level0 row1\" >02.FEB</th>\n",
       "                        <td id=\"T_39d846e6_a9d6_11e9_8390_f816545d60e1row1_col0\" class=\"data row1 col0\" >10,502</td>\n",
       "                        <td id=\"T_39d846e6_a9d6_11e9_8390_f816545d60e1row1_col1\" class=\"data row1 col1\" >3,840</td>\n",
       "                        <td id=\"T_39d846e6_a9d6_11e9_8390_f816545d60e1row1_col2\" class=\"data row1 col2\" >6,662</td>\n",
       "            </tr>\n",
       "            <tr>\n",
       "                        <th id=\"T_39d846e6_a9d6_11e9_8390_f816545d60e1level0_row2\" class=\"row_heading level0 row2\" >03.MAR</th>\n",
       "                        <td id=\"T_39d846e6_a9d6_11e9_8390_f816545d60e1row2_col0\" class=\"data row2 col0\" >12,805</td>\n",
       "                        <td id=\"T_39d846e6_a9d6_11e9_8390_f816545d60e1row2_col1\" class=\"data row2 col1\" >4,498</td>\n",
       "                        <td id=\"T_39d846e6_a9d6_11e9_8390_f816545d60e1row2_col2\" class=\"data row2 col2\" >8,307</td>\n",
       "            </tr>\n",
       "            <tr>\n",
       "                        <th id=\"T_39d846e6_a9d6_11e9_8390_f816545d60e1level0_row3\" class=\"row_heading level0 row3\" >04.APR</th>\n",
       "                        <td id=\"T_39d846e6_a9d6_11e9_8390_f816545d60e1row3_col0\" class=\"data row3 col0\" >13,212</td>\n",
       "                        <td id=\"T_39d846e6_a9d6_11e9_8390_f816545d60e1row3_col1\" class=\"data row3 col1\" >4,357</td>\n",
       "                        <td id=\"T_39d846e6_a9d6_11e9_8390_f816545d60e1row3_col2\" class=\"data row3 col2\" >8,855</td>\n",
       "            </tr>\n",
       "            <tr>\n",
       "                        <th id=\"T_39d846e6_a9d6_11e9_8390_f816545d60e1level0_row4\" class=\"row_heading level0 row4\" >05.MAY</th>\n",
       "                        <td id=\"T_39d846e6_a9d6_11e9_8390_f816545d60e1row4_col0\" class=\"data row4 col0\" >14,953</td>\n",
       "                        <td id=\"T_39d846e6_a9d6_11e9_8390_f816545d60e1row4_col1\" class=\"data row4 col1\" >4,810</td>\n",
       "                        <td id=\"T_39d846e6_a9d6_11e9_8390_f816545d60e1row4_col2\" class=\"data row4 col2\" >10,143</td>\n",
       "            </tr>\n",
       "            <tr>\n",
       "                        <th id=\"T_39d846e6_a9d6_11e9_8390_f816545d60e1level0_row5\" class=\"row_heading level0 row5\" >06.JUN</th>\n",
       "                        <td id=\"T_39d846e6_a9d6_11e9_8390_f816545d60e1row5_col0\" class=\"data row5 col0\" >14,527</td>\n",
       "                        <td id=\"T_39d846e6_a9d6_11e9_8390_f816545d60e1row5_col1\" class=\"data row5 col1\" >4,861</td>\n",
       "                        <td id=\"T_39d846e6_a9d6_11e9_8390_f816545d60e1row5_col2\" class=\"data row5 col2\" >9,666</td>\n",
       "            </tr>\n",
       "            <tr>\n",
       "                        <th id=\"T_39d846e6_a9d6_11e9_8390_f816545d60e1level0_row6\" class=\"row_heading level0 row6\" >07.JUL</th>\n",
       "                        <td id=\"T_39d846e6_a9d6_11e9_8390_f816545d60e1row6_col0\" class=\"data row6 col0\" >16,393</td>\n",
       "                        <td id=\"T_39d846e6_a9d6_11e9_8390_f816545d60e1row6_col1\" class=\"data row6 col1\" >5,245</td>\n",
       "                        <td id=\"T_39d846e6_a9d6_11e9_8390_f816545d60e1row6_col2\" class=\"data row6 col2\" >11,148</td>\n",
       "            </tr>\n",
       "            <tr>\n",
       "                        <th id=\"T_39d846e6_a9d6_11e9_8390_f816545d60e1level0_row7\" class=\"row_heading level0 row7\" >08.AUG</th>\n",
       "                        <td id=\"T_39d846e6_a9d6_11e9_8390_f816545d60e1row7_col0\" class=\"data row7 col0\" >15,817</td>\n",
       "                        <td id=\"T_39d846e6_a9d6_11e9_8390_f816545d60e1row7_col1\" class=\"data row7 col1\" >5,092</td>\n",
       "                        <td id=\"T_39d846e6_a9d6_11e9_8390_f816545d60e1row7_col2\" class=\"data row7 col2\" >10,725</td>\n",
       "            </tr>\n",
       "            <tr>\n",
       "                        <th id=\"T_39d846e6_a9d6_11e9_8390_f816545d60e1level0_row8\" class=\"row_heading level0 row8\" >09.SEP</th>\n",
       "                        <td id=\"T_39d846e6_a9d6_11e9_8390_f816545d60e1row8_col0\" class=\"data row8 col0\" >14,398</td>\n",
       "                        <td id=\"T_39d846e6_a9d6_11e9_8390_f816545d60e1row8_col1\" class=\"data row8 col1\" >4,742</td>\n",
       "                        <td id=\"T_39d846e6_a9d6_11e9_8390_f816545d60e1row8_col2\" class=\"data row8 col2\" >9,656</td>\n",
       "            </tr>\n",
       "            <tr>\n",
       "                        <th id=\"T_39d846e6_a9d6_11e9_8390_f816545d60e1level0_row9\" class=\"row_heading level0 row9\" >10.OCT</th>\n",
       "                        <td id=\"T_39d846e6_a9d6_11e9_8390_f816545d60e1row9_col0\" class=\"data row9 col0\" >14,440</td>\n",
       "                        <td id=\"T_39d846e6_a9d6_11e9_8390_f816545d60e1row9_col1\" class=\"data row9 col1\" >4,765</td>\n",
       "                        <td id=\"T_39d846e6_a9d6_11e9_8390_f816545d60e1row9_col2\" class=\"data row9 col2\" >9,675</td>\n",
       "            </tr>\n",
       "            <tr>\n",
       "                        <th id=\"T_39d846e6_a9d6_11e9_8390_f816545d60e1level0_row10\" class=\"row_heading level0 row10\" >11.NOV</th>\n",
       "                        <td id=\"T_39d846e6_a9d6_11e9_8390_f816545d60e1row10_col0\" class=\"data row10 col0\" >13,821</td>\n",
       "                        <td id=\"T_39d846e6_a9d6_11e9_8390_f816545d60e1row10_col1\" class=\"data row10 col1\" >4,822</td>\n",
       "                        <td id=\"T_39d846e6_a9d6_11e9_8390_f816545d60e1row10_col2\" class=\"data row10 col2\" >8,999</td>\n",
       "            </tr>\n",
       "            <tr>\n",
       "                        <th id=\"T_39d846e6_a9d6_11e9_8390_f816545d60e1level0_row11\" class=\"row_heading level0 row11\" >12.DEC</th>\n",
       "                        <td id=\"T_39d846e6_a9d6_11e9_8390_f816545d60e1row11_col0\" class=\"data row11 col0\" >13,777</td>\n",
       "                        <td id=\"T_39d846e6_a9d6_11e9_8390_f816545d60e1row11_col1\" class=\"data row11 col1\" >4,898</td>\n",
       "                        <td id=\"T_39d846e6_a9d6_11e9_8390_f816545d60e1row11_col2\" class=\"data row11 col2\" >8,879</td>\n",
       "            </tr>\n",
       "    </tbody></table>"
      ],
      "text/plain": [
       "<pandas.io.formats.style.Styler at 0x1fd3933fb38>"
      ]
     },
     "execution_count": 63,
     "metadata": {},
     "output_type": "execute_result"
    }
   ],
   "source": [
    "# Groupby month to see table\n",
    "gun_violence_master_df.groupby(\"month\")[[\"Total Killed/Injured\",\"Killed\",\"Injured\"]].sum().style.format('{:,}')"
   ]
  },
  {
   "cell_type": "code",
   "execution_count": 64,
   "metadata": {},
   "outputs": [
    {
     "data": {
      "image/png": "[encoded data removed]",
      "text/plain": [
       "<Figure size 648x288 with 1 Axes>"
      ]
     },
     "metadata": {
      "needs_background": "light"
     },
     "output_type": "display_data"
    }
   ],
   "source": [
    "# Month Chart\n",
    "month_chart = gun_violence_master_df.groupby(\"month\")[[\"Killed\",\"Injured\"]].sum().plot(kind=\"bar\",stacked=True, figsize=(9,4), linewidth = 1, color=['firebrick', 'mistyrose'], edgecolor = \"k\")\n",
    "\n",
    "plt.grid(True,alpha=.2)\n",
    "plt.xticks(rotation=0)\n",
    "plt.xlabel(\"Month\")\n",
    "plt.ylabel(\"People Killed / Injured\")\n",
    "plt.legend(prop={\"size\":8})\n",
    "plt.title(\"Total People Killed/Injured from Gun Violence by Month (2014-2017)\",fontsize = 12)\n",
    "plt.tight_layout()\n",
    "plt.savefig(\"GunViolenceVisuals/3.Total People Killed Injured by Month (2014 to 2017).png\")\n",
    "plt.show()"
   ]
  },
  {
   "cell_type": "code",
   "execution_count": 65,
   "metadata": {},
   "outputs": [],
   "source": [
    "# Drop all years except 2017\n",
    "gun_violence_master_df.drop(gun_violence_master_df[(gun_violence_master_df[\"year\"] == 2013)].index, inplace=True)\n",
    "gun_violence_master_df.drop(gun_violence_master_df[(gun_violence_master_df[\"year\"] == 2014)].index, inplace=True)\n",
    "gun_violence_master_df.drop(gun_violence_master_df[(gun_violence_master_df[\"year\"] == 2015)].index, inplace=True)\n",
    "gun_violence_master_df.drop(gun_violence_master_df[(gun_violence_master_df[\"year\"] == 2016)].index, inplace=True)\n",
    "gun_violence_master_df.drop(gun_violence_master_df[(gun_violence_master_df[\"year\"] == 2018)].index, inplace=True)"
   ]
  },
  {
   "cell_type": "code",
   "execution_count": 66,
   "metadata": {},
   "outputs": [
    {
     "data": {
      "text/html": [
       "<style  type=\"text/css\" >\n",
       "</style><table id=\"T_3ab1db78_a9d6_11e9_87bc_f816545d60e1\" ><thead>    <tr>        <th class=\"blank level0\" ></th>        <th class=\"col_heading level0 col0\" >Total Killed/Injured</th>        <th class=\"col_heading level0 col1\" >Killed</th>        <th class=\"col_heading level0 col2\" >Injured</th>    </tr>    <tr>        <th class=\"index_name level0\" >month</th>        <th class=\"blank\" ></th>        <th class=\"blank\" ></th>        <th class=\"blank\" ></th>    </tr></thead><tbody>\n",
       "                <tr>\n",
       "                        <th id=\"T_3ab1db78_a9d6_11e9_87bc_f816545d60e1level0_row0\" class=\"row_heading level0 row0\" >01.JAN</th>\n",
       "                        <td id=\"T_3ab1db78_a9d6_11e9_87bc_f816545d60e1row0_col0\" class=\"data row0 col0\" >3,960</td>\n",
       "                        <td id=\"T_3ab1db78_a9d6_11e9_87bc_f816545d60e1row0_col1\" class=\"data row0 col1\" >1,356</td>\n",
       "                        <td id=\"T_3ab1db78_a9d6_11e9_87bc_f816545d60e1row0_col2\" class=\"data row0 col2\" >2,604</td>\n",
       "            </tr>\n",
       "            <tr>\n",
       "                        <th id=\"T_3ab1db78_a9d6_11e9_87bc_f816545d60e1level0_row1\" class=\"row_heading level0 row1\" >02.FEB</th>\n",
       "                        <td id=\"T_3ab1db78_a9d6_11e9_87bc_f816545d60e1row1_col0\" class=\"data row1 col0\" >3,338</td>\n",
       "                        <td id=\"T_3ab1db78_a9d6_11e9_87bc_f816545d60e1row1_col1\" class=\"data row1 col1\" >1,141</td>\n",
       "                        <td id=\"T_3ab1db78_a9d6_11e9_87bc_f816545d60e1row1_col2\" class=\"data row1 col2\" >2,197</td>\n",
       "            </tr>\n",
       "            <tr>\n",
       "                        <th id=\"T_3ab1db78_a9d6_11e9_87bc_f816545d60e1level0_row2\" class=\"row_heading level0 row2\" >03.MAR</th>\n",
       "                        <td id=\"T_3ab1db78_a9d6_11e9_87bc_f816545d60e1row2_col0\" class=\"data row2 col0\" >3,453</td>\n",
       "                        <td id=\"T_3ab1db78_a9d6_11e9_87bc_f816545d60e1row2_col1\" class=\"data row2 col1\" >1,220</td>\n",
       "                        <td id=\"T_3ab1db78_a9d6_11e9_87bc_f816545d60e1row2_col2\" class=\"data row2 col2\" >2,233</td>\n",
       "            </tr>\n",
       "            <tr>\n",
       "                        <th id=\"T_3ab1db78_a9d6_11e9_87bc_f816545d60e1level0_row3\" class=\"row_heading level0 row3\" >04.APR</th>\n",
       "                        <td id=\"T_3ab1db78_a9d6_11e9_87bc_f816545d60e1row3_col0\" class=\"data row3 col0\" >3,879</td>\n",
       "                        <td id=\"T_3ab1db78_a9d6_11e9_87bc_f816545d60e1row3_col1\" class=\"data row3 col1\" >1,231</td>\n",
       "                        <td id=\"T_3ab1db78_a9d6_11e9_87bc_f816545d60e1row3_col2\" class=\"data row3 col2\" >2,648</td>\n",
       "            </tr>\n",
       "            <tr>\n",
       "                        <th id=\"T_3ab1db78_a9d6_11e9_87bc_f816545d60e1level0_row4\" class=\"row_heading level0 row4\" >05.MAY</th>\n",
       "                        <td id=\"T_3ab1db78_a9d6_11e9_87bc_f816545d60e1row4_col0\" class=\"data row4 col0\" >4,121</td>\n",
       "                        <td id=\"T_3ab1db78_a9d6_11e9_87bc_f816545d60e1row4_col1\" class=\"data row4 col1\" >1,389</td>\n",
       "                        <td id=\"T_3ab1db78_a9d6_11e9_87bc_f816545d60e1row4_col2\" class=\"data row4 col2\" >2,732</td>\n",
       "            </tr>\n",
       "            <tr>\n",
       "                        <th id=\"T_3ab1db78_a9d6_11e9_87bc_f816545d60e1level0_row5\" class=\"row_heading level0 row5\" >06.JUN</th>\n",
       "                        <td id=\"T_3ab1db78_a9d6_11e9_87bc_f816545d60e1row5_col0\" class=\"data row5 col0\" >4,045</td>\n",
       "                        <td id=\"T_3ab1db78_a9d6_11e9_87bc_f816545d60e1row5_col1\" class=\"data row5 col1\" >1,366</td>\n",
       "                        <td id=\"T_3ab1db78_a9d6_11e9_87bc_f816545d60e1row5_col2\" class=\"data row5 col2\" >2,679</td>\n",
       "            </tr>\n",
       "            <tr>\n",
       "                        <th id=\"T_3ab1db78_a9d6_11e9_87bc_f816545d60e1level0_row6\" class=\"row_heading level0 row6\" >07.JUL</th>\n",
       "                        <td id=\"T_3ab1db78_a9d6_11e9_87bc_f816545d60e1row6_col0\" class=\"data row6 col0\" >4,409</td>\n",
       "                        <td id=\"T_3ab1db78_a9d6_11e9_87bc_f816545d60e1row6_col1\" class=\"data row6 col1\" >1,391</td>\n",
       "                        <td id=\"T_3ab1db78_a9d6_11e9_87bc_f816545d60e1row6_col2\" class=\"data row6 col2\" >3,018</td>\n",
       "            </tr>\n",
       "            <tr>\n",
       "                        <th id=\"T_3ab1db78_a9d6_11e9_87bc_f816545d60e1level0_row7\" class=\"row_heading level0 row7\" >08.AUG</th>\n",
       "                        <td id=\"T_3ab1db78_a9d6_11e9_87bc_f816545d60e1row7_col0\" class=\"data row7 col0\" >4,055</td>\n",
       "                        <td id=\"T_3ab1db78_a9d6_11e9_87bc_f816545d60e1row7_col1\" class=\"data row7 col1\" >1,324</td>\n",
       "                        <td id=\"T_3ab1db78_a9d6_11e9_87bc_f816545d60e1row7_col2\" class=\"data row7 col2\" >2,731</td>\n",
       "            </tr>\n",
       "            <tr>\n",
       "                        <th id=\"T_3ab1db78_a9d6_11e9_87bc_f816545d60e1level0_row8\" class=\"row_heading level0 row8\" >09.SEP</th>\n",
       "                        <td id=\"T_3ab1db78_a9d6_11e9_87bc_f816545d60e1row8_col0\" class=\"data row8 col0\" >3,769</td>\n",
       "                        <td id=\"T_3ab1db78_a9d6_11e9_87bc_f816545d60e1row8_col1\" class=\"data row8 col1\" >1,196</td>\n",
       "                        <td id=\"T_3ab1db78_a9d6_11e9_87bc_f816545d60e1row8_col2\" class=\"data row8 col2\" >2,573</td>\n",
       "            </tr>\n",
       "            <tr>\n",
       "                        <th id=\"T_3ab1db78_a9d6_11e9_87bc_f816545d60e1level0_row9\" class=\"row_heading level0 row9\" >10.OCT</th>\n",
       "                        <td id=\"T_3ab1db78_a9d6_11e9_87bc_f816545d60e1row9_col0\" class=\"data row9 col0\" >4,047</td>\n",
       "                        <td id=\"T_3ab1db78_a9d6_11e9_87bc_f816545d60e1row9_col1\" class=\"data row9 col1\" >1,305</td>\n",
       "                        <td id=\"T_3ab1db78_a9d6_11e9_87bc_f816545d60e1row9_col2\" class=\"data row9 col2\" >2,742</td>\n",
       "            </tr>\n",
       "            <tr>\n",
       "                        <th id=\"T_3ab1db78_a9d6_11e9_87bc_f816545d60e1level0_row10\" class=\"row_heading level0 row10\" >11.NOV</th>\n",
       "                        <td id=\"T_3ab1db78_a9d6_11e9_87bc_f816545d60e1row10_col0\" class=\"data row10 col0\" >3,681</td>\n",
       "                        <td id=\"T_3ab1db78_a9d6_11e9_87bc_f816545d60e1row10_col1\" class=\"data row10 col1\" >1,304</td>\n",
       "                        <td id=\"T_3ab1db78_a9d6_11e9_87bc_f816545d60e1row10_col2\" class=\"data row10 col2\" >2,377</td>\n",
       "            </tr>\n",
       "            <tr>\n",
       "                        <th id=\"T_3ab1db78_a9d6_11e9_87bc_f816545d60e1level0_row11\" class=\"row_heading level0 row11\" >12.DEC</th>\n",
       "                        <td id=\"T_3ab1db78_a9d6_11e9_87bc_f816545d60e1row11_col0\" class=\"data row11 col0\" >3,457</td>\n",
       "                        <td id=\"T_3ab1db78_a9d6_11e9_87bc_f816545d60e1row11_col1\" class=\"data row11 col1\" >1,288</td>\n",
       "                        <td id=\"T_3ab1db78_a9d6_11e9_87bc_f816545d60e1row11_col2\" class=\"data row11 col2\" >2,169</td>\n",
       "            </tr>\n",
       "    </tbody></table>"
      ],
      "text/plain": [
       "<pandas.io.formats.style.Styler at 0x1fd4b6e2f28>"
      ]
     },
     "execution_count": 66,
     "metadata": {},
     "output_type": "execute_result"
    }
   ],
   "source": [
    "# Groupby month to see table for 2017\n",
    "gun_violence_master_df.groupby(\"month\")[[\"Total Killed/Injured\",\"Killed\",\"Injured\"]].sum().style.format('{:,}')"
   ]
  },
  {
   "cell_type": "code",
   "execution_count": 67,
   "metadata": {},
   "outputs": [
    {
     "data": {
      "image/png": "[encoded data removed]",
      "text/plain": [
       "<Figure size 648x288 with 1 Axes>"
      ]
     },
     "metadata": {
      "needs_background": "light"
     },
     "output_type": "display_data"
    }
   ],
   "source": [
    "# Month chart for 2017 only\n",
    "month_chart = gun_violence_master_df.groupby(\"month\")[[\"Killed\",\"Injured\"]].sum().plot(kind=\"bar\",stacked=True, figsize=(9,4), linewidth = 1, color=['firebrick', 'mistyrose'], edgecolor = \"k\")\n",
    "plt.grid(True,alpha=.2)\n",
    "plt.xticks(rotation=0)\n",
    "plt.xlabel(\"Month\")\n",
    "plt.ylabel(\"People Killed / Injured\")\n",
    "plt.legend(prop={\"size\":8})\n",
    "plt.title(\"Total People Killed/Injured from Gun Violence by Month (2017)\",fontsize = 15)\n",
    "plt.tight_layout()\n",
    "plt.savefig(\"GunViolenceVisuals/4.Total People Killed Injured by Month (2017).png\")\n",
    "plt.show()"
   ]
  },
  {
   "cell_type": "code",
   "execution_count": 68,
   "metadata": {},
   "outputs": [],
   "source": [
    "#JULIA"
   ]
  },
  {
   "cell_type": "code",
   "execution_count": 69,
   "metadata": {},
   "outputs": [],
   "source": [
    "# Get the Yr, Mth, Day, Date from the date conversion\n",
    "gun_violence_df[\"year\"] = pd.DatetimeIndex(gun_violence_df[\"date\"]).year\n",
    "gun_violence_df[\"month\"]= pd.DatetimeIndex(gun_violence_df[\"date\"]).month\n",
    "gun_violence_df[\"day\"]  = pd.DatetimeIndex(gun_violence_df[\"date\"]).day\n",
    "gun_violence_df[\"month\"] = gun_violence_df[\"month\"].map({1:\"JAN\",2:\"FEB\",3:\"MAR\",4:\"APR\",5:\"MAY\",6:\"JUN\",7:\"JUL\",8:\"AUG\",9:\"SEP\",10:\"OCT\",11:\"NOV\",12:\"DEC\"})\n",
    "gun_violence_df[\"month_year\"] = gun_violence_df[\"month\"]+\"-\"+gun_violence_df[\"year\"].astype(str)"
   ]
  },
  {
   "cell_type": "code",
   "execution_count": 70,
   "metadata": {},
   "outputs": [],
   "source": [
    "gun_violence_df = gun_violence_df.rename(columns={\"n_killed\":\"killed\",\"n_injured\":\"injured\"})\n",
    "gun_violence_df = gun_violence_df.sort_values(by=\"date\",ascending=True)"
   ]
  },
  {
   "cell_type": "code",
   "execution_count": 73,
   "metadata": {},
   "outputs": [],
   "source": [
    "# Create a new column called \"Total Killed/Injured\" which adds n_killed & n_injured\n",
    "gun_violence_df[\"Total Killed/Injured\"] = gun_violence_df[\"killed\"] + gun_violence_df[\"injured\"]"
   ]
  },
  {
   "cell_type": "code",
   "execution_count": 75,
   "metadata": {
    "scrolled": false
   },
   "outputs": [],
   "source": [
    "# Re-order Columns\n",
    "gun_violence_df = gun_violence_df[[\"incident_id\", \"date\", \"state\", \"city_or_county\", \"Total Killed/Injured\",\n",
    "                                    \"killed\", \"injured\", \"participant_age_group\", \"participant_gender\",\n",
    "                                     \"participant_relationship\", \"participant_status\",\n",
    "                                    \"participant_type\",  \"state_house_district\", \"state_senate_district\",\n",
    "                                    ]]"
   ]
  },
  {
   "cell_type": "code",
   "execution_count": 76,
   "metadata": {
    "scrolled": true
   },
   "outputs": [
    {
     "data": {
      "text/plain": [
       "46214"
      ]
     },
     "execution_count": 76,
     "metadata": {},
     "output_type": "execute_result"
    }
   ],
   "source": [
    "total_killed = gun_violence_df[\"killed\"].sum()\n",
    "total_injured = gun_violence_df[\"injured\"].sum()\n",
    "overall_killed_injured = total_killed + total_injured\n",
    "overall_killed_injured"
   ]
  },
  {
   "cell_type": "code",
   "execution_count": 77,
   "metadata": {
    "scrolled": true
   },
   "outputs": [
    {
     "data": {
      "text/html": [
       "<div>\n",
       "<style scoped>\n",
       "    .dataframe tbody tr th:only-of-type {\n",
       "        vertical-align: middle;\n",
       "    }\n",
       "\n",
       "    .dataframe tbody tr th {\n",
       "        vertical-align: top;\n",
       "    }\n",
       "\n",
       "    .dataframe thead th {\n",
       "        text-align: right;\n",
       "    }\n",
       "</style>\n",
       "<table border=\"1\" class=\"dataframe\">\n",
       "  <thead>\n",
       "    <tr style=\"text-align: right;\">\n",
       "      <th></th>\n",
       "      <th>state</th>\n",
       "      <th>Gun Violence</th>\n",
       "    </tr>\n",
       "  </thead>\n",
       "  <tbody>\n",
       "    <tr>\n",
       "      <th>19</th>\n",
       "      <td>Mississippi</td>\n",
       "      <td>917</td>\n",
       "    </tr>\n",
       "    <tr>\n",
       "      <th>18</th>\n",
       "      <td>New Jersey</td>\n",
       "      <td>938</td>\n",
       "    </tr>\n",
       "    <tr>\n",
       "      <th>17</th>\n",
       "      <td>Michigan</td>\n",
       "      <td>1140</td>\n",
       "    </tr>\n",
       "    <tr>\n",
       "      <th>16</th>\n",
       "      <td>Indiana</td>\n",
       "      <td>1144</td>\n",
       "    </tr>\n",
       "    <tr>\n",
       "      <th>15</th>\n",
       "      <td>South Carolina</td>\n",
       "      <td>1186</td>\n",
       "    </tr>\n",
       "    <tr>\n",
       "      <th>14</th>\n",
       "      <td>Virginia</td>\n",
       "      <td>1324</td>\n",
       "    </tr>\n",
       "    <tr>\n",
       "      <th>13</th>\n",
       "      <td>Maryland</td>\n",
       "      <td>1335</td>\n",
       "    </tr>\n",
       "    <tr>\n",
       "      <th>12</th>\n",
       "      <td>Alabama</td>\n",
       "      <td>1400</td>\n",
       "    </tr>\n",
       "    <tr>\n",
       "      <th>11</th>\n",
       "      <td>New York</td>\n",
       "      <td>1439</td>\n",
       "    </tr>\n",
       "    <tr>\n",
       "      <th>10</th>\n",
       "      <td>Missouri</td>\n",
       "      <td>1530</td>\n",
       "    </tr>\n",
       "    <tr>\n",
       "      <th>9</th>\n",
       "      <td>Tennessee</td>\n",
       "      <td>1693</td>\n",
       "    </tr>\n",
       "    <tr>\n",
       "      <th>8</th>\n",
       "      <td>North Carolina</td>\n",
       "      <td>1709</td>\n",
       "    </tr>\n",
       "    <tr>\n",
       "      <th>7</th>\n",
       "      <td>Georgia</td>\n",
       "      <td>1715</td>\n",
       "    </tr>\n",
       "    <tr>\n",
       "      <th>6</th>\n",
       "      <td>Louisiana</td>\n",
       "      <td>1733</td>\n",
       "    </tr>\n",
       "    <tr>\n",
       "      <th>5</th>\n",
       "      <td>Pennsylvania</td>\n",
       "      <td>1823</td>\n",
       "    </tr>\n",
       "    <tr>\n",
       "      <th>4</th>\n",
       "      <td>Ohio</td>\n",
       "      <td>2217</td>\n",
       "    </tr>\n",
       "    <tr>\n",
       "      <th>3</th>\n",
       "      <td>Texas</td>\n",
       "      <td>2734</td>\n",
       "    </tr>\n",
       "    <tr>\n",
       "      <th>2</th>\n",
       "      <td>Florida</td>\n",
       "      <td>2751</td>\n",
       "    </tr>\n",
       "    <tr>\n",
       "      <th>1</th>\n",
       "      <td>California</td>\n",
       "      <td>3376</td>\n",
       "    </tr>\n",
       "    <tr>\n",
       "      <th>0</th>\n",
       "      <td>Illinois</td>\n",
       "      <td>4588</td>\n",
       "    </tr>\n",
       "  </tbody>\n",
       "</table>\n",
       "</div>"
      ],
      "text/plain": [
       "             state  Gun Violence\n",
       "19     Mississippi           917\n",
       "18      New Jersey           938\n",
       "17        Michigan          1140\n",
       "16         Indiana          1144\n",
       "15  South Carolina          1186\n",
       "14        Virginia          1324\n",
       "13        Maryland          1335\n",
       "12         Alabama          1400\n",
       "11        New York          1439\n",
       "10        Missouri          1530\n",
       "9        Tennessee          1693\n",
       "8   North Carolina          1709\n",
       "7          Georgia          1715\n",
       "6        Louisiana          1733\n",
       "5     Pennsylvania          1823\n",
       "4             Ohio          2217\n",
       "3            Texas          2734\n",
       "2          Florida          2751\n",
       "1       California          3376\n",
       "0         Illinois          4588"
      ]
     },
     "execution_count": 77,
     "metadata": {},
     "output_type": "execute_result"
    }
   ],
   "source": [
    "#find top 20 states\n",
    "top_states = gun_violence_df.groupby(['state']).agg({'Total Killed/Injured':['sum']})\n",
    "#top_states\n",
    "top_states.columns = top_states.columns.droplevel(0)\n",
    "top_states_final = top_states.sort_values(['sum'], ascending=False).head(51)\n",
    "#top_states_final\n",
    "top_states_df = pd.DataFrame(top_states_final)\n",
    "#top_states_df\n",
    "top_states_df.columns = ['Gun Violence']\n",
    "#top_states_df\n",
    "top_states_df = top_states_df.reset_index()\n",
    "top_20_df = top_states_df.head(20)\n",
    "top_20_df = top_20_df.sort_values(['Gun Violence'], ascending=True)\n",
    "top_20_df\n"
   ]
  },
  {
   "cell_type": "code",
   "execution_count": 78,
   "metadata": {},
   "outputs": [],
   "source": [
    "state20 = top_20_df['state']\n",
    "gun_violence20 = top_20_df['Gun Violence']"
   ]
  },
  {
   "cell_type": "code",
   "execution_count": 79,
   "metadata": {
    "scrolled": true
   },
   "outputs": [
    {
     "data": {
      "image/png": "[encoded data removed]",
      "text/plain": [
       "<Figure size 432x288 with 1 Axes>"
      ]
     },
     "metadata": {
      "needs_background": "light"
     },
     "output_type": "display_data"
    }
   ],
   "source": [
    "\n",
    "plt.barh(state20, gun_violence20, color='red', alpha=0.5, align=\"center\")\n",
    "#plt.xlim(-0.75, len(state)-0.25)\n",
    "#plt.ylim(0, max(gun_violence))\n",
    "plt.xticks(rotation='vertical')\n",
    "plt.title(\"20 Most Violent States in 2017\")\n",
    "plt.xlabel(\"Number of Gun Violence incidents per year (both Killed/Injured)\")\n",
    "plt.ylabel(\"State Name\")\n",
    "plt.tight_layout()\n",
    "plt.savefig(\"GunViolenceVisuals/5.20 Most Violent States in 2017.png\")\n",
    "plt.show()"
   ]
  },
  {
   "cell_type": "code",
   "execution_count": 80,
   "metadata": {},
   "outputs": [
    {
     "data": {
      "text/html": [
       "<div>\n",
       "<style scoped>\n",
       "    .dataframe tbody tr th:only-of-type {\n",
       "        vertical-align: middle;\n",
       "    }\n",
       "\n",
       "    .dataframe tbody tr th {\n",
       "        vertical-align: top;\n",
       "    }\n",
       "\n",
       "    .dataframe thead th {\n",
       "        text-align: right;\n",
       "    }\n",
       "</style>\n",
       "<table border=\"1\" class=\"dataframe\">\n",
       "  <thead>\n",
       "    <tr style=\"text-align: right;\">\n",
       "      <th></th>\n",
       "      <th>state</th>\n",
       "      <th>Population 2017</th>\n",
       "    </tr>\n",
       "  </thead>\n",
       "  <tbody>\n",
       "    <tr>\n",
       "      <th>0</th>\n",
       "      <td>Alabama</td>\n",
       "      <td>4875120</td>\n",
       "    </tr>\n",
       "    <tr>\n",
       "      <th>1</th>\n",
       "      <td>Alaska</td>\n",
       "      <td>739786</td>\n",
       "    </tr>\n",
       "    <tr>\n",
       "      <th>2</th>\n",
       "      <td>Arizona</td>\n",
       "      <td>7048876</td>\n",
       "    </tr>\n",
       "    <tr>\n",
       "      <th>3</th>\n",
       "      <td>Arkansas</td>\n",
       "      <td>3002997</td>\n",
       "    </tr>\n",
       "    <tr>\n",
       "      <th>4</th>\n",
       "      <td>California</td>\n",
       "      <td>39399349</td>\n",
       "    </tr>\n",
       "  </tbody>\n",
       "</table>\n",
       "</div>"
      ],
      "text/plain": [
       "        state  Population 2017\n",
       "0     Alabama          4875120\n",
       "1      Alaska           739786\n",
       "2     Arizona          7048876\n",
       "3    Arkansas          3002997\n",
       "4  California         39399349"
      ]
     },
     "execution_count": 80,
     "metadata": {},
     "output_type": "execute_result"
    }
   ],
   "source": [
    "census = \"C:\\\\Users\\\\kjyou\\\\Git\\\\GunViolenceDataAnalysis\\\\Resources\\population.xlsx\" \n",
    "\n",
    "census_df = pd.read_excel(census)\n",
    "census_df.head()"
   ]
  },
  {
   "cell_type": "code",
   "execution_count": 81,
   "metadata": {
    "scrolled": true
   },
   "outputs": [
    {
     "data": {
      "text/html": [
       "<div>\n",
       "<style scoped>\n",
       "    .dataframe tbody tr th:only-of-type {\n",
       "        vertical-align: middle;\n",
       "    }\n",
       "\n",
       "    .dataframe tbody tr th {\n",
       "        vertical-align: top;\n",
       "    }\n",
       "\n",
       "    .dataframe thead th {\n",
       "        text-align: right;\n",
       "    }\n",
       "</style>\n",
       "<table border=\"1\" class=\"dataframe\">\n",
       "  <thead>\n",
       "    <tr style=\"text-align: right;\">\n",
       "      <th></th>\n",
       "      <th>state</th>\n",
       "      <th>Gun Violence</th>\n",
       "      <th>Population 2017</th>\n",
       "      <th>Adjusted Violence</th>\n",
       "    </tr>\n",
       "  </thead>\n",
       "  <tbody>\n",
       "    <tr>\n",
       "      <th>30</th>\n",
       "      <td>Kansas</td>\n",
       "      <td>416</td>\n",
       "      <td>2910689</td>\n",
       "      <td>14.292149</td>\n",
       "    </tr>\n",
       "    <tr>\n",
       "      <th>14</th>\n",
       "      <td>Virginia</td>\n",
       "      <td>1324</td>\n",
       "      <td>8465207</td>\n",
       "      <td>15.640492</td>\n",
       "    </tr>\n",
       "    <tr>\n",
       "      <th>23</th>\n",
       "      <td>Oklahoma</td>\n",
       "      <td>633</td>\n",
       "      <td>3932640</td>\n",
       "      <td>16.096058</td>\n",
       "    </tr>\n",
       "    <tr>\n",
       "      <th>7</th>\n",
       "      <td>Georgia</td>\n",
       "      <td>1715</td>\n",
       "      <td>10413055</td>\n",
       "      <td>16.469710</td>\n",
       "    </tr>\n",
       "    <tr>\n",
       "      <th>8</th>\n",
       "      <td>North Carolina</td>\n",
       "      <td>1709</td>\n",
       "      <td>10270800</td>\n",
       "      <td>16.639405</td>\n",
       "    </tr>\n",
       "    <tr>\n",
       "      <th>16</th>\n",
       "      <td>Indiana</td>\n",
       "      <td>1144</td>\n",
       "      <td>6660082</td>\n",
       "      <td>17.176966</td>\n",
       "    </tr>\n",
       "    <tr>\n",
       "      <th>20</th>\n",
       "      <td>Kentucky</td>\n",
       "      <td>791</td>\n",
       "      <td>4453874</td>\n",
       "      <td>17.759820</td>\n",
       "    </tr>\n",
       "    <tr>\n",
       "      <th>40</th>\n",
       "      <td>Alaska</td>\n",
       "      <td>139</td>\n",
       "      <td>739786</td>\n",
       "      <td>18.789217</td>\n",
       "    </tr>\n",
       "    <tr>\n",
       "      <th>4</th>\n",
       "      <td>Ohio</td>\n",
       "      <td>2217</td>\n",
       "      <td>11664129</td>\n",
       "      <td>19.006991</td>\n",
       "    </tr>\n",
       "    <tr>\n",
       "      <th>22</th>\n",
       "      <td>Arkansas</td>\n",
       "      <td>653</td>\n",
       "      <td>3002997</td>\n",
       "      <td>21.744943</td>\n",
       "    </tr>\n",
       "    <tr>\n",
       "      <th>13</th>\n",
       "      <td>Maryland</td>\n",
       "      <td>1335</td>\n",
       "      <td>6024891</td>\n",
       "      <td>22.158077</td>\n",
       "    </tr>\n",
       "    <tr>\n",
       "      <th>15</th>\n",
       "      <td>South Carolina</td>\n",
       "      <td>1186</td>\n",
       "      <td>5021219</td>\n",
       "      <td>23.619762</td>\n",
       "    </tr>\n",
       "    <tr>\n",
       "      <th>10</th>\n",
       "      <td>Missouri</td>\n",
       "      <td>1530</td>\n",
       "      <td>6108612</td>\n",
       "      <td>25.046606</td>\n",
       "    </tr>\n",
       "    <tr>\n",
       "      <th>9</th>\n",
       "      <td>Tennessee</td>\n",
       "      <td>1693</td>\n",
       "      <td>6708794</td>\n",
       "      <td>25.235534</td>\n",
       "    </tr>\n",
       "    <tr>\n",
       "      <th>12</th>\n",
       "      <td>Alabama</td>\n",
       "      <td>1400</td>\n",
       "      <td>4875120</td>\n",
       "      <td>28.717242</td>\n",
       "    </tr>\n",
       "    <tr>\n",
       "      <th>19</th>\n",
       "      <td>Mississippi</td>\n",
       "      <td>917</td>\n",
       "      <td>2989663</td>\n",
       "      <td>30.672353</td>\n",
       "    </tr>\n",
       "    <tr>\n",
       "      <th>34</th>\n",
       "      <td>Delaware</td>\n",
       "      <td>297</td>\n",
       "      <td>957078</td>\n",
       "      <td>31.031954</td>\n",
       "    </tr>\n",
       "    <tr>\n",
       "      <th>0</th>\n",
       "      <td>Illinois</td>\n",
       "      <td>4588</td>\n",
       "      <td>12786196</td>\n",
       "      <td>35.882447</td>\n",
       "    </tr>\n",
       "    <tr>\n",
       "      <th>6</th>\n",
       "      <td>Louisiana</td>\n",
       "      <td>1733</td>\n",
       "      <td>4670818</td>\n",
       "      <td>37.102709</td>\n",
       "    </tr>\n",
       "    <tr>\n",
       "      <th>28</th>\n",
       "      <td>District of Columbia</td>\n",
       "      <td>440</td>\n",
       "      <td>695691</td>\n",
       "      <td>63.246470</td>\n",
       "    </tr>\n",
       "  </tbody>\n",
       "</table>\n",
       "</div>"
      ],
      "text/plain": [
       "                   state  Gun Violence  Population 2017  Adjusted Violence\n",
       "30                Kansas           416          2910689          14.292149\n",
       "14              Virginia          1324          8465207          15.640492\n",
       "23              Oklahoma           633          3932640          16.096058\n",
       "7                Georgia          1715         10413055          16.469710\n",
       "8         North Carolina          1709         10270800          16.639405\n",
       "16               Indiana          1144          6660082          17.176966\n",
       "20              Kentucky           791          4453874          17.759820\n",
       "40                Alaska           139           739786          18.789217\n",
       "4                   Ohio          2217         11664129          19.006991\n",
       "22              Arkansas           653          3002997          21.744943\n",
       "13              Maryland          1335          6024891          22.158077\n",
       "15        South Carolina          1186          5021219          23.619762\n",
       "10              Missouri          1530          6108612          25.046606\n",
       "9              Tennessee          1693          6708794          25.235534\n",
       "12               Alabama          1400          4875120          28.717242\n",
       "19           Mississippi           917          2989663          30.672353\n",
       "34              Delaware           297           957078          31.031954\n",
       "0               Illinois          4588         12786196          35.882447\n",
       "6              Louisiana          1733          4670818          37.102709\n",
       "28  District of Columbia           440           695691          63.246470"
      ]
     },
     "execution_count": 81,
     "metadata": {},
     "output_type": "execute_result"
    }
   ],
   "source": [
    "\n",
    "combined_data_states = pd.merge(top_states_df,census_df,how='outer', on='state')\n",
    "population_adjusted = combined_data_states[\"Population 2017\"]/100000\n",
    "combined_data_states[\"Adjusted Violence\"] = combined_data_states[\"Gun Violence\"] / population_adjusted\n",
    "combined_data_states.head(50)\n",
    "#combined_data.states = combined_data.states.columns.droplevel(0)\n",
    "combined_data_states_two= combined_data_states.sort_values(['Adjusted Violence'], ascending=False)\n",
    "top_20_adjusted = combined_data_states_two.head(20)\n",
    "top_20_adjusted\n",
    "top_20_adjusted = top_20_adjusted.sort_values(['Adjusted Violence'], ascending=True)\n",
    "top_20_adjusted\n"
   ]
  },
  {
   "cell_type": "code",
   "execution_count": 82,
   "metadata": {},
   "outputs": [],
   "source": [
    "state_adjusted = top_20_adjusted['state']\n",
    "gun_violence_adjusted = top_20_adjusted['Adjusted Violence']"
   ]
  },
  {
   "cell_type": "code",
   "execution_count": 84,
   "metadata": {},
   "outputs": [
    {
     "data": {
      "image/png": "[encoded data removed]",
      "text/plain": [
       "<Figure size 432x288 with 1 Axes>"
      ]
     },
     "metadata": {
      "needs_background": "light"
     },
     "output_type": "display_data"
    }
   ],
   "source": [
    "plt.barh(state_adjusted, gun_violence_adjusted, color='r', alpha=0.5, align=\"center\")\n",
    "#plt.xlim(-0.75, len(state)-0.25)\n",
    "#plt.ylim(0, max(gun_violence))\n",
    "plt.xticks(rotation='vertical')\n",
    "plt.title(\"2017 Per Capita Gun Violence Per State (100K)\")\n",
    "plt.xlabel(\"Incidents (per 100K)\")\n",
    "plt.ylabel(\"State\")\n",
    "plt.tight_layout()\n",
    "plt.savefig(\"GunViolenceVisuals/6.2017 Per Capita Gun Violence Per State (100K).png\")\n",
    "plt.show()"
   ]
  },
  {
   "cell_type": "code",
   "execution_count": 85,
   "metadata": {},
   "outputs": [
    {
     "data": {
      "text/html": [
       "<div>\n",
       "<style scoped>\n",
       "    .dataframe tbody tr th:only-of-type {\n",
       "        vertical-align: middle;\n",
       "    }\n",
       "\n",
       "    .dataframe tbody tr th {\n",
       "        vertical-align: top;\n",
       "    }\n",
       "\n",
       "    .dataframe thead th {\n",
       "        text-align: right;\n",
       "    }\n",
       "</style>\n",
       "<table border=\"1\" class=\"dataframe\">\n",
       "  <thead>\n",
       "    <tr style=\"text-align: right;\">\n",
       "      <th></th>\n",
       "      <th>city_or_county</th>\n",
       "      <th>Gun Violence</th>\n",
       "    </tr>\n",
       "  </thead>\n",
       "  <tbody>\n",
       "    <tr>\n",
       "      <th>19</th>\n",
       "      <td>Nashville</td>\n",
       "      <td>317</td>\n",
       "    </tr>\n",
       "    <tr>\n",
       "      <th>18</th>\n",
       "      <td>Las Vegas</td>\n",
       "      <td>321</td>\n",
       "    </tr>\n",
       "    <tr>\n",
       "      <th>17</th>\n",
       "      <td>Louisville</td>\n",
       "      <td>327</td>\n",
       "    </tr>\n",
       "    <tr>\n",
       "      <th>16</th>\n",
       "      <td>Richmond</td>\n",
       "      <td>346</td>\n",
       "    </tr>\n",
       "    <tr>\n",
       "      <th>15</th>\n",
       "      <td>San Antonio</td>\n",
       "      <td>350</td>\n",
       "    </tr>\n",
       "    <tr>\n",
       "      <th>14</th>\n",
       "      <td>Kansas City</td>\n",
       "      <td>361</td>\n",
       "    </tr>\n",
       "    <tr>\n",
       "      <th>13</th>\n",
       "      <td>Indianapolis</td>\n",
       "      <td>380</td>\n",
       "    </tr>\n",
       "    <tr>\n",
       "      <th>12</th>\n",
       "      <td>Jacksonville</td>\n",
       "      <td>453</td>\n",
       "    </tr>\n",
       "    <tr>\n",
       "      <th>11</th>\n",
       "      <td>Washington</td>\n",
       "      <td>453</td>\n",
       "    </tr>\n",
       "    <tr>\n",
       "      <th>10</th>\n",
       "      <td>Cleveland</td>\n",
       "      <td>472</td>\n",
       "    </tr>\n",
       "    <tr>\n",
       "      <th>9</th>\n",
       "      <td>Milwaukee</td>\n",
       "      <td>496</td>\n",
       "    </tr>\n",
       "    <tr>\n",
       "      <th>8</th>\n",
       "      <td>Detroit</td>\n",
       "      <td>504</td>\n",
       "    </tr>\n",
       "    <tr>\n",
       "      <th>7</th>\n",
       "      <td>Columbus</td>\n",
       "      <td>547</td>\n",
       "    </tr>\n",
       "    <tr>\n",
       "      <th>6</th>\n",
       "      <td>New Orleans</td>\n",
       "      <td>629</td>\n",
       "    </tr>\n",
       "    <tr>\n",
       "      <th>5</th>\n",
       "      <td>Memphis</td>\n",
       "      <td>650</td>\n",
       "    </tr>\n",
       "    <tr>\n",
       "      <th>4</th>\n",
       "      <td>Houston</td>\n",
       "      <td>657</td>\n",
       "    </tr>\n",
       "    <tr>\n",
       "      <th>3</th>\n",
       "      <td>Philadelphia</td>\n",
       "      <td>683</td>\n",
       "    </tr>\n",
       "    <tr>\n",
       "      <th>2</th>\n",
       "      <td>Saint Louis</td>\n",
       "      <td>756</td>\n",
       "    </tr>\n",
       "    <tr>\n",
       "      <th>1</th>\n",
       "      <td>Baltimore</td>\n",
       "      <td>955</td>\n",
       "    </tr>\n",
       "    <tr>\n",
       "      <th>0</th>\n",
       "      <td>Chicago</td>\n",
       "      <td>3304</td>\n",
       "    </tr>\n",
       "  </tbody>\n",
       "</table>\n",
       "</div>"
      ],
      "text/plain": [
       "   city_or_county  Gun Violence\n",
       "19      Nashville           317\n",
       "18      Las Vegas           321\n",
       "17     Louisville           327\n",
       "16       Richmond           346\n",
       "15    San Antonio           350\n",
       "14    Kansas City           361\n",
       "13   Indianapolis           380\n",
       "12   Jacksonville           453\n",
       "11     Washington           453\n",
       "10      Cleveland           472\n",
       "9       Milwaukee           496\n",
       "8         Detroit           504\n",
       "7        Columbus           547\n",
       "6     New Orleans           629\n",
       "5         Memphis           650\n",
       "4         Houston           657\n",
       "3    Philadelphia           683\n",
       "2     Saint Louis           756\n",
       "1       Baltimore           955\n",
       "0         Chicago          3304"
      ]
     },
     "execution_count": 85,
     "metadata": {},
     "output_type": "execute_result"
    }
   ],
   "source": [
    "#find top Cities \n",
    "top_cities = gun_violence_df.groupby(['city_or_county']).agg({'Total Killed/Injured':['sum']})\n",
    "\n",
    "top_cities.columns = top_cities.columns.droplevel(0)\n",
    "top_cities_final = top_cities.sort_values(['sum'], ascending=False).head(51)\n",
    "\n",
    "top_cities_df = pd.DataFrame(top_cities_final)\n",
    "\n",
    "top_cities_df.columns = ['Gun Violence']\n",
    "\n",
    "top_cities_df = top_cities_df.reset_index()\n",
    "top_20_df_cities = top_cities_df.head(20)\n",
    "top_20_df_cities = top_20_df_cities.sort_values(['Gun Violence'], ascending=True)\n",
    "top_20_df_cities"
   ]
  },
  {
   "cell_type": "code",
   "execution_count": 86,
   "metadata": {},
   "outputs": [
    {
     "data": {
      "text/html": [
       "<div>\n",
       "<style scoped>\n",
       "    .dataframe tbody tr th:only-of-type {\n",
       "        vertical-align: middle;\n",
       "    }\n",
       "\n",
       "    .dataframe tbody tr th {\n",
       "        vertical-align: top;\n",
       "    }\n",
       "\n",
       "    .dataframe thead th {\n",
       "        text-align: right;\n",
       "    }\n",
       "</style>\n",
       "<table border=\"1\" class=\"dataframe\">\n",
       "  <thead>\n",
       "    <tr style=\"text-align: right;\">\n",
       "      <th></th>\n",
       "      <th>city_or_county</th>\n",
       "      <th>Gun Violence</th>\n",
       "    </tr>\n",
       "  </thead>\n",
       "  <tbody>\n",
       "    <tr>\n",
       "      <th>19</th>\n",
       "      <td>Nashville</td>\n",
       "      <td>317</td>\n",
       "    </tr>\n",
       "    <tr>\n",
       "      <th>18</th>\n",
       "      <td>Las Vegas</td>\n",
       "      <td>321</td>\n",
       "    </tr>\n",
       "    <tr>\n",
       "      <th>17</th>\n",
       "      <td>Louisville</td>\n",
       "      <td>327</td>\n",
       "    </tr>\n",
       "    <tr>\n",
       "      <th>16</th>\n",
       "      <td>Richmond</td>\n",
       "      <td>346</td>\n",
       "    </tr>\n",
       "    <tr>\n",
       "      <th>15</th>\n",
       "      <td>San Antonio</td>\n",
       "      <td>350</td>\n",
       "    </tr>\n",
       "    <tr>\n",
       "      <th>14</th>\n",
       "      <td>Kansas City</td>\n",
       "      <td>361</td>\n",
       "    </tr>\n",
       "    <tr>\n",
       "      <th>13</th>\n",
       "      <td>Indianapolis</td>\n",
       "      <td>380</td>\n",
       "    </tr>\n",
       "    <tr>\n",
       "      <th>12</th>\n",
       "      <td>Jacksonville</td>\n",
       "      <td>453</td>\n",
       "    </tr>\n",
       "    <tr>\n",
       "      <th>11</th>\n",
       "      <td>Washington</td>\n",
       "      <td>453</td>\n",
       "    </tr>\n",
       "    <tr>\n",
       "      <th>10</th>\n",
       "      <td>Cleveland</td>\n",
       "      <td>472</td>\n",
       "    </tr>\n",
       "    <tr>\n",
       "      <th>9</th>\n",
       "      <td>Milwaukee</td>\n",
       "      <td>496</td>\n",
       "    </tr>\n",
       "    <tr>\n",
       "      <th>8</th>\n",
       "      <td>Detroit</td>\n",
       "      <td>504</td>\n",
       "    </tr>\n",
       "    <tr>\n",
       "      <th>7</th>\n",
       "      <td>Columbus</td>\n",
       "      <td>547</td>\n",
       "    </tr>\n",
       "    <tr>\n",
       "      <th>6</th>\n",
       "      <td>New Orleans</td>\n",
       "      <td>629</td>\n",
       "    </tr>\n",
       "    <tr>\n",
       "      <th>5</th>\n",
       "      <td>Memphis</td>\n",
       "      <td>650</td>\n",
       "    </tr>\n",
       "    <tr>\n",
       "      <th>4</th>\n",
       "      <td>Houston</td>\n",
       "      <td>657</td>\n",
       "    </tr>\n",
       "    <tr>\n",
       "      <th>3</th>\n",
       "      <td>Philadelphia</td>\n",
       "      <td>683</td>\n",
       "    </tr>\n",
       "    <tr>\n",
       "      <th>2</th>\n",
       "      <td>Saint Louis</td>\n",
       "      <td>756</td>\n",
       "    </tr>\n",
       "    <tr>\n",
       "      <th>1</th>\n",
       "      <td>Baltimore</td>\n",
       "      <td>955</td>\n",
       "    </tr>\n",
       "    <tr>\n",
       "      <th>0</th>\n",
       "      <td>Chicago</td>\n",
       "      <td>3304</td>\n",
       "    </tr>\n",
       "  </tbody>\n",
       "</table>\n",
       "</div>"
      ],
      "text/plain": [
       "   city_or_county  Gun Violence\n",
       "19      Nashville           317\n",
       "18      Las Vegas           321\n",
       "17     Louisville           327\n",
       "16       Richmond           346\n",
       "15    San Antonio           350\n",
       "14    Kansas City           361\n",
       "13   Indianapolis           380\n",
       "12   Jacksonville           453\n",
       "11     Washington           453\n",
       "10      Cleveland           472\n",
       "9       Milwaukee           496\n",
       "8         Detroit           504\n",
       "7        Columbus           547\n",
       "6     New Orleans           629\n",
       "5         Memphis           650\n",
       "4         Houston           657\n",
       "3    Philadelphia           683\n",
       "2     Saint Louis           756\n",
       "1       Baltimore           955\n",
       "0         Chicago          3304"
      ]
     },
     "execution_count": 86,
     "metadata": {},
     "output_type": "execute_result"
    }
   ],
   "source": [
    "#find top Cities \n",
    "top_cities = gun_violence_df.groupby(['city_or_county']).agg({'Total Killed/Injured':['sum']})\n",
    "\n",
    "top_cities.columns = top_cities.columns.droplevel(0)\n",
    "top_cities_final = top_cities.sort_values(['sum'], ascending=False).head(51)\n",
    "\n",
    "top_cities_df = pd.DataFrame(top_cities_final)\n",
    "\n",
    "top_cities_df.columns = ['Gun Violence']\n",
    "\n",
    "top_cities_df = top_cities_df.reset_index()\n",
    "top_20_df_cities = top_cities_df.head(20)\n",
    "top_20_df_cities = top_20_df_cities.sort_values(['Gun Violence'], ascending=True)\n",
    "top_20_df_cities"
   ]
  },
  {
   "cell_type": "code",
   "execution_count": 87,
   "metadata": {},
   "outputs": [],
   "source": [
    "cities = top_20_df_cities['city_or_county']\n",
    "gun_violence_cities = top_20_df_cities['Gun Violence']"
   ]
  },
  {
   "cell_type": "code",
   "execution_count": 88,
   "metadata": {},
   "outputs": [
    {
     "data": {
      "image/png": "[encoded data removed]",
      "text/plain": [
       "<Figure size 432x288 with 1 Axes>"
      ]
     },
     "metadata": {
      "needs_background": "light"
     },
     "output_type": "display_data"
    }
   ],
   "source": [
    "plt.barh(cities, gun_violence_cities, color='darkblue', alpha=0.5, align=\"center\")\n",
    "#plt.xlim(-0.75, len(state)-0.25)\n",
    "#plt.ylim(0, max(gun_violence))\n",
    "plt.xticks(rotation='vertical')\n",
    "plt.title(\"20 Most Violent Cities in 2017\")\n",
    "plt.xlabel(\"Number of Gun Violence Incidents per year (Killed/Injured)\")\n",
    "plt.ylabel(\"City Name\")\n",
    "plt.tight_layout()\n",
    "plt.savefig(\"GunViolenceVisuals/7.20 Most Violent Cities in 2017.png\")\n",
    "plt.show()"
   ]
  },
  {
   "cell_type": "code",
   "execution_count": 89,
   "metadata": {
    "scrolled": true
   },
   "outputs": [
    {
     "data": {
      "text/html": [
       "<div>\n",
       "<style scoped>\n",
       "    .dataframe tbody tr th:only-of-type {\n",
       "        vertical-align: middle;\n",
       "    }\n",
       "\n",
       "    .dataframe tbody tr th {\n",
       "        vertical-align: top;\n",
       "    }\n",
       "\n",
       "    .dataframe thead th {\n",
       "        text-align: right;\n",
       "    }\n",
       "</style>\n",
       "<table border=\"1\" class=\"dataframe\">\n",
       "  <thead>\n",
       "    <tr style=\"text-align: right;\">\n",
       "      <th></th>\n",
       "      <th>city_or_county</th>\n",
       "      <th>Population 2017</th>\n",
       "    </tr>\n",
       "  </thead>\n",
       "  <tbody>\n",
       "    <tr>\n",
       "      <th>0</th>\n",
       "      <td>Chicago</td>\n",
       "      <td>2716000</td>\n",
       "    </tr>\n",
       "    <tr>\n",
       "      <th>1</th>\n",
       "      <td>Baltimore</td>\n",
       "      <td>621647</td>\n",
       "    </tr>\n",
       "    <tr>\n",
       "      <th>2</th>\n",
       "      <td>Saint Louis</td>\n",
       "      <td>334000</td>\n",
       "    </tr>\n",
       "    <tr>\n",
       "      <th>3</th>\n",
       "      <td>Philadelphia</td>\n",
       "      <td>1566400</td>\n",
       "    </tr>\n",
       "    <tr>\n",
       "      <th>4</th>\n",
       "      <td>Houston</td>\n",
       "      <td>2313000</td>\n",
       "    </tr>\n",
       "  </tbody>\n",
       "</table>\n",
       "</div>"
      ],
      "text/plain": [
       "  city_or_county  Population 2017\n",
       "0        Chicago          2716000\n",
       "1      Baltimore           621647\n",
       "2    Saint Louis           334000\n",
       "3   Philadelphia          1566400\n",
       "4        Houston          2313000"
      ]
     },
     "execution_count": 89,
     "metadata": {},
     "output_type": "execute_result"
    }
   ],
   "source": [
    "census_cities = \"C:\\\\Users\\\\kjyou\\\\Git\\\\GunViolenceDataAnalysis\\\\Resources\\population_cities.xlsx\"\n",
    "\n",
    "census_df_cities = pd.read_excel(census_cities)\n",
    "census_df_cities.head()"
   ]
  },
  {
   "cell_type": "code",
   "execution_count": 90,
   "metadata": {},
   "outputs": [
    {
     "data": {
      "text/html": [
       "<div>\n",
       "<style scoped>\n",
       "    .dataframe tbody tr th:only-of-type {\n",
       "        vertical-align: middle;\n",
       "    }\n",
       "\n",
       "    .dataframe tbody tr th {\n",
       "        vertical-align: top;\n",
       "    }\n",
       "\n",
       "    .dataframe thead th {\n",
       "        text-align: right;\n",
       "    }\n",
       "</style>\n",
       "<table border=\"1\" class=\"dataframe\">\n",
       "  <thead>\n",
       "    <tr style=\"text-align: right;\">\n",
       "      <th></th>\n",
       "      <th>city_or_county</th>\n",
       "      <th>Gun Violence</th>\n",
       "      <th>Population 2017</th>\n",
       "      <th>Adjusted Violence Cities</th>\n",
       "    </tr>\n",
       "  </thead>\n",
       "  <tbody>\n",
       "    <tr>\n",
       "      <th>4</th>\n",
       "      <td>San Antonio</td>\n",
       "      <td>350</td>\n",
       "      <td>1500000</td>\n",
       "      <td>23.333333</td>\n",
       "    </tr>\n",
       "    <tr>\n",
       "      <th>15</th>\n",
       "      <td>Houston</td>\n",
       "      <td>657</td>\n",
       "      <td>2313000</td>\n",
       "      <td>28.404669</td>\n",
       "    </tr>\n",
       "    <tr>\n",
       "      <th>6</th>\n",
       "      <td>Indianapolis</td>\n",
       "      <td>380</td>\n",
       "      <td>872680</td>\n",
       "      <td>43.544025</td>\n",
       "    </tr>\n",
       "    <tr>\n",
       "      <th>16</th>\n",
       "      <td>Philadelphia</td>\n",
       "      <td>683</td>\n",
       "      <td>1566400</td>\n",
       "      <td>43.603166</td>\n",
       "    </tr>\n",
       "    <tr>\n",
       "      <th>0</th>\n",
       "      <td>Nashville</td>\n",
       "      <td>317</td>\n",
       "      <td>691243</td>\n",
       "      <td>45.859416</td>\n",
       "    </tr>\n",
       "    <tr>\n",
       "      <th>1</th>\n",
       "      <td>Las Vegas</td>\n",
       "      <td>321</td>\n",
       "      <td>641676</td>\n",
       "      <td>50.025246</td>\n",
       "    </tr>\n",
       "    <tr>\n",
       "      <th>7</th>\n",
       "      <td>Jacksonville</td>\n",
       "      <td>453</td>\n",
       "      <td>892062</td>\n",
       "      <td>50.781224</td>\n",
       "    </tr>\n",
       "    <tr>\n",
       "      <th>2</th>\n",
       "      <td>Louisville</td>\n",
       "      <td>327</td>\n",
       "      <td>620118</td>\n",
       "      <td>52.731899</td>\n",
       "    </tr>\n",
       "    <tr>\n",
       "      <th>12</th>\n",
       "      <td>Columbus</td>\n",
       "      <td>547</td>\n",
       "      <td>879170</td>\n",
       "      <td>62.217774</td>\n",
       "    </tr>\n",
       "    <tr>\n",
       "      <th>8</th>\n",
       "      <td>Washington</td>\n",
       "      <td>453</td>\n",
       "      <td>700505</td>\n",
       "      <td>64.667633</td>\n",
       "    </tr>\n",
       "    <tr>\n",
       "      <th>5</th>\n",
       "      <td>Kansas City</td>\n",
       "      <td>361</td>\n",
       "      <td>488943</td>\n",
       "      <td>73.832737</td>\n",
       "    </tr>\n",
       "    <tr>\n",
       "      <th>11</th>\n",
       "      <td>Detroit</td>\n",
       "      <td>504</td>\n",
       "      <td>673104</td>\n",
       "      <td>74.876988</td>\n",
       "    </tr>\n",
       "    <tr>\n",
       "      <th>10</th>\n",
       "      <td>Milwaukee</td>\n",
       "      <td>496</td>\n",
       "      <td>595351</td>\n",
       "      <td>83.312197</td>\n",
       "    </tr>\n",
       "    <tr>\n",
       "      <th>14</th>\n",
       "      <td>Memphis</td>\n",
       "      <td>650</td>\n",
       "      <td>652236</td>\n",
       "      <td>99.657179</td>\n",
       "    </tr>\n",
       "    <tr>\n",
       "      <th>19</th>\n",
       "      <td>Chicago</td>\n",
       "      <td>3304</td>\n",
       "      <td>2716000</td>\n",
       "      <td>121.649485</td>\n",
       "    </tr>\n",
       "    <tr>\n",
       "      <th>9</th>\n",
       "      <td>Cleveland</td>\n",
       "      <td>472</td>\n",
       "      <td>385525</td>\n",
       "      <td>122.430452</td>\n",
       "    </tr>\n",
       "    <tr>\n",
       "      <th>3</th>\n",
       "      <td>Richmond</td>\n",
       "      <td>346</td>\n",
       "      <td>227032</td>\n",
       "      <td>152.401424</td>\n",
       "    </tr>\n",
       "    <tr>\n",
       "      <th>18</th>\n",
       "      <td>Baltimore</td>\n",
       "      <td>955</td>\n",
       "      <td>621647</td>\n",
       "      <td>153.624163</td>\n",
       "    </tr>\n",
       "    <tr>\n",
       "      <th>13</th>\n",
       "      <td>New Orleans</td>\n",
       "      <td>629</td>\n",
       "      <td>393292</td>\n",
       "      <td>159.932061</td>\n",
       "    </tr>\n",
       "    <tr>\n",
       "      <th>17</th>\n",
       "      <td>Saint Louis</td>\n",
       "      <td>756</td>\n",
       "      <td>334000</td>\n",
       "      <td>226.347305</td>\n",
       "    </tr>\n",
       "  </tbody>\n",
       "</table>\n",
       "</div>"
      ],
      "text/plain": [
       "   city_or_county  Gun Violence  Population 2017  Adjusted Violence Cities\n",
       "4     San Antonio           350          1500000                 23.333333\n",
       "15        Houston           657          2313000                 28.404669\n",
       "6    Indianapolis           380           872680                 43.544025\n",
       "16   Philadelphia           683          1566400                 43.603166\n",
       "0       Nashville           317           691243                 45.859416\n",
       "1       Las Vegas           321           641676                 50.025246\n",
       "7    Jacksonville           453           892062                 50.781224\n",
       "2      Louisville           327           620118                 52.731899\n",
       "12       Columbus           547           879170                 62.217774\n",
       "8      Washington           453           700505                 64.667633\n",
       "5     Kansas City           361           488943                 73.832737\n",
       "11        Detroit           504           673104                 74.876988\n",
       "10      Milwaukee           496           595351                 83.312197\n",
       "14        Memphis           650           652236                 99.657179\n",
       "19        Chicago          3304          2716000                121.649485\n",
       "9       Cleveland           472           385525                122.430452\n",
       "3        Richmond           346           227032                152.401424\n",
       "18      Baltimore           955           621647                153.624163\n",
       "13    New Orleans           629           393292                159.932061\n",
       "17    Saint Louis           756           334000                226.347305"
      ]
     },
     "execution_count": 90,
     "metadata": {},
     "output_type": "execute_result"
    }
   ],
   "source": [
    "combined_data_cities = pd.merge(top_20_df_cities,census_df_cities,how='outer', on='city_or_county')\n",
    "combined_data_cities\n",
    "\n",
    "population_adjusted_cities = combined_data_cities[\"Population 2017\"]/100000\n",
    "combined_data_cities[\"Adjusted Violence Cities\"] = combined_data_cities[\"Gun Violence\"] / population_adjusted_cities\n",
    "combined_data_cities.head(20)\n",
    "\n",
    "combined_data_cities_two= combined_data_cities.sort_values(['Adjusted Violence Cities'], ascending=False)\n",
    "top_20_adjusted_cities = combined_data_cities_two.head(20)\n",
    "top_20_adjusted_cities\n",
    "top_20_adjusted_cities = top_20_adjusted_cities.sort_values(['Adjusted Violence Cities'], ascending=True)\n",
    "top_20_adjusted_cities"
   ]
  },
  {
   "cell_type": "code",
   "execution_count": 91,
   "metadata": {},
   "outputs": [],
   "source": [
    "cities_adjusted = top_20_adjusted_cities['city_or_county']\n",
    "gun_violence_adjusted_cities = top_20_adjusted_cities['Adjusted Violence Cities']"
   ]
  },
  {
   "cell_type": "code",
   "execution_count": 92,
   "metadata": {},
   "outputs": [
    {
     "data": {
      "image/png": "[encoded data removed]",
      "text/plain": [
       "<Figure size 432x288 with 1 Axes>"
      ]
     },
     "metadata": {
      "needs_background": "light"
     },
     "output_type": "display_data"
    }
   ],
   "source": [
    "plt.barh(cities_adjusted, gun_violence_adjusted_cities, color='darkblue', alpha=0.5, align=\"center\")\n",
    "#plt.xlim(-0.75, len(state)-0.25)\n",
    "#plt.ylim(0, max(gun_violence))\n",
    "plt.xticks(rotation='vertical')\n",
    "plt.title(\"Adjusted Gun Violence per 100,000 people by City\")\n",
    "plt.xlabel(\"Adjusted Number of Gun Violence Incidents per City population (Killed/Injured)\")\n",
    "plt.ylabel(\"City Name\")\n",
    "plt.tight_layout()\n",
    "plt.savefig(\"GunViolenceVisuals/8.Adjusted Gun Violence per 100,000 people by City.png\")\n",
    "plt.show()"
   ]
  },
  {
   "cell_type": "code",
   "execution_count": 94,
   "metadata": {},
   "outputs": [],
   "source": [
    "poverty_rate = \"C:\\\\Users\\\\kjyou\\\\Git\\\\GunViolenceDataAnalysis\\\\Resources\\poverty rate.xlsx\"\n",
    "\n",
    "poverty_df = pd.read_excel(poverty_rate)"
   ]
  },
  {
   "cell_type": "code",
   "execution_count": 95,
   "metadata": {},
   "outputs": [
    {
     "data": {
      "text/html": [
       "<div>\n",
       "<style scoped>\n",
       "    .dataframe tbody tr th:only-of-type {\n",
       "        vertical-align: middle;\n",
       "    }\n",
       "\n",
       "    .dataframe tbody tr th {\n",
       "        vertical-align: top;\n",
       "    }\n",
       "\n",
       "    .dataframe thead th {\n",
       "        text-align: right;\n",
       "    }\n",
       "</style>\n",
       "<table border=\"1\" class=\"dataframe\">\n",
       "  <thead>\n",
       "    <tr style=\"text-align: right;\">\n",
       "      <th></th>\n",
       "      <th>city_or_county</th>\n",
       "      <th>Gun Violence</th>\n",
       "      <th>Poverty Rate 2017(%)</th>\n",
       "    </tr>\n",
       "  </thead>\n",
       "  <tbody>\n",
       "    <tr>\n",
       "      <th>0</th>\n",
       "      <td>Nashville</td>\n",
       "      <td>317</td>\n",
       "      <td>17.2</td>\n",
       "    </tr>\n",
       "    <tr>\n",
       "      <th>1</th>\n",
       "      <td>Las Vegas</td>\n",
       "      <td>321</td>\n",
       "      <td>16.2</td>\n",
       "    </tr>\n",
       "    <tr>\n",
       "      <th>2</th>\n",
       "      <td>Louisville</td>\n",
       "      <td>327</td>\n",
       "      <td>7.2</td>\n",
       "    </tr>\n",
       "    <tr>\n",
       "      <th>3</th>\n",
       "      <td>Richmond</td>\n",
       "      <td>346</td>\n",
       "      <td>25.2</td>\n",
       "    </tr>\n",
       "    <tr>\n",
       "      <th>4</th>\n",
       "      <td>San Antonio</td>\n",
       "      <td>350</td>\n",
       "      <td>18.6</td>\n",
       "    </tr>\n",
       "    <tr>\n",
       "      <th>5</th>\n",
       "      <td>Kansas City</td>\n",
       "      <td>361</td>\n",
       "      <td>17.3</td>\n",
       "    </tr>\n",
       "    <tr>\n",
       "      <th>6</th>\n",
       "      <td>Indianapolis</td>\n",
       "      <td>380</td>\n",
       "      <td>20.1</td>\n",
       "    </tr>\n",
       "    <tr>\n",
       "      <th>7</th>\n",
       "      <td>Jacksonville</td>\n",
       "      <td>453</td>\n",
       "      <td>16.4</td>\n",
       "    </tr>\n",
       "    <tr>\n",
       "      <th>8</th>\n",
       "      <td>Washington</td>\n",
       "      <td>453</td>\n",
       "      <td>11.3</td>\n",
       "    </tr>\n",
       "    <tr>\n",
       "      <th>9</th>\n",
       "      <td>Cleveland</td>\n",
       "      <td>472</td>\n",
       "      <td>36.2</td>\n",
       "    </tr>\n",
       "    <tr>\n",
       "      <th>10</th>\n",
       "      <td>Milwaukee</td>\n",
       "      <td>496</td>\n",
       "      <td>27.4</td>\n",
       "    </tr>\n",
       "    <tr>\n",
       "      <th>11</th>\n",
       "      <td>Detroit</td>\n",
       "      <td>504</td>\n",
       "      <td>34.5</td>\n",
       "    </tr>\n",
       "    <tr>\n",
       "      <th>12</th>\n",
       "      <td>Columbus</td>\n",
       "      <td>547</td>\n",
       "      <td>19.8</td>\n",
       "    </tr>\n",
       "    <tr>\n",
       "      <th>13</th>\n",
       "      <td>New Orleans</td>\n",
       "      <td>629</td>\n",
       "      <td>18.6</td>\n",
       "    </tr>\n",
       "    <tr>\n",
       "      <th>14</th>\n",
       "      <td>Memphis</td>\n",
       "      <td>650</td>\n",
       "      <td>26.9</td>\n",
       "    </tr>\n",
       "    <tr>\n",
       "      <th>15</th>\n",
       "      <td>Houston</td>\n",
       "      <td>657</td>\n",
       "      <td>15.6</td>\n",
       "    </tr>\n",
       "    <tr>\n",
       "      <th>16</th>\n",
       "      <td>Philadelphia</td>\n",
       "      <td>683</td>\n",
       "      <td>25.7</td>\n",
       "    </tr>\n",
       "    <tr>\n",
       "      <th>17</th>\n",
       "      <td>Saint Louis</td>\n",
       "      <td>756</td>\n",
       "      <td>12.0</td>\n",
       "    </tr>\n",
       "    <tr>\n",
       "      <th>18</th>\n",
       "      <td>Baltimore</td>\n",
       "      <td>955</td>\n",
       "      <td>23.8</td>\n",
       "    </tr>\n",
       "    <tr>\n",
       "      <th>19</th>\n",
       "      <td>Chicago</td>\n",
       "      <td>3304</td>\n",
       "      <td>20.6</td>\n",
       "    </tr>\n",
       "  </tbody>\n",
       "</table>\n",
       "</div>"
      ],
      "text/plain": [
       "   city_or_county  Gun Violence  Poverty Rate 2017(%)\n",
       "0       Nashville           317                  17.2\n",
       "1       Las Vegas           321                  16.2\n",
       "2      Louisville           327                   7.2\n",
       "3        Richmond           346                  25.2\n",
       "4     San Antonio           350                  18.6\n",
       "5     Kansas City           361                  17.3\n",
       "6    Indianapolis           380                  20.1\n",
       "7    Jacksonville           453                  16.4\n",
       "8      Washington           453                  11.3\n",
       "9       Cleveland           472                  36.2\n",
       "10      Milwaukee           496                  27.4\n",
       "11        Detroit           504                  34.5\n",
       "12       Columbus           547                  19.8\n",
       "13    New Orleans           629                  18.6\n",
       "14        Memphis           650                  26.9\n",
       "15        Houston           657                  15.6\n",
       "16   Philadelphia           683                  25.7\n",
       "17    Saint Louis           756                  12.0\n",
       "18      Baltimore           955                  23.8\n",
       "19        Chicago          3304                  20.6"
      ]
     },
     "execution_count": 95,
     "metadata": {},
     "output_type": "execute_result"
    }
   ],
   "source": [
    "combined_poverty = pd.merge(top_20_df_cities,poverty_df,how='outer', on='city_or_county')\n",
    "combined_poverty\n",
    "combined_poverty= combined_poverty.sort_values(['Gun Violence'], ascending=False)\n",
    "top_20_poverty = combined_poverty.head(20)\n",
    "top_20_poverty\n",
    "top_20_poverty = top_20_poverty.sort_values(['Gun Violence'], ascending=True)\n",
    "top_20_poverty"
   ]
  },
  {
   "cell_type": "code",
   "execution_count": 96,
   "metadata": {},
   "outputs": [],
   "source": [
    "cities_poverty = top_20_poverty['city_or_county']\n",
    "poverty_gun_violence = top_20_poverty['Gun Violence']\n",
    "poverty_level = top_20_poverty['Poverty Rate 2017(%)']"
   ]
  },
  {
   "cell_type": "code",
   "execution_count": 97,
   "metadata": {},
   "outputs": [
    {
     "data": {
      "image/png": "[encoded data removed]",
      "text/plain": [
       "<Figure size 432x288 with 1 Axes>"
      ]
     },
     "metadata": {
      "needs_background": "light"
     },
     "output_type": "display_data"
    }
   ],
   "source": [
    "plt.barh(cities_poverty, poverty_level, color='salmon', alpha=0.5, align=\"center\")\n",
    "#plt.xlim(-0.75, len(state)-0.25)\n",
    "#plt.ylim(0, max(gun_violence))\n",
    "plt.xticks(rotation='vertical')\n",
    "plt.title(\"Poverty Rate for the Top 20 violent cities in 2017\")\n",
    "plt.xlabel(\"Poverty Rate (%)\")\n",
    "plt.ylabel(\"City Name\")\n",
    "plt.tight_layout()\n",
    "for i, v in enumerate (list(poverty_level)):\n",
    "    plt.text(v, i, str(v), color= 'black')\n",
    "\n",
    "plt.savefig(\"GunViolenceVisuals/9.Poverty Rate for the Top 20 Violent Cities in 2017.png\")\n",
    "plt.show()"
   ]
  },
  {
   "cell_type": "code",
   "execution_count": 98,
   "metadata": {},
   "outputs": [],
   "source": [
    "#DAVIS"
   ]
  },
  {
   "cell_type": "code",
   "execution_count": 100,
   "metadata": {},
   "outputs": [],
   "source": [
    "#creating a list of incidents by each state and removing Washington D.C.\n",
    "state_groupby = violence_data.groupby(\"state\")\n",
    "\n",
    "state_list = list(state_groupby[\"state\"])\n",
    "\n",
    "state_group_count_dc = state_groupby.count()[\"incident_id\"]\n",
    "\n",
    "state_group_count = list(state_group_count_dc.drop(\"District of Columbia\", axis = 0))"
   ]
  },
  {
   "cell_type": "code",
   "execution_count": 102,
   "metadata": {},
   "outputs": [],
   "source": [
    "#creating a new dataframe with states and total laws by each state\n",
    "state_total = law_data_df[[\"state\",\"lawtotal\"]]"
   ]
  },
  {
   "cell_type": "code",
   "execution_count": 104,
   "metadata": {},
   "outputs": [],
   "source": [
    "state_list = list(state_total[\"state\"])\n",
    "law_list = list(state_total[\"lawtotal\"])\n",
    "\n",
    "states_df = pd.DataFrame({\"State\": state_list,\n",
    "                 \"Laws\": law_list,\n",
    "                 \"Incidents\": state_group_count})"
   ]
  },
  {
   "cell_type": "code",
   "execution_count": 107,
   "metadata": {},
   "outputs": [
    {
     "data": {
      "image/png": "[encoded data removed]",
      "text/plain": [
       "<Figure size 432x288 with 1 Axes>"
      ]
     },
     "metadata": {
      "needs_background": "light"
     },
     "output_type": "display_data"
    }
   ],
   "source": [
    "#using the two lists created above to make a scatter plot of incidents per state vs. laws per state\n",
    "plt.scatter(law_list, state_group_count, c=\"firebrick\", edgecolors=\"black\", s=75, alpha=0.75)\n",
    "plt.title(\"Incidents per State vs. Laws per State\")\n",
    "plt.xlabel(\"Laws per State\")\n",
    "plt.ylabel(\"Incidents per State\")\n",
    "plt.savefig(\"GunViolenceVisuals/10.Incidents per State vs. Laws per State.png\")\n",
    "plt.show()"
   ]
  },
  {
   "cell_type": "code",
   "execution_count": 108,
   "metadata": {},
   "outputs": [],
   "source": [
    "#KYLE"
   ]
  },
  {
   "cell_type": "code",
   "execution_count": 147,
   "metadata": {},
   "outputs": [],
   "source": [
    "#Creating a new dataframe\n",
    "ownership_metrics_df = pd.merge(top_states_df,gun_ownership_df,how='outer', on='state')"
   ]
  },
  {
   "cell_type": "code",
   "execution_count": 132,
   "metadata": {},
   "outputs": [
    {
     "data": {
      "application/vnd.plotly.v1+json": {
       "config": {
        "plotlyServerURL": "https://plot.ly"
       },
       "data": [
        {
         "colorbar": {
          "title": {
           "text": "Guns Register Per State"
          }
         },
         "colorscale": [
          [
           0,
           "rgb(255,245,240)"
          ],
          [
           0.125,
           "rgb(254,224,210)"
          ],
          [
           0.25,
           "rgb(252,187,161)"
          ],
          [
           0.375,
           "rgb(252,146,114)"
          ],
          [
           0.5,
           "rgb(251,106,74)"
          ],
          [
           0.625,
           "rgb(239,59,44)"
          ],
          [
           0.75,
           "rgb(203,24,29)"
          ],
          [
           0.875,
           "rgb(165,15,21)"
          ],
          [
           1,
           "rgb(103,0,13)"
          ]
         ],
         "locationmode": "USA-states",
         "locations": [
          "IL",
          "CA",
          "FL",
          "TX",
          "OH",
          "PA",
          "LA",
          "GA",
          "NC",
          "TN",
          "MO",
          "NY",
          "AL",
          "MD",
          "VA",
          "SC",
          "IN",
          "MI",
          "NJ",
          "MS",
          "KY",
          "WI",
          "AR",
          "OK",
          "AZ",
          "MA",
          "WA",
          "CO",
          "DC",
          "NV",
          "KS",
          "MN",
          "CT",
          "IA",
          "DE",
          "OR",
          "NM",
          "WV",
          "NE",
          "UT",
          "AK",
          "RI",
          "ID",
          "MT",
          "ME",
          "NH",
          "ND",
          "SD",
          "HI",
          "WY",
          "VT"
         ],
         "type": "choropleth",
         "z": [
          146487,
          344622,
          343288,
          588696,
          173405,
          236377,
          116831,
          190050,
          152238,
          99159,
          72996,
          76207,
          161641,
          103109,
          307822,
          105601,
          114019,
          65742,
          57507,
          35494,
          81068,
          64878,
          79841,
          71269,
          179738,
          37152,
          91835,
          92435,
          47228,
          76888,
          52634,
          79307,
          82400,
          28494,
          4852,
          61383,
          97580,
          35264,
          22234,
          72856,
          15824,
          37152,
          49566,
          22133,
          15371,
          64135,
          13272,
          21130,
          7859,
          132806,
          5872
         ]
        }
       ],
       "layout": {
        "geo": {
         "scope": "usa"
        },
        "template": {
         "data": {
          "bar": [
           {
            "error_x": {
             "color": "#2a3f5f"
            },
            "error_y": {
             "color": "#2a3f5f"
            },
            "marker": {
             "line": {
              "color": "#E5ECF6",
              "width": 0.5
             }
            },
            "type": "bar"
           }
          ],
          "barpolar": [
           {
            "marker": {
             "line": {
              "color": "#E5ECF6",
              "width": 0.5
             }
            },
            "type": "barpolar"
           }
          ],
          "carpet": [
           {
            "aaxis": {
             "endlinecolor": "#2a3f5f",
             "gridcolor": "white",
             "linecolor": "white",
             "minorgridcolor": "white",
             "startlinecolor": "#2a3f5f"
            },
            "baxis": {
             "endlinecolor": "#2a3f5f",
             "gridcolor": "white",
             "linecolor": "white",
             "minorgridcolor": "white",
             "startlinecolor": "#2a3f5f"
            },
            "type": "carpet"
           }
          ],
          "choropleth": [
           {
            "colorbar": {
             "outlinewidth": 0,
             "ticks": ""
            },
            "type": "choropleth"
           }
          ],
          "contour": [
           {
            "colorbar": {
             "outlinewidth": 0,
             "ticks": ""
            },
            "colorscale": [
             [
              0,
              "#0d0887"
             ],
             [
              0.1111111111111111,
              "#46039f"
             ],
             [
              0.2222222222222222,
              "#7201a8"
             ],
             [
              0.3333333333333333,
              "#9c179e"
             ],
             [
              0.4444444444444444,
              "#bd3786"
             ],
             [
              0.5555555555555556,
              "#d8576b"
             ],
             [
              0.6666666666666666,
              "#ed7953"
             ],
             [
              0.7777777777777778,
              "#fb9f3a"
             ],
             [
              0.8888888888888888,
              "#fdca26"
             ],
             [
              1,
              "#f0f921"
             ]
            ],
            "type": "contour"
           }
          ],
          "contourcarpet": [
           {
            "colorbar": {
             "outlinewidth": 0,
             "ticks": ""
            },
            "type": "contourcarpet"
           }
          ],
          "heatmap": [
           {
            "colorbar": {
             "outlinewidth": 0,
             "ticks": ""
            },
            "colorscale": [
             [
              0,
              "#0d0887"
             ],
             [
              0.1111111111111111,
              "#46039f"
             ],
             [
              0.2222222222222222,
              "#7201a8"
             ],
             [
              0.3333333333333333,
              "#9c179e"
             ],
             [
              0.4444444444444444,
              "#bd3786"
             ],
             [
              0.5555555555555556,
              "#d8576b"
             ],
             [
              0.6666666666666666,
              "#ed7953"
             ],
             [
              0.7777777777777778,
              "#fb9f3a"
             ],
             [
              0.8888888888888888,
              "#fdca26"
             ],
             [
              1,
              "#f0f921"
             ]
            ],
            "type": "heatmap"
           }
          ],
          "heatmapgl": [
           {
            "colorbar": {
             "outlinewidth": 0,
             "ticks": ""
            },
            "colorscale": [
             [
              0,
              "#0d0887"
             ],
             [
              0.1111111111111111,
              "#46039f"
             ],
             [
              0.2222222222222222,
              "#7201a8"
             ],
             [
              0.3333333333333333,
              "#9c179e"
             ],
             [
              0.4444444444444444,
              "#bd3786"
             ],
             [
              0.5555555555555556,
              "#d8576b"
             ],
             [
              0.6666666666666666,
              "#ed7953"
             ],
             [
              0.7777777777777778,
              "#fb9f3a"
             ],
             [
              0.8888888888888888,
              "#fdca26"
             ],
             [
              1,
              "#f0f921"
             ]
            ],
            "type": "heatmapgl"
           }
          ],
          "histogram": [
           {
            "marker": {
             "colorbar": {
              "outlinewidth": 0,
              "ticks": ""
             }
            },
            "type": "histogram"
           }
          ],
          "histogram2d": [
           {
            "colorbar": {
             "outlinewidth": 0,
             "ticks": ""
            },
            "colorscale": [
             [
              0,
              "#0d0887"
             ],
             [
              0.1111111111111111,
              "#46039f"
             ],
             [
              0.2222222222222222,
              "#7201a8"
             ],
             [
              0.3333333333333333,
              "#9c179e"
             ],
             [
              0.4444444444444444,
              "#bd3786"
             ],
             [
              0.5555555555555556,
              "#d8576b"
             ],
             [
              0.6666666666666666,
              "#ed7953"
             ],
             [
              0.7777777777777778,
              "#fb9f3a"
             ],
             [
              0.8888888888888888,
              "#fdca26"
             ],
             [
              1,
              "#f0f921"
             ]
            ],
            "type": "histogram2d"
           }
          ],
          "histogram2dcontour": [
           {
            "colorbar": {
             "outlinewidth": 0,
             "ticks": ""
            },
            "colorscale": [
             [
              0,
              "#0d0887"
             ],
             [
              0.1111111111111111,
              "#46039f"
             ],
             [
              0.2222222222222222,
              "#7201a8"
             ],
             [
              0.3333333333333333,
              "#9c179e"
             ],
             [
              0.4444444444444444,
              "#bd3786"
             ],
             [
              0.5555555555555556,
              "#d8576b"
             ],
             [
              0.6666666666666666,
              "#ed7953"
             ],
             [
              0.7777777777777778,
              "#fb9f3a"
             ],
             [
              0.8888888888888888,
              "#fdca26"
             ],
             [
              1,
              "#f0f921"
             ]
            ],
            "type": "histogram2dcontour"
           }
          ],
          "mesh3d": [
           {
            "colorbar": {
             "outlinewidth": 0,
             "ticks": ""
            },
            "type": "mesh3d"
           }
          ],
          "parcoords": [
           {
            "line": {
             "colorbar": {
              "outlinewidth": 0,
              "ticks": ""
             }
            },
            "type": "parcoords"
           }
          ],
          "scatter": [
           {
            "marker": {
             "colorbar": {
              "outlinewidth": 0,
              "ticks": ""
             }
            },
            "type": "scatter"
           }
          ],
          "scatter3d": [
           {
            "line": {
             "colorbar": {
              "outlinewidth": 0,
              "ticks": ""
             }
            },
            "marker": {
             "colorbar": {
              "outlinewidth": 0,
              "ticks": ""
             }
            },
            "type": "scatter3d"
           }
          ],
          "scattercarpet": [
           {
            "marker": {
             "colorbar": {
              "outlinewidth": 0,
              "ticks": ""
             }
            },
            "type": "scattercarpet"
           }
          ],
          "scattergeo": [
           {
            "marker": {
             "colorbar": {
              "outlinewidth": 0,
              "ticks": ""
             }
            },
            "type": "scattergeo"
           }
          ],
          "scattergl": [
           {
            "marker": {
             "colorbar": {
              "outlinewidth": 0,
              "ticks": ""
             }
            },
            "type": "scattergl"
           }
          ],
          "scattermapbox": [
           {
            "marker": {
             "colorbar": {
              "outlinewidth": 0,
              "ticks": ""
             }
            },
            "type": "scattermapbox"
           }
          ],
          "scatterpolar": [
           {
            "marker": {
             "colorbar": {
              "outlinewidth": 0,
              "ticks": ""
             }
            },
            "type": "scatterpolar"
           }
          ],
          "scatterpolargl": [
           {
            "marker": {
             "colorbar": {
              "outlinewidth": 0,
              "ticks": ""
             }
            },
            "type": "scatterpolargl"
           }
          ],
          "scatterternary": [
           {
            "marker": {
             "colorbar": {
              "outlinewidth": 0,
              "ticks": ""
             }
            },
            "type": "scatterternary"
           }
          ],
          "surface": [
           {
            "colorbar": {
             "outlinewidth": 0,
             "ticks": ""
            },
            "colorscale": [
             [
              0,
              "#0d0887"
             ],
             [
              0.1111111111111111,
              "#46039f"
             ],
             [
              0.2222222222222222,
              "#7201a8"
             ],
             [
              0.3333333333333333,
              "#9c179e"
             ],
             [
              0.4444444444444444,
              "#bd3786"
             ],
             [
              0.5555555555555556,
              "#d8576b"
             ],
             [
              0.6666666666666666,
              "#ed7953"
             ],
             [
              0.7777777777777778,
              "#fb9f3a"
             ],
             [
              0.8888888888888888,
              "#fdca26"
             ],
             [
              1,
              "#f0f921"
             ]
            ],
            "type": "surface"
           }
          ],
          "table": [
           {
            "cells": {
             "fill": {
              "color": "#EBF0F8"
             },
             "line": {
              "color": "white"
             }
            },
            "header": {
             "fill": {
              "color": "#C8D4E3"
             },
             "line": {
              "color": "white"
             }
            },
            "type": "table"
           }
          ]
         },
         "layout": {
          "annotationdefaults": {
           "arrowcolor": "#2a3f5f",
           "arrowhead": 0,
           "arrowwidth": 1
          },
          "colorscale": {
           "diverging": [
            [
             0,
             "#8e0152"
            ],
            [
             0.1,
             "#c51b7d"
            ],
            [
             0.2,
             "#de77ae"
            ],
            [
             0.3,
             "#f1b6da"
            ],
            [
             0.4,
             "#fde0ef"
            ],
            [
             0.5,
             "#f7f7f7"
            ],
            [
             0.6,
             "#e6f5d0"
            ],
            [
             0.7,
             "#b8e186"
            ],
            [
             0.8,
             "#7fbc41"
            ],
            [
             0.9,
             "#4d9221"
            ],
            [
             1,
             "#276419"
            ]
           ],
           "sequential": [
            [
             0,
             "#0d0887"
            ],
            [
             0.1111111111111111,
             "#46039f"
            ],
            [
             0.2222222222222222,
             "#7201a8"
            ],
            [
             0.3333333333333333,
             "#9c179e"
            ],
            [
             0.4444444444444444,
             "#bd3786"
            ],
            [
             0.5555555555555556,
             "#d8576b"
            ],
            [
             0.6666666666666666,
             "#ed7953"
            ],
            [
             0.7777777777777778,
             "#fb9f3a"
            ],
            [
             0.8888888888888888,
             "#fdca26"
            ],
            [
             1,
             "#f0f921"
            ]
           ],
           "sequentialminus": [
            [
             0,
             "#0d0887"
            ],
            [
             0.1111111111111111,
             "#46039f"
            ],
            [
             0.2222222222222222,
             "#7201a8"
            ],
            [
             0.3333333333333333,
             "#9c179e"
            ],
            [
             0.4444444444444444,
             "#bd3786"
            ],
            [
             0.5555555555555556,
             "#d8576b"
            ],
            [
             0.6666666666666666,
             "#ed7953"
            ],
            [
             0.7777777777777778,
             "#fb9f3a"
            ],
            [
             0.8888888888888888,
             "#fdca26"
            ],
            [
             1,
             "#f0f921"
            ]
           ]
          },
          "colorway": [
           "#636efa",
           "#EF553B",
           "#00cc96",
           "#ab63fa",
           "#FFA15A",
           "#19d3f3",
           "#FF6692",
           "#B6E880",
           "#FF97FF",
           "#FECB52"
          ],
          "font": {
           "color": "#2a3f5f"
          },
          "geo": {
           "bgcolor": "white",
           "lakecolor": "white",
           "landcolor": "#E5ECF6",
           "showlakes": true,
           "showland": true,
           "subunitcolor": "white"
          },
          "hoverlabel": {
           "align": "left"
          },
          "hovermode": "closest",
          "mapbox": {
           "style": "light"
          },
          "paper_bgcolor": "white",
          "plot_bgcolor": "#E5ECF6",
          "polar": {
           "angularaxis": {
            "gridcolor": "white",
            "linecolor": "white",
            "ticks": ""
           },
           "bgcolor": "#E5ECF6",
           "radialaxis": {
            "gridcolor": "white",
            "linecolor": "white",
            "ticks": ""
           }
          },
          "scene": {
           "xaxis": {
            "backgroundcolor": "#E5ECF6",
            "gridcolor": "white",
            "gridwidth": 2,
            "linecolor": "white",
            "showbackground": true,
            "ticks": "",
            "zerolinecolor": "white"
           },
           "yaxis": {
            "backgroundcolor": "#E5ECF6",
            "gridcolor": "white",
            "gridwidth": 2,
            "linecolor": "white",
            "showbackground": true,
            "ticks": "",
            "zerolinecolor": "white"
           },
           "zaxis": {
            "backgroundcolor": "#E5ECF6",
            "gridcolor": "white",
            "gridwidth": 2,
            "linecolor": "white",
            "showbackground": true,
            "ticks": "",
            "zerolinecolor": "white"
           }
          },
          "shapedefaults": {
           "line": {
            "color": "#2a3f5f"
           }
          },
          "ternary": {
           "aaxis": {
            "gridcolor": "white",
            "linecolor": "white",
            "ticks": ""
           },
           "baxis": {
            "gridcolor": "white",
            "linecolor": "white",
            "ticks": ""
           },
           "bgcolor": "#E5ECF6",
           "caxis": {
            "gridcolor": "white",
            "linecolor": "white",
            "ticks": ""
           }
          },
          "title": {
           "x": 0.05
          },
          "xaxis": {
           "automargin": true,
           "gridcolor": "white",
           "linecolor": "white",
           "ticks": "",
           "zerolinecolor": "white",
           "zerolinewidth": 2
          },
          "yaxis": {
           "automargin": true,
           "gridcolor": "white",
           "linecolor": "white",
           "ticks": "",
           "zerolinecolor": "white",
           "zerolinewidth": 2
          }
         }
        },
        "title": {
         "text": "2017 Guns Registered Per State"
        }
       }
      },
      "text/html": [
       "<div>\n",
       "        \n",
       "        \n",
       "            <div id=\"03868748-96c3-47b4-8019-cc6156be7d5a\" class=\"plotly-graph-div\" style=\"height:525px; width:100%;\"></div>\n",
       "            <script type=\"text/javascript\">\n",
       "                require([\"plotly\"], function(Plotly) {\n",
       "                    window.PLOTLYENV=window.PLOTLYENV || {};\n",
       "                    \n",
       "                if (document.getElementById(\"03868748-96c3-47b4-8019-cc6156be7d5a\")) {\n",
       "                    Plotly.newPlot(\n",
       "                        '03868748-96c3-47b4-8019-cc6156be7d5a',\n",
       "                        [{\"colorbar\": {\"title\": {\"text\": \"Guns Register Per State\"}}, \"colorscale\": [[0.0, \"rgb(255,245,240)\"], [0.125, \"rgb(254,224,210)\"], [0.25, \"rgb(252,187,161)\"], [0.375, \"rgb(252,146,114)\"], [0.5, \"rgb(251,106,74)\"], [0.625, \"rgb(239,59,44)\"], [0.75, \"rgb(203,24,29)\"], [0.875, \"rgb(165,15,21)\"], [1.0, \"rgb(103,0,13)\"]], \"locationmode\": \"USA-states\", \"locations\": [\"IL\", \"CA\", \"FL\", \"TX\", \"OH\", \"PA\", \"LA\", \"GA\", \"NC\", \"TN\", \"MO\", \"NY\", \"AL\", \"MD\", \"VA\", \"SC\", \"IN\", \"MI\", \"NJ\", \"MS\", \"KY\", \"WI\", \"AR\", \"OK\", \"AZ\", \"MA\", \"WA\", \"CO\", \"DC\", \"NV\", \"KS\", \"MN\", \"CT\", \"IA\", \"DE\", \"OR\", \"NM\", \"WV\", \"NE\", \"UT\", \"AK\", \"RI\", \"ID\", \"MT\", \"ME\", \"NH\", \"ND\", \"SD\", \"HI\", \"WY\", \"VT\"], \"type\": \"choropleth\", \"z\": [146487.0, 344622.0, 343288.0, 588696.0, 173405.0, 236377.0, 116831.0, 190050.0, 152238.0, 99159.0, 72996.0, 76207.0, 161641.0, 103109.0, 307822.0, 105601.0, 114019.0, 65742.0, 57507.0, 35494.0, 81068.0, 64878.0, 79841.0, 71269.0, 179738.0, 37152.0, 91835.0, 92435.0, 47228.0, 76888.0, 52634.0, 79307.0, 82400.0, 28494.0, 4852.0, 61383.0, 97580.0, 35264.0, 22234.0, 72856.0, 15824.0, 37152.0, 49566.0, 22133.0, 15371.0, 64135.0, 13272.0, 21130.0, 7859.0, 132806.0, 5872.0]}],\n",
       "                        {\"geo\": {\"scope\": \"usa\"}, \"template\": {\"data\": {\"bar\": [{\"error_x\": {\"color\": \"#2a3f5f\"}, \"error_y\": {\"color\": \"#2a3f5f\"}, \"marker\": {\"line\": {\"color\": \"#E5ECF6\", \"width\": 0.5}}, \"type\": \"bar\"}], \"barpolar\": [{\"marker\": {\"line\": {\"color\": \"#E5ECF6\", \"width\": 0.5}}, \"type\": \"barpolar\"}], \"carpet\": [{\"aaxis\": {\"endlinecolor\": \"#2a3f5f\", \"gridcolor\": \"white\", \"linecolor\": \"white\", \"minorgridcolor\": \"white\", \"startlinecolor\": \"#2a3f5f\"}, \"baxis\": {\"endlinecolor\": \"#2a3f5f\", \"gridcolor\": \"white\", \"linecolor\": \"white\", \"minorgridcolor\": \"white\", \"startlinecolor\": \"#2a3f5f\"}, \"type\": \"carpet\"}], \"choropleth\": [{\"colorbar\": {\"outlinewidth\": 0, \"ticks\": \"\"}, \"type\": \"choropleth\"}], \"contour\": [{\"colorbar\": {\"outlinewidth\": 0, \"ticks\": \"\"}, \"colorscale\": [[0.0, \"#0d0887\"], [0.1111111111111111, \"#46039f\"], [0.2222222222222222, \"#7201a8\"], [0.3333333333333333, \"#9c179e\"], [0.4444444444444444, \"#bd3786\"], [0.5555555555555556, \"#d8576b\"], [0.6666666666666666, \"#ed7953\"], [0.7777777777777778, \"#fb9f3a\"], [0.8888888888888888, \"#fdca26\"], [1.0, \"#f0f921\"]], \"type\": \"contour\"}], \"contourcarpet\": [{\"colorbar\": {\"outlinewidth\": 0, \"ticks\": \"\"}, \"type\": \"contourcarpet\"}], \"heatmap\": [{\"colorbar\": {\"outlinewidth\": 0, \"ticks\": \"\"}, \"colorscale\": [[0.0, \"#0d0887\"], [0.1111111111111111, \"#46039f\"], [0.2222222222222222, \"#7201a8\"], [0.3333333333333333, \"#9c179e\"], [0.4444444444444444, \"#bd3786\"], [0.5555555555555556, \"#d8576b\"], [0.6666666666666666, \"#ed7953\"], [0.7777777777777778, \"#fb9f3a\"], [0.8888888888888888, \"#fdca26\"], [1.0, \"#f0f921\"]], \"type\": \"heatmap\"}], \"heatmapgl\": [{\"colorbar\": {\"outlinewidth\": 0, \"ticks\": \"\"}, \"colorscale\": [[0.0, \"#0d0887\"], [0.1111111111111111, \"#46039f\"], [0.2222222222222222, \"#7201a8\"], [0.3333333333333333, \"#9c179e\"], [0.4444444444444444, \"#bd3786\"], [0.5555555555555556, \"#d8576b\"], [0.6666666666666666, \"#ed7953\"], [0.7777777777777778, \"#fb9f3a\"], [0.8888888888888888, \"#fdca26\"], [1.0, \"#f0f921\"]], \"type\": \"heatmapgl\"}], \"histogram\": [{\"marker\": {\"colorbar\": {\"outlinewidth\": 0, \"ticks\": \"\"}}, \"type\": \"histogram\"}], \"histogram2d\": [{\"colorbar\": {\"outlinewidth\": 0, \"ticks\": \"\"}, \"colorscale\": [[0.0, \"#0d0887\"], [0.1111111111111111, \"#46039f\"], [0.2222222222222222, \"#7201a8\"], [0.3333333333333333, \"#9c179e\"], [0.4444444444444444, \"#bd3786\"], [0.5555555555555556, \"#d8576b\"], [0.6666666666666666, \"#ed7953\"], [0.7777777777777778, \"#fb9f3a\"], [0.8888888888888888, \"#fdca26\"], [1.0, \"#f0f921\"]], \"type\": \"histogram2d\"}], \"histogram2dcontour\": [{\"colorbar\": {\"outlinewidth\": 0, \"ticks\": \"\"}, \"colorscale\": [[0.0, \"#0d0887\"], [0.1111111111111111, \"#46039f\"], [0.2222222222222222, \"#7201a8\"], [0.3333333333333333, \"#9c179e\"], [0.4444444444444444, \"#bd3786\"], [0.5555555555555556, \"#d8576b\"], [0.6666666666666666, \"#ed7953\"], [0.7777777777777778, \"#fb9f3a\"], [0.8888888888888888, \"#fdca26\"], [1.0, \"#f0f921\"]], \"type\": \"histogram2dcontour\"}], \"mesh3d\": [{\"colorbar\": {\"outlinewidth\": 0, \"ticks\": \"\"}, \"type\": \"mesh3d\"}], \"parcoords\": [{\"line\": {\"colorbar\": {\"outlinewidth\": 0, \"ticks\": \"\"}}, \"type\": \"parcoords\"}], \"scatter\": [{\"marker\": {\"colorbar\": {\"outlinewidth\": 0, \"ticks\": \"\"}}, \"type\": \"scatter\"}], \"scatter3d\": [{\"line\": {\"colorbar\": {\"outlinewidth\": 0, \"ticks\": \"\"}}, \"marker\": {\"colorbar\": {\"outlinewidth\": 0, \"ticks\": \"\"}}, \"type\": \"scatter3d\"}], \"scattercarpet\": [{\"marker\": {\"colorbar\": {\"outlinewidth\": 0, \"ticks\": \"\"}}, \"type\": \"scattercarpet\"}], \"scattergeo\": [{\"marker\": {\"colorbar\": {\"outlinewidth\": 0, \"ticks\": \"\"}}, \"type\": \"scattergeo\"}], \"scattergl\": [{\"marker\": {\"colorbar\": {\"outlinewidth\": 0, \"ticks\": \"\"}}, \"type\": \"scattergl\"}], \"scattermapbox\": [{\"marker\": {\"colorbar\": {\"outlinewidth\": 0, \"ticks\": \"\"}}, \"type\": \"scattermapbox\"}], \"scatterpolar\": [{\"marker\": {\"colorbar\": {\"outlinewidth\": 0, \"ticks\": \"\"}}, \"type\": \"scatterpolar\"}], \"scatterpolargl\": [{\"marker\": {\"colorbar\": {\"outlinewidth\": 0, \"ticks\": \"\"}}, \"type\": \"scatterpolargl\"}], \"scatterternary\": [{\"marker\": {\"colorbar\": {\"outlinewidth\": 0, \"ticks\": \"\"}}, \"type\": \"scatterternary\"}], \"surface\": [{\"colorbar\": {\"outlinewidth\": 0, \"ticks\": \"\"}, \"colorscale\": [[0.0, \"#0d0887\"], [0.1111111111111111, \"#46039f\"], [0.2222222222222222, \"#7201a8\"], [0.3333333333333333, \"#9c179e\"], [0.4444444444444444, \"#bd3786\"], [0.5555555555555556, \"#d8576b\"], [0.6666666666666666, \"#ed7953\"], [0.7777777777777778, \"#fb9f3a\"], [0.8888888888888888, \"#fdca26\"], [1.0, \"#f0f921\"]], \"type\": \"surface\"}], \"table\": [{\"cells\": {\"fill\": {\"color\": \"#EBF0F8\"}, \"line\": {\"color\": \"white\"}}, \"header\": {\"fill\": {\"color\": \"#C8D4E3\"}, \"line\": {\"color\": \"white\"}}, \"type\": \"table\"}]}, \"layout\": {\"annotationdefaults\": {\"arrowcolor\": \"#2a3f5f\", \"arrowhead\": 0, \"arrowwidth\": 1}, \"colorscale\": {\"diverging\": [[0, \"#8e0152\"], [0.1, \"#c51b7d\"], [0.2, \"#de77ae\"], [0.3, \"#f1b6da\"], [0.4, \"#fde0ef\"], [0.5, \"#f7f7f7\"], [0.6, \"#e6f5d0\"], [0.7, \"#b8e186\"], [0.8, \"#7fbc41\"], [0.9, \"#4d9221\"], [1, \"#276419\"]], \"sequential\": [[0.0, \"#0d0887\"], [0.1111111111111111, \"#46039f\"], [0.2222222222222222, \"#7201a8\"], [0.3333333333333333, \"#9c179e\"], [0.4444444444444444, \"#bd3786\"], [0.5555555555555556, \"#d8576b\"], [0.6666666666666666, \"#ed7953\"], [0.7777777777777778, \"#fb9f3a\"], [0.8888888888888888, \"#fdca26\"], [1.0, \"#f0f921\"]], \"sequentialminus\": [[0.0, \"#0d0887\"], [0.1111111111111111, \"#46039f\"], [0.2222222222222222, \"#7201a8\"], [0.3333333333333333, \"#9c179e\"], [0.4444444444444444, \"#bd3786\"], [0.5555555555555556, \"#d8576b\"], [0.6666666666666666, \"#ed7953\"], [0.7777777777777778, \"#fb9f3a\"], [0.8888888888888888, \"#fdca26\"], [1.0, \"#f0f921\"]]}, \"colorway\": [\"#636efa\", \"#EF553B\", \"#00cc96\", \"#ab63fa\", \"#FFA15A\", \"#19d3f3\", \"#FF6692\", \"#B6E880\", \"#FF97FF\", \"#FECB52\"], \"font\": {\"color\": \"#2a3f5f\"}, \"geo\": {\"bgcolor\": \"white\", \"lakecolor\": \"white\", \"landcolor\": \"#E5ECF6\", \"showlakes\": true, \"showland\": true, \"subunitcolor\": \"white\"}, \"hoverlabel\": {\"align\": \"left\"}, \"hovermode\": \"closest\", \"mapbox\": {\"style\": \"light\"}, \"paper_bgcolor\": \"white\", \"plot_bgcolor\": \"#E5ECF6\", \"polar\": {\"angularaxis\": {\"gridcolor\": \"white\", \"linecolor\": \"white\", \"ticks\": \"\"}, \"bgcolor\": \"#E5ECF6\", \"radialaxis\": {\"gridcolor\": \"white\", \"linecolor\": \"white\", \"ticks\": \"\"}}, \"scene\": {\"xaxis\": {\"backgroundcolor\": \"#E5ECF6\", \"gridcolor\": \"white\", \"gridwidth\": 2, \"linecolor\": \"white\", \"showbackground\": true, \"ticks\": \"\", \"zerolinecolor\": \"white\"}, \"yaxis\": {\"backgroundcolor\": \"#E5ECF6\", \"gridcolor\": \"white\", \"gridwidth\": 2, \"linecolor\": \"white\", \"showbackground\": true, \"ticks\": \"\", \"zerolinecolor\": \"white\"}, \"zaxis\": {\"backgroundcolor\": \"#E5ECF6\", \"gridcolor\": \"white\", \"gridwidth\": 2, \"linecolor\": \"white\", \"showbackground\": true, \"ticks\": \"\", \"zerolinecolor\": \"white\"}}, \"shapedefaults\": {\"line\": {\"color\": \"#2a3f5f\"}}, \"ternary\": {\"aaxis\": {\"gridcolor\": \"white\", \"linecolor\": \"white\", \"ticks\": \"\"}, \"baxis\": {\"gridcolor\": \"white\", \"linecolor\": \"white\", \"ticks\": \"\"}, \"bgcolor\": \"#E5ECF6\", \"caxis\": {\"gridcolor\": \"white\", \"linecolor\": \"white\", \"ticks\": \"\"}}, \"title\": {\"x\": 0.05}, \"xaxis\": {\"automargin\": true, \"gridcolor\": \"white\", \"linecolor\": \"white\", \"ticks\": \"\", \"zerolinecolor\": \"white\", \"zerolinewidth\": 2}, \"yaxis\": {\"automargin\": true, \"gridcolor\": \"white\", \"linecolor\": \"white\", \"ticks\": \"\", \"zerolinecolor\": \"white\", \"zerolinewidth\": 2}}}, \"title\": {\"text\": \"2017 Guns Registered Per State\"}},\n",
       "                        {\"responsive\": true}\n",
       "                    ).then(function(){\n",
       "                            \n",
       "var gd = document.getElementById('03868748-96c3-47b4-8019-cc6156be7d5a');\n",
       "var x = new MutationObserver(function (mutations, observer) {{\n",
       "        var display = window.getComputedStyle(gd).display;\n",
       "        if (!display || display === 'none') {{\n",
       "            console.log([gd, 'removed!']);\n",
       "            Plotly.purge(gd);\n",
       "            observer.disconnect();\n",
       "        }}\n",
       "}});\n",
       "\n",
       "// Listen for the removal of the full notebook cells\n",
       "var notebookContainer = gd.closest('#notebook-container');\n",
       "if (notebookContainer) {{\n",
       "    x.observe(notebookContainer, {childList: true});\n",
       "}}\n",
       "\n",
       "// Listen for the clearing of the current output cell\n",
       "var outputEl = gd.closest('.output');\n",
       "if (outputEl) {{\n",
       "    x.observe(outputEl, {childList: true});\n",
       "}}\n",
       "\n",
       "                        })\n",
       "                };\n",
       "                });\n",
       "            </script>\n",
       "        </div>"
      ]
     },
     "metadata": {},
     "output_type": "display_data"
    }
   ],
   "source": [
    "#Creating a Choropleth Map\n",
    "fig = go.Figure(data=go.Choropleth(\n",
    "    locations=ownership_metrics_df['code'], # Spatial coordinates\n",
    "    z = ownership_metrics_df['guns_registered'].astype(float), # Data to be color-coded\n",
    "    locationmode = 'USA-states', # set of locations match entries in `locations`\n",
    "    colorscale = 'Reds',\n",
    "    colorbar_title = \"Guns Register Per State\",\n",
    "))\n",
    "\n",
    "fig.update_layout(\n",
    "    title_text = '2017 Guns Registered Per State',\n",
    "    geo_scope='usa', # limite map scope to USA\n",
    ")\n",
    "\n",
    "fig.show()"
   ]
  },
  {
   "cell_type": "code",
   "execution_count": 133,
   "metadata": {},
   "outputs": [],
   "source": [
    "# Saving Static Image\n",
    "fig.write_image(\"GunViolenceVisuals/11.2017 Guns Registered Per State.png\")"
   ]
  },
  {
   "cell_type": "code",
   "execution_count": 134,
   "metadata": {
    "scrolled": true
   },
   "outputs": [
    {
     "data": {
      "image/png": "[encoded data removed]",
      "text/plain": [
       "<Figure size 1080x540 with 1 Axes>"
      ]
     },
     "metadata": {
      "needs_background": "light"
     },
     "output_type": "display_data"
    }
   ],
   "source": [
    "# Adjusting Size\n",
    "plt.figure(figsize=(15, 7.5))\n",
    "\n",
    "# simulating a pandas df['type'] column\n",
    "registered_state = ownership_metrics_df['code']\n",
    "x_regcoords = ownership_metrics_df['guns_registered']\n",
    "y_regcoords = ownership_metrics_df['Gun Violence']\n",
    "\n",
    "# Adding labels to scatter points and plotting chart\n",
    "for i,registered_state in enumerate(registered_state):\n",
    "    x = x_regcoords[i]\n",
    "    y = y_regcoords[i]\n",
    "    plt.scatter(x, y, marker='o', color='firebrick', edgecolors=\"black\", s=75, alpha=0.75)\n",
    "    plt.text(x+0.3, y+0.3, registered_state, fontsize=18)\n",
    "\n",
    "# Adding labels, saving, and showing chart    \n",
    "plt.title(\"2017 Number of Guns Registered Per State vs Occurences of Gun Violence\")\n",
    "plt.xlabel(\"Number of Guns Registered Per State\")\n",
    "plt.ylabel(\"Occurences of Gun Violence\")\n",
    "plt.tight_layout()\n",
    "plt.savefig(\"GunViolenceVisuals/12.2017 Number of Guns Registered Per State vs Occurences of Gun Violence.png\")\n",
    "plt.show()"
   ]
  },
  {
   "cell_type": "code",
   "execution_count": 135,
   "metadata": {
    "scrolled": false
   },
   "outputs": [
    {
     "data": {
      "application/vnd.plotly.v1+json": {
       "config": {
        "plotlyServerURL": "https://plot.ly"
       },
       "data": [
        {
         "colorbar": {
          "title": {
           "text": "Guns Per Capita (100k)"
          }
         },
         "colorscale": [
          [
           0,
           "rgb(255,245,240)"
          ],
          [
           0.125,
           "rgb(254,224,210)"
          ],
          [
           0.25,
           "rgb(252,187,161)"
          ],
          [
           0.375,
           "rgb(252,146,114)"
          ],
          [
           0.5,
           "rgb(251,106,74)"
          ],
          [
           0.625,
           "rgb(239,59,44)"
          ],
          [
           0.75,
           "rgb(203,24,29)"
          ],
          [
           0.875,
           "rgb(165,15,21)"
          ],
          [
           1,
           "rgb(103,0,13)"
          ]
         ],
         "locationmode": "USA-states",
         "locations": [
          "IL",
          "CA",
          "FL",
          "TX",
          "OH",
          "PA",
          "LA",
          "GA",
          "NC",
          "TN",
          "MO",
          "NY",
          "AL",
          "MD",
          "VA",
          "SC",
          "IN",
          "MI",
          "NJ",
          "MS",
          "KY",
          "WI",
          "AR",
          "OK",
          "AZ",
          "MA",
          "WA",
          "CO",
          "DC",
          "NV",
          "KS",
          "MN",
          "CT",
          "IA",
          "DE",
          "OR",
          "NM",
          "WV",
          "NE",
          "UT",
          "AK",
          "RI",
          "ID",
          "MT",
          "ME",
          "NH",
          "ND",
          "SD",
          "HI",
          "WY",
          "VT"
         ],
         "type": "choropleth",
         "z": [
          11.44,
          8.71,
          16.35,
          20.79,
          14.87,
          18.45,
          24.94,
          18.22,
          14.82,
          14.76,
          11.94,
          3.83,
          33.15,
          17.03,
          36.34,
          21.01,
          17.1,
          6.59,
          6.38,
          11.89,
          18.2,
          11.19,
          26.57,
          18.13,
          25.61,
          5.41,
          12.4,
          16.48,
          68.05,
          25.64,
          18.06,
          14.22,
          22.96,
          9.05,
          5.04,
          14.82,
          46.73,
          19.42,
          11.57,
          23.48,
          21.38,
          3.98,
          28.86,
          21.06,
          11.5,
          46.76,
          17.56,
          24.29,
          5.5,
          229.24,
          9.41
         ]
        }
       ],
       "layout": {
        "geo": {
         "scope": "usa"
        },
        "template": {
         "data": {
          "bar": [
           {
            "error_x": {
             "color": "#2a3f5f"
            },
            "error_y": {
             "color": "#2a3f5f"
            },
            "marker": {
             "line": {
              "color": "#E5ECF6",
              "width": 0.5
             }
            },
            "type": "bar"
           }
          ],
          "barpolar": [
           {
            "marker": {
             "line": {
              "color": "#E5ECF6",
              "width": 0.5
             }
            },
            "type": "barpolar"
           }
          ],
          "carpet": [
           {
            "aaxis": {
             "endlinecolor": "#2a3f5f",
             "gridcolor": "white",
             "linecolor": "white",
             "minorgridcolor": "white",
             "startlinecolor": "#2a3f5f"
            },
            "baxis": {
             "endlinecolor": "#2a3f5f",
             "gridcolor": "white",
             "linecolor": "white",
             "minorgridcolor": "white",
             "startlinecolor": "#2a3f5f"
            },
            "type": "carpet"
           }
          ],
          "choropleth": [
           {
            "colorbar": {
             "outlinewidth": 0,
             "ticks": ""
            },
            "type": "choropleth"
           }
          ],
          "contour": [
           {
            "colorbar": {
             "outlinewidth": 0,
             "ticks": ""
            },
            "colorscale": [
             [
              0,
              "#0d0887"
             ],
             [
              0.1111111111111111,
              "#46039f"
             ],
             [
              0.2222222222222222,
              "#7201a8"
             ],
             [
              0.3333333333333333,
              "#9c179e"
             ],
             [
              0.4444444444444444,
              "#bd3786"
             ],
             [
              0.5555555555555556,
              "#d8576b"
             ],
             [
              0.6666666666666666,
              "#ed7953"
             ],
             [
              0.7777777777777778,
              "#fb9f3a"
             ],
             [
              0.8888888888888888,
              "#fdca26"
             ],
             [
              1,
              "#f0f921"
             ]
            ],
            "type": "contour"
           }
          ],
          "contourcarpet": [
           {
            "colorbar": {
             "outlinewidth": 0,
             "ticks": ""
            },
            "type": "contourcarpet"
           }
          ],
          "heatmap": [
           {
            "colorbar": {
             "outlinewidth": 0,
             "ticks": ""
            },
            "colorscale": [
             [
              0,
              "#0d0887"
             ],
             [
              0.1111111111111111,
              "#46039f"
             ],
             [
              0.2222222222222222,
              "#7201a8"
             ],
             [
              0.3333333333333333,
              "#9c179e"
             ],
             [
              0.4444444444444444,
              "#bd3786"
             ],
             [
              0.5555555555555556,
              "#d8576b"
             ],
             [
              0.6666666666666666,
              "#ed7953"
             ],
             [
              0.7777777777777778,
              "#fb9f3a"
             ],
             [
              0.8888888888888888,
              "#fdca26"
             ],
             [
              1,
              "#f0f921"
             ]
            ],
            "type": "heatmap"
           }
          ],
          "heatmapgl": [
           {
            "colorbar": {
             "outlinewidth": 0,
             "ticks": ""
            },
            "colorscale": [
             [
              0,
              "#0d0887"
             ],
             [
              0.1111111111111111,
              "#46039f"
             ],
             [
              0.2222222222222222,
              "#7201a8"
             ],
             [
              0.3333333333333333,
              "#9c179e"
             ],
             [
              0.4444444444444444,
              "#bd3786"
             ],
             [
              0.5555555555555556,
              "#d8576b"
             ],
             [
              0.6666666666666666,
              "#ed7953"
             ],
             [
              0.7777777777777778,
              "#fb9f3a"
             ],
             [
              0.8888888888888888,
              "#fdca26"
             ],
             [
              1,
              "#f0f921"
             ]
            ],
            "type": "heatmapgl"
           }
          ],
          "histogram": [
           {
            "marker": {
             "colorbar": {
              "outlinewidth": 0,
              "ticks": ""
             }
            },
            "type": "histogram"
           }
          ],
          "histogram2d": [
           {
            "colorbar": {
             "outlinewidth": 0,
             "ticks": ""
            },
            "colorscale": [
             [
              0,
              "#0d0887"
             ],
             [
              0.1111111111111111,
              "#46039f"
             ],
             [
              0.2222222222222222,
              "#7201a8"
             ],
             [
              0.3333333333333333,
              "#9c179e"
             ],
             [
              0.4444444444444444,
              "#bd3786"
             ],
             [
              0.5555555555555556,
              "#d8576b"
             ],
             [
              0.6666666666666666,
              "#ed7953"
             ],
             [
              0.7777777777777778,
              "#fb9f3a"
             ],
             [
              0.8888888888888888,
              "#fdca26"
             ],
             [
              1,
              "#f0f921"
             ]
            ],
            "type": "histogram2d"
           }
          ],
          "histogram2dcontour": [
           {
            "colorbar": {
             "outlinewidth": 0,
             "ticks": ""
            },
            "colorscale": [
             [
              0,
              "#0d0887"
             ],
             [
              0.1111111111111111,
              "#46039f"
             ],
             [
              0.2222222222222222,
              "#7201a8"
             ],
             [
              0.3333333333333333,
              "#9c179e"
             ],
             [
              0.4444444444444444,
              "#bd3786"
             ],
             [
              0.5555555555555556,
              "#d8576b"
             ],
             [
              0.6666666666666666,
              "#ed7953"
             ],
             [
              0.7777777777777778,
              "#fb9f3a"
             ],
             [
              0.8888888888888888,
              "#fdca26"
             ],
             [
              1,
              "#f0f921"
             ]
            ],
            "type": "histogram2dcontour"
           }
          ],
          "mesh3d": [
           {
            "colorbar": {
             "outlinewidth": 0,
             "ticks": ""
            },
            "type": "mesh3d"
           }
          ],
          "parcoords": [
           {
            "line": {
             "colorbar": {
              "outlinewidth": 0,
              "ticks": ""
             }
            },
            "type": "parcoords"
           }
          ],
          "scatter": [
           {
            "marker": {
             "colorbar": {
              "outlinewidth": 0,
              "ticks": ""
             }
            },
            "type": "scatter"
           }
          ],
          "scatter3d": [
           {
            "line": {
             "colorbar": {
              "outlinewidth": 0,
              "ticks": ""
             }
            },
            "marker": {
             "colorbar": {
              "outlinewidth": 0,
              "ticks": ""
             }
            },
            "type": "scatter3d"
           }
          ],
          "scattercarpet": [
           {
            "marker": {
             "colorbar": {
              "outlinewidth": 0,
              "ticks": ""
             }
            },
            "type": "scattercarpet"
           }
          ],
          "scattergeo": [
           {
            "marker": {
             "colorbar": {
              "outlinewidth": 0,
              "ticks": ""
             }
            },
            "type": "scattergeo"
           }
          ],
          "scattergl": [
           {
            "marker": {
             "colorbar": {
              "outlinewidth": 0,
              "ticks": ""
             }
            },
            "type": "scattergl"
           }
          ],
          "scattermapbox": [
           {
            "marker": {
             "colorbar": {
              "outlinewidth": 0,
              "ticks": ""
             }
            },
            "type": "scattermapbox"
           }
          ],
          "scatterpolar": [
           {
            "marker": {
             "colorbar": {
              "outlinewidth": 0,
              "ticks": ""
             }
            },
            "type": "scatterpolar"
           }
          ],
          "scatterpolargl": [
           {
            "marker": {
             "colorbar": {
              "outlinewidth": 0,
              "ticks": ""
             }
            },
            "type": "scatterpolargl"
           }
          ],
          "scatterternary": [
           {
            "marker": {
             "colorbar": {
              "outlinewidth": 0,
              "ticks": ""
             }
            },
            "type": "scatterternary"
           }
          ],
          "surface": [
           {
            "colorbar": {
             "outlinewidth": 0,
             "ticks": ""
            },
            "colorscale": [
             [
              0,
              "#0d0887"
             ],
             [
              0.1111111111111111,
              "#46039f"
             ],
             [
              0.2222222222222222,
              "#7201a8"
             ],
             [
              0.3333333333333333,
              "#9c179e"
             ],
             [
              0.4444444444444444,
              "#bd3786"
             ],
             [
              0.5555555555555556,
              "#d8576b"
             ],
             [
              0.6666666666666666,
              "#ed7953"
             ],
             [
              0.7777777777777778,
              "#fb9f3a"
             ],
             [
              0.8888888888888888,
              "#fdca26"
             ],
             [
              1,
              "#f0f921"
             ]
            ],
            "type": "surface"
           }
          ],
          "table": [
           {
            "cells": {
             "fill": {
              "color": "#EBF0F8"
             },
             "line": {
              "color": "white"
             }
            },
            "header": {
             "fill": {
              "color": "#C8D4E3"
             },
             "line": {
              "color": "white"
             }
            },
            "type": "table"
           }
          ]
         },
         "layout": {
          "annotationdefaults": {
           "arrowcolor": "#2a3f5f",
           "arrowhead": 0,
           "arrowwidth": 1
          },
          "colorscale": {
           "diverging": [
            [
             0,
             "#8e0152"
            ],
            [
             0.1,
             "#c51b7d"
            ],
            [
             0.2,
             "#de77ae"
            ],
            [
             0.3,
             "#f1b6da"
            ],
            [
             0.4,
             "#fde0ef"
            ],
            [
             0.5,
             "#f7f7f7"
            ],
            [
             0.6,
             "#e6f5d0"
            ],
            [
             0.7,
             "#b8e186"
            ],
            [
             0.8,
             "#7fbc41"
            ],
            [
             0.9,
             "#4d9221"
            ],
            [
             1,
             "#276419"
            ]
           ],
           "sequential": [
            [
             0,
             "#0d0887"
            ],
            [
             0.1111111111111111,
             "#46039f"
            ],
            [
             0.2222222222222222,
             "#7201a8"
            ],
            [
             0.3333333333333333,
             "#9c179e"
            ],
            [
             0.4444444444444444,
             "#bd3786"
            ],
            [
             0.5555555555555556,
             "#d8576b"
            ],
            [
             0.6666666666666666,
             "#ed7953"
            ],
            [
             0.7777777777777778,
             "#fb9f3a"
            ],
            [
             0.8888888888888888,
             "#fdca26"
            ],
            [
             1,
             "#f0f921"
            ]
           ],
           "sequentialminus": [
            [
             0,
             "#0d0887"
            ],
            [
             0.1111111111111111,
             "#46039f"
            ],
            [
             0.2222222222222222,
             "#7201a8"
            ],
            [
             0.3333333333333333,
             "#9c179e"
            ],
            [
             0.4444444444444444,
             "#bd3786"
            ],
            [
             0.5555555555555556,
             "#d8576b"
            ],
            [
             0.6666666666666666,
             "#ed7953"
            ],
            [
             0.7777777777777778,
             "#fb9f3a"
            ],
            [
             0.8888888888888888,
             "#fdca26"
            ],
            [
             1,
             "#f0f921"
            ]
           ]
          },
          "colorway": [
           "#636efa",
           "#EF553B",
           "#00cc96",
           "#ab63fa",
           "#FFA15A",
           "#19d3f3",
           "#FF6692",
           "#B6E880",
           "#FF97FF",
           "#FECB52"
          ],
          "font": {
           "color": "#2a3f5f"
          },
          "geo": {
           "bgcolor": "white",
           "lakecolor": "white",
           "landcolor": "#E5ECF6",
           "showlakes": true,
           "showland": true,
           "subunitcolor": "white"
          },
          "hoverlabel": {
           "align": "left"
          },
          "hovermode": "closest",
          "mapbox": {
           "style": "light"
          },
          "paper_bgcolor": "white",
          "plot_bgcolor": "#E5ECF6",
          "polar": {
           "angularaxis": {
            "gridcolor": "white",
            "linecolor": "white",
            "ticks": ""
           },
           "bgcolor": "#E5ECF6",
           "radialaxis": {
            "gridcolor": "white",
            "linecolor": "white",
            "ticks": ""
           }
          },
          "scene": {
           "xaxis": {
            "backgroundcolor": "#E5ECF6",
            "gridcolor": "white",
            "gridwidth": 2,
            "linecolor": "white",
            "showbackground": true,
            "ticks": "",
            "zerolinecolor": "white"
           },
           "yaxis": {
            "backgroundcolor": "#E5ECF6",
            "gridcolor": "white",
            "gridwidth": 2,
            "linecolor": "white",
            "showbackground": true,
            "ticks": "",
            "zerolinecolor": "white"
           },
           "zaxis": {
            "backgroundcolor": "#E5ECF6",
            "gridcolor": "white",
            "gridwidth": 2,
            "linecolor": "white",
            "showbackground": true,
            "ticks": "",
            "zerolinecolor": "white"
           }
          },
          "shapedefaults": {
           "line": {
            "color": "#2a3f5f"
           }
          },
          "ternary": {
           "aaxis": {
            "gridcolor": "white",
            "linecolor": "white",
            "ticks": ""
           },
           "baxis": {
            "gridcolor": "white",
            "linecolor": "white",
            "ticks": ""
           },
           "bgcolor": "#E5ECF6",
           "caxis": {
            "gridcolor": "white",
            "linecolor": "white",
            "ticks": ""
           }
          },
          "title": {
           "x": 0.05
          },
          "xaxis": {
           "automargin": true,
           "gridcolor": "white",
           "linecolor": "white",
           "ticks": "",
           "zerolinecolor": "white",
           "zerolinewidth": 2
          },
          "yaxis": {
           "automargin": true,
           "gridcolor": "white",
           "linecolor": "white",
           "ticks": "",
           "zerolinecolor": "white",
           "zerolinewidth": 2
          }
         }
        },
        "title": {
         "text": "2017 Guns Per Capita"
        }
       }
      },
      "text/html": [
       "<div>\n",
       "        \n",
       "        \n",
       "            <div id=\"a83edff7-e6d9-467f-9d1e-23e501e3bcd3\" class=\"plotly-graph-div\" style=\"height:525px; width:100%;\"></div>\n",
       "            <script type=\"text/javascript\">\n",
       "                require([\"plotly\"], function(Plotly) {\n",
       "                    window.PLOTLYENV=window.PLOTLYENV || {};\n",
       "                    \n",
       "                if (document.getElementById(\"a83edff7-e6d9-467f-9d1e-23e501e3bcd3\")) {\n",
       "                    Plotly.newPlot(\n",
       "                        'a83edff7-e6d9-467f-9d1e-23e501e3bcd3',\n",
       "                        [{\"colorbar\": {\"title\": {\"text\": \"Guns Per Capita (100k)\"}}, \"colorscale\": [[0.0, \"rgb(255,245,240)\"], [0.125, \"rgb(254,224,210)\"], [0.25, \"rgb(252,187,161)\"], [0.375, \"rgb(252,146,114)\"], [0.5, \"rgb(251,106,74)\"], [0.625, \"rgb(239,59,44)\"], [0.75, \"rgb(203,24,29)\"], [0.875, \"rgb(165,15,21)\"], [1.0, \"rgb(103,0,13)\"]], \"locationmode\": \"USA-states\", \"locations\": [\"IL\", \"CA\", \"FL\", \"TX\", \"OH\", \"PA\", \"LA\", \"GA\", \"NC\", \"TN\", \"MO\", \"NY\", \"AL\", \"MD\", \"VA\", \"SC\", \"IN\", \"MI\", \"NJ\", \"MS\", \"KY\", \"WI\", \"AR\", \"OK\", \"AZ\", \"MA\", \"WA\", \"CO\", \"DC\", \"NV\", \"KS\", \"MN\", \"CT\", \"IA\", \"DE\", \"OR\", \"NM\", \"WV\", \"NE\", \"UT\", \"AK\", \"RI\", \"ID\", \"MT\", \"ME\", \"NH\", \"ND\", \"SD\", \"HI\", \"WY\", \"VT\"], \"type\": \"choropleth\", \"z\": [11.44, 8.71, 16.35, 20.79, 14.87, 18.45, 24.94, 18.22, 14.82, 14.76, 11.94, 3.83, 33.15, 17.03, 36.34, 21.01, 17.1, 6.59, 6.38, 11.89, 18.2, 11.19, 26.57, 18.13, 25.61, 5.41, 12.4, 16.48, 68.05, 25.64, 18.06, 14.22, 22.96, 9.05, 5.04, 14.82, 46.73, 19.42, 11.57, 23.48, 21.38, 3.98, 28.86, 21.06, 11.5, 46.76, 17.56, 24.29, 5.5, 229.24, 9.41]}],\n",
       "                        {\"geo\": {\"scope\": \"usa\"}, \"template\": {\"data\": {\"bar\": [{\"error_x\": {\"color\": \"#2a3f5f\"}, \"error_y\": {\"color\": \"#2a3f5f\"}, \"marker\": {\"line\": {\"color\": \"#E5ECF6\", \"width\": 0.5}}, \"type\": \"bar\"}], \"barpolar\": [{\"marker\": {\"line\": {\"color\": \"#E5ECF6\", \"width\": 0.5}}, \"type\": \"barpolar\"}], \"carpet\": [{\"aaxis\": {\"endlinecolor\": \"#2a3f5f\", \"gridcolor\": \"white\", \"linecolor\": \"white\", \"minorgridcolor\": \"white\", \"startlinecolor\": \"#2a3f5f\"}, \"baxis\": {\"endlinecolor\": \"#2a3f5f\", \"gridcolor\": \"white\", \"linecolor\": \"white\", \"minorgridcolor\": \"white\", \"startlinecolor\": \"#2a3f5f\"}, \"type\": \"carpet\"}], \"choropleth\": [{\"colorbar\": {\"outlinewidth\": 0, \"ticks\": \"\"}, \"type\": \"choropleth\"}], \"contour\": [{\"colorbar\": {\"outlinewidth\": 0, \"ticks\": \"\"}, \"colorscale\": [[0.0, \"#0d0887\"], [0.1111111111111111, \"#46039f\"], [0.2222222222222222, \"#7201a8\"], [0.3333333333333333, \"#9c179e\"], [0.4444444444444444, \"#bd3786\"], [0.5555555555555556, \"#d8576b\"], [0.6666666666666666, \"#ed7953\"], [0.7777777777777778, \"#fb9f3a\"], [0.8888888888888888, \"#fdca26\"], [1.0, \"#f0f921\"]], \"type\": \"contour\"}], \"contourcarpet\": [{\"colorbar\": {\"outlinewidth\": 0, \"ticks\": \"\"}, \"type\": \"contourcarpet\"}], \"heatmap\": [{\"colorbar\": {\"outlinewidth\": 0, \"ticks\": \"\"}, \"colorscale\": [[0.0, \"#0d0887\"], [0.1111111111111111, \"#46039f\"], [0.2222222222222222, \"#7201a8\"], [0.3333333333333333, \"#9c179e\"], [0.4444444444444444, \"#bd3786\"], [0.5555555555555556, \"#d8576b\"], [0.6666666666666666, \"#ed7953\"], [0.7777777777777778, \"#fb9f3a\"], [0.8888888888888888, \"#fdca26\"], [1.0, \"#f0f921\"]], \"type\": \"heatmap\"}], \"heatmapgl\": [{\"colorbar\": {\"outlinewidth\": 0, \"ticks\": \"\"}, \"colorscale\": [[0.0, \"#0d0887\"], [0.1111111111111111, \"#46039f\"], [0.2222222222222222, \"#7201a8\"], [0.3333333333333333, \"#9c179e\"], [0.4444444444444444, \"#bd3786\"], [0.5555555555555556, \"#d8576b\"], [0.6666666666666666, \"#ed7953\"], [0.7777777777777778, \"#fb9f3a\"], [0.8888888888888888, \"#fdca26\"], [1.0, \"#f0f921\"]], \"type\": \"heatmapgl\"}], \"histogram\": [{\"marker\": {\"colorbar\": {\"outlinewidth\": 0, \"ticks\": \"\"}}, \"type\": \"histogram\"}], \"histogram2d\": [{\"colorbar\": {\"outlinewidth\": 0, \"ticks\": \"\"}, \"colorscale\": [[0.0, \"#0d0887\"], [0.1111111111111111, \"#46039f\"], [0.2222222222222222, \"#7201a8\"], [0.3333333333333333, \"#9c179e\"], [0.4444444444444444, \"#bd3786\"], [0.5555555555555556, \"#d8576b\"], [0.6666666666666666, \"#ed7953\"], [0.7777777777777778, \"#fb9f3a\"], [0.8888888888888888, \"#fdca26\"], [1.0, \"#f0f921\"]], \"type\": \"histogram2d\"}], \"histogram2dcontour\": [{\"colorbar\": {\"outlinewidth\": 0, \"ticks\": \"\"}, \"colorscale\": [[0.0, \"#0d0887\"], [0.1111111111111111, \"#46039f\"], [0.2222222222222222, \"#7201a8\"], [0.3333333333333333, \"#9c179e\"], [0.4444444444444444, \"#bd3786\"], [0.5555555555555556, \"#d8576b\"], [0.6666666666666666, \"#ed7953\"], [0.7777777777777778, \"#fb9f3a\"], [0.8888888888888888, \"#fdca26\"], [1.0, \"#f0f921\"]], \"type\": \"histogram2dcontour\"}], \"mesh3d\": [{\"colorbar\": {\"outlinewidth\": 0, \"ticks\": \"\"}, \"type\": \"mesh3d\"}], \"parcoords\": [{\"line\": {\"colorbar\": {\"outlinewidth\": 0, \"ticks\": \"\"}}, \"type\": \"parcoords\"}], \"scatter\": [{\"marker\": {\"colorbar\": {\"outlinewidth\": 0, \"ticks\": \"\"}}, \"type\": \"scatter\"}], \"scatter3d\": [{\"line\": {\"colorbar\": {\"outlinewidth\": 0, \"ticks\": \"\"}}, \"marker\": {\"colorbar\": {\"outlinewidth\": 0, \"ticks\": \"\"}}, \"type\": \"scatter3d\"}], \"scattercarpet\": [{\"marker\": {\"colorbar\": {\"outlinewidth\": 0, \"ticks\": \"\"}}, \"type\": \"scattercarpet\"}], \"scattergeo\": [{\"marker\": {\"colorbar\": {\"outlinewidth\": 0, \"ticks\": \"\"}}, \"type\": \"scattergeo\"}], \"scattergl\": [{\"marker\": {\"colorbar\": {\"outlinewidth\": 0, \"ticks\": \"\"}}, \"type\": \"scattergl\"}], \"scattermapbox\": [{\"marker\": {\"colorbar\": {\"outlinewidth\": 0, \"ticks\": \"\"}}, \"type\": \"scattermapbox\"}], \"scatterpolar\": [{\"marker\": {\"colorbar\": {\"outlinewidth\": 0, \"ticks\": \"\"}}, \"type\": \"scatterpolar\"}], \"scatterpolargl\": [{\"marker\": {\"colorbar\": {\"outlinewidth\": 0, \"ticks\": \"\"}}, \"type\": \"scatterpolargl\"}], \"scatterternary\": [{\"marker\": {\"colorbar\": {\"outlinewidth\": 0, \"ticks\": \"\"}}, \"type\": \"scatterternary\"}], \"surface\": [{\"colorbar\": {\"outlinewidth\": 0, \"ticks\": \"\"}, \"colorscale\": [[0.0, \"#0d0887\"], [0.1111111111111111, \"#46039f\"], [0.2222222222222222, \"#7201a8\"], [0.3333333333333333, \"#9c179e\"], [0.4444444444444444, \"#bd3786\"], [0.5555555555555556, \"#d8576b\"], [0.6666666666666666, \"#ed7953\"], [0.7777777777777778, \"#fb9f3a\"], [0.8888888888888888, \"#fdca26\"], [1.0, \"#f0f921\"]], \"type\": \"surface\"}], \"table\": [{\"cells\": {\"fill\": {\"color\": \"#EBF0F8\"}, \"line\": {\"color\": \"white\"}}, \"header\": {\"fill\": {\"color\": \"#C8D4E3\"}, \"line\": {\"color\": \"white\"}}, \"type\": \"table\"}]}, \"layout\": {\"annotationdefaults\": {\"arrowcolor\": \"#2a3f5f\", \"arrowhead\": 0, \"arrowwidth\": 1}, \"colorscale\": {\"diverging\": [[0, \"#8e0152\"], [0.1, \"#c51b7d\"], [0.2, \"#de77ae\"], [0.3, \"#f1b6da\"], [0.4, \"#fde0ef\"], [0.5, \"#f7f7f7\"], [0.6, \"#e6f5d0\"], [0.7, \"#b8e186\"], [0.8, \"#7fbc41\"], [0.9, \"#4d9221\"], [1, \"#276419\"]], \"sequential\": [[0.0, \"#0d0887\"], [0.1111111111111111, \"#46039f\"], [0.2222222222222222, \"#7201a8\"], [0.3333333333333333, \"#9c179e\"], [0.4444444444444444, \"#bd3786\"], [0.5555555555555556, \"#d8576b\"], [0.6666666666666666, \"#ed7953\"], [0.7777777777777778, \"#fb9f3a\"], [0.8888888888888888, \"#fdca26\"], [1.0, \"#f0f921\"]], \"sequentialminus\": [[0.0, \"#0d0887\"], [0.1111111111111111, \"#46039f\"], [0.2222222222222222, \"#7201a8\"], [0.3333333333333333, \"#9c179e\"], [0.4444444444444444, \"#bd3786\"], [0.5555555555555556, \"#d8576b\"], [0.6666666666666666, \"#ed7953\"], [0.7777777777777778, \"#fb9f3a\"], [0.8888888888888888, \"#fdca26\"], [1.0, \"#f0f921\"]]}, \"colorway\": [\"#636efa\", \"#EF553B\", \"#00cc96\", \"#ab63fa\", \"#FFA15A\", \"#19d3f3\", \"#FF6692\", \"#B6E880\", \"#FF97FF\", \"#FECB52\"], \"font\": {\"color\": \"#2a3f5f\"}, \"geo\": {\"bgcolor\": \"white\", \"lakecolor\": \"white\", \"landcolor\": \"#E5ECF6\", \"showlakes\": true, \"showland\": true, \"subunitcolor\": \"white\"}, \"hoverlabel\": {\"align\": \"left\"}, \"hovermode\": \"closest\", \"mapbox\": {\"style\": \"light\"}, \"paper_bgcolor\": \"white\", \"plot_bgcolor\": \"#E5ECF6\", \"polar\": {\"angularaxis\": {\"gridcolor\": \"white\", \"linecolor\": \"white\", \"ticks\": \"\"}, \"bgcolor\": \"#E5ECF6\", \"radialaxis\": {\"gridcolor\": \"white\", \"linecolor\": \"white\", \"ticks\": \"\"}}, \"scene\": {\"xaxis\": {\"backgroundcolor\": \"#E5ECF6\", \"gridcolor\": \"white\", \"gridwidth\": 2, \"linecolor\": \"white\", \"showbackground\": true, \"ticks\": \"\", \"zerolinecolor\": \"white\"}, \"yaxis\": {\"backgroundcolor\": \"#E5ECF6\", \"gridcolor\": \"white\", \"gridwidth\": 2, \"linecolor\": \"white\", \"showbackground\": true, \"ticks\": \"\", \"zerolinecolor\": \"white\"}, \"zaxis\": {\"backgroundcolor\": \"#E5ECF6\", \"gridcolor\": \"white\", \"gridwidth\": 2, \"linecolor\": \"white\", \"showbackground\": true, \"ticks\": \"\", \"zerolinecolor\": \"white\"}}, \"shapedefaults\": {\"line\": {\"color\": \"#2a3f5f\"}}, \"ternary\": {\"aaxis\": {\"gridcolor\": \"white\", \"linecolor\": \"white\", \"ticks\": \"\"}, \"baxis\": {\"gridcolor\": \"white\", \"linecolor\": \"white\", \"ticks\": \"\"}, \"bgcolor\": \"#E5ECF6\", \"caxis\": {\"gridcolor\": \"white\", \"linecolor\": \"white\", \"ticks\": \"\"}}, \"title\": {\"x\": 0.05}, \"xaxis\": {\"automargin\": true, \"gridcolor\": \"white\", \"linecolor\": \"white\", \"ticks\": \"\", \"zerolinecolor\": \"white\", \"zerolinewidth\": 2}, \"yaxis\": {\"automargin\": true, \"gridcolor\": \"white\", \"linecolor\": \"white\", \"ticks\": \"\", \"zerolinecolor\": \"white\", \"zerolinewidth\": 2}}}, \"title\": {\"text\": \"2017 Guns Per Capita\"}},\n",
       "                        {\"responsive\": true}\n",
       "                    ).then(function(){\n",
       "                            \n",
       "var gd = document.getElementById('a83edff7-e6d9-467f-9d1e-23e501e3bcd3');\n",
       "var x = new MutationObserver(function (mutations, observer) {{\n",
       "        var display = window.getComputedStyle(gd).display;\n",
       "        if (!display || display === 'none') {{\n",
       "            console.log([gd, 'removed!']);\n",
       "            Plotly.purge(gd);\n",
       "            observer.disconnect();\n",
       "        }}\n",
       "}});\n",
       "\n",
       "// Listen for the removal of the full notebook cells\n",
       "var notebookContainer = gd.closest('#notebook-container');\n",
       "if (notebookContainer) {{\n",
       "    x.observe(notebookContainer, {childList: true});\n",
       "}}\n",
       "\n",
       "// Listen for the clearing of the current output cell\n",
       "var outputEl = gd.closest('.output');\n",
       "if (outputEl) {{\n",
       "    x.observe(outputEl, {childList: true});\n",
       "}}\n",
       "\n",
       "                        })\n",
       "                };\n",
       "                });\n",
       "            </script>\n",
       "        </div>"
      ]
     },
     "metadata": {},
     "output_type": "display_data"
    }
   ],
   "source": [
    "#Creating a Choropleth Map\n",
    "fig = go.Figure(data=go.Choropleth(\n",
    "    locations=ownership_metrics_df['code'], # Spatial coordinates\n",
    "    z = ownership_metrics_df['guns_per_capita'].astype(float), # Data to be color-coded\n",
    "    locationmode = 'USA-states', # set of locations match entries in `locations`\n",
    "    colorscale = 'Reds',\n",
    "    colorbar_title = \"Guns Per Capita (100k)\",\n",
    "))\n",
    "\n",
    "fig.update_layout(\n",
    "    title_text = '2017 Guns Per Capita',\n",
    "    geo_scope='usa', # limite map scope to USA\n",
    ")\n",
    "\n",
    "fig.show()"
   ]
  },
  {
   "cell_type": "code",
   "execution_count": 136,
   "metadata": {},
   "outputs": [],
   "source": [
    "# Saving Static Image\n",
    "fig.write_image(\"GunViolenceVisuals/13.2017 Guns Per Capita.png\")"
   ]
  },
  {
   "cell_type": "code",
   "execution_count": 137,
   "metadata": {},
   "outputs": [
    {
     "data": {
      "image/png": "[encoded data removed]",
      "text/plain": [
       "<Figure size 1080x540 with 1 Axes>"
      ]
     },
     "metadata": {
      "needs_background": "light"
     },
     "output_type": "display_data"
    }
   ],
   "source": [
    "# Adjusting Size\n",
    "plt.figure(figsize=(15, 7.5))\n",
    "\n",
    "# simulating a pandas df['type'] column\n",
    "ownership_state = ownership_metrics_df['code']\n",
    "x_coords = ownership_metrics_df['guns_per_capita']\n",
    "y_coords =combined_data_states[\"Adjusted Violence\"]\n",
    "\n",
    "# Adding labels to scatter points and plotting chart\n",
    "for i,ownership_state in enumerate(ownership_state):\n",
    "    x = x_coords[i]\n",
    "    y = y_coords[i]\n",
    "    plt.scatter(x, y, marker='o', color='firebrick', edgecolors=\"black\", s=50, alpha=0.75)\n",
    "    plt.text(x+0.3, y+0.3, ownership_state, fontsize=14)\n",
    "    \n",
    "# Adding labels, saving, and showing chart  \n",
    "plt.title(\"2017 Guns Per Capita vs Occurences of Gun Violence\")\n",
    "plt.xlabel(\"Guns Per Capita (100k)\")\n",
    "plt.ylabel(\"Occurences of Gun Violence\")\n",
    "plt.tight_layout()\n",
    "plt.savefig(\"GunViolenceVisuals/14.2017 Guns Per Capita vs Occurences of Gun Violence.png\")\n",
    "plt.show()"
   ]
  },
  {
   "cell_type": "code",
   "execution_count": 140,
   "metadata": {},
   "outputs": [
    {
     "data": {
      "application/vnd.plotly.v1+json": {
       "config": {
        "plotlyServerURL": "https://plot.ly"
       },
       "data": [
        {
         "colorbar": {
          "title": {
           "text": "Ranking (50 Is Best)"
          }
         },
         "colorscale": [
          [
           0,
           "rgb(255,245,240)"
          ],
          [
           0.125,
           "rgb(254,224,210)"
          ],
          [
           0.25,
           "rgb(252,187,161)"
          ],
          [
           0.375,
           "rgb(252,146,114)"
          ],
          [
           0.5,
           "rgb(251,106,74)"
          ],
          [
           0.625,
           "rgb(239,59,44)"
          ],
          [
           0.75,
           "rgb(203,24,29)"
          ],
          [
           0.875,
           "rgb(165,15,21)"
          ],
          [
           1,
           "rgb(103,0,13)"
          ]
         ],
         "locationmode": "USA-states",
         "locations": [
          "AL",
          "AR",
          "GA",
          "ID",
          "AZ",
          "FL",
          "IN",
          "AK",
          "MO",
          "LA",
          "CO",
          "KS",
          "KY",
          "CA",
          "MT",
          "TX",
          "NV",
          "NM",
          "OK",
          "MS",
          "VA",
          "MN",
          "NH",
          "MI",
          "NC",
          "UT",
          "OH",
          "PA",
          "CT",
          "IL",
          "SC",
          "TN",
          "MD",
          "WY",
          "HI",
          "IA",
          "WV",
          "OR",
          "SD",
          "DE",
          "MA",
          "NE",
          "ME",
          "ND",
          "WI",
          "NY",
          "WA",
          "VT",
          "NJ",
          "RI"
         ],
         "type": "choropleth",
         "z": [
          50,
          49,
          48,
          47,
          46,
          45,
          44,
          43,
          42,
          41,
          40,
          39,
          38,
          37,
          36,
          35,
          34,
          33,
          32,
          31,
          30,
          29,
          28,
          27,
          26,
          25,
          24,
          23,
          22,
          21,
          20,
          19,
          18,
          17,
          16,
          15,
          14,
          13,
          12,
          11,
          10,
          9,
          8,
          7,
          6,
          5,
          4,
          3,
          2,
          1
         ]
        }
       ],
       "layout": {
        "geo": {
         "scope": "usa"
        },
        "template": {
         "data": {
          "bar": [
           {
            "error_x": {
             "color": "#2a3f5f"
            },
            "error_y": {
             "color": "#2a3f5f"
            },
            "marker": {
             "line": {
              "color": "#E5ECF6",
              "width": 0.5
             }
            },
            "type": "bar"
           }
          ],
          "barpolar": [
           {
            "marker": {
             "line": {
              "color": "#E5ECF6",
              "width": 0.5
             }
            },
            "type": "barpolar"
           }
          ],
          "carpet": [
           {
            "aaxis": {
             "endlinecolor": "#2a3f5f",
             "gridcolor": "white",
             "linecolor": "white",
             "minorgridcolor": "white",
             "startlinecolor": "#2a3f5f"
            },
            "baxis": {
             "endlinecolor": "#2a3f5f",
             "gridcolor": "white",
             "linecolor": "white",
             "minorgridcolor": "white",
             "startlinecolor": "#2a3f5f"
            },
            "type": "carpet"
           }
          ],
          "choropleth": [
           {
            "colorbar": {
             "outlinewidth": 0,
             "ticks": ""
            },
            "type": "choropleth"
           }
          ],
          "contour": [
           {
            "colorbar": {
             "outlinewidth": 0,
             "ticks": ""
            },
            "colorscale": [
             [
              0,
              "#0d0887"
             ],
             [
              0.1111111111111111,
              "#46039f"
             ],
             [
              0.2222222222222222,
              "#7201a8"
             ],
             [
              0.3333333333333333,
              "#9c179e"
             ],
             [
              0.4444444444444444,
              "#bd3786"
             ],
             [
              0.5555555555555556,
              "#d8576b"
             ],
             [
              0.6666666666666666,
              "#ed7953"
             ],
             [
              0.7777777777777778,
              "#fb9f3a"
             ],
             [
              0.8888888888888888,
              "#fdca26"
             ],
             [
              1,
              "#f0f921"
             ]
            ],
            "type": "contour"
           }
          ],
          "contourcarpet": [
           {
            "colorbar": {
             "outlinewidth": 0,
             "ticks": ""
            },
            "type": "contourcarpet"
           }
          ],
          "heatmap": [
           {
            "colorbar": {
             "outlinewidth": 0,
             "ticks": ""
            },
            "colorscale": [
             [
              0,
              "#0d0887"
             ],
             [
              0.1111111111111111,
              "#46039f"
             ],
             [
              0.2222222222222222,
              "#7201a8"
             ],
             [
              0.3333333333333333,
              "#9c179e"
             ],
             [
              0.4444444444444444,
              "#bd3786"
             ],
             [
              0.5555555555555556,
              "#d8576b"
             ],
             [
              0.6666666666666666,
              "#ed7953"
             ],
             [
              0.7777777777777778,
              "#fb9f3a"
             ],
             [
              0.8888888888888888,
              "#fdca26"
             ],
             [
              1,
              "#f0f921"
             ]
            ],
            "type": "heatmap"
           }
          ],
          "heatmapgl": [
           {
            "colorbar": {
             "outlinewidth": 0,
             "ticks": ""
            },
            "colorscale": [
             [
              0,
              "#0d0887"
             ],
             [
              0.1111111111111111,
              "#46039f"
             ],
             [
              0.2222222222222222,
              "#7201a8"
             ],
             [
              0.3333333333333333,
              "#9c179e"
             ],
             [
              0.4444444444444444,
              "#bd3786"
             ],
             [
              0.5555555555555556,
              "#d8576b"
             ],
             [
              0.6666666666666666,
              "#ed7953"
             ],
             [
              0.7777777777777778,
              "#fb9f3a"
             ],
             [
              0.8888888888888888,
              "#fdca26"
             ],
             [
              1,
              "#f0f921"
             ]
            ],
            "type": "heatmapgl"
           }
          ],
          "histogram": [
           {
            "marker": {
             "colorbar": {
              "outlinewidth": 0,
              "ticks": ""
             }
            },
            "type": "histogram"
           }
          ],
          "histogram2d": [
           {
            "colorbar": {
             "outlinewidth": 0,
             "ticks": ""
            },
            "colorscale": [
             [
              0,
              "#0d0887"
             ],
             [
              0.1111111111111111,
              "#46039f"
             ],
             [
              0.2222222222222222,
              "#7201a8"
             ],
             [
              0.3333333333333333,
              "#9c179e"
             ],
             [
              0.4444444444444444,
              "#bd3786"
             ],
             [
              0.5555555555555556,
              "#d8576b"
             ],
             [
              0.6666666666666666,
              "#ed7953"
             ],
             [
              0.7777777777777778,
              "#fb9f3a"
             ],
             [
              0.8888888888888888,
              "#fdca26"
             ],
             [
              1,
              "#f0f921"
             ]
            ],
            "type": "histogram2d"
           }
          ],
          "histogram2dcontour": [
           {
            "colorbar": {
             "outlinewidth": 0,
             "ticks": ""
            },
            "colorscale": [
             [
              0,
              "#0d0887"
             ],
             [
              0.1111111111111111,
              "#46039f"
             ],
             [
              0.2222222222222222,
              "#7201a8"
             ],
             [
              0.3333333333333333,
              "#9c179e"
             ],
             [
              0.4444444444444444,
              "#bd3786"
             ],
             [
              0.5555555555555556,
              "#d8576b"
             ],
             [
              0.6666666666666666,
              "#ed7953"
             ],
             [
              0.7777777777777778,
              "#fb9f3a"
             ],
             [
              0.8888888888888888,
              "#fdca26"
             ],
             [
              1,
              "#f0f921"
             ]
            ],
            "type": "histogram2dcontour"
           }
          ],
          "mesh3d": [
           {
            "colorbar": {
             "outlinewidth": 0,
             "ticks": ""
            },
            "type": "mesh3d"
           }
          ],
          "parcoords": [
           {
            "line": {
             "colorbar": {
              "outlinewidth": 0,
              "ticks": ""
             }
            },
            "type": "parcoords"
           }
          ],
          "scatter": [
           {
            "marker": {
             "colorbar": {
              "outlinewidth": 0,
              "ticks": ""
             }
            },
            "type": "scatter"
           }
          ],
          "scatter3d": [
           {
            "line": {
             "colorbar": {
              "outlinewidth": 0,
              "ticks": ""
             }
            },
            "marker": {
             "colorbar": {
              "outlinewidth": 0,
              "ticks": ""
             }
            },
            "type": "scatter3d"
           }
          ],
          "scattercarpet": [
           {
            "marker": {
             "colorbar": {
              "outlinewidth": 0,
              "ticks": ""
             }
            },
            "type": "scattercarpet"
           }
          ],
          "scattergeo": [
           {
            "marker": {
             "colorbar": {
              "outlinewidth": 0,
              "ticks": ""
             }
            },
            "type": "scattergeo"
           }
          ],
          "scattergl": [
           {
            "marker": {
             "colorbar": {
              "outlinewidth": 0,
              "ticks": ""
             }
            },
            "type": "scattergl"
           }
          ],
          "scattermapbox": [
           {
            "marker": {
             "colorbar": {
              "outlinewidth": 0,
              "ticks": ""
             }
            },
            "type": "scattermapbox"
           }
          ],
          "scatterpolar": [
           {
            "marker": {
             "colorbar": {
              "outlinewidth": 0,
              "ticks": ""
             }
            },
            "type": "scatterpolar"
           }
          ],
          "scatterpolargl": [
           {
            "marker": {
             "colorbar": {
              "outlinewidth": 0,
              "ticks": ""
             }
            },
            "type": "scatterpolargl"
           }
          ],
          "scatterternary": [
           {
            "marker": {
             "colorbar": {
              "outlinewidth": 0,
              "ticks": ""
             }
            },
            "type": "scatterternary"
           }
          ],
          "surface": [
           {
            "colorbar": {
             "outlinewidth": 0,
             "ticks": ""
            },
            "colorscale": [
             [
              0,
              "#0d0887"
             ],
             [
              0.1111111111111111,
              "#46039f"
             ],
             [
              0.2222222222222222,
              "#7201a8"
             ],
             [
              0.3333333333333333,
              "#9c179e"
             ],
             [
              0.4444444444444444,
              "#bd3786"
             ],
             [
              0.5555555555555556,
              "#d8576b"
             ],
             [
              0.6666666666666666,
              "#ed7953"
             ],
             [
              0.7777777777777778,
              "#fb9f3a"
             ],
             [
              0.8888888888888888,
              "#fdca26"
             ],
             [
              1,
              "#f0f921"
             ]
            ],
            "type": "surface"
           }
          ],
          "table": [
           {
            "cells": {
             "fill": {
              "color": "#EBF0F8"
             },
             "line": {
              "color": "white"
             }
            },
            "header": {
             "fill": {
              "color": "#C8D4E3"
             },
             "line": {
              "color": "white"
             }
            },
            "type": "table"
           }
          ]
         },
         "layout": {
          "annotationdefaults": {
           "arrowcolor": "#2a3f5f",
           "arrowhead": 0,
           "arrowwidth": 1
          },
          "colorscale": {
           "diverging": [
            [
             0,
             "#8e0152"
            ],
            [
             0.1,
             "#c51b7d"
            ],
            [
             0.2,
             "#de77ae"
            ],
            [
             0.3,
             "#f1b6da"
            ],
            [
             0.4,
             "#fde0ef"
            ],
            [
             0.5,
             "#f7f7f7"
            ],
            [
             0.6,
             "#e6f5d0"
            ],
            [
             0.7,
             "#b8e186"
            ],
            [
             0.8,
             "#7fbc41"
            ],
            [
             0.9,
             "#4d9221"
            ],
            [
             1,
             "#276419"
            ]
           ],
           "sequential": [
            [
             0,
             "#0d0887"
            ],
            [
             0.1111111111111111,
             "#46039f"
            ],
            [
             0.2222222222222222,
             "#7201a8"
            ],
            [
             0.3333333333333333,
             "#9c179e"
            ],
            [
             0.4444444444444444,
             "#bd3786"
            ],
            [
             0.5555555555555556,
             "#d8576b"
            ],
            [
             0.6666666666666666,
             "#ed7953"
            ],
            [
             0.7777777777777778,
             "#fb9f3a"
            ],
            [
             0.8888888888888888,
             "#fdca26"
            ],
            [
             1,
             "#f0f921"
            ]
           ],
           "sequentialminus": [
            [
             0,
             "#0d0887"
            ],
            [
             0.1111111111111111,
             "#46039f"
            ],
            [
             0.2222222222222222,
             "#7201a8"
            ],
            [
             0.3333333333333333,
             "#9c179e"
            ],
            [
             0.4444444444444444,
             "#bd3786"
            ],
            [
             0.5555555555555556,
             "#d8576b"
            ],
            [
             0.6666666666666666,
             "#ed7953"
            ],
            [
             0.7777777777777778,
             "#fb9f3a"
            ],
            [
             0.8888888888888888,
             "#fdca26"
            ],
            [
             1,
             "#f0f921"
            ]
           ]
          },
          "colorway": [
           "#636efa",
           "#EF553B",
           "#00cc96",
           "#ab63fa",
           "#FFA15A",
           "#19d3f3",
           "#FF6692",
           "#B6E880",
           "#FF97FF",
           "#FECB52"
          ],
          "font": {
           "color": "#2a3f5f"
          },
          "geo": {
           "bgcolor": "white",
           "lakecolor": "white",
           "landcolor": "#E5ECF6",
           "showlakes": true,
           "showland": true,
           "subunitcolor": "white"
          },
          "hoverlabel": {
           "align": "left"
          },
          "hovermode": "closest",
          "mapbox": {
           "style": "light"
          },
          "paper_bgcolor": "white",
          "plot_bgcolor": "#E5ECF6",
          "polar": {
           "angularaxis": {
            "gridcolor": "white",
            "linecolor": "white",
            "ticks": ""
           },
           "bgcolor": "#E5ECF6",
           "radialaxis": {
            "gridcolor": "white",
            "linecolor": "white",
            "ticks": ""
           }
          },
          "scene": {
           "xaxis": {
            "backgroundcolor": "#E5ECF6",
            "gridcolor": "white",
            "gridwidth": 2,
            "linecolor": "white",
            "showbackground": true,
            "ticks": "",
            "zerolinecolor": "white"
           },
           "yaxis": {
            "backgroundcolor": "#E5ECF6",
            "gridcolor": "white",
            "gridwidth": 2,
            "linecolor": "white",
            "showbackground": true,
            "ticks": "",
            "zerolinecolor": "white"
           },
           "zaxis": {
            "backgroundcolor": "#E5ECF6",
            "gridcolor": "white",
            "gridwidth": 2,
            "linecolor": "white",
            "showbackground": true,
            "ticks": "",
            "zerolinecolor": "white"
           }
          },
          "shapedefaults": {
           "line": {
            "color": "#2a3f5f"
           }
          },
          "ternary": {
           "aaxis": {
            "gridcolor": "white",
            "linecolor": "white",
            "ticks": ""
           },
           "baxis": {
            "gridcolor": "white",
            "linecolor": "white",
            "ticks": ""
           },
           "bgcolor": "#E5ECF6",
           "caxis": {
            "gridcolor": "white",
            "linecolor": "white",
            "ticks": ""
           }
          },
          "title": {
           "x": 0.05
          },
          "xaxis": {
           "automargin": true,
           "gridcolor": "white",
           "linecolor": "white",
           "ticks": "",
           "zerolinecolor": "white",
           "zerolinewidth": 2
          },
          "yaxis": {
           "automargin": true,
           "gridcolor": "white",
           "linecolor": "white",
           "ticks": "",
           "zerolinecolor": "white",
           "zerolinewidth": 2
          }
         }
        },
        "title": {
         "text": "2017 Best States for the Gun Industry"
        }
       }
      },
      "text/html": [
       "<div>\n",
       "        \n",
       "        \n",
       "            <div id=\"bcf966f6-968c-4ce2-882b-6c615b3bdbc6\" class=\"plotly-graph-div\" style=\"height:525px; width:100%;\"></div>\n",
       "            <script type=\"text/javascript\">\n",
       "                require([\"plotly\"], function(Plotly) {\n",
       "                    window.PLOTLYENV=window.PLOTLYENV || {};\n",
       "                    \n",
       "                if (document.getElementById(\"bcf966f6-968c-4ce2-882b-6c615b3bdbc6\")) {\n",
       "                    Plotly.newPlot(\n",
       "                        'bcf966f6-968c-4ce2-882b-6c615b3bdbc6',\n",
       "                        [{\"colorbar\": {\"title\": {\"text\": \"Ranking (50 Is Best)\"}}, \"colorscale\": [[0.0, \"rgb(255,245,240)\"], [0.125, \"rgb(254,224,210)\"], [0.25, \"rgb(252,187,161)\"], [0.375, \"rgb(252,146,114)\"], [0.5, \"rgb(251,106,74)\"], [0.625, \"rgb(239,59,44)\"], [0.75, \"rgb(203,24,29)\"], [0.875, \"rgb(165,15,21)\"], [1.0, \"rgb(103,0,13)\"]], \"locationmode\": \"USA-states\", \"locations\": [\"AL\", \"AR\", \"GA\", \"ID\", \"AZ\", \"FL\", \"IN\", \"AK\", \"MO\", \"LA\", \"CO\", \"KS\", \"KY\", \"CA\", \"MT\", \"TX\", \"NV\", \"NM\", \"OK\", \"MS\", \"VA\", \"MN\", \"NH\", \"MI\", \"NC\", \"UT\", \"OH\", \"PA\", \"CT\", \"IL\", \"SC\", \"TN\", \"MD\", \"WY\", \"HI\", \"IA\", \"WV\", \"OR\", \"SD\", \"DE\", \"MA\", \"NE\", \"ME\", \"ND\", \"WI\", \"NY\", \"WA\", \"VT\", \"NJ\", \"RI\"], \"type\": \"choropleth\", \"z\": [50.0, 49.0, 48.0, 47.0, 46.0, 45.0, 44.0, 43.0, 42.0, 41.0, 40.0, 39.0, 38.0, 37.0, 36.0, 35.0, 34.0, 33.0, 32.0, 31.0, 30.0, 29.0, 28.0, 27.0, 26.0, 25.0, 24.0, 23.0, 22.0, 21.0, 20.0, 19.0, 18.0, 17.0, 16.0, 15.0, 14.0, 13.0, 12.0, 11.0, 10.0, 9.0, 8.0, 7.0, 6.0, 5.0, 4.0, 3.0, 2.0, 1.0]}],\n",
       "                        {\"geo\": {\"scope\": \"usa\"}, \"template\": {\"data\": {\"bar\": [{\"error_x\": {\"color\": \"#2a3f5f\"}, \"error_y\": {\"color\": \"#2a3f5f\"}, \"marker\": {\"line\": {\"color\": \"#E5ECF6\", \"width\": 0.5}}, \"type\": \"bar\"}], \"barpolar\": [{\"marker\": {\"line\": {\"color\": \"#E5ECF6\", \"width\": 0.5}}, \"type\": \"barpolar\"}], \"carpet\": [{\"aaxis\": {\"endlinecolor\": \"#2a3f5f\", \"gridcolor\": \"white\", \"linecolor\": \"white\", \"minorgridcolor\": \"white\", \"startlinecolor\": \"#2a3f5f\"}, \"baxis\": {\"endlinecolor\": \"#2a3f5f\", \"gridcolor\": \"white\", \"linecolor\": \"white\", \"minorgridcolor\": \"white\", \"startlinecolor\": \"#2a3f5f\"}, \"type\": \"carpet\"}], \"choropleth\": [{\"colorbar\": {\"outlinewidth\": 0, \"ticks\": \"\"}, \"type\": \"choropleth\"}], \"contour\": [{\"colorbar\": {\"outlinewidth\": 0, \"ticks\": \"\"}, \"colorscale\": [[0.0, \"#0d0887\"], [0.1111111111111111, \"#46039f\"], [0.2222222222222222, \"#7201a8\"], [0.3333333333333333, \"#9c179e\"], [0.4444444444444444, \"#bd3786\"], [0.5555555555555556, \"#d8576b\"], [0.6666666666666666, \"#ed7953\"], [0.7777777777777778, \"#fb9f3a\"], [0.8888888888888888, \"#fdca26\"], [1.0, \"#f0f921\"]], \"type\": \"contour\"}], \"contourcarpet\": [{\"colorbar\": {\"outlinewidth\": 0, \"ticks\": \"\"}, \"type\": \"contourcarpet\"}], \"heatmap\": [{\"colorbar\": {\"outlinewidth\": 0, \"ticks\": \"\"}, \"colorscale\": [[0.0, \"#0d0887\"], [0.1111111111111111, \"#46039f\"], [0.2222222222222222, \"#7201a8\"], [0.3333333333333333, \"#9c179e\"], [0.4444444444444444, \"#bd3786\"], [0.5555555555555556, \"#d8576b\"], [0.6666666666666666, \"#ed7953\"], [0.7777777777777778, \"#fb9f3a\"], [0.8888888888888888, \"#fdca26\"], [1.0, \"#f0f921\"]], \"type\": \"heatmap\"}], \"heatmapgl\": [{\"colorbar\": {\"outlinewidth\": 0, \"ticks\": \"\"}, \"colorscale\": [[0.0, \"#0d0887\"], [0.1111111111111111, \"#46039f\"], [0.2222222222222222, \"#7201a8\"], [0.3333333333333333, \"#9c179e\"], [0.4444444444444444, \"#bd3786\"], [0.5555555555555556, \"#d8576b\"], [0.6666666666666666, \"#ed7953\"], [0.7777777777777778, \"#fb9f3a\"], [0.8888888888888888, \"#fdca26\"], [1.0, \"#f0f921\"]], \"type\": \"heatmapgl\"}], \"histogram\": [{\"marker\": {\"colorbar\": {\"outlinewidth\": 0, \"ticks\": \"\"}}, \"type\": \"histogram\"}], \"histogram2d\": [{\"colorbar\": {\"outlinewidth\": 0, \"ticks\": \"\"}, \"colorscale\": [[0.0, \"#0d0887\"], [0.1111111111111111, \"#46039f\"], [0.2222222222222222, \"#7201a8\"], [0.3333333333333333, \"#9c179e\"], [0.4444444444444444, \"#bd3786\"], [0.5555555555555556, \"#d8576b\"], [0.6666666666666666, \"#ed7953\"], [0.7777777777777778, \"#fb9f3a\"], [0.8888888888888888, \"#fdca26\"], [1.0, \"#f0f921\"]], \"type\": \"histogram2d\"}], \"histogram2dcontour\": [{\"colorbar\": {\"outlinewidth\": 0, \"ticks\": \"\"}, \"colorscale\": [[0.0, \"#0d0887\"], [0.1111111111111111, \"#46039f\"], [0.2222222222222222, \"#7201a8\"], [0.3333333333333333, \"#9c179e\"], [0.4444444444444444, \"#bd3786\"], [0.5555555555555556, \"#d8576b\"], [0.6666666666666666, \"#ed7953\"], [0.7777777777777778, \"#fb9f3a\"], [0.8888888888888888, \"#fdca26\"], [1.0, \"#f0f921\"]], \"type\": \"histogram2dcontour\"}], \"mesh3d\": [{\"colorbar\": {\"outlinewidth\": 0, \"ticks\": \"\"}, \"type\": \"mesh3d\"}], \"parcoords\": [{\"line\": {\"colorbar\": {\"outlinewidth\": 0, \"ticks\": \"\"}}, \"type\": \"parcoords\"}], \"scatter\": [{\"marker\": {\"colorbar\": {\"outlinewidth\": 0, \"ticks\": \"\"}}, \"type\": \"scatter\"}], \"scatter3d\": [{\"line\": {\"colorbar\": {\"outlinewidth\": 0, \"ticks\": \"\"}}, \"marker\": {\"colorbar\": {\"outlinewidth\": 0, \"ticks\": \"\"}}, \"type\": \"scatter3d\"}], \"scattercarpet\": [{\"marker\": {\"colorbar\": {\"outlinewidth\": 0, \"ticks\": \"\"}}, \"type\": \"scattercarpet\"}], \"scattergeo\": [{\"marker\": {\"colorbar\": {\"outlinewidth\": 0, \"ticks\": \"\"}}, \"type\": \"scattergeo\"}], \"scattergl\": [{\"marker\": {\"colorbar\": {\"outlinewidth\": 0, \"ticks\": \"\"}}, \"type\": \"scattergl\"}], \"scattermapbox\": [{\"marker\": {\"colorbar\": {\"outlinewidth\": 0, \"ticks\": \"\"}}, \"type\": \"scattermapbox\"}], \"scatterpolar\": [{\"marker\": {\"colorbar\": {\"outlinewidth\": 0, \"ticks\": \"\"}}, \"type\": \"scatterpolar\"}], \"scatterpolargl\": [{\"marker\": {\"colorbar\": {\"outlinewidth\": 0, \"ticks\": \"\"}}, \"type\": \"scatterpolargl\"}], \"scatterternary\": [{\"marker\": {\"colorbar\": {\"outlinewidth\": 0, \"ticks\": \"\"}}, \"type\": \"scatterternary\"}], \"surface\": [{\"colorbar\": {\"outlinewidth\": 0, \"ticks\": \"\"}, \"colorscale\": [[0.0, \"#0d0887\"], [0.1111111111111111, \"#46039f\"], [0.2222222222222222, \"#7201a8\"], [0.3333333333333333, \"#9c179e\"], [0.4444444444444444, \"#bd3786\"], [0.5555555555555556, \"#d8576b\"], [0.6666666666666666, \"#ed7953\"], [0.7777777777777778, \"#fb9f3a\"], [0.8888888888888888, \"#fdca26\"], [1.0, \"#f0f921\"]], \"type\": \"surface\"}], \"table\": [{\"cells\": {\"fill\": {\"color\": \"#EBF0F8\"}, \"line\": {\"color\": \"white\"}}, \"header\": {\"fill\": {\"color\": \"#C8D4E3\"}, \"line\": {\"color\": \"white\"}}, \"type\": \"table\"}]}, \"layout\": {\"annotationdefaults\": {\"arrowcolor\": \"#2a3f5f\", \"arrowhead\": 0, \"arrowwidth\": 1}, \"colorscale\": {\"diverging\": [[0, \"#8e0152\"], [0.1, \"#c51b7d\"], [0.2, \"#de77ae\"], [0.3, \"#f1b6da\"], [0.4, \"#fde0ef\"], [0.5, \"#f7f7f7\"], [0.6, \"#e6f5d0\"], [0.7, \"#b8e186\"], [0.8, \"#7fbc41\"], [0.9, \"#4d9221\"], [1, \"#276419\"]], \"sequential\": [[0.0, \"#0d0887\"], [0.1111111111111111, \"#46039f\"], [0.2222222222222222, \"#7201a8\"], [0.3333333333333333, \"#9c179e\"], [0.4444444444444444, \"#bd3786\"], [0.5555555555555556, \"#d8576b\"], [0.6666666666666666, \"#ed7953\"], [0.7777777777777778, \"#fb9f3a\"], [0.8888888888888888, \"#fdca26\"], [1.0, \"#f0f921\"]], \"sequentialminus\": [[0.0, \"#0d0887\"], [0.1111111111111111, \"#46039f\"], [0.2222222222222222, \"#7201a8\"], [0.3333333333333333, \"#9c179e\"], [0.4444444444444444, \"#bd3786\"], [0.5555555555555556, \"#d8576b\"], [0.6666666666666666, \"#ed7953\"], [0.7777777777777778, \"#fb9f3a\"], [0.8888888888888888, \"#fdca26\"], [1.0, \"#f0f921\"]]}, \"colorway\": [\"#636efa\", \"#EF553B\", \"#00cc96\", \"#ab63fa\", \"#FFA15A\", \"#19d3f3\", \"#FF6692\", \"#B6E880\", \"#FF97FF\", \"#FECB52\"], \"font\": {\"color\": \"#2a3f5f\"}, \"geo\": {\"bgcolor\": \"white\", \"lakecolor\": \"white\", \"landcolor\": \"#E5ECF6\", \"showlakes\": true, \"showland\": true, \"subunitcolor\": \"white\"}, \"hoverlabel\": {\"align\": \"left\"}, \"hovermode\": \"closest\", \"mapbox\": {\"style\": \"light\"}, \"paper_bgcolor\": \"white\", \"plot_bgcolor\": \"#E5ECF6\", \"polar\": {\"angularaxis\": {\"gridcolor\": \"white\", \"linecolor\": \"white\", \"ticks\": \"\"}, \"bgcolor\": \"#E5ECF6\", \"radialaxis\": {\"gridcolor\": \"white\", \"linecolor\": \"white\", \"ticks\": \"\"}}, \"scene\": {\"xaxis\": {\"backgroundcolor\": \"#E5ECF6\", \"gridcolor\": \"white\", \"gridwidth\": 2, \"linecolor\": \"white\", \"showbackground\": true, \"ticks\": \"\", \"zerolinecolor\": \"white\"}, \"yaxis\": {\"backgroundcolor\": \"#E5ECF6\", \"gridcolor\": \"white\", \"gridwidth\": 2, \"linecolor\": \"white\", \"showbackground\": true, \"ticks\": \"\", \"zerolinecolor\": \"white\"}, \"zaxis\": {\"backgroundcolor\": \"#E5ECF6\", \"gridcolor\": \"white\", \"gridwidth\": 2, \"linecolor\": \"white\", \"showbackground\": true, \"ticks\": \"\", \"zerolinecolor\": \"white\"}}, \"shapedefaults\": {\"line\": {\"color\": \"#2a3f5f\"}}, \"ternary\": {\"aaxis\": {\"gridcolor\": \"white\", \"linecolor\": \"white\", \"ticks\": \"\"}, \"baxis\": {\"gridcolor\": \"white\", \"linecolor\": \"white\", \"ticks\": \"\"}, \"bgcolor\": \"#E5ECF6\", \"caxis\": {\"gridcolor\": \"white\", \"linecolor\": \"white\", \"ticks\": \"\"}}, \"title\": {\"x\": 0.05}, \"xaxis\": {\"automargin\": true, \"gridcolor\": \"white\", \"linecolor\": \"white\", \"ticks\": \"\", \"zerolinecolor\": \"white\", \"zerolinewidth\": 2}, \"yaxis\": {\"automargin\": true, \"gridcolor\": \"white\", \"linecolor\": \"white\", \"ticks\": \"\", \"zerolinecolor\": \"white\", \"zerolinewidth\": 2}}}, \"title\": {\"text\": \"2017 Best States for the Gun Industry\"}},\n",
       "                        {\"responsive\": true}\n",
       "                    ).then(function(){\n",
       "                            \n",
       "var gd = document.getElementById('bcf966f6-968c-4ce2-882b-6c615b3bdbc6');\n",
       "var x = new MutationObserver(function (mutations, observer) {{\n",
       "        var display = window.getComputedStyle(gd).display;\n",
       "        if (!display || display === 'none') {{\n",
       "            console.log([gd, 'removed!']);\n",
       "            Plotly.purge(gd);\n",
       "            observer.disconnect();\n",
       "        }}\n",
       "}});\n",
       "\n",
       "// Listen for the removal of the full notebook cells\n",
       "var notebookContainer = gd.closest('#notebook-container');\n",
       "if (notebookContainer) {{\n",
       "    x.observe(notebookContainer, {childList: true});\n",
       "}}\n",
       "\n",
       "// Listen for the clearing of the current output cell\n",
       "var outputEl = gd.closest('.output');\n",
       "if (outputEl) {{\n",
       "    x.observe(outputEl, {childList: true});\n",
       "}}\n",
       "\n",
       "                        })\n",
       "                };\n",
       "                });\n",
       "            </script>\n",
       "        </div>"
      ]
     },
     "metadata": {},
     "output_type": "display_data"
    }
   ],
   "source": [
    "#Creating a Choropleth Map\n",
    "\n",
    "\n",
    "fig = go.Figure(data=go.Choropleth(\n",
    "    locations=industry_friendly_df['code'], # Spatial coordinates\n",
    "    z = industry_friendly_df['gun friendly'].astype(float), # Data to be color-coded\n",
    "    locationmode = 'USA-states', # set of locations match entries in `locations`\n",
    "    colorscale = 'Reds',\n",
    "    colorbar_title = \"Ranking (50 Is Best)\",\n",
    "))\n",
    "\n",
    "fig.update_layout(\n",
    "    title_text = '2017 Best States for the Gun Industry',\n",
    "    geo_scope='usa', # limite map scope to USA\n",
    ")\n",
    "\n",
    "fig.show()"
   ]
  },
  {
   "cell_type": "code",
   "execution_count": 141,
   "metadata": {},
   "outputs": [],
   "source": [
    "# Saving Static Image\n",
    "fig.write_image(\"GunViolenceVisuals/15.2017 Best States for the Gun Industry.png\")"
   ]
  },
  {
   "cell_type": "code",
   "execution_count": 143,
   "metadata": {},
   "outputs": [],
   "source": [
    "#Merging DataFrames\n",
    "industry_df = pd.merge(ownership_metrics_df,industry_friendly_df,how='outer', on='state')\n",
    "industry_df = industry_df.drop(['code_y'], axis=1)\n",
    "industry_df = industry_df.rename(index=str, columns={\"code_x\": \"code\"})"
   ]
  },
  {
   "cell_type": "code",
   "execution_count": 144,
   "metadata": {},
   "outputs": [],
   "source": [
    "#Dropping NAN items\n",
    "industry_drop_df = industry_df.dropna()\n",
    "industry_drop_df = industry_drop_df.reset_index(drop=True)"
   ]
  },
  {
   "cell_type": "code",
   "execution_count": 148,
   "metadata": {
    "scrolled": true
   },
   "outputs": [
    {
     "data": {
      "image/png": "[encoded data removed]",
      "text/plain": [
       "<Figure size 1080x540 with 1 Axes>"
      ]
     },
     "metadata": {
      "needs_background": "light"
     },
     "output_type": "display_data"
    }
   ],
   "source": [
    "# Adjusting Size\n",
    "plt.figure(figsize=(15, 7.5))\n",
    "\n",
    "# simulating a pandas df['type'] column\n",
    "industry_state = industry_drop_df['code']\n",
    "industry_coords_x = industry_drop_df['gun friendly']\n",
    "industry_coords_y = industry_drop_df['Gun Violence']\n",
    "\n",
    "#Adding labels to scatter points and plotting chart\n",
    "for i,industry_state in enumerate(industry_state):\n",
    "    x = industry_coords_x[i]\n",
    "    y = industry_coords_y[i]\n",
    "    plt.scatter(x, y, marker='o', color='firebrick', edgecolors=\"black\", s=50, alpha=0.75)\n",
    "    plt.text(x+0.3, y+0.3, industry_state, fontsize=14)\n",
    "\n",
    "# Adding labels, saving, and showing chart\n",
    "plt.title(\"Ranking of State Favorable to Gun Industry vs Occurences of Gun Violence\")\n",
    "plt.xlabel(\"Ranking of State Favorable to Gun Industry\")\n",
    "plt.ylabel(\"Occurences of Gun Violence\")\n",
    "plt.tight_layout()\n",
    "plt.savefig(\"GunViolenceVisuals/16.Ranking of State Favorable to Gun Industry vs Occurences of Gun Violence.png\")\n",
    "plt.show()"
   ]
  },
  {
   "cell_type": "code",
   "execution_count": null,
   "metadata": {},
   "outputs": [],
   "source": []
  }
 ],
 "metadata": {
  "kernelspec": {
   "display_name": "Python 3",
   "language": "python",
   "name": "python3"
  },
  "language_info": {
   "codemirror_mode": {
    "name": "ipython",
    "version": 3
   },
   "file_extension": ".py",
   "mimetype": "text/x-python",
   "name": "python",
   "nbconvert_exporter": "python",
   "pygments_lexer": "ipython3",
   "version": "3.7.3"
  }
 },
 "nbformat": 4,
 "nbformat_minor": 2
}
